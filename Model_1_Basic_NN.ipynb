{
  "nbformat": 4,
  "nbformat_minor": 0,
  "metadata": {
    "colab": {
      "provenance": [],
      "mount_file_id": "15snMOHrwpWO_qNjB-uqVjM_LwzWq-JuP",
      "authorship_tag": "ABX9TyNYfU7VTNla25LGs0m0P2Rw",
      "include_colab_link": true
    },
    "kernelspec": {
      "name": "python3",
      "display_name": "Python 3"
    },
    "language_info": {
      "name": "python"
    }
  },
  "cells": [
    {
      "cell_type": "markdown",
      "metadata": {
        "id": "view-in-github",
        "colab_type": "text"
      },
      "source": [
        "<a href=\"https://colab.research.google.com/github/mistryvivek/YRKCS-PRBX/blob/main/Model_1_Basic_NN.ipynb\" target=\"_parent\"><img src=\"https://colab.research.google.com/assets/colab-badge.svg\" alt=\"Open In Colab\"/></a>"
      ]
    },
    {
      "cell_type": "code",
      "execution_count": 186,
      "metadata": {
        "id": "9BKFIobTm36L"
      },
      "outputs": [],
      "source": [
        "import torch\n",
        "import torch.nn as nn\n",
        "import numpy as np\n",
        "import random\n",
        "import pandas as pd\n",
        "from torch.nn.utils.rnn import pad_sequence"
      ]
    },
    {
      "cell_type": "code",
      "source": [
        "class RNN(nn.Module):\n",
        "    def __init__(self,max_laps,hidden_size):\n",
        "        super(RNN, self).__init__()\n",
        "        self.embedding =  nn.Embedding(max_laps, hidden_size)\n",
        "        self.linear_h = nn.Linear(hidden_size,hidden_size)\n",
        "        self.linear_y = nn.Linear(hidden_size,max_laps)\n",
        "        self.tanh = nn.Tanh()\n",
        "        # Make the existing model a binary classifier.\n",
        "        self.sigmoid = nn.Sigmoid()\n",
        "\n",
        "    def forward(self,x,hprev):\n",
        "        h = self.tanh(self.embedding(x) + self.linear_h(hprev))\n",
        "        y = self.sigmoid(self.linear_y(h))\n",
        "        return h,y"
      ],
      "metadata": {
        "id": "bWcnkSnqniIl"
      },
      "execution_count": 187,
      "outputs": []
    },
    {
      "cell_type": "markdown",
      "source": [
        "# Loss function (Based upon wk11 practical)\n",
        "\n",
        "* Vocab size is not relevent here - going to give it binary classification values anyway.\n",
        "* Everything else can be applied for time series: use Cross Entropy Loss, Length of the race = seq_len.\n",
        "* For each lap, pass through the RNN with previous hidden state and build up hte matrix of outputs.\n",
        "* Detact the previous hidden state as a new one will be generated."
      ],
      "metadata": {
        "id": "S81x8lmwJ68-"
      }
    },
    {
      "cell_type": "code",
      "source": [
        "def calculate_loss(model,inputs,targets,hprev,max_tyre_life):\n",
        "  loss_func = nn.BCEWithLogitsLoss()\n",
        "  seq_length = len(inputs)\n",
        "  #outputs = torch.zeros(0, max_laps)\n",
        "  #print(outputs.shape)\n",
        "  for t in range(seq_length):\n",
        "    # For each character in the input sequence, pass through RNN with previous hidden state\n",
        "    hprev,y = model(torch.tensor([inputs[t]]),hprev)\n",
        "    # Gradually build up matrix of output logits of size seq_length * max_tyre_life\n",
        "    #outputs = torch.cat((outputs ,y))\n",
        "\n",
        "  # Compute cross entropy loss for seq_length actual targets against estimated distributions\n",
        "  loss = loss_func(y,targets.unsqueeze(0))\n",
        "\n",
        "  # For truncated backprop, the next subsequence will use the final hidden state\n",
        "  # but will not backprop through it so we need to detach\n",
        "  hprev = hprev.detach()\n",
        "\n",
        "  return loss, hprev"
      ],
      "metadata": {
        "id": "4b01se5zoVVe"
      },
      "execution_count": 188,
      "outputs": []
    },
    {
      "cell_type": "markdown",
      "source": [
        "# My dataset - how to format?\n",
        "\n",
        "* Training and testing\n",
        "* inputs_training/ inputs_testing/  outputs_testing/ output_training\n",
        "* For now, it will all just be a 2d array.\n",
        "\n",
        "ERROR:\n",
        "\n",
        "```2551     return torch.embedding(weight, input, padding_idx, scale_grad_by_freq, sparse)\n",
        "   2552\n",
        "   2553\n",
        "\n",
        "IndexError: index out of range in self```"
      ],
      "metadata": {
        "id": "icgJLYuiNA2T"
      }
    },
    {
      "cell_type": "code",
      "source": [
        "BASE_PATH = r\"/content/drive/MyDrive/prbx_data/v1/\"\n",
        "max_race_size = 0\n",
        "max_tyre_life = 0"
      ],
      "metadata": {
        "id": "vjXV6o1kOB_-"
      },
      "execution_count": 189,
      "outputs": []
    },
    {
      "cell_type": "code",
      "source": [
        "# TRAINING\n",
        "training_inputs = []\n",
        "training_outputs = []\n",
        "\n",
        "RaceCalender22 = pd.read_csv(BASE_PATH + r\"2022/eventCalender2022.csv\")\n",
        "for _, row in RaceCalender22.iterrows():\n",
        "    if row['EventFormat'] != 'testing':\n",
        "        # Load race data\n",
        "        TempRaceLoad = pd.read_csv(\n",
        "            BASE_PATH + f\"2022/{row['RoundNumber']}_{row['OfficialEventName']}/{row['RoundNumber']}_{row['OfficialEventName']}_Race.csv\".replace(\" \", \"_\")\n",
        "        )\n",
        "        for driver in TempRaceLoad['Driver'].unique():\n",
        "            # Filter data for the specific driver and sort by LapNumber\n",
        "            TempRaceLoadDriver = TempRaceLoad[TempRaceLoad['Driver'] == driver].sort_values(by='LapNumber', ascending=True)\n",
        "\n",
        "            if max(TempRaceLoadDriver['LapNumber']) > max_race_size:\n",
        "                max_race_size = max(TempRaceLoadDriver['LapNumber'])\n",
        "\n",
        "            \"\"\"if max(TempRaceLoadDriver['TyreLife']) > max_tyre_life:\n",
        "                max_tyre_life = max(TempRaceLoadDriver['TyreLife'])\"\"\"\n",
        "\n",
        "            # Extract tyre life and stint columns\n",
        "            tyre_life_array = TempRaceLoadDriver['TyreLife'].values\n",
        "            stint_array = TempRaceLoadDriver['Stint'].values\n",
        "\n",
        "            # Create the stint change array\n",
        "            stint_change_array = []\n",
        "            for i in range(len(stint_array)):\n",
        "                if i == len(stint_array) - 1:  # Last lap\n",
        "                    stint_change_array.append(False)  # Treat as no change\n",
        "                else:\n",
        "                    stint_change_array.append(stint_array[i] != stint_array[i + 1])\n",
        "\n",
        "            stint_change_array = np.array(stint_change_array)\n",
        "\n",
        "            # Ensure tyre_life_array and stint_change_array are properly formatted\n",
        "            tyre_life_array = torch.tensor(tyre_life_array, dtype=torch.long)\n",
        "            stint_change_array = torch.tensor(stint_change_array, dtype=torch.float32)\n",
        "            # Add to training data\n",
        "            training_inputs.append(tyre_life_array)\n",
        "            training_outputs.append(stint_change_array)"
      ],
      "metadata": {
        "id": "ub0zgeNtND3l"
      },
      "execution_count": 190,
      "outputs": []
    },
    {
      "cell_type": "code",
      "source": [
        "# TESTING\n",
        "testing_inputs = []\n",
        "testing_outputs = []\n",
        "\n",
        "RaceCalender23 = pd.read_csv(BASE_PATH + r\"2023/eventCalender2023.csv\")\n",
        "for _, row in RaceCalender23.iterrows():\n",
        "    if row['EventFormat'] != 'testing':\n",
        "        # Load race data\n",
        "        TempRaceLoad = pd.read_csv(\n",
        "            BASE_PATH + f\"2023/{row['RoundNumber']}_{row['OfficialEventName']}/{row['RoundNumber']}_{row['OfficialEventName']}_Race.csv\".replace(\" \", \"_\")\n",
        "        )\n",
        "        for driver in TempRaceLoad['Driver'].unique():\n",
        "            # Filter data for the specific driver and sort by LapNumber\n",
        "            TempRaceLoadDriver = TempRaceLoad[TempRaceLoad['Driver'] == driver].sort_values(by='LapNumber', ascending=True)\n",
        "\n",
        "            if max(TempRaceLoadDriver['LapNumber']) > max_race_size:\n",
        "                max_race_size = max(TempRaceLoadDriver['LapNumber'])\n",
        "\n",
        "            if max(TempRaceLoadDriver['TyreLife']) > max_tyre_life:\n",
        "                max_tyre_life = max(TempRaceLoadDriver['TyreLife'])\n",
        "\n",
        "            # Extract tyre life and stint columns\n",
        "            tyre_life_array = TempRaceLoadDriver['TyreLife'].values\n",
        "            stint_array = TempRaceLoadDriver['Stint'].values\n",
        "\n",
        "            # Create the stint change array\n",
        "            stint_change_array = []\n",
        "            for i in range(len(stint_array)):\n",
        "                if i == len(stint_array) - 1:  # Last lap\n",
        "                    stint_change_array.append(False)  # Treat as no change\n",
        "                else:\n",
        "                    stint_change_array.append(stint_array[i] != stint_array[i + 1])\n",
        "\n",
        "            stint_change_array = np.array(stint_change_array)\n",
        "\n",
        "            # Ensure tyre_life_array and stint_change_array are properly formatted\n",
        "            tyre_life_array = torch.tensor(tyre_life_array, dtype=torch.long)\n",
        "            stint_change_array = torch.tensor(stint_change_array, dtype=torch.float32)\n",
        "\n",
        "            # Add to testing data\n",
        "            testing_inputs.append(tyre_life_array)\n",
        "            testing_outputs.append(stint_change_array)"
      ],
      "metadata": {
        "id": "MQHvjvglTQNF"
      },
      "execution_count": 191,
      "outputs": []
    },
    {
      "cell_type": "markdown",
      "source": [
        "# Training the model"
      ],
      "metadata": {
        "id": "4015h9tIT5Lj"
      }
    },
    {
      "cell_type": "code",
      "source": [
        "hidden_size = 1\n",
        "lr = 0.1\n",
        "iterations = 2000\n",
        "max_race_size = int(max_race_size)"
      ],
      "metadata": {
        "id": "s-1yQVYSUMBf"
      },
      "execution_count": 192,
      "outputs": []
    },
    {
      "cell_type": "code",
      "source": [
        "def pad_with_last_value(tensor, max_race_size):\n",
        "    if len(tensor) > max_race_size:\n",
        "        return\n",
        "\n",
        "    last_value = tensor[-1]\n",
        "    pad_size = max_race_size - len(tensor)\n",
        "    padding = torch.full((pad_size,), last_value, dtype=tensor.dtype)\n",
        "    return torch.cat((tensor, padding))"
      ],
      "metadata": {
        "id": "_Km1hhBTVm7G"
      },
      "execution_count": 193,
      "outputs": []
    },
    {
      "cell_type": "code",
      "source": [
        "model = RNN(max_race_size, hidden_size)\n",
        "\n",
        "optim = torch.optim.Adam(model.parameters(), lr = lr)\n",
        "\n",
        "n, p = 0, 0\n",
        "while n<=iterations:\n",
        "  hprev = torch.zeros(hidden_size,) # reset RNN memory\n",
        "\n",
        "  inputs = training_inputs[p]\n",
        "  targets = training_outputs[p]\n",
        "\n",
        "  inputs = pad_with_last_value(inputs,max_race_size)\n",
        "  targets = pad_with_last_value(targets,max_race_size)\n",
        "\n",
        "\n",
        "  # Compute loss for current subsequence\n",
        "  loss, hprev = calculate_loss(model,inputs,targets,hprev,max_race_size)\n",
        "  optim.zero_grad()\n",
        "  loss.backward()\n",
        "  optim.step()\n",
        "\n",
        "  if n % 500 == 0:\n",
        "    print('[{:}] Loss: {:.2f}'.format(n,loss.item()))\n",
        "\n",
        "  n += 1 # iteration counter\n",
        "  p += 1 # dataset counter\n",
        "\n",
        "  #Restart to the front of the list.\n",
        "  if p == len(training_inputs) -1:\n",
        "    p = 0"
      ],
      "metadata": {
        "colab": {
          "base_uri": "https://localhost:8080/"
        },
        "id": "oxZaedx7T8Ch",
        "outputId": "f03b72d5-c187-4c25-bbf8-7b5bca7b6b26"
      },
      "execution_count": 194,
      "outputs": [
        {
          "output_type": "stream",
          "name": "stdout",
          "text": [
            "[0] Loss: 0.95\n",
            "[500] Loss: 0.69\n",
            "[1000] Loss: 0.69\n",
            "[1500] Loss: 0.69\n",
            "[2000] Loss: 0.69\n"
          ]
        }
      ]
    },
    {
      "cell_type": "markdown",
      "source": [
        "#How can we calculate accuracy for this basic model?\n",
        "\n",
        "* Say is probability is above 80% percent pit, otherwise don't pit.\n",
        "* Want at least one right pit stop identification to class it as match."
      ],
      "metadata": {
        "id": "0LwWuY-xc-c_"
      }
    },
    {
      "cell_type": "code",
      "source": [
        "total, accurate_match = 0, 0\n",
        "input_idx = 0\n",
        "tyre_life_pits = []\n",
        "\n",
        "for input_idx in range(len(testing_inputs) - 1):\n",
        "  hprev = torch.zeros(hidden_size, )\n",
        "\n",
        "  testing_input = testing_inputs[input_idx]\n",
        "  testing_output = testing_outputs[input_idx]\n",
        "\n",
        "  testing_input = pad_with_last_value(testing_input,max_race_size)\n",
        "  testing_output = pad_with_last_value(testing_output,max_race_size)\n",
        "\n",
        "  for t in range(len(testing_input) - 1):\n",
        "      # For each character in the input sequence, pass through RNN with previous hidden state\n",
        "      hprev,y = model(torch.tensor([testing_input[t]]),hprev)\n",
        "\n",
        "  for output_idx in range(y.size(1)):\n",
        "    if y[:, output_idx].item() > 0.5 and testing_output[output_idx].item() == 1:\n",
        "      accurate_match += 1\n",
        "    elif testing_output[output_idx].item() == 1:\n",
        "      tyre_life_pits.append(testing_input[output_idx].item())\n",
        "\n",
        "\n",
        "  total += 1"
      ],
      "metadata": {
        "id": "HiHkB4-VX7xZ"
      },
      "execution_count": 195,
      "outputs": []
    },
    {
      "cell_type": "code",
      "source": [
        "total, accurate_match"
      ],
      "metadata": {
        "colab": {
          "base_uri": "https://localhost:8080/"
        },
        "id": "OZX3KhWSm7OX",
        "outputId": "335acc33-5d07-4be7-c037-0f39d3325020"
      },
      "execution_count": 196,
      "outputs": [
        {
          "output_type": "execute_result",
          "data": {
            "text/plain": [
              "(437, 0)"
            ]
          },
          "metadata": {},
          "execution_count": 196
        }
      ]
    },
    {
      "cell_type": "code",
      "source": [
        "import statistics as stats\n",
        "\n",
        "stats.mean(tyre_life_pits), stats.mode(tyre_life_pits)"
      ],
      "metadata": {
        "colab": {
          "base_uri": "https://localhost:8080/"
        },
        "id": "0mZwa-IBsPZQ",
        "outputId": "f398471d-79c3-4f73-998e-7c2389aaca3c"
      },
      "execution_count": 197,
      "outputs": [
        {
          "output_type": "execute_result",
          "data": {
            "text/plain": [
              "(16.917582417582416, 18)"
            ]
          },
          "metadata": {},
          "execution_count": 197
        }
      ]
    },
    {
      "cell_type": "code",
      "source": [
        "total, accurate_match = 0, 0\n",
        "input_idx = 0\n",
        "tyre_life_pits = []\n",
        "\n",
        "for input_idx in range(len(training_inputs) - 1):\n",
        "  hprev = torch.zeros(hidden_size, )\n",
        "\n",
        "  training_input = training_inputs[input_idx]\n",
        "  training_output = training_outputs[input_idx]\n",
        "\n",
        "  training_input = pad_with_last_value(testing_input,max_race_size)\n",
        "  training_output = pad_with_last_value(testing_output,max_race_size)\n",
        "\n",
        "  for t in range(len(training_input) - 1):\n",
        "      # For each character in the input sequence, pass through RNN with previous hidden state\n",
        "      hprev,y = model(torch.tensor([training_input[t]]),hprev)\n",
        "\n",
        "  for output_idx in range(y.size(1)):\n",
        "    if y[:, output_idx].item() > 0.5 and training_output[output_idx].item() == 1:\n",
        "      accurate_match += 1\n",
        "    elif training_output[output_idx].item() == 1:\n",
        "      tyre_life_pits.append(training_input[output_idx].item())\n",
        "\n",
        "  total += 1"
      ],
      "metadata": {
        "id": "1wa41YZsu7BC"
      },
      "execution_count": 198,
      "outputs": []
    },
    {
      "cell_type": "code",
      "source": [
        "stats.mean(tyre_life_pits), stats.mode(tyre_life_pits)"
      ],
      "metadata": {
        "colab": {
          "base_uri": "https://localhost:8080/"
        },
        "id": "CxV222asvVVz",
        "outputId": "1b8081ff-96e5-4f1c-be91-d01362b584b4"
      },
      "execution_count": 199,
      "outputs": [
        {
          "output_type": "execute_result",
          "data": {
            "text/plain": [
              "(29, 29)"
            ]
          },
          "metadata": {},
          "execution_count": 199
        }
      ]
    },
    {
      "cell_type": "code",
      "source": [
        "tyre_life_pits"
      ],
      "metadata": {
        "id": "jjr-OgfSv7rz",
        "outputId": "bb906f7e-2971-4bbe-ef03-4a2c5ca0ccec",
        "colab": {
          "base_uri": "https://localhost:8080/"
        }
      },
      "execution_count": 200,
      "outputs": [
        {
          "output_type": "execute_result",
          "data": {
            "text/plain": [
              "[29,\n",
              " 29,\n",
              " 29,\n",
              " 29,\n",
              " 29,\n",
              " 29,\n",
              " 29,\n",
              " 29,\n",
              " 29,\n",
              " 29,\n",
              " 29,\n",
              " 29,\n",
              " 29,\n",
              " 29,\n",
              " 29,\n",
              " 29,\n",
              " 29,\n",
              " 29,\n",
              " 29,\n",
              " 29,\n",
              " 29,\n",
              " 29,\n",
              " 29,\n",
              " 29,\n",
              " 29,\n",
              " 29,\n",
              " 29,\n",
              " 29,\n",
              " 29,\n",
              " 29,\n",
              " 29,\n",
              " 29,\n",
              " 29,\n",
              " 29,\n",
              " 29,\n",
              " 29,\n",
              " 29,\n",
              " 29,\n",
              " 29,\n",
              " 29,\n",
              " 29,\n",
              " 29,\n",
              " 29,\n",
              " 29,\n",
              " 29,\n",
              " 29,\n",
              " 29,\n",
              " 29,\n",
              " 29,\n",
              " 29,\n",
              " 29,\n",
              " 29,\n",
              " 29,\n",
              " 29,\n",
              " 29,\n",
              " 29,\n",
              " 29,\n",
              " 29,\n",
              " 29,\n",
              " 29,\n",
              " 29,\n",
              " 29,\n",
              " 29,\n",
              " 29,\n",
              " 29,\n",
              " 29,\n",
              " 29,\n",
              " 29,\n",
              " 29,\n",
              " 29,\n",
              " 29,\n",
              " 29,\n",
              " 29,\n",
              " 29,\n",
              " 29,\n",
              " 29,\n",
              " 29,\n",
              " 29,\n",
              " 29,\n",
              " 29,\n",
              " 29,\n",
              " 29,\n",
              " 29,\n",
              " 29,\n",
              " 29,\n",
              " 29,\n",
              " 29,\n",
              " 29,\n",
              " 29,\n",
              " 29,\n",
              " 29,\n",
              " 29,\n",
              " 29,\n",
              " 29,\n",
              " 29,\n",
              " 29,\n",
              " 29,\n",
              " 29,\n",
              " 29,\n",
              " 29,\n",
              " 29,\n",
              " 29,\n",
              " 29,\n",
              " 29,\n",
              " 29,\n",
              " 29,\n",
              " 29,\n",
              " 29,\n",
              " 29,\n",
              " 29,\n",
              " 29,\n",
              " 29,\n",
              " 29,\n",
              " 29,\n",
              " 29,\n",
              " 29,\n",
              " 29,\n",
              " 29,\n",
              " 29,\n",
              " 29,\n",
              " 29,\n",
              " 29,\n",
              " 29,\n",
              " 29,\n",
              " 29,\n",
              " 29,\n",
              " 29,\n",
              " 29,\n",
              " 29,\n",
              " 29,\n",
              " 29,\n",
              " 29,\n",
              " 29,\n",
              " 29,\n",
              " 29,\n",
              " 29,\n",
              " 29,\n",
              " 29,\n",
              " 29,\n",
              " 29,\n",
              " 29,\n",
              " 29,\n",
              " 29,\n",
              " 29,\n",
              " 29,\n",
              " 29,\n",
              " 29,\n",
              " 29,\n",
              " 29,\n",
              " 29,\n",
              " 29,\n",
              " 29,\n",
              " 29,\n",
              " 29,\n",
              " 29,\n",
              " 29,\n",
              " 29,\n",
              " 29,\n",
              " 29,\n",
              " 29,\n",
              " 29,\n",
              " 29,\n",
              " 29,\n",
              " 29,\n",
              " 29,\n",
              " 29,\n",
              " 29,\n",
              " 29,\n",
              " 29,\n",
              " 29,\n",
              " 29,\n",
              " 29,\n",
              " 29,\n",
              " 29,\n",
              " 29,\n",
              " 29,\n",
              " 29,\n",
              " 29,\n",
              " 29,\n",
              " 29,\n",
              " 29,\n",
              " 29,\n",
              " 29,\n",
              " 29,\n",
              " 29,\n",
              " 29,\n",
              " 29,\n",
              " 29,\n",
              " 29,\n",
              " 29,\n",
              " 29,\n",
              " 29,\n",
              " 29,\n",
              " 29,\n",
              " 29,\n",
              " 29,\n",
              " 29,\n",
              " 29,\n",
              " 29,\n",
              " 29,\n",
              " 29,\n",
              " 29,\n",
              " 29,\n",
              " 29,\n",
              " 29,\n",
              " 29,\n",
              " 29,\n",
              " 29,\n",
              " 29,\n",
              " 29,\n",
              " 29,\n",
              " 29,\n",
              " 29,\n",
              " 29,\n",
              " 29,\n",
              " 29,\n",
              " 29,\n",
              " 29,\n",
              " 29,\n",
              " 29,\n",
              " 29,\n",
              " 29,\n",
              " 29,\n",
              " 29,\n",
              " 29,\n",
              " 29,\n",
              " 29,\n",
              " 29,\n",
              " 29,\n",
              " 29,\n",
              " 29,\n",
              " 29,\n",
              " 29,\n",
              " 29,\n",
              " 29,\n",
              " 29,\n",
              " 29,\n",
              " 29,\n",
              " 29,\n",
              " 29,\n",
              " 29,\n",
              " 29,\n",
              " 29,\n",
              " 29,\n",
              " 29,\n",
              " 29,\n",
              " 29,\n",
              " 29,\n",
              " 29,\n",
              " 29,\n",
              " 29,\n",
              " 29,\n",
              " 29,\n",
              " 29,\n",
              " 29,\n",
              " 29,\n",
              " 29,\n",
              " 29,\n",
              " 29,\n",
              " 29,\n",
              " 29,\n",
              " 29,\n",
              " 29,\n",
              " 29,\n",
              " 29,\n",
              " 29,\n",
              " 29,\n",
              " 29,\n",
              " 29,\n",
              " 29,\n",
              " 29,\n",
              " 29,\n",
              " 29,\n",
              " 29,\n",
              " 29,\n",
              " 29,\n",
              " 29,\n",
              " 29,\n",
              " 29,\n",
              " 29,\n",
              " 29,\n",
              " 29,\n",
              " 29,\n",
              " 29,\n",
              " 29,\n",
              " 29,\n",
              " 29,\n",
              " 29,\n",
              " 29,\n",
              " 29,\n",
              " 29,\n",
              " 29,\n",
              " 29,\n",
              " 29,\n",
              " 29,\n",
              " 29,\n",
              " 29,\n",
              " 29,\n",
              " 29,\n",
              " 29,\n",
              " 29,\n",
              " 29,\n",
              " 29,\n",
              " 29,\n",
              " 29,\n",
              " 29,\n",
              " 29,\n",
              " 29,\n",
              " 29,\n",
              " 29,\n",
              " 29,\n",
              " 29,\n",
              " 29,\n",
              " 29,\n",
              " 29,\n",
              " 29,\n",
              " 29,\n",
              " 29,\n",
              " 29,\n",
              " 29,\n",
              " 29,\n",
              " 29,\n",
              " 29,\n",
              " 29,\n",
              " 29,\n",
              " 29,\n",
              " 29,\n",
              " 29,\n",
              " 29,\n",
              " 29,\n",
              " 29,\n",
              " 29,\n",
              " 29,\n",
              " 29,\n",
              " 29,\n",
              " 29,\n",
              " 29,\n",
              " 29,\n",
              " 29,\n",
              " 29,\n",
              " 29,\n",
              " 29,\n",
              " 29,\n",
              " 29,\n",
              " 29,\n",
              " 29,\n",
              " 29,\n",
              " 29,\n",
              " 29,\n",
              " 29,\n",
              " 29,\n",
              " 29,\n",
              " 29,\n",
              " 29,\n",
              " 29,\n",
              " 29,\n",
              " 29,\n",
              " 29,\n",
              " 29,\n",
              " 29,\n",
              " 29,\n",
              " 29,\n",
              " 29,\n",
              " 29,\n",
              " 29,\n",
              " 29,\n",
              " 29,\n",
              " 29,\n",
              " 29,\n",
              " 29,\n",
              " 29,\n",
              " 29,\n",
              " 29,\n",
              " 29,\n",
              " 29,\n",
              " 29,\n",
              " 29,\n",
              " 29,\n",
              " 29,\n",
              " 29,\n",
              " 29,\n",
              " 29,\n",
              " 29,\n",
              " 29,\n",
              " 29,\n",
              " 29,\n",
              " 29,\n",
              " 29,\n",
              " 29,\n",
              " 29,\n",
              " 29,\n",
              " 29,\n",
              " 29,\n",
              " 29,\n",
              " 29,\n",
              " 29,\n",
              " 29,\n",
              " 29,\n",
              " 29,\n",
              " 29,\n",
              " 29,\n",
              " 29,\n",
              " 29,\n",
              " 29,\n",
              " 29,\n",
              " 29,\n",
              " 29,\n",
              " 29,\n",
              " 29,\n",
              " 29,\n",
              " 29,\n",
              " 29,\n",
              " 29,\n",
              " 29,\n",
              " 29,\n",
              " 29,\n",
              " 29,\n",
              " 29,\n",
              " 29,\n",
              " 29,\n",
              " 29,\n",
              " 29,\n",
              " 29,\n",
              " 29,\n",
              " 29,\n",
              " 29,\n",
              " 29,\n",
              " 29,\n",
              " 29,\n",
              " 29,\n",
              " 29,\n",
              " 29,\n",
              " 29,\n",
              " 29,\n",
              " 29,\n",
              " 29,\n",
              " 29]"
            ]
          },
          "metadata": {},
          "execution_count": 200
        }
      ]
    },
    {
      "cell_type": "markdown",
      "source": [
        "# Plot to see what this basic model has remembered - probably just averages"
      ],
      "metadata": {
        "id": "dTW5sj-0rpEs"
      }
    },
    {
      "cell_type": "markdown",
      "source": [
        "# Validating my data"
      ],
      "metadata": {
        "id": "EQrJxg_CXdKZ"
      }
    },
    {
      "cell_type": "code",
      "source": [
        "len(training_inputs) == len(training_outputs)"
      ],
      "metadata": {
        "colab": {
          "base_uri": "https://localhost:8080/"
        },
        "id": "8i2tG_ZxXEmu",
        "outputId": "3297703b-7732-44dc-f521-e4f2b3b13af6"
      },
      "execution_count": null,
      "outputs": [
        {
          "output_type": "execute_result",
          "data": {
            "text/plain": [
              "True"
            ]
          },
          "metadata": {},
          "execution_count": 13
        }
      ]
    },
    {
      "cell_type": "code",
      "source": [
        "training_inputs[0].shape"
      ],
      "metadata": {
        "colab": {
          "base_uri": "https://localhost:8080/"
        },
        "id": "QT6aLRA5dPL9",
        "outputId": "37147c4b-5589-466a-bfcf-8f1533d49bc9"
      },
      "execution_count": null,
      "outputs": [
        {
          "output_type": "execute_result",
          "data": {
            "text/plain": [
              "torch.Size([54])"
            ]
          },
          "metadata": {},
          "execution_count": 14
        }
      ]
    },
    {
      "cell_type": "code",
      "source": [
        "training_outputs[0].shape"
      ],
      "metadata": {
        "colab": {
          "base_uri": "https://localhost:8080/"
        },
        "id": "QuompqxedSuP",
        "outputId": "53e49d68-382c-4242-df76-b3b2b43f69f5"
      },
      "execution_count": null,
      "outputs": [
        {
          "output_type": "execute_result",
          "data": {
            "text/plain": [
              "torch.Size([54])"
            ]
          },
          "metadata": {},
          "execution_count": 15
        }
      ]
    }
  ]
}