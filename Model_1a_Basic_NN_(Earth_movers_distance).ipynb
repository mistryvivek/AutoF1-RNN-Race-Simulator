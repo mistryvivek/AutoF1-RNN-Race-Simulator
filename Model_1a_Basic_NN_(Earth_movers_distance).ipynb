{
  "nbformat": 4,
  "nbformat_minor": 0,
  "metadata": {
    "colab": {
      "provenance": [],
      "gpuType": "T4",
      "mount_file_id": "10QvLz-gCqTCqQu5-ePXNjBJ3aogTxzhp",
      "authorship_tag": "ABX9TyPJttdckM671XqfO+D8ulw2",
      "include_colab_link": true
    },
    "kernelspec": {
      "name": "python3",
      "display_name": "Python 3"
    },
    "language_info": {
      "name": "python"
    },
    "accelerator": "GPU"
  },
  "cells": [
    {
      "cell_type": "markdown",
      "metadata": {
        "id": "view-in-github",
        "colab_type": "text"
      },
      "source": [
        "<a href=\"https://colab.research.google.com/github/mistryvivek/YRKCS-PRBX/blob/main/Model_1a_Basic_NN_(Earth_movers_distance).ipynb\" target=\"_parent\"><img src=\"https://colab.research.google.com/assets/colab-badge.svg\" alt=\"Open In Colab\"/></a>"
      ]
    },
    {
      "cell_type": "code",
      "execution_count": 2,
      "metadata": {
        "id": "9BKFIobTm36L"
      },
      "outputs": [],
      "source": [
        "import torch\n",
        "import torch.nn as nn\n",
        "import numpy as np\n",
        "import random\n",
        "import pandas as pd\n",
        "import random\n",
        "from sklearn.preprocessing import LabelEncoder"
      ]
    },
    {
      "cell_type": "code",
      "source": [
        "device = torch.device('cuda' if torch.cuda.is_available() else 'cpu')\n",
        "print(f'Using device: {device}')"
      ],
      "metadata": {
        "colab": {
          "base_uri": "https://localhost:8080/"
        },
        "id": "VOupk8NfiXR7",
        "outputId": "d2490673-be18-4acd-d991-3f1cfdf61f10"
      },
      "execution_count": 3,
      "outputs": [
        {
          "output_type": "stream",
          "name": "stdout",
          "text": [
            "Using device: cpu\n"
          ]
        }
      ]
    },
    {
      "cell_type": "markdown",
      "source": [
        "# Setup Weights and Bias.\n",
        "\n",
        "* AI experimental tool."
      ],
      "metadata": {
        "id": "cnr6oqBffyAx"
      }
    },
    {
      "cell_type": "code",
      "source": [
        "!pip install wandb -qU"
      ],
      "metadata": {
        "id": "cA-o8vzff3Y3"
      },
      "execution_count": 4,
      "outputs": []
    },
    {
      "cell_type": "code",
      "source": [
        "# Log in to your W&B account\n",
        "import wandb\n",
        "import random\n",
        "import math"
      ],
      "metadata": {
        "id": "3F4388sHf7FM"
      },
      "execution_count": 5,
      "outputs": []
    },
    {
      "cell_type": "code",
      "source": [
        "wandb.login()"
      ],
      "metadata": {
        "id": "0KY69sdrgAqC",
        "colab": {
          "base_uri": "https://localhost:8080/",
          "height": 161
        },
        "outputId": "46e24048-159a-4429-cc35-324f9f17643c"
      },
      "execution_count": 6,
      "outputs": [
        {
          "output_type": "stream",
          "name": "stderr",
          "text": [
            "\u001b[34m\u001b[1mwandb\u001b[0m: Using wandb-core as the SDK backend.  Please refer to https://wandb.me/wandb-core for more information.\n"
          ]
        },
        {
          "output_type": "display_data",
          "data": {
            "text/plain": [
              "<IPython.core.display.Javascript object>"
            ],
            "application/javascript": [
              "\n",
              "        window._wandbApiKey = new Promise((resolve, reject) => {\n",
              "            function loadScript(url) {\n",
              "            return new Promise(function(resolve, reject) {\n",
              "                let newScript = document.createElement(\"script\");\n",
              "                newScript.onerror = reject;\n",
              "                newScript.onload = resolve;\n",
              "                document.body.appendChild(newScript);\n",
              "                newScript.src = url;\n",
              "            });\n",
              "            }\n",
              "            loadScript(\"https://cdn.jsdelivr.net/npm/postmate/build/postmate.min.js\").then(() => {\n",
              "            const iframe = document.createElement('iframe')\n",
              "            iframe.style.cssText = \"width:0;height:0;border:none\"\n",
              "            document.body.appendChild(iframe)\n",
              "            const handshake = new Postmate({\n",
              "                container: iframe,\n",
              "                url: 'https://wandb.ai/authorize'\n",
              "            });\n",
              "            const timeout = setTimeout(() => reject(\"Couldn't auto authenticate\"), 5000)\n",
              "            handshake.then(function(child) {\n",
              "                child.on('authorize', data => {\n",
              "                    clearTimeout(timeout)\n",
              "                    resolve(data)\n",
              "                });\n",
              "            });\n",
              "            })\n",
              "        });\n",
              "    "
            ]
          },
          "metadata": {}
        },
        {
          "output_type": "stream",
          "name": "stderr",
          "text": [
            "\u001b[34m\u001b[1mwandb\u001b[0m: Logging into wandb.ai. (Learn how to deploy a W&B server locally: https://wandb.me/wandb-server)\n",
            "\u001b[34m\u001b[1mwandb\u001b[0m: You can find your API key in your browser here: https://wandb.ai/authorize\n",
            "wandb: Paste an API key from your profile and hit enter, or press ctrl+c to quit:"
          ]
        },
        {
          "name": "stdout",
          "output_type": "stream",
          "text": [
            " ··········\n"
          ]
        },
        {
          "output_type": "stream",
          "name": "stderr",
          "text": [
            "\u001b[34m\u001b[1mwandb\u001b[0m: Appending key for api.wandb.ai to your netrc file: /root/.netrc\n"
          ]
        },
        {
          "output_type": "execute_result",
          "data": {
            "text/plain": [
              "True"
            ]
          },
          "metadata": {},
          "execution_count": 6
        }
      ]
    },
    {
      "cell_type": "markdown",
      "source": [
        "# Earth Movers Distance Loss\n",
        "\n",
        "* https://github.com/TakaraResearch/Pytorch-1D-Wasserstein-Statistical-Loss/blob/master/pytorch_stats_loss.py"
      ],
      "metadata": {
        "id": "dAdUs-wdrOjk"
      }
    },
    {
      "cell_type": "code",
      "source": [
        "import torch\n",
        "from torch.autograd import Variable\n",
        "\n",
        "\n",
        "#######################################################\n",
        "#       STATISTICAL DISTANCES(LOSSES) IN PYTORCH      #\n",
        "#######################################################\n",
        "\n",
        "## Statistial Distances for 1D weight distributions\n",
        "## Inspired by Scipy.Stats Statistial Distances for 1D\n",
        "## Pytorch Version, supporting Autograd to make a valid Loss\n",
        "## Supposing Inputs are Groups of Same-Length Weight Vectors\n",
        "## Instead of (Points, Weight), full-length Weight Vectors are taken as Inputs\n",
        "## Code Written by E.Bao, CASIA\n",
        "\n",
        "def torch_wasserstein_loss(tensor_a,tensor_b):\n",
        "    #Compute the first Wasserstein distance between two 1D distributions.\n",
        "    return(torch_cdf_loss(tensor_a,tensor_b,p=1))\n",
        "\n",
        "def torch_energy_loss(tensor_a,tensor_b):\n",
        "    # Compute the energy distance between two 1D distributions.\n",
        "    return((2**0.5)*torch_cdf_loss(tensor_a,tensor_b,p=2))\n",
        "\n",
        "def torch_cdf_loss(tensor_a,tensor_b,p=1):\n",
        "    # last-dimension is weight distribution\n",
        "    # p is the norm of the distance, p=1 --> First Wasserstein Distance\n",
        "    # to get a positive weight with our normalized distribution\n",
        "    # we recommend combining this loss with other difference-based losses like L1\n",
        "\n",
        "    # normalize distribution, add 1e-14 to divisor to avoid 0/0\n",
        "    tensor_a = tensor_a / (torch.sum(tensor_a, dim=-1, keepdim=True) + 1e-14)\n",
        "    tensor_b = tensor_b / (torch.sum(tensor_b, dim=-1, keepdim=True) + 1e-14)\n",
        "    # make cdf with cumsum\n",
        "    cdf_tensor_a = torch.cumsum(tensor_a,dim=-1)\n",
        "    cdf_tensor_b = torch.cumsum(tensor_b,dim=-1)\n",
        "\n",
        "    # choose different formulas for different norm situations\n",
        "    if p == 1:\n",
        "        cdf_distance = torch.sum(torch.abs((cdf_tensor_a-cdf_tensor_b)),dim=-1)\n",
        "    elif p == 2:\n",
        "        cdf_distance = torch.sqrt(torch.sum(torch.pow((cdf_tensor_a-cdf_tensor_b),2),dim=-1))\n",
        "    else:\n",
        "        cdf_distance = torch.pow(torch.sum(torch.pow(torch.abs(cdf_tensor_a-cdf_tensor_b),p),dim=-1),1/p)\n",
        "\n",
        "    cdf_loss = cdf_distance.mean()\n",
        "    return cdf_loss\n",
        "\n",
        "def torch_validate_distibution(tensor_a,tensor_b):\n",
        "    # Zero sized dimension is not supported by pytorch, we suppose there is no empty inputs\n",
        "    # Weights should be non-negetive, and with a positive and finite sum\n",
        "    # We suppose all conditions will be corrected by network training\n",
        "    # We only check the match of the size here\n",
        "    if tensor_a.size() != tensor_b.size():\n",
        "        raise ValueError(\"Input weight tensors must be of the same size\")"
      ],
      "metadata": {
        "id": "cFslJkAYrQqm"
      },
      "execution_count": 7,
      "outputs": []
    },
    {
      "cell_type": "markdown",
      "source": [
        "## Modify code for sliding window approach (like wk11 code).\n",
        "\n",
        "* Look at the full race image instead.\n",
        "* What data types are in the wk11 practical.\n",
        "* No vocab size required because they apply to catogorical contexts."
      ],
      "metadata": {
        "id": "0vxpMwPmrCNG"
      }
    },
    {
      "cell_type": "code",
      "source": [
        "BASE_PATH = r\"/content/drive/MyDrive/prbx_data/v1/\"\n",
        "max_race_size = 0\n",
        "max_tyre_life = 0"
      ],
      "metadata": {
        "id": "VEYJqy9UAizz"
      },
      "execution_count": 8,
      "outputs": []
    },
    {
      "cell_type": "markdown",
      "source": [
        "# Compound Encoder"
      ],
      "metadata": {
        "id": "KYown7wKKgHs"
      }
    },
    {
      "cell_type": "code",
      "source": [
        "compound_encoder = LabelEncoder()\n",
        "all_compounds = ['SOFT', 'MEDIUM', 'HARD', 'INTERMEDIATE', 'WET']\n",
        "compound_encoder.fit(all_compounds)"
      ],
      "metadata": {
        "colab": {
          "base_uri": "https://localhost:8080/",
          "height": 100
        },
        "id": "RX0MlOxVKjBB",
        "outputId": "6bbb9e59-1995-474b-ad24-5e8b722e710c"
      },
      "execution_count": 9,
      "outputs": [
        {
          "output_type": "execute_result",
          "data": {
            "text/plain": [
              "LabelEncoder()"
            ],
            "text/html": [
              "<style>#sk-container-id-1 {\n",
              "  /* Definition of color scheme common for light and dark mode */\n",
              "  --sklearn-color-text: #000;\n",
              "  --sklearn-color-text-muted: #666;\n",
              "  --sklearn-color-line: gray;\n",
              "  /* Definition of color scheme for unfitted estimators */\n",
              "  --sklearn-color-unfitted-level-0: #fff5e6;\n",
              "  --sklearn-color-unfitted-level-1: #f6e4d2;\n",
              "  --sklearn-color-unfitted-level-2: #ffe0b3;\n",
              "  --sklearn-color-unfitted-level-3: chocolate;\n",
              "  /* Definition of color scheme for fitted estimators */\n",
              "  --sklearn-color-fitted-level-0: #f0f8ff;\n",
              "  --sklearn-color-fitted-level-1: #d4ebff;\n",
              "  --sklearn-color-fitted-level-2: #b3dbfd;\n",
              "  --sklearn-color-fitted-level-3: cornflowerblue;\n",
              "\n",
              "  /* Specific color for light theme */\n",
              "  --sklearn-color-text-on-default-background: var(--sg-text-color, var(--theme-code-foreground, var(--jp-content-font-color1, black)));\n",
              "  --sklearn-color-background: var(--sg-background-color, var(--theme-background, var(--jp-layout-color0, white)));\n",
              "  --sklearn-color-border-box: var(--sg-text-color, var(--theme-code-foreground, var(--jp-content-font-color1, black)));\n",
              "  --sklearn-color-icon: #696969;\n",
              "\n",
              "  @media (prefers-color-scheme: dark) {\n",
              "    /* Redefinition of color scheme for dark theme */\n",
              "    --sklearn-color-text-on-default-background: var(--sg-text-color, var(--theme-code-foreground, var(--jp-content-font-color1, white)));\n",
              "    --sklearn-color-background: var(--sg-background-color, var(--theme-background, var(--jp-layout-color0, #111)));\n",
              "    --sklearn-color-border-box: var(--sg-text-color, var(--theme-code-foreground, var(--jp-content-font-color1, white)));\n",
              "    --sklearn-color-icon: #878787;\n",
              "  }\n",
              "}\n",
              "\n",
              "#sk-container-id-1 {\n",
              "  color: var(--sklearn-color-text);\n",
              "}\n",
              "\n",
              "#sk-container-id-1 pre {\n",
              "  padding: 0;\n",
              "}\n",
              "\n",
              "#sk-container-id-1 input.sk-hidden--visually {\n",
              "  border: 0;\n",
              "  clip: rect(1px 1px 1px 1px);\n",
              "  clip: rect(1px, 1px, 1px, 1px);\n",
              "  height: 1px;\n",
              "  margin: -1px;\n",
              "  overflow: hidden;\n",
              "  padding: 0;\n",
              "  position: absolute;\n",
              "  width: 1px;\n",
              "}\n",
              "\n",
              "#sk-container-id-1 div.sk-dashed-wrapped {\n",
              "  border: 1px dashed var(--sklearn-color-line);\n",
              "  margin: 0 0.4em 0.5em 0.4em;\n",
              "  box-sizing: border-box;\n",
              "  padding-bottom: 0.4em;\n",
              "  background-color: var(--sklearn-color-background);\n",
              "}\n",
              "\n",
              "#sk-container-id-1 div.sk-container {\n",
              "  /* jupyter's `normalize.less` sets `[hidden] { display: none; }`\n",
              "     but bootstrap.min.css set `[hidden] { display: none !important; }`\n",
              "     so we also need the `!important` here to be able to override the\n",
              "     default hidden behavior on the sphinx rendered scikit-learn.org.\n",
              "     See: https://github.com/scikit-learn/scikit-learn/issues/21755 */\n",
              "  display: inline-block !important;\n",
              "  position: relative;\n",
              "}\n",
              "\n",
              "#sk-container-id-1 div.sk-text-repr-fallback {\n",
              "  display: none;\n",
              "}\n",
              "\n",
              "div.sk-parallel-item,\n",
              "div.sk-serial,\n",
              "div.sk-item {\n",
              "  /* draw centered vertical line to link estimators */\n",
              "  background-image: linear-gradient(var(--sklearn-color-text-on-default-background), var(--sklearn-color-text-on-default-background));\n",
              "  background-size: 2px 100%;\n",
              "  background-repeat: no-repeat;\n",
              "  background-position: center center;\n",
              "}\n",
              "\n",
              "/* Parallel-specific style estimator block */\n",
              "\n",
              "#sk-container-id-1 div.sk-parallel-item::after {\n",
              "  content: \"\";\n",
              "  width: 100%;\n",
              "  border-bottom: 2px solid var(--sklearn-color-text-on-default-background);\n",
              "  flex-grow: 1;\n",
              "}\n",
              "\n",
              "#sk-container-id-1 div.sk-parallel {\n",
              "  display: flex;\n",
              "  align-items: stretch;\n",
              "  justify-content: center;\n",
              "  background-color: var(--sklearn-color-background);\n",
              "  position: relative;\n",
              "}\n",
              "\n",
              "#sk-container-id-1 div.sk-parallel-item {\n",
              "  display: flex;\n",
              "  flex-direction: column;\n",
              "}\n",
              "\n",
              "#sk-container-id-1 div.sk-parallel-item:first-child::after {\n",
              "  align-self: flex-end;\n",
              "  width: 50%;\n",
              "}\n",
              "\n",
              "#sk-container-id-1 div.sk-parallel-item:last-child::after {\n",
              "  align-self: flex-start;\n",
              "  width: 50%;\n",
              "}\n",
              "\n",
              "#sk-container-id-1 div.sk-parallel-item:only-child::after {\n",
              "  width: 0;\n",
              "}\n",
              "\n",
              "/* Serial-specific style estimator block */\n",
              "\n",
              "#sk-container-id-1 div.sk-serial {\n",
              "  display: flex;\n",
              "  flex-direction: column;\n",
              "  align-items: center;\n",
              "  background-color: var(--sklearn-color-background);\n",
              "  padding-right: 1em;\n",
              "  padding-left: 1em;\n",
              "}\n",
              "\n",
              "\n",
              "/* Toggleable style: style used for estimator/Pipeline/ColumnTransformer box that is\n",
              "clickable and can be expanded/collapsed.\n",
              "- Pipeline and ColumnTransformer use this feature and define the default style\n",
              "- Estimators will overwrite some part of the style using the `sk-estimator` class\n",
              "*/\n",
              "\n",
              "/* Pipeline and ColumnTransformer style (default) */\n",
              "\n",
              "#sk-container-id-1 div.sk-toggleable {\n",
              "  /* Default theme specific background. It is overwritten whether we have a\n",
              "  specific estimator or a Pipeline/ColumnTransformer */\n",
              "  background-color: var(--sklearn-color-background);\n",
              "}\n",
              "\n",
              "/* Toggleable label */\n",
              "#sk-container-id-1 label.sk-toggleable__label {\n",
              "  cursor: pointer;\n",
              "  display: flex;\n",
              "  width: 100%;\n",
              "  margin-bottom: 0;\n",
              "  padding: 0.5em;\n",
              "  box-sizing: border-box;\n",
              "  text-align: center;\n",
              "  align-items: start;\n",
              "  justify-content: space-between;\n",
              "  gap: 0.5em;\n",
              "}\n",
              "\n",
              "#sk-container-id-1 label.sk-toggleable__label .caption {\n",
              "  font-size: 0.6rem;\n",
              "  font-weight: lighter;\n",
              "  color: var(--sklearn-color-text-muted);\n",
              "}\n",
              "\n",
              "#sk-container-id-1 label.sk-toggleable__label-arrow:before {\n",
              "  /* Arrow on the left of the label */\n",
              "  content: \"▸\";\n",
              "  float: left;\n",
              "  margin-right: 0.25em;\n",
              "  color: var(--sklearn-color-icon);\n",
              "}\n",
              "\n",
              "#sk-container-id-1 label.sk-toggleable__label-arrow:hover:before {\n",
              "  color: var(--sklearn-color-text);\n",
              "}\n",
              "\n",
              "/* Toggleable content - dropdown */\n",
              "\n",
              "#sk-container-id-1 div.sk-toggleable__content {\n",
              "  max-height: 0;\n",
              "  max-width: 0;\n",
              "  overflow: hidden;\n",
              "  text-align: left;\n",
              "  /* unfitted */\n",
              "  background-color: var(--sklearn-color-unfitted-level-0);\n",
              "}\n",
              "\n",
              "#sk-container-id-1 div.sk-toggleable__content.fitted {\n",
              "  /* fitted */\n",
              "  background-color: var(--sklearn-color-fitted-level-0);\n",
              "}\n",
              "\n",
              "#sk-container-id-1 div.sk-toggleable__content pre {\n",
              "  margin: 0.2em;\n",
              "  border-radius: 0.25em;\n",
              "  color: var(--sklearn-color-text);\n",
              "  /* unfitted */\n",
              "  background-color: var(--sklearn-color-unfitted-level-0);\n",
              "}\n",
              "\n",
              "#sk-container-id-1 div.sk-toggleable__content.fitted pre {\n",
              "  /* unfitted */\n",
              "  background-color: var(--sklearn-color-fitted-level-0);\n",
              "}\n",
              "\n",
              "#sk-container-id-1 input.sk-toggleable__control:checked~div.sk-toggleable__content {\n",
              "  /* Expand drop-down */\n",
              "  max-height: 200px;\n",
              "  max-width: 100%;\n",
              "  overflow: auto;\n",
              "}\n",
              "\n",
              "#sk-container-id-1 input.sk-toggleable__control:checked~label.sk-toggleable__label-arrow:before {\n",
              "  content: \"▾\";\n",
              "}\n",
              "\n",
              "/* Pipeline/ColumnTransformer-specific style */\n",
              "\n",
              "#sk-container-id-1 div.sk-label input.sk-toggleable__control:checked~label.sk-toggleable__label {\n",
              "  color: var(--sklearn-color-text);\n",
              "  background-color: var(--sklearn-color-unfitted-level-2);\n",
              "}\n",
              "\n",
              "#sk-container-id-1 div.sk-label.fitted input.sk-toggleable__control:checked~label.sk-toggleable__label {\n",
              "  background-color: var(--sklearn-color-fitted-level-2);\n",
              "}\n",
              "\n",
              "/* Estimator-specific style */\n",
              "\n",
              "/* Colorize estimator box */\n",
              "#sk-container-id-1 div.sk-estimator input.sk-toggleable__control:checked~label.sk-toggleable__label {\n",
              "  /* unfitted */\n",
              "  background-color: var(--sklearn-color-unfitted-level-2);\n",
              "}\n",
              "\n",
              "#sk-container-id-1 div.sk-estimator.fitted input.sk-toggleable__control:checked~label.sk-toggleable__label {\n",
              "  /* fitted */\n",
              "  background-color: var(--sklearn-color-fitted-level-2);\n",
              "}\n",
              "\n",
              "#sk-container-id-1 div.sk-label label.sk-toggleable__label,\n",
              "#sk-container-id-1 div.sk-label label {\n",
              "  /* The background is the default theme color */\n",
              "  color: var(--sklearn-color-text-on-default-background);\n",
              "}\n",
              "\n",
              "/* On hover, darken the color of the background */\n",
              "#sk-container-id-1 div.sk-label:hover label.sk-toggleable__label {\n",
              "  color: var(--sklearn-color-text);\n",
              "  background-color: var(--sklearn-color-unfitted-level-2);\n",
              "}\n",
              "\n",
              "/* Label box, darken color on hover, fitted */\n",
              "#sk-container-id-1 div.sk-label.fitted:hover label.sk-toggleable__label.fitted {\n",
              "  color: var(--sklearn-color-text);\n",
              "  background-color: var(--sklearn-color-fitted-level-2);\n",
              "}\n",
              "\n",
              "/* Estimator label */\n",
              "\n",
              "#sk-container-id-1 div.sk-label label {\n",
              "  font-family: monospace;\n",
              "  font-weight: bold;\n",
              "  display: inline-block;\n",
              "  line-height: 1.2em;\n",
              "}\n",
              "\n",
              "#sk-container-id-1 div.sk-label-container {\n",
              "  text-align: center;\n",
              "}\n",
              "\n",
              "/* Estimator-specific */\n",
              "#sk-container-id-1 div.sk-estimator {\n",
              "  font-family: monospace;\n",
              "  border: 1px dotted var(--sklearn-color-border-box);\n",
              "  border-radius: 0.25em;\n",
              "  box-sizing: border-box;\n",
              "  margin-bottom: 0.5em;\n",
              "  /* unfitted */\n",
              "  background-color: var(--sklearn-color-unfitted-level-0);\n",
              "}\n",
              "\n",
              "#sk-container-id-1 div.sk-estimator.fitted {\n",
              "  /* fitted */\n",
              "  background-color: var(--sklearn-color-fitted-level-0);\n",
              "}\n",
              "\n",
              "/* on hover */\n",
              "#sk-container-id-1 div.sk-estimator:hover {\n",
              "  /* unfitted */\n",
              "  background-color: var(--sklearn-color-unfitted-level-2);\n",
              "}\n",
              "\n",
              "#sk-container-id-1 div.sk-estimator.fitted:hover {\n",
              "  /* fitted */\n",
              "  background-color: var(--sklearn-color-fitted-level-2);\n",
              "}\n",
              "\n",
              "/* Specification for estimator info (e.g. \"i\" and \"?\") */\n",
              "\n",
              "/* Common style for \"i\" and \"?\" */\n",
              "\n",
              ".sk-estimator-doc-link,\n",
              "a:link.sk-estimator-doc-link,\n",
              "a:visited.sk-estimator-doc-link {\n",
              "  float: right;\n",
              "  font-size: smaller;\n",
              "  line-height: 1em;\n",
              "  font-family: monospace;\n",
              "  background-color: var(--sklearn-color-background);\n",
              "  border-radius: 1em;\n",
              "  height: 1em;\n",
              "  width: 1em;\n",
              "  text-decoration: none !important;\n",
              "  margin-left: 0.5em;\n",
              "  text-align: center;\n",
              "  /* unfitted */\n",
              "  border: var(--sklearn-color-unfitted-level-1) 1pt solid;\n",
              "  color: var(--sklearn-color-unfitted-level-1);\n",
              "}\n",
              "\n",
              ".sk-estimator-doc-link.fitted,\n",
              "a:link.sk-estimator-doc-link.fitted,\n",
              "a:visited.sk-estimator-doc-link.fitted {\n",
              "  /* fitted */\n",
              "  border: var(--sklearn-color-fitted-level-1) 1pt solid;\n",
              "  color: var(--sklearn-color-fitted-level-1);\n",
              "}\n",
              "\n",
              "/* On hover */\n",
              "div.sk-estimator:hover .sk-estimator-doc-link:hover,\n",
              ".sk-estimator-doc-link:hover,\n",
              "div.sk-label-container:hover .sk-estimator-doc-link:hover,\n",
              ".sk-estimator-doc-link:hover {\n",
              "  /* unfitted */\n",
              "  background-color: var(--sklearn-color-unfitted-level-3);\n",
              "  color: var(--sklearn-color-background);\n",
              "  text-decoration: none;\n",
              "}\n",
              "\n",
              "div.sk-estimator.fitted:hover .sk-estimator-doc-link.fitted:hover,\n",
              ".sk-estimator-doc-link.fitted:hover,\n",
              "div.sk-label-container:hover .sk-estimator-doc-link.fitted:hover,\n",
              ".sk-estimator-doc-link.fitted:hover {\n",
              "  /* fitted */\n",
              "  background-color: var(--sklearn-color-fitted-level-3);\n",
              "  color: var(--sklearn-color-background);\n",
              "  text-decoration: none;\n",
              "}\n",
              "\n",
              "/* Span, style for the box shown on hovering the info icon */\n",
              ".sk-estimator-doc-link span {\n",
              "  display: none;\n",
              "  z-index: 9999;\n",
              "  position: relative;\n",
              "  font-weight: normal;\n",
              "  right: .2ex;\n",
              "  padding: .5ex;\n",
              "  margin: .5ex;\n",
              "  width: min-content;\n",
              "  min-width: 20ex;\n",
              "  max-width: 50ex;\n",
              "  color: var(--sklearn-color-text);\n",
              "  box-shadow: 2pt 2pt 4pt #999;\n",
              "  /* unfitted */\n",
              "  background: var(--sklearn-color-unfitted-level-0);\n",
              "  border: .5pt solid var(--sklearn-color-unfitted-level-3);\n",
              "}\n",
              "\n",
              ".sk-estimator-doc-link.fitted span {\n",
              "  /* fitted */\n",
              "  background: var(--sklearn-color-fitted-level-0);\n",
              "  border: var(--sklearn-color-fitted-level-3);\n",
              "}\n",
              "\n",
              ".sk-estimator-doc-link:hover span {\n",
              "  display: block;\n",
              "}\n",
              "\n",
              "/* \"?\"-specific style due to the `<a>` HTML tag */\n",
              "\n",
              "#sk-container-id-1 a.estimator_doc_link {\n",
              "  float: right;\n",
              "  font-size: 1rem;\n",
              "  line-height: 1em;\n",
              "  font-family: monospace;\n",
              "  background-color: var(--sklearn-color-background);\n",
              "  border-radius: 1rem;\n",
              "  height: 1rem;\n",
              "  width: 1rem;\n",
              "  text-decoration: none;\n",
              "  /* unfitted */\n",
              "  color: var(--sklearn-color-unfitted-level-1);\n",
              "  border: var(--sklearn-color-unfitted-level-1) 1pt solid;\n",
              "}\n",
              "\n",
              "#sk-container-id-1 a.estimator_doc_link.fitted {\n",
              "  /* fitted */\n",
              "  border: var(--sklearn-color-fitted-level-1) 1pt solid;\n",
              "  color: var(--sklearn-color-fitted-level-1);\n",
              "}\n",
              "\n",
              "/* On hover */\n",
              "#sk-container-id-1 a.estimator_doc_link:hover {\n",
              "  /* unfitted */\n",
              "  background-color: var(--sklearn-color-unfitted-level-3);\n",
              "  color: var(--sklearn-color-background);\n",
              "  text-decoration: none;\n",
              "}\n",
              "\n",
              "#sk-container-id-1 a.estimator_doc_link.fitted:hover {\n",
              "  /* fitted */\n",
              "  background-color: var(--sklearn-color-fitted-level-3);\n",
              "}\n",
              "</style><div id=\"sk-container-id-1\" class=\"sk-top-container\"><div class=\"sk-text-repr-fallback\"><pre>LabelEncoder()</pre><b>In a Jupyter environment, please rerun this cell to show the HTML representation or trust the notebook. <br />On GitHub, the HTML representation is unable to render, please try loading this page with nbviewer.org.</b></div><div class=\"sk-container\" hidden><div class=\"sk-item\"><div class=\"sk-estimator fitted sk-toggleable\"><input class=\"sk-toggleable__control sk-hidden--visually\" id=\"sk-estimator-id-1\" type=\"checkbox\" checked><label for=\"sk-estimator-id-1\" class=\"sk-toggleable__label fitted sk-toggleable__label-arrow\"><div><div>LabelEncoder</div></div><div><a class=\"sk-estimator-doc-link fitted\" rel=\"noreferrer\" target=\"_blank\" href=\"https://scikit-learn.org/1.6/modules/generated/sklearn.preprocessing.LabelEncoder.html\">?<span>Documentation for LabelEncoder</span></a><span class=\"sk-estimator-doc-link fitted\">i<span>Fitted</span></span></div></label><div class=\"sk-toggleable__content fitted\"><pre>LabelEncoder()</pre></div> </div></div></div></div>"
            ]
          },
          "metadata": {},
          "execution_count": 9
        }
      ]
    },
    {
      "cell_type": "code",
      "source": [
        "# TRAINING\n",
        "training_inputs = []\n",
        "training_outputs = []\n",
        "\n",
        "RaceCalender22 = pd.read_csv(BASE_PATH + r\"2022/eventCalender2022.csv\")\n",
        "for _, row in RaceCalender22.iterrows():\n",
        "    if row['EventFormat'] != 'testing':\n",
        "        TempRaceLoad = pd.read_csv(\n",
        "            BASE_PATH + f\"2022/{row['RoundNumber']}_{row['OfficialEventName']}/{row['RoundNumber']}_{row['OfficialEventName']}_Race.csv\".replace(\" \", \"_\")\n",
        "        )\n",
        "        for driver in TempRaceLoad['Driver'].unique():\n",
        "            TempRaceLoadDriver = TempRaceLoad[TempRaceLoad['Driver'] == driver].sort_values(by='LapNumber', ascending=True)\n",
        "            tyre_life_array = TempRaceLoadDriver['TyreLife'].values\n",
        "            stint_array = TempRaceLoadDriver['Stint'].values\n",
        "            compound_array = TempRaceLoadDriver['Compound'].values  # Add the compound data\n",
        "\n",
        "            if max(TempRaceLoadDriver['LapNumber']) > max_race_size:\n",
        "                max_race_size = max(TempRaceLoadDriver['LapNumber'])\n",
        "\n",
        "            if max(TempRaceLoadDriver['TyreLife']) > max_tyre_life:\n",
        "                max_tyre_life = max(TempRaceLoadDriver['TyreLife'])\n",
        "\n",
        "            stint_change_array = [0 if stint_array[i] == stint_array[i + 1] else 1\n",
        "                                  for i in range(len(stint_array) - 1)] + [0]\n",
        "            stint_change_array = np.array(stint_change_array)\n",
        "\n",
        "            encoded_compound = compound_encoder.transform(compound_array)\n",
        "            # Combine tyre_life and compound as input features\n",
        "            combined_input = np.column_stack((tyre_life_array, encoded_compound))  # Combine into a 2D array\n",
        "            training_inputs.append(combined_input)\n",
        "            training_outputs.append(stint_change_array)"
      ],
      "metadata": {
        "id": "muIWawoGrFrn"
      },
      "execution_count": 10,
      "outputs": []
    },
    {
      "cell_type": "code",
      "source": [
        "# TESTING\n",
        "testing_inputs = []\n",
        "testing_outputs = []\n",
        "\n",
        "RaceCalender23 = pd.read_csv(BASE_PATH + r\"2023/eventCalender2023.csv\")\n",
        "for _, row in RaceCalender23.iterrows():\n",
        "    if row['EventFormat'] != 'testing':\n",
        "        TempRaceLoad = pd.read_csv(\n",
        "            BASE_PATH + f\"2023/{row['RoundNumber']}_{row['OfficialEventName']}/{row['RoundNumber']}_{row['OfficialEventName']}_Race.csv\".replace(\" \", \"_\")\n",
        "        )\n",
        "        for driver in TempRaceLoad['Driver'].unique():\n",
        "            TempRaceLoadDriver = TempRaceLoad[TempRaceLoad['Driver'] == driver].sort_values(by='LapNumber', ascending=True)\n",
        "            tyre_life_array = TempRaceLoadDriver['TyreLife'].values\n",
        "            stint_array = TempRaceLoadDriver['Stint'].values\n",
        "            compound_array = TempRaceLoadDriver['Compound'].values  # Add the compound data\n",
        "\n",
        "            if max(TempRaceLoadDriver['LapNumber']) > max_race_size:\n",
        "                max_race_size = max(TempRaceLoadDriver['LapNumber'])\n",
        "\n",
        "            if max(TempRaceLoadDriver['TyreLife']) > max_tyre_life:\n",
        "                max_tyre_life = max(TempRaceLoadDriver['TyreLife'])\n",
        "\n",
        "            stint_change_array = [0 if stint_array[i] == stint_array[i + 1] else 1\n",
        "                                  for i in range(len(stint_array) - 1)] + [0]\n",
        "            stint_change_array = np.array(stint_change_array)\n",
        "\n",
        "            encoded_compound = compound_encoder.transform(compound_array)\n",
        "            # Combine tyre_life and compound as input features\n",
        "            combined_input = np.column_stack((tyre_life_array, encoded_compound))  # Combine into a 2D array\n",
        "            testing_inputs.append(combined_input)\n",
        "            testing_outputs.append(stint_change_array)"
      ],
      "metadata": {
        "id": "fEz0-Y5DrrEr"
      },
      "execution_count": 11,
      "outputs": []
    },
    {
      "cell_type": "code",
      "source": [
        "class RNNv1bDropout(nn.Module):\n",
        "    def __init__(self,input_size,hidden_size,dropout_prob): #vocab_size\n",
        "        super(RNNv1bDropout, self).__init__()\n",
        "        #self.embedding =  nn.Embedding(vocab_size, hidden_size)\n",
        "        self.linear_x = nn.Linear(input_size, hidden_size)\n",
        "        self.linear_h = nn.Linear(hidden_size,hidden_size)\n",
        "        self.linear_y = nn.Linear(hidden_size,1)\n",
        "        self.tanh = nn.Tanh()\n",
        "        self.sigmoid = nn.Sigmoid()\n",
        "        self.dropout = nn.Dropout(dropout_prob)\n",
        "\n",
        "    def forward(self,x,hprev):\n",
        "        \"\"\"\n",
        "        h = self.tanh(self.embedding(x) + self.linear_h(hprev))\n",
        "        y = self.linear_y(h)\n",
        "        \"\"\"\n",
        "        h = self.tanh(self.linear_x(x) + self.linear_h(hprev))\n",
        "        h - self.dropout(h)\n",
        "        y = self.sigmoid(self.linear_y(h))\n",
        "        return h,y"
      ],
      "metadata": {
        "id": "SbssajRW_yHx"
      },
      "execution_count": 12,
      "outputs": []
    },
    {
      "cell_type": "code",
      "source": [
        "def calculate_loss(model,inputs,targets,hprev,vocab_size):\n",
        "  loss_func = torch_wasserstein_loss\n",
        "  seq_length = len(inputs)\n",
        "  outputs = []\n",
        "  for t in range(seq_length):\n",
        "    # For each character in the input sequence, pass through RNN with previous hidden state\n",
        "    hprev,y = model(inputs[t],hprev)\n",
        "    # Gradually build up matrix of output logits of size seq_length * vocab_size - we want it at every time step do not want this.\n",
        "    # Compute cross entropy loss for seq_length actual targets against estimated distributions\n",
        "    # RuntimeError: result type Float can't be cast to the desired output type Long\n",
        "    outputs.append(y)\n",
        "\n",
        "  outputs = torch.stack(outputs).squeeze(1)\n",
        "  loss = loss_func(targets, outputs)\n",
        "\n",
        "  # For truncated backprop, the next subsequence will use the final hidden state\n",
        "  # but will not backprop through it so we need to detach\n",
        "  hprev = hprev.detach()\n",
        "\n",
        "  return loss, hprev"
      ],
      "metadata": {
        "id": "Kblub6lCs1q9"
      },
      "execution_count": 14,
      "outputs": []
    },
    {
      "cell_type": "code",
      "source": [
        "# Model parameters to be logged by w and b.\n",
        "hidden_size = 6\n",
        "lr = 0.002\n",
        "iterations = 10000\n",
        "input_parameters = ['TyreLife', 'Compound']\n",
        "dataset = 'v1'\n",
        "input_size = 2\n",
        "dropout = 0.45"
      ],
      "metadata": {
        "id": "ZEPgYoM5tVB7"
      },
      "execution_count": 15,
      "outputs": []
    },
    {
      "cell_type": "code",
      "source": [
        "# PADDING\n",
        "def add_padding(max_race_size, sequence):\n",
        "    if len(sequence) >= max_race_size:\n",
        "        return sequence[:max_race_size]\n",
        "    else:\n",
        "        # Handle both 1D and 2D arrays\n",
        "        if sequence.ndim == 1:  # If 1D array\n",
        "            padding_shape = (max_race_size - len(sequence),)\n",
        "        else:  # If 2D array\n",
        "            padding_shape = (max_race_size - len(sequence), sequence.shape[1])\n",
        "\n",
        "        padding = np.zeros(padding_shape, dtype=sequence.dtype)\n",
        "        return np.concatenate([sequence, padding])"
      ],
      "metadata": {
        "id": "kZnrmrWCZewQ"
      },
      "execution_count": 16,
      "outputs": []
    },
    {
      "cell_type": "code",
      "source": [
        "def check_accuracy(model):\n",
        "  total, matches = 0, 0\n",
        "  no_pit_prediction_total, correct_no_pit_prediction = 0,0\n",
        "  pit_prediction_total, correct_pit_prediction = 0,0\n",
        "\n",
        "  for t in range(len(testing_inputs) - 1):\n",
        "      inputs = add_padding(int(max_race_size),testing_inputs[t])\n",
        "      outputs = add_padding(int(max_race_size),testing_outputs[t])\n",
        "      hprev = torch.zeros(hidden_size, device=device)\n",
        "\n",
        "      for x in range(len(inputs) - 1):\n",
        "\n",
        "        hprev, y = model(torch.tensor([inputs[x]], device=device, dtype=torch.float32), hprev)\n",
        "\n",
        "        if (y.item() > 0.5):\n",
        "          pit_prediction_total += 1\n",
        "          if 1 in outputs[max(0, x - 2): min(int(max_race_size), x+4)]:\n",
        "              correct_pit_prediction += 1\n",
        "        else:\n",
        "          no_pit_prediction_total += 1\n",
        "          if y.floor().item() == outputs[x]:\n",
        "              correct_no_pit_prediction += 1\n",
        "\n",
        "  if (pit_prediction_total + no_pit_prediction_total) != 0:\n",
        "      overall_accuracy = (correct_no_pit_prediction + correct_pit_prediction) / (no_pit_prediction_total + pit_prediction_total) * 100\n",
        "      print(f\"Overall Accuracy: {overall_accuracy:.2f}%\")\n",
        "      wandb.log({\"overall_accuracy\": overall_accuracy})\n",
        "  else:\n",
        "      print(\"Overall Accuracy: 0.0%\")\n",
        "      wandb.log({\"overall_accuracy\": 0.0})\n",
        "\n",
        "  if no_pit_prediction_total != 0:\n",
        "    print(f\"Total No Pit Accuracy: {correct_no_pit_prediction / no_pit_prediction_total * 100}\")\n",
        "    wandb.log({\"total no pit accurary (exact match)\": correct_no_pit_prediction / no_pit_prediction_total * 100})\n",
        "  else:\n",
        "    print(f\"Total No Pit Accuracy: 0.0\")\n",
        "    wandb.log({\"total no pit accurary (exact match)\": 0.0})\n",
        "\n",
        "  if pit_prediction_total != 0:\n",
        "    print(f\"Total Pit Accuracy: {correct_pit_prediction / pit_prediction_total * 100}\")\n",
        "    wandb.log({\"total pit accurary (3 laps either side)\": correct_pit_prediction / pit_prediction_total * 100})\n",
        "  else:\n",
        "    print(f\"Total Pit Accuracy: 0.0\")\n",
        "    wandb.log({r\"total pit accurary (3 laps either side)\": 0.0})\n",
        "\n",
        "  print(f\"Total Pit Predictions: {pit_prediction_total}\")\n",
        "  wandb.log({\"total pit predictions\": pit_prediction_total})"
      ],
      "metadata": {
        "id": "TmkbKIyMSOeA"
      },
      "execution_count": 17,
      "outputs": []
    },
    {
      "cell_type": "code",
      "source": [
        "def train(training_inputs, training_outputs):\n",
        "  model = RNNv1bDropout(input_size,hidden_size,dropout)#vocab_size\n",
        "  model.to(device)\n",
        "\n",
        "  optim = torch.optim.Adagrad(model.parameters(), lr = lr)\n",
        "\n",
        "  config = {\n",
        "      \"learning_rate\": lr,\n",
        "      \"hidden_size\": hidden_size,\n",
        "      \"iterations\": 10000,\n",
        "      \"input_parameters\": input_parameters,\n",
        "      \"dataset\": dataset,\n",
        "      \"input_size\": input_size,\n",
        "      \"loss_function\": \"torch_wasserstein_loss\",\n",
        "      \"dropout\": dropout\n",
        "  }\n",
        "\n",
        "  wandb.init(project=\"binary_classifier_emd\", config=config)\n",
        "\n",
        "  # Shuffle the data before starting the training loop\n",
        "  training_data = list(zip(training_inputs, training_outputs))\n",
        "  random.shuffle(training_data)\n",
        "  training_inputs, training_outputs = zip(*training_data)\n",
        "\n",
        "  n, p = 0, 0\n",
        "  while n<=iterations:\n",
        "    hprev = torch.zeros(hidden_size, device=device) # reset RNN memory\n",
        "\n",
        "    training_data = list(zip(training_inputs, training_outputs))\n",
        "    random.shuffle(training_data)\n",
        "    training_inputs, training_outputs = zip(*training_data)\n",
        "\n",
        "    # Why apply padding here\n",
        "    inputs = add_padding(int(max_race_size),training_inputs[p])\n",
        "    outputs = add_padding(int(max_race_size),training_outputs[p])\n",
        "\n",
        "    # Extract next subsequence of characters\n",
        "    inputs = torch.tensor(training_inputs[p],dtype=torch.float32, device=device)\n",
        "    targets = torch.tensor(training_outputs[p],dtype=torch.float32, device=device)\n",
        "\n",
        "    # Compute loss for current subsequence\n",
        "    loss, hprev = calculate_loss(model,inputs,targets,hprev,input_size)\n",
        "    optim.zero_grad()\n",
        "    loss.backward()\n",
        "    optim.step()\n",
        "\n",
        "    wandb.log({\"loss\": loss.item()})\n",
        "\n",
        "    if n % 500 == 0:\n",
        "      print('[{:}] Loss: {:.2f}'.format(n,loss.item()))\n",
        "      check_accuracy(model)\n",
        "\n",
        "    p += 1 # move data pointer\n",
        "    n += 1 # iteration counter\n",
        "\n",
        "    if p >= len(training_inputs):  # Check if we've gone through all data\n",
        "      # Shuffle the data before starting a new epoch\n",
        "      training_data = list(zip(training_inputs, training_outputs))\n",
        "      random.shuffle(training_data)\n",
        "      training_inputs, training_outputs = zip(*training_data)\n",
        "\n",
        "      p = 0\n",
        "\n",
        "  # Optionally, save the entire PyTorch model object\n",
        "  torch.save(model, \"full_model.pth\")\n",
        "  wandb.save(\"full_model.pth\")\n",
        "\n",
        "#train(training_inputs, training_outputs)"
      ],
      "metadata": {
        "id": "NjMwOzL7uykr"
      },
      "execution_count": 19,
      "outputs": []
    },
    {
      "cell_type": "code",
      "source": [
        "wandb.finish()"
      ],
      "metadata": {
        "id": "wzZYVE_bmc6I"
      },
      "execution_count": 20,
      "outputs": []
    },
    {
      "cell_type": "code",
      "source": [
        "# Define the sweep configuration\n",
        "sweep_config = {\n",
        "    'method': 'bayes',\n",
        "    'metric': {\n",
        "        'name': 'loss',\n",
        "        'goal': 'minimize'\n",
        "    },\n",
        "    'parameters': {\n",
        "        'learning_rate': {\n",
        "            'min': 1e-4,\n",
        "            'max': 1e-2\n",
        "        },\n",
        "        'optimizer': {\n",
        "            'values': ['adam', 'sgd', 'rmsprop', 'adagrad']\n",
        "        },\n",
        "        'hidden_size': {\n",
        "            'min': 1,\n",
        "            'max': 50\n",
        "        },\n",
        "        'dropout': {\n",
        "            'min': 0.1,\n",
        "            'max': 0.5\n",
        "        }\n",
        "    }\n",
        "}\n",
        "\n",
        "sweep_id = wandb.sweep(sweep_config, project=\"binary_classifier_emd\")"
      ],
      "metadata": {
        "colab": {
          "base_uri": "https://localhost:8080/"
        },
        "id": "9L4teKxZpM44",
        "outputId": "4a03f677-a4e0-4e69-d805-1dfdf10c7bc4"
      },
      "execution_count": 21,
      "outputs": [
        {
          "output_type": "stream",
          "name": "stdout",
          "text": [
            "Create sweep with ID: i1dywmsy\n",
            "Sweep URL: https://wandb.ai/vm800-university-of-york/binary_classifier_emd/sweeps/i1dywmsy\n"
          ]
        }
      ]
    },
    {
      "cell_type": "code",
      "source": [
        "# Run the sweep\n",
        "wandb.agent(sweep_id, function=lambda: train(training_inputs, training_outputs), count=10)"
      ],
      "metadata": {
        "colab": {
          "base_uri": "https://localhost:8080/",
          "height": 1000
        },
        "id": "_N4w2bCErZ-e",
        "outputId": "d9f18dda-76f4-45e4-d55f-a803f3a40d00"
      },
      "execution_count": 22,
      "outputs": [
        {
          "output_type": "stream",
          "name": "stderr",
          "text": [
            "\u001b[34m\u001b[1mwandb\u001b[0m: Agent Starting Run: 54c0gw4a with config:\n",
            "\u001b[34m\u001b[1mwandb\u001b[0m: \tdropout: 0.3683225472176558\n",
            "\u001b[34m\u001b[1mwandb\u001b[0m: \thidden_size: 9\n",
            "\u001b[34m\u001b[1mwandb\u001b[0m: \tlearning_rate: 0.005866980758008903\n",
            "\u001b[34m\u001b[1mwandb\u001b[0m: \toptimizer: rmsprop\n",
            "\u001b[34m\u001b[1mwandb\u001b[0m: \u001b[33mWARNING\u001b[0m Ignoring project 'binary_classifier_emd' when running a sweep.\n",
            "\u001b[34m\u001b[1mwandb\u001b[0m: Currently logged in as: \u001b[33mvm800\u001b[0m (\u001b[33mvm800-university-of-york\u001b[0m). Use \u001b[1m`wandb login --relogin`\u001b[0m to force relogin\n"
          ]
        },
        {
          "output_type": "display_data",
          "data": {
            "text/plain": [
              "<IPython.core.display.HTML object>"
            ],
            "text/html": [
              "Tracking run with wandb version 0.19.1"
            ]
          },
          "metadata": {}
        },
        {
          "output_type": "display_data",
          "data": {
            "text/plain": [
              "<IPython.core.display.HTML object>"
            ],
            "text/html": [
              "Run data is saved locally in <code>/content/wandb/run-20241229_185414-54c0gw4a</code>"
            ]
          },
          "metadata": {}
        },
        {
          "output_type": "display_data",
          "data": {
            "text/plain": [
              "<IPython.core.display.HTML object>"
            ],
            "text/html": [
              "Syncing run <strong><a href='https://wandb.ai/vm800-university-of-york/binary_classifier_emd/runs/54c0gw4a' target=\"_blank\">atomic-sweep-1</a></strong> to <a href='https://wandb.ai/vm800-university-of-york/binary_classifier_emd' target=\"_blank\">Weights & Biases</a> (<a href='https://wandb.me/developer-guide' target=\"_blank\">docs</a>)<br>Sweep page: <a href='https://wandb.ai/vm800-university-of-york/binary_classifier_emd/sweeps/i1dywmsy' target=\"_blank\">https://wandb.ai/vm800-university-of-york/binary_classifier_emd/sweeps/i1dywmsy</a>"
            ]
          },
          "metadata": {}
        },
        {
          "output_type": "display_data",
          "data": {
            "text/plain": [
              "<IPython.core.display.HTML object>"
            ],
            "text/html": [
              " View project at <a href='https://wandb.ai/vm800-university-of-york/binary_classifier_emd' target=\"_blank\">https://wandb.ai/vm800-university-of-york/binary_classifier_emd</a>"
            ]
          },
          "metadata": {}
        },
        {
          "output_type": "display_data",
          "data": {
            "text/plain": [
              "<IPython.core.display.HTML object>"
            ],
            "text/html": [
              " View sweep at <a href='https://wandb.ai/vm800-university-of-york/binary_classifier_emd/sweeps/i1dywmsy' target=\"_blank\">https://wandb.ai/vm800-university-of-york/binary_classifier_emd/sweeps/i1dywmsy</a>"
            ]
          },
          "metadata": {}
        },
        {
          "output_type": "display_data",
          "data": {
            "text/plain": [
              "<IPython.core.display.HTML object>"
            ],
            "text/html": [
              " View run at <a href='https://wandb.ai/vm800-university-of-york/binary_classifier_emd/runs/54c0gw4a' target=\"_blank\">https://wandb.ai/vm800-university-of-york/binary_classifier_emd/runs/54c0gw4a</a>"
            ]
          },
          "metadata": {}
        },
        {
          "output_type": "stream",
          "name": "stdout",
          "text": [
            "[0] Loss: 18.28\n"
          ]
        },
        {
          "output_type": "stream",
          "name": "stderr",
          "text": [
            "<ipython-input-17-e7617c931dd8>:13: UserWarning: Creating a tensor from a list of numpy.ndarrays is extremely slow. Please consider converting the list to a single numpy.ndarray with numpy.array() before converting to a tensor. (Triggered internally at ../torch/csrc/utils/tensor_new.cpp:278.)\n",
            "  hprev, y = model(torch.tensor([inputs[x]], device=device, dtype=torch.float32), hprev)\n"
          ]
        },
        {
          "output_type": "stream",
          "name": "stdout",
          "text": [
            "Overall Accuracy: 64.47%\n",
            "Total No Pit Accuracy: 98.62340719512818\n",
            "Total Pit Accuracy: 17.160476325489086\n",
            "Total Pit Predictions: 14108\n",
            "[500] Loss: 9.81\n",
            "Overall Accuracy: 97.10%\n",
            "Total No Pit Accuracy: 97.28968039815314\n",
            "Total Pit Accuracy: 75.2542372881356\n",
            "Total Pit Predictions: 295\n",
            "[1000] Loss: 7.27\n",
            "Overall Accuracy: 96.13%\n",
            "Total No Pit Accuracy: 97.23712857624727\n",
            "Total Pit Accuracy: 61.46435452793835\n",
            "Total Pit Predictions: 1038\n",
            "[1500] Loss: 6.47\n",
            "Overall Accuracy: 96.16%\n",
            "Total No Pit Accuracy: 97.26760823409951\n",
            "Total Pit Accuracy: 64.8695652173913\n",
            "Total Pit Predictions: 1150\n",
            "[2000] Loss: 9.68\n",
            "Overall Accuracy: 96.16%\n",
            "Total No Pit Accuracy: 97.26335924966062\n",
            "Total Pit Accuracy: 67.17865804365401\n",
            "Total Pit Predictions: 1237\n",
            "[2500] Loss: 10.19\n",
            "Overall Accuracy: 95.83%\n",
            "Total No Pit Accuracy: 97.26623174899038\n",
            "Total Pit Accuracy: 64.15352981494175\n",
            "Total Pit Predictions: 1459\n",
            "[3000] Loss: 16.99\n",
            "Overall Accuracy: 95.82%\n",
            "Total No Pit Accuracy: 97.26044455513355\n",
            "Total Pit Accuracy: 65.48788474132286\n",
            "Total Pit Predictions: 1527\n",
            "[3500] Loss: 8.40\n",
            "Overall Accuracy: 94.81%\n",
            "Total No Pit Accuracy: 97.2482564927893\n",
            "Total Pit Accuracy: 55.35714285714286\n",
            "Total Pit Predictions: 1960\n",
            "[4000] Loss: 3.49\n",
            "Overall Accuracy: 94.43%\n",
            "Total No Pit Accuracy: 97.24037302543933\n",
            "Total Pit Accuracy: 52.708431464908145\n",
            "Total Pit Predictions: 2123\n",
            "[4500] Loss: 11.74\n",
            "Overall Accuracy: 93.31%\n",
            "Total No Pit Accuracy: 97.23357030269888\n",
            "Total Pit Accuracy: 45.70647931303669\n",
            "Total Pit Predictions: 2562\n",
            "[5000] Loss: 8.30\n",
            "Overall Accuracy: 93.21%\n",
            "Total No Pit Accuracy: 97.25448444960641\n",
            "Total Pit Accuracy: 45.98567659253675\n",
            "Total Pit Predictions: 2653\n",
            "[5500] Loss: 7.28\n",
            "Overall Accuracy: 93.16%\n",
            "Total No Pit Accuracy: 97.25452196382429\n",
            "Total Pit Accuracy: 46.07660840461138\n",
            "Total Pit Predictions: 2689\n",
            "[6000] Loss: 10.06\n",
            "Overall Accuracy: 92.71%\n",
            "Total No Pit Accuracy: 97.25228161668839\n",
            "Total Pit Accuracy: 45.80666891209162\n",
            "Total Pit Predictions: 2969\n",
            "[6500] Loss: 14.00\n",
            "Overall Accuracy: 92.48%\n",
            "Total No Pit Accuracy: 97.24466338259442\n",
            "Total Pit Accuracy: 47.10847139731166\n",
            "Total Pit Predictions: 3199\n",
            "[7000] Loss: 14.15\n",
            "Overall Accuracy: 92.28%\n",
            "Total No Pit Accuracy: 97.2330321218917\n",
            "Total Pit Accuracy: 47.15960324616772\n",
            "Total Pit Predictions: 3327\n",
            "[7500] Loss: 16.97\n",
            "Overall Accuracy: 90.94%\n",
            "Total No Pit Accuracy: 97.21746719027959\n",
            "Total Pit Accuracy: 42.47925311203319\n",
            "Total Pit Predictions: 3856\n",
            "[8000] Loss: 13.86\n",
            "Overall Accuracy: 90.51%\n",
            "Total No Pit Accuracy: 97.20168776371308\n",
            "Total Pit Accuracy: 41.25248508946322\n",
            "Total Pit Predictions: 4024\n",
            "[8500] Loss: 4.31\n",
            "Overall Accuracy: 89.99%\n",
            "Total No Pit Accuracy: 97.24414806750136\n",
            "Total Pit Accuracy: 39.88724453840733\n",
            "Total Pit Predictions: 4257\n",
            "[9000] Loss: 10.17\n",
            "Overall Accuracy: 89.63%\n",
            "Total No Pit Accuracy: 97.2401764645532\n",
            "Total Pit Accuracy: 39.11070780399274\n",
            "Total Pit Predictions: 4408\n",
            "[9500] Loss: 6.46\n",
            "Overall Accuracy: 89.54%\n",
            "Total No Pit Accuracy: 97.2433394972947\n",
            "Total Pit Accuracy: 38.970092196986734\n",
            "Total Pit Predictions: 4447\n",
            "[10000] Loss: 5.61\n",
            "Overall Accuracy: 89.52%\n",
            "Total No Pit Accuracy: 97.2445937146578\n",
            "Total Pit Accuracy: 39.06040268456376\n",
            "Total Pit Predictions: 4470\n"
          ]
        },
        {
          "output_type": "display_data",
          "data": {
            "text/plain": [
              "<IPython.core.display.HTML object>"
            ],
            "text/html": []
          },
          "metadata": {}
        },
        {
          "output_type": "display_data",
          "data": {
            "text/plain": [
              "<IPython.core.display.HTML object>"
            ],
            "text/html": [
              "<br>    <style><br>        .wandb-row {<br>            display: flex;<br>            flex-direction: row;<br>            flex-wrap: wrap;<br>            justify-content: flex-start;<br>            width: 100%;<br>        }<br>        .wandb-col {<br>            display: flex;<br>            flex-direction: column;<br>            flex-basis: 100%;<br>            flex: 1;<br>            padding: 10px;<br>        }<br>    </style><br><div class=\"wandb-row\"><div class=\"wandb-col\"><h3>Run history:</h3><br/><table class=\"wandb\"><tr><td>loss</td><td>▃▂▂▃▂▁▂▇▂▃▃▅▄▆▆▂▃▂▆▃▂▄█▄▂▅▂▃▆▃▆▆▄▁▆▆▇▂▂▅</td></tr><tr><td>overall_accuracy</td><td>▁███████▇▇▇▇▇▇▇▇▇▆▆▆▆</td></tr><tr><td>total no pit accurary (exact match)</td><td>█▁▁▁▁▁▁▁▁▁▁▁▁▁▁▁▁▁▁▁▁</td></tr><tr><td>total pit accurary (3 laps either side)</td><td>▁█▆▇▇▇▇▆▅▄▄▄▄▅▅▄▄▄▄▄▄</td></tr><tr><td>total pit predictions</td><td>█▁▁▁▁▂▂▂▂▂▂▂▂▂▃▃▃▃▃▃▃</td></tr></table><br/></div><div class=\"wandb-col\"><h3>Run summary:</h3><br/><table class=\"wandb\"><tr><td>loss</td><td>5.61241</td></tr><tr><td>overall_accuracy</td><td>89.51529</td></tr><tr><td>total no pit accurary (exact match)</td><td>97.24459</td></tr><tr><td>total pit accurary (3 laps either side)</td><td>39.0604</td></tr><tr><td>total pit predictions</td><td>4470</td></tr></table><br/></div></div>"
            ]
          },
          "metadata": {}
        },
        {
          "output_type": "display_data",
          "data": {
            "text/plain": [
              "<IPython.core.display.HTML object>"
            ],
            "text/html": [
              " View run <strong style=\"color:#cdcd00\">atomic-sweep-1</strong> at: <a href='https://wandb.ai/vm800-university-of-york/binary_classifier_emd/runs/54c0gw4a' target=\"_blank\">https://wandb.ai/vm800-university-of-york/binary_classifier_emd/runs/54c0gw4a</a><br> View project at: <a href='https://wandb.ai/vm800-university-of-york/binary_classifier_emd' target=\"_blank\">https://wandb.ai/vm800-university-of-york/binary_classifier_emd</a><br>Synced 5 W&B file(s), 0 media file(s), 0 artifact file(s) and 1 other file(s)"
            ]
          },
          "metadata": {}
        },
        {
          "output_type": "display_data",
          "data": {
            "text/plain": [
              "<IPython.core.display.HTML object>"
            ],
            "text/html": [
              "Find logs at: <code>./wandb/run-20241229_185414-54c0gw4a/logs</code>"
            ]
          },
          "metadata": {}
        },
        {
          "output_type": "stream",
          "name": "stderr",
          "text": [
            "\u001b[34m\u001b[1mwandb\u001b[0m: Agent Starting Run: 13ixsmpe with config:\n",
            "\u001b[34m\u001b[1mwandb\u001b[0m: \tdropout: 0.39673754135890416\n",
            "\u001b[34m\u001b[1mwandb\u001b[0m: \thidden_size: 43\n",
            "\u001b[34m\u001b[1mwandb\u001b[0m: \tlearning_rate: 0.0001994589316744203\n",
            "\u001b[34m\u001b[1mwandb\u001b[0m: \toptimizer: rmsprop\n",
            "\u001b[34m\u001b[1mwandb\u001b[0m: \u001b[33mWARNING\u001b[0m Ignoring project 'binary_classifier_emd' when running a sweep.\n"
          ]
        },
        {
          "output_type": "display_data",
          "data": {
            "text/plain": [
              "<IPython.core.display.HTML object>"
            ],
            "text/html": [
              "Tracking run with wandb version 0.19.1"
            ]
          },
          "metadata": {}
        },
        {
          "output_type": "display_data",
          "data": {
            "text/plain": [
              "<IPython.core.display.HTML object>"
            ],
            "text/html": [
              "Run data is saved locally in <code>/content/wandb/run-20241229_190115-13ixsmpe</code>"
            ]
          },
          "metadata": {}
        },
        {
          "output_type": "display_data",
          "data": {
            "text/plain": [
              "<IPython.core.display.HTML object>"
            ],
            "text/html": [
              "Syncing run <strong><a href='https://wandb.ai/vm800-university-of-york/binary_classifier_emd/runs/13ixsmpe' target=\"_blank\">jolly-sweep-2</a></strong> to <a href='https://wandb.ai/vm800-university-of-york/binary_classifier_emd' target=\"_blank\">Weights & Biases</a> (<a href='https://wandb.me/developer-guide' target=\"_blank\">docs</a>)<br>Sweep page: <a href='https://wandb.ai/vm800-university-of-york/binary_classifier_emd/sweeps/i1dywmsy' target=\"_blank\">https://wandb.ai/vm800-university-of-york/binary_classifier_emd/sweeps/i1dywmsy</a>"
            ]
          },
          "metadata": {}
        },
        {
          "output_type": "display_data",
          "data": {
            "text/plain": [
              "<IPython.core.display.HTML object>"
            ],
            "text/html": [
              " View project at <a href='https://wandb.ai/vm800-university-of-york/binary_classifier_emd' target=\"_blank\">https://wandb.ai/vm800-university-of-york/binary_classifier_emd</a>"
            ]
          },
          "metadata": {}
        },
        {
          "output_type": "display_data",
          "data": {
            "text/plain": [
              "<IPython.core.display.HTML object>"
            ],
            "text/html": [
              " View sweep at <a href='https://wandb.ai/vm800-university-of-york/binary_classifier_emd/sweeps/i1dywmsy' target=\"_blank\">https://wandb.ai/vm800-university-of-york/binary_classifier_emd/sweeps/i1dywmsy</a>"
            ]
          },
          "metadata": {}
        },
        {
          "output_type": "display_data",
          "data": {
            "text/plain": [
              "<IPython.core.display.HTML object>"
            ],
            "text/html": [
              " View run at <a href='https://wandb.ai/vm800-university-of-york/binary_classifier_emd/runs/13ixsmpe' target=\"_blank\">https://wandb.ai/vm800-university-of-york/binary_classifier_emd/runs/13ixsmpe</a>"
            ]
          },
          "metadata": {}
        },
        {
          "output_type": "stream",
          "name": "stdout",
          "text": [
            "[0] Loss: 16.30\n",
            "Overall Accuracy: 70.19%\n",
            "Total No Pit Accuracy: 96.61377870563675\n",
            "Total Pit Accuracy: 4.928343128157541\n",
            "Total Pit Predictions: 9699\n",
            "[500] Loss: 4.66\n",
            "Overall Accuracy: 65.00%\n",
            "Total No Pit Accuracy: 96.3794218158308\n",
            "Total Pit Accuracy: 8.3451438099208\n",
            "Total Pit Predictions: 11995\n",
            "[1000] Loss: 6.06\n",
            "Overall Accuracy: 64.96%\n",
            "Total No Pit Accuracy: 96.34438955539873\n",
            "Total Pit Accuracy: 11.126351460384058\n",
            "Total Pit Predictions: 12394\n",
            "[1500] Loss: 18.13\n",
            "Overall Accuracy: 63.37%\n",
            "Total No Pit Accuracy: 96.23474040300044\n",
            "Total Pit Accuracy: 12.775430123754905\n",
            "Total Pit Predictions: 13252\n",
            "[2000] Loss: 17.78\n",
            "Overall Accuracy: 63.23%\n",
            "Total No Pit Accuracy: 96.26195877305454\n",
            "Total Pit Accuracy: 13.140378430932614\n",
            "Total Pit Predictions: 13371\n",
            "[2500] Loss: 8.17\n",
            "Overall Accuracy: 62.63%\n",
            "Total No Pit Accuracy: 96.2445065920895\n",
            "Total Pit Accuracy: 13.240366972477064\n",
            "Total Pit Predictions: 13625\n",
            "[3000] Loss: 13.20\n",
            "Overall Accuracy: 60.69%\n",
            "Total No Pit Accuracy: 96.13293989749961\n",
            "Total Pit Accuracy: 12.922132291375943\n",
            "Total Pit Predictions: 14332\n",
            "[3500] Loss: 8.08\n",
            "Overall Accuracy: 60.54%\n",
            "Total No Pit Accuracy: 96.13027217951382\n",
            "Total Pit Accuracy: 12.954087657150795\n",
            "Total Pit Predictions: 14397\n",
            "[4000] Loss: 10.80\n",
            "Overall Accuracy: 60.08%\n",
            "Total No Pit Accuracy: 96.11227701993704\n",
            "Total Pit Accuracy: 12.996092946740696\n",
            "Total Pit Predictions: 14589\n",
            "[4500] Loss: 14.63\n",
            "Overall Accuracy: 59.98%\n",
            "Total No Pit Accuracy: 96.10205155181484\n",
            "Total Pit Accuracy: 13.074663569915979\n",
            "Total Pit Predictions: 14639\n",
            "[5000] Loss: 8.46\n",
            "Overall Accuracy: 57.90%\n",
            "Total No Pit Accuracy: 95.98268113559136\n",
            "Total Pit Accuracy: 12.796208530805686\n",
            "Total Pit Predictions: 15403\n",
            "[5500] Loss: 7.35\n",
            "Overall Accuracy: 57.89%\n",
            "Total No Pit Accuracy: 95.98091896041232\n",
            "Total Pit Accuracy: 12.809032509246643\n",
            "Total Pit Predictions: 15411\n",
            "[6000] Loss: 12.07\n",
            "Overall Accuracy: 57.37%\n",
            "Total No Pit Accuracy: 95.98489476314766\n",
            "Total Pit Accuracy: 12.92673571154584\n",
            "Total Pit Predictions: 15642\n",
            "[6500] Loss: 7.81\n",
            "Overall Accuracy: 57.40%\n",
            "Total No Pit Accuracy: 95.99555678978061\n",
            "Total Pit Accuracy: 12.969828688315008\n",
            "Total Pit Predictions: 15644\n",
            "[7000] Loss: 16.58\n",
            "Overall Accuracy: 56.38%\n",
            "Total No Pit Accuracy: 95.97136200920507\n",
            "Total Pit Accuracy: 12.9595015576324\n",
            "Total Pit Predictions: 16050\n",
            "[7500] Loss: 1.47\n",
            "Overall Accuracy: 56.38%\n",
            "Total No Pit Accuracy: 95.97090413138604\n",
            "Total Pit Accuracy: 12.970346374283578\n",
            "Total Pit Predictions: 16052\n",
            "[8000] Loss: 8.87\n",
            "Overall Accuracy: 54.87%\n",
            "Total No Pit Accuracy: 95.87810463272855\n",
            "Total Pit Accuracy: 12.841497171741484\n",
            "Total Pit Predictions: 16618\n",
            "[8500] Loss: 8.44\n",
            "Overall Accuracy: 54.83%\n",
            "Total No Pit Accuracy: 95.88010578900969\n",
            "Total Pit Accuracy: 12.847180473728509\n",
            "Total Pit Predictions: 16634\n",
            "[9000] Loss: 12.52\n",
            "Overall Accuracy: 54.78%\n",
            "Total No Pit Accuracy: 95.88290729178938\n",
            "Total Pit Accuracy: 12.914642193029813\n",
            "Total Pit Predictions: 16671\n",
            "[9500] Loss: 16.25\n",
            "Overall Accuracy: 54.77%\n",
            "Total No Pit Accuracy: 95.8814518029696\n",
            "Total Pit Accuracy: 12.927984649517299\n",
            "Total Pit Predictions: 16677\n",
            "[10000] Loss: 6.98\n",
            "Overall Accuracy: 54.77%\n",
            "Total No Pit Accuracy: 95.88120912144245\n",
            "Total Pit Accuracy: 12.933205420314186\n",
            "Total Pit Predictions: 16678\n"
          ]
        },
        {
          "output_type": "display_data",
          "data": {
            "text/plain": [
              "<IPython.core.display.HTML object>"
            ],
            "text/html": []
          },
          "metadata": {}
        },
        {
          "output_type": "display_data",
          "data": {
            "text/plain": [
              "<IPython.core.display.HTML object>"
            ],
            "text/html": [
              "<br>    <style><br>        .wandb-row {<br>            display: flex;<br>            flex-direction: row;<br>            flex-wrap: wrap;<br>            justify-content: flex-start;<br>            width: 100%;<br>        }<br>        .wandb-col {<br>            display: flex;<br>            flex-direction: column;<br>            flex-basis: 100%;<br>            flex: 1;<br>            padding: 10px;<br>        }<br>    </style><br><div class=\"wandb-row\"><div class=\"wandb-col\"><h3>Run history:</h3><br/><table class=\"wandb\"><tr><td>loss</td><td>▆▅▅▂▄▃▂▃▅▂▄▁▃▅█▄▄▃▄▂▄▆▄▅▅▁▄▂▃▄▅▂▅▄▆▃▅▃▄▁</td></tr><tr><td>overall_accuracy</td><td>█▆▆▅▅▅▄▄▃▃▂▂▂▂▂▂▁▁▁▁▁</td></tr><tr><td>total no pit accurary (exact match)</td><td>█▆▅▄▅▄▃▃▃▃▂▂▂▂▂▂▁▁▁▁▁</td></tr><tr><td>total pit accurary (3 laps either side)</td><td>▁▄▆██████████████████</td></tr><tr><td>total pit predictions</td><td>▁▃▄▅▅▅▆▆▆▆▇▇▇▇▇▇█████</td></tr></table><br/></div><div class=\"wandb-col\"><h3>Run summary:</h3><br/><table class=\"wandb\"><tr><td>loss</td><td>6.98107</td></tr><tr><td>overall_accuracy</td><td>54.76834</td></tr><tr><td>total no pit accurary (exact match)</td><td>95.88121</td></tr><tr><td>total pit accurary (3 laps either side)</td><td>12.93321</td></tr><tr><td>total pit predictions</td><td>16678</td></tr></table><br/></div></div>"
            ]
          },
          "metadata": {}
        },
        {
          "output_type": "display_data",
          "data": {
            "text/plain": [
              "<IPython.core.display.HTML object>"
            ],
            "text/html": [
              " View run <strong style=\"color:#cdcd00\">jolly-sweep-2</strong> at: <a href='https://wandb.ai/vm800-university-of-york/binary_classifier_emd/runs/13ixsmpe' target=\"_blank\">https://wandb.ai/vm800-university-of-york/binary_classifier_emd/runs/13ixsmpe</a><br> View project at: <a href='https://wandb.ai/vm800-university-of-york/binary_classifier_emd' target=\"_blank\">https://wandb.ai/vm800-university-of-york/binary_classifier_emd</a><br>Synced 5 W&B file(s), 0 media file(s), 0 artifact file(s) and 1 other file(s)"
            ]
          },
          "metadata": {}
        },
        {
          "output_type": "display_data",
          "data": {
            "text/plain": [
              "<IPython.core.display.HTML object>"
            ],
            "text/html": [
              "Find logs at: <code>./wandb/run-20241229_190115-13ixsmpe/logs</code>"
            ]
          },
          "metadata": {}
        },
        {
          "output_type": "stream",
          "name": "stderr",
          "text": [
            "\u001b[34m\u001b[1mwandb\u001b[0m: Agent Starting Run: odu62fci with config:\n",
            "\u001b[34m\u001b[1mwandb\u001b[0m: \tdropout: 0.1442127602720279\n",
            "\u001b[34m\u001b[1mwandb\u001b[0m: \thidden_size: 45\n",
            "\u001b[34m\u001b[1mwandb\u001b[0m: \tlearning_rate: 0.005094957466827545\n",
            "\u001b[34m\u001b[1mwandb\u001b[0m: \toptimizer: sgd\n",
            "\u001b[34m\u001b[1mwandb\u001b[0m: \u001b[33mWARNING\u001b[0m Ignoring project 'binary_classifier_emd' when running a sweep.\n"
          ]
        },
        {
          "output_type": "display_data",
          "data": {
            "text/plain": [
              "<IPython.core.display.HTML object>"
            ],
            "text/html": [
              "Tracking run with wandb version 0.19.1"
            ]
          },
          "metadata": {}
        },
        {
          "output_type": "display_data",
          "data": {
            "text/plain": [
              "<IPython.core.display.HTML object>"
            ],
            "text/html": [
              "Run data is saved locally in <code>/content/wandb/run-20241229_190819-odu62fci</code>"
            ]
          },
          "metadata": {}
        },
        {
          "output_type": "display_data",
          "data": {
            "text/plain": [
              "<IPython.core.display.HTML object>"
            ],
            "text/html": [
              "Syncing run <strong><a href='https://wandb.ai/vm800-university-of-york/binary_classifier_emd/runs/odu62fci' target=\"_blank\">volcanic-sweep-3</a></strong> to <a href='https://wandb.ai/vm800-university-of-york/binary_classifier_emd' target=\"_blank\">Weights & Biases</a> (<a href='https://wandb.me/developer-guide' target=\"_blank\">docs</a>)<br>Sweep page: <a href='https://wandb.ai/vm800-university-of-york/binary_classifier_emd/sweeps/i1dywmsy' target=\"_blank\">https://wandb.ai/vm800-university-of-york/binary_classifier_emd/sweeps/i1dywmsy</a>"
            ]
          },
          "metadata": {}
        },
        {
          "output_type": "display_data",
          "data": {
            "text/plain": [
              "<IPython.core.display.HTML object>"
            ],
            "text/html": [
              " View project at <a href='https://wandb.ai/vm800-university-of-york/binary_classifier_emd' target=\"_blank\">https://wandb.ai/vm800-university-of-york/binary_classifier_emd</a>"
            ]
          },
          "metadata": {}
        },
        {
          "output_type": "display_data",
          "data": {
            "text/plain": [
              "<IPython.core.display.HTML object>"
            ],
            "text/html": [
              " View sweep at <a href='https://wandb.ai/vm800-university-of-york/binary_classifier_emd/sweeps/i1dywmsy' target=\"_blank\">https://wandb.ai/vm800-university-of-york/binary_classifier_emd/sweeps/i1dywmsy</a>"
            ]
          },
          "metadata": {}
        },
        {
          "output_type": "display_data",
          "data": {
            "text/plain": [
              "<IPython.core.display.HTML object>"
            ],
            "text/html": [
              " View run at <a href='https://wandb.ai/vm800-university-of-york/binary_classifier_emd/runs/odu62fci' target=\"_blank\">https://wandb.ai/vm800-university-of-york/binary_classifier_emd/runs/odu62fci</a>"
            ]
          },
          "metadata": {}
        },
        {
          "output_type": "stream",
          "name": "stdout",
          "text": [
            "[0] Loss: 6.10\n",
            "Overall Accuracy: 97.30%\n",
            "Total No Pit Accuracy: 97.29561056792177\n",
            "Total Pit Accuracy: 0.0\n",
            "Total Pit Predictions: 0\n",
            "[500] Loss: 14.29\n",
            "Overall Accuracy: 97.30%\n",
            "Total No Pit Accuracy: 97.29561056792177\n",
            "Total Pit Accuracy: 0.0\n",
            "Total Pit Predictions: 0\n",
            "[1000] Loss: 7.59\n",
            "Overall Accuracy: 97.30%\n",
            "Total No Pit Accuracy: 97.29544981721996\n",
            "Total Pit Accuracy: 100.0\n",
            "Total Pit Predictions: 2\n",
            "[1500] Loss: 9.87\n",
            "Overall Accuracy: 97.29%\n",
            "Total No Pit Accuracy: 97.30430893096764\n",
            "Total Pit Accuracy: 93.85964912280701\n",
            "Total Pit Predictions: 114\n",
            "[2000] Loss: 10.39\n",
            "Overall Accuracy: 96.16%\n",
            "Total No Pit Accuracy: 97.27165246915452\n",
            "Total Pit Accuracy: 40.93655589123867\n",
            "Total Pit Predictions: 662\n",
            "[2500] Loss: 13.82\n",
            "Overall Accuracy: 96.17%\n",
            "Total No Pit Accuracy: 97.27736295756692\n",
            "Total Pit Accuracy: 44.38122332859175\n",
            "Total Pit Predictions: 703\n",
            "[3000] Loss: 12.82\n",
            "Overall Accuracy: 96.18%\n",
            "Total No Pit Accuracy: 97.26573276522699\n",
            "Total Pit Accuracy: 61.79337231968811\n",
            "Total Pit Predictions: 1026\n",
            "[3500] Loss: 7.25\n",
            "Overall Accuracy: 96.18%\n",
            "Total No Pit Accuracy: 97.26506208799633\n",
            "Total Pit Accuracy: 62.0889748549323\n",
            "Total Pit Predictions: 1034\n",
            "[4000] Loss: 17.63\n",
            "Overall Accuracy: 96.18%\n",
            "Total No Pit Accuracy: 97.26506208799633\n",
            "Total Pit Accuracy: 62.0889748549323\n",
            "Total Pit Predictions: 1034\n",
            "[4500] Loss: 13.44\n",
            "Overall Accuracy: 96.18%\n",
            "Total No Pit Accuracy: 97.26489436727685\n",
            "Total Pit Accuracy: 62.16216216216216\n",
            "Total Pit Predictions: 1036\n",
            "[5000] Loss: 7.14\n",
            "Overall Accuracy: 96.18%\n",
            "Total No Pit Accuracy: 97.26464274762343\n",
            "Total Pit Accuracy: 62.271414821944184\n",
            "Total Pit Predictions: 1039\n",
            "[5500] Loss: 14.39\n",
            "Overall Accuracy: 96.08%\n",
            "Total No Pit Accuracy: 97.31492018577185\n",
            "Total Pit Accuracy: 60.651408450704224\n",
            "Total Pit Predictions: 1136\n",
            "[6000] Loss: 8.17\n",
            "Overall Accuracy: 96.08%\n",
            "Total No Pit Accuracy: 97.31244035341562\n",
            "Total Pit Accuracy: 61.66380789022299\n",
            "Total Pit Predictions: 1166\n",
            "[6500] Loss: 18.24\n",
            "Overall Accuracy: 96.07%\n",
            "Total No Pit Accuracy: 97.312109362973\n",
            "Total Pit Accuracy: 61.452991452991455\n",
            "Total Pit Predictions: 1170\n",
            "[7000] Loss: 7.97\n",
            "Overall Accuracy: 96.07%\n",
            "Total No Pit Accuracy: 97.312109362973\n",
            "Total Pit Accuracy: 61.452991452991455\n",
            "Total Pit Predictions: 1170\n",
            "[7500] Loss: 6.80\n",
            "Overall Accuracy: 96.07%\n",
            "Total No Pit Accuracy: 97.3111159023008\n",
            "Total Pit Accuracy: 61.844331641285955\n",
            "Total Pit Predictions: 1182\n",
            "[8000] Loss: 14.30\n",
            "Overall Accuracy: 96.07%\n",
            "Total No Pit Accuracy: 97.31394775751602\n",
            "Total Pit Accuracy: 61.94092827004219\n",
            "Total Pit Predictions: 1185\n",
            "[8500] Loss: 5.56\n",
            "Overall Accuracy: 96.07%\n",
            "Total No Pit Accuracy: 97.31394775751602\n",
            "Total Pit Accuracy: 61.94092827004219\n",
            "Total Pit Predictions: 1185\n",
            "[9000] Loss: 5.34\n",
            "Overall Accuracy: 96.07%\n",
            "Total No Pit Accuracy: 97.31378226849856\n",
            "Total Pit Accuracy: 62.005054759898904\n",
            "Total Pit Predictions: 1187\n",
            "[9500] Loss: 5.58\n",
            "Overall Accuracy: 96.07%\n",
            "Total No Pit Accuracy: 97.31336845672736\n",
            "Total Pit Accuracy: 62.16442953020134\n",
            "Total Pit Predictions: 1192\n",
            "[10000] Loss: 5.61\n",
            "Overall Accuracy: 96.07%\n",
            "Total No Pit Accuracy: 97.31336845672736\n",
            "Total Pit Accuracy: 62.16442953020134\n",
            "Total Pit Predictions: 1192\n"
          ]
        },
        {
          "output_type": "display_data",
          "data": {
            "text/plain": [
              "<IPython.core.display.HTML object>"
            ],
            "text/html": []
          },
          "metadata": {}
        },
        {
          "output_type": "display_data",
          "data": {
            "text/plain": [
              "<IPython.core.display.HTML object>"
            ],
            "text/html": [
              "<br>    <style><br>        .wandb-row {<br>            display: flex;<br>            flex-direction: row;<br>            flex-wrap: wrap;<br>            justify-content: flex-start;<br>            width: 100%;<br>        }<br>        .wandb-col {<br>            display: flex;<br>            flex-direction: column;<br>            flex-basis: 100%;<br>            flex: 1;<br>            padding: 10px;<br>        }<br>    </style><br><div class=\"wandb-row\"><div class=\"wandb-col\"><h3>Run history:</h3><br/><table class=\"wandb\"><tr><td>loss</td><td>▆▆▅█▄▇▃▄▁▇▃▇▆▄▁▆▄▆▄▅█▆▆▇▃▃▃▃▆▃▃▃▆▆▃▃█▆▄█</td></tr><tr><td>overall_accuracy</td><td>████▂▂▂▂▂▂▂▁▁▁▁▁▁▁▁▁▁</td></tr><tr><td>total no pit accurary (exact match)</td><td>▅▅▅▇▂▃▁▁▁▁▁████▇█████</td></tr><tr><td>total pit accurary (3 laps either side)</td><td>▁▁██▄▄▅▅▅▅▅▅▅▅▅▅▅▅▅▅▅</td></tr><tr><td>total pit predictions</td><td>▁▁▁▂▅▅▇▇▇▇▇██████████</td></tr></table><br/></div><div class=\"wandb-col\"><h3>Run summary:</h3><br/><table class=\"wandb\"><tr><td>loss</td><td>5.61044</td></tr><tr><td>overall_accuracy</td><td>96.06823</td></tr><tr><td>total no pit accurary (exact match)</td><td>97.31337</td></tr><tr><td>total pit accurary (3 laps either side)</td><td>62.16443</td></tr><tr><td>total pit predictions</td><td>1192</td></tr></table><br/></div></div>"
            ]
          },
          "metadata": {}
        },
        {
          "output_type": "display_data",
          "data": {
            "text/plain": [
              "<IPython.core.display.HTML object>"
            ],
            "text/html": [
              " View run <strong style=\"color:#cdcd00\">volcanic-sweep-3</strong> at: <a href='https://wandb.ai/vm800-university-of-york/binary_classifier_emd/runs/odu62fci' target=\"_blank\">https://wandb.ai/vm800-university-of-york/binary_classifier_emd/runs/odu62fci</a><br> View project at: <a href='https://wandb.ai/vm800-university-of-york/binary_classifier_emd' target=\"_blank\">https://wandb.ai/vm800-university-of-york/binary_classifier_emd</a><br>Synced 5 W&B file(s), 0 media file(s), 0 artifact file(s) and 1 other file(s)"
            ]
          },
          "metadata": {}
        },
        {
          "output_type": "display_data",
          "data": {
            "text/plain": [
              "<IPython.core.display.HTML object>"
            ],
            "text/html": [
              "Find logs at: <code>./wandb/run-20241229_190819-odu62fci/logs</code>"
            ]
          },
          "metadata": {}
        },
        {
          "output_type": "stream",
          "name": "stderr",
          "text": [
            "\u001b[34m\u001b[1mwandb\u001b[0m: Sweep Agent: Waiting for job.\n",
            "\u001b[34m\u001b[1mwandb\u001b[0m: Job received.\n",
            "\u001b[34m\u001b[1mwandb\u001b[0m: Agent Starting Run: rbeliugb with config:\n",
            "\u001b[34m\u001b[1mwandb\u001b[0m: \tdropout: 0.11242738921573006\n",
            "\u001b[34m\u001b[1mwandb\u001b[0m: \thidden_size: 36\n",
            "\u001b[34m\u001b[1mwandb\u001b[0m: \tlearning_rate: 0.0006389616981781349\n",
            "\u001b[34m\u001b[1mwandb\u001b[0m: \toptimizer: rmsprop\n",
            "\u001b[34m\u001b[1mwandb\u001b[0m: \u001b[33mWARNING\u001b[0m Ignoring project 'binary_classifier_emd' when running a sweep.\n"
          ]
        },
        {
          "output_type": "display_data",
          "data": {
            "text/plain": [
              "<IPython.core.display.HTML object>"
            ],
            "text/html": [
              "Tracking run with wandb version 0.19.1"
            ]
          },
          "metadata": {}
        },
        {
          "output_type": "display_data",
          "data": {
            "text/plain": [
              "<IPython.core.display.HTML object>"
            ],
            "text/html": [
              "Run data is saved locally in <code>/content/wandb/run-20241229_191604-rbeliugb</code>"
            ]
          },
          "metadata": {}
        },
        {
          "output_type": "display_data",
          "data": {
            "text/plain": [
              "<IPython.core.display.HTML object>"
            ],
            "text/html": [
              "Syncing run <strong><a href='https://wandb.ai/vm800-university-of-york/binary_classifier_emd/runs/rbeliugb' target=\"_blank\">happy-sweep-4</a></strong> to <a href='https://wandb.ai/vm800-university-of-york/binary_classifier_emd' target=\"_blank\">Weights & Biases</a> (<a href='https://wandb.me/developer-guide' target=\"_blank\">docs</a>)<br>Sweep page: <a href='https://wandb.ai/vm800-university-of-york/binary_classifier_emd/sweeps/i1dywmsy' target=\"_blank\">https://wandb.ai/vm800-university-of-york/binary_classifier_emd/sweeps/i1dywmsy</a>"
            ]
          },
          "metadata": {}
        },
        {
          "output_type": "display_data",
          "data": {
            "text/plain": [
              "<IPython.core.display.HTML object>"
            ],
            "text/html": [
              " View project at <a href='https://wandb.ai/vm800-university-of-york/binary_classifier_emd' target=\"_blank\">https://wandb.ai/vm800-university-of-york/binary_classifier_emd</a>"
            ]
          },
          "metadata": {}
        },
        {
          "output_type": "display_data",
          "data": {
            "text/plain": [
              "<IPython.core.display.HTML object>"
            ],
            "text/html": [
              " View sweep at <a href='https://wandb.ai/vm800-university-of-york/binary_classifier_emd/sweeps/i1dywmsy' target=\"_blank\">https://wandb.ai/vm800-university-of-york/binary_classifier_emd/sweeps/i1dywmsy</a>"
            ]
          },
          "metadata": {}
        },
        {
          "output_type": "display_data",
          "data": {
            "text/plain": [
              "<IPython.core.display.HTML object>"
            ],
            "text/html": [
              " View run at <a href='https://wandb.ai/vm800-university-of-york/binary_classifier_emd/runs/rbeliugb' target=\"_blank\">https://wandb.ai/vm800-university-of-york/binary_classifier_emd/runs/rbeliugb</a>"
            ]
          },
          "metadata": {}
        },
        {
          "output_type": "stream",
          "name": "stdout",
          "text": [
            "[0] Loss: 11.27\n",
            "Overall Accuracy: 93.74%\n",
            "Total No Pit Accuracy: 97.1876469666092\n",
            "Total Pit Accuracy: 31.014823261117446\n",
            "Total Pit Predictions: 1754\n",
            "[500] Loss: 11.05\n",
            "Overall Accuracy: 71.38%\n",
            "Total No Pit Accuracy: 96.35665132773251\n",
            "Total Pit Accuracy: 11.975506926320016\n",
            "Total Pit Predictions: 9962\n",
            "[1000] Loss: 18.01\n",
            "Overall Accuracy: 70.40%\n",
            "Total No Pit Accuracy: 96.30746693093197\n",
            "Total Pit Accuracy: 12.796934865900383\n",
            "Total Pit Predictions: 10440\n",
            "[1500] Loss: 9.36\n",
            "Overall Accuracy: 70.39%\n",
            "Total No Pit Accuracy: 96.30940562006302\n",
            "Total Pit Accuracy: 13.089105132608282\n",
            "Total Pit Predictions: 10482\n",
            "[2000] Loss: 9.26\n",
            "Overall Accuracy: 70.36%\n",
            "Total No Pit Accuracy: 96.3094209161625\n",
            "Total Pit Accuracy: 13.226758016937861\n",
            "Total Pit Predictions: 10509\n",
            "[2500] Loss: 7.22\n",
            "Overall Accuracy: 70.31%\n",
            "Total No Pit Accuracy: 96.32419794778542\n",
            "Total Pit Accuracy: 13.371872630780896\n",
            "Total Pit Predictions: 10552\n",
            "[3000] Loss: 8.93\n",
            "Overall Accuracy: 70.31%\n",
            "Total No Pit Accuracy: 96.32231763379305\n",
            "Total Pit Accuracy: 13.681427627230667\n",
            "Total Pit Predictions: 10591\n",
            "[3500] Loss: 11.92\n",
            "Overall Accuracy: 70.26%\n",
            "Total No Pit Accuracy: 96.31624674196351\n",
            "Total Pit Accuracy: 13.839495719258633\n",
            "Total Pit Predictions: 10629\n",
            "[4000] Loss: 6.03\n",
            "Overall Accuracy: 69.81%\n",
            "Total No Pit Accuracy: 96.40271989471375\n",
            "Total Pit Accuracy: 13.948774645292058\n",
            "Total Pit Predictions: 10854\n",
            "[4500] Loss: 13.59\n",
            "Overall Accuracy: 70.71%\n",
            "Total No Pit Accuracy: 96.45780106525788\n",
            "Total Pit Accuracy: 14.370973853732474\n",
            "Total Pit Predictions: 10556\n",
            "[5000] Loss: 13.77\n",
            "Overall Accuracy: 70.25%\n",
            "Total No Pit Accuracy: 96.45693341478314\n",
            "Total Pit Accuracy: 14.285714285714285\n",
            "Total Pit Predictions: 10731\n",
            "[5500] Loss: 16.22\n",
            "Overall Accuracy: 69.93%\n",
            "Total No Pit Accuracy: 96.44612144612145\n",
            "Total Pit Accuracy: 14.276503638205766\n",
            "Total Pit Predictions: 10857\n",
            "[6000] Loss: 20.10\n",
            "Overall Accuracy: 69.91%\n",
            "Total No Pit Accuracy: 96.44346871569704\n",
            "Total Pit Accuracy: 14.336950524186133\n",
            "Total Pit Predictions: 10874\n",
            "[6500] Loss: 18.41\n",
            "Overall Accuracy: 69.93%\n",
            "Total No Pit Accuracy: 96.44502962475313\n",
            "Total Pit Accuracy: 14.313328424153166\n",
            "Total Pit Predictions: 10864\n",
            "[7000] Loss: 11.69\n",
            "Overall Accuracy: 69.91%\n",
            "Total No Pit Accuracy: 96.44707949055775\n",
            "Total Pit Accuracy: 14.36712933174005\n",
            "Total Pit Predictions: 10879\n",
            "[7500] Loss: 7.48\n",
            "Overall Accuracy: 69.94%\n",
            "Total No Pit Accuracy: 96.45679662802951\n",
            "Total Pit Accuracy: 14.384254575554126\n",
            "Total Pit Predictions: 10873\n",
            "[8000] Loss: 9.30\n",
            "Overall Accuracy: 88.35%\n",
            "Total No Pit Accuracy: 97.22107152720243\n",
            "Total Pit Accuracy: 33.47575304422132\n",
            "Total Pit Predictions: 4681\n",
            "[8500] Loss: 8.42\n",
            "Overall Accuracy: 90.26%\n",
            "Total No Pit Accuracy: 97.28104840071605\n",
            "Total Pit Accuracy: 38.79267689262741\n",
            "Total Pit Predictions: 4042\n",
            "[9000] Loss: 5.64\n",
            "Overall Accuracy: 90.37%\n",
            "Total No Pit Accuracy: 97.28680862551884\n",
            "Total Pit Accuracy: 39.29282868525896\n",
            "Total Pit Predictions: 4016\n",
            "[9500] Loss: 10.96\n",
            "Overall Accuracy: 91.28%\n",
            "Total No Pit Accuracy: 97.31155862805998\n",
            "Total Pit Accuracy: 42.57960064759849\n",
            "Total Pit Predictions: 3706\n",
            "[10000] Loss: 14.71\n",
            "Overall Accuracy: 90.23%\n",
            "Total No Pit Accuracy: 97.28532792427316\n",
            "Total Pit Accuracy: 38.92848365691816\n",
            "Total Pit Predictions: 4069\n"
          ]
        },
        {
          "output_type": "display_data",
          "data": {
            "text/plain": [
              "<IPython.core.display.HTML object>"
            ],
            "text/html": []
          },
          "metadata": {}
        },
        {
          "output_type": "display_data",
          "data": {
            "text/plain": [
              "<IPython.core.display.HTML object>"
            ],
            "text/html": [
              "<br>    <style><br>        .wandb-row {<br>            display: flex;<br>            flex-direction: row;<br>            flex-wrap: wrap;<br>            justify-content: flex-start;<br>            width: 100%;<br>        }<br>        .wandb-col {<br>            display: flex;<br>            flex-direction: column;<br>            flex-basis: 100%;<br>            flex: 1;<br>            padding: 10px;<br>        }<br>    </style><br><div class=\"wandb-row\"><div class=\"wandb-col\"><h3>Run history:</h3><br/><table class=\"wandb\"><tr><td>loss</td><td>▇▇▄▁█▆▄▃▇▃▄▄▄▃▅▃▆▄▆▄█▇▄▃▄▄▅▅▅▄▆▁▄▇▆▅▃▂▄▆</td></tr><tr><td>overall_accuracy</td><td>█▁▁▁▁▁▁▁▁▁▁▁▁▁▁▁▆▇▇▇▇</td></tr><tr><td>total no pit accurary (exact match)</td><td>▇▁▁▁▁▁▁▁▂▂▂▂▂▂▂▂▇████</td></tr><tr><td>total pit accurary (3 laps either side)</td><td>▅▁▁▁▁▁▁▁▁▂▂▂▂▂▂▂▆▇▇█▇</td></tr><tr><td>total pit predictions</td><td>▁▇██████████████▃▃▃▂▃</td></tr></table><br/></div><div class=\"wandb-col\"><h3>Run summary:</h3><br/><table class=\"wandb\"><tr><td>loss</td><td>14.7065</td></tr><tr><td>overall_accuracy</td><td>90.22854</td></tr><tr><td>total no pit accurary (exact match)</td><td>97.28533</td></tr><tr><td>total pit accurary (3 laps either side)</td><td>38.92848</td></tr><tr><td>total pit predictions</td><td>4069</td></tr></table><br/></div></div>"
            ]
          },
          "metadata": {}
        },
        {
          "output_type": "display_data",
          "data": {
            "text/plain": [
              "<IPython.core.display.HTML object>"
            ],
            "text/html": [
              " View run <strong style=\"color:#cdcd00\">happy-sweep-4</strong> at: <a href='https://wandb.ai/vm800-university-of-york/binary_classifier_emd/runs/rbeliugb' target=\"_blank\">https://wandb.ai/vm800-university-of-york/binary_classifier_emd/runs/rbeliugb</a><br> View project at: <a href='https://wandb.ai/vm800-university-of-york/binary_classifier_emd' target=\"_blank\">https://wandb.ai/vm800-university-of-york/binary_classifier_emd</a><br>Synced 5 W&B file(s), 0 media file(s), 0 artifact file(s) and 1 other file(s)"
            ]
          },
          "metadata": {}
        },
        {
          "output_type": "display_data",
          "data": {
            "text/plain": [
              "<IPython.core.display.HTML object>"
            ],
            "text/html": [
              "Find logs at: <code>./wandb/run-20241229_191604-rbeliugb/logs</code>"
            ]
          },
          "metadata": {}
        },
        {
          "output_type": "stream",
          "name": "stderr",
          "text": [
            "\u001b[34m\u001b[1mwandb\u001b[0m: Agent Starting Run: 061aibie with config:\n",
            "\u001b[34m\u001b[1mwandb\u001b[0m: \tdropout: 0.15204289918224562\n",
            "\u001b[34m\u001b[1mwandb\u001b[0m: \thidden_size: 24\n",
            "\u001b[34m\u001b[1mwandb\u001b[0m: \tlearning_rate: 0.007866804248407954\n",
            "\u001b[34m\u001b[1mwandb\u001b[0m: \toptimizer: rmsprop\n",
            "\u001b[34m\u001b[1mwandb\u001b[0m: \u001b[33mWARNING\u001b[0m Ignoring project 'binary_classifier_emd' when running a sweep.\n"
          ]
        },
        {
          "output_type": "display_data",
          "data": {
            "text/plain": [
              "<IPython.core.display.HTML object>"
            ],
            "text/html": [
              "Tracking run with wandb version 0.19.1"
            ]
          },
          "metadata": {}
        },
        {
          "output_type": "display_data",
          "data": {
            "text/plain": [
              "<IPython.core.display.HTML object>"
            ],
            "text/html": [
              "Run data is saved locally in <code>/content/wandb/run-20241229_192319-061aibie</code>"
            ]
          },
          "metadata": {}
        },
        {
          "output_type": "display_data",
          "data": {
            "text/plain": [
              "<IPython.core.display.HTML object>"
            ],
            "text/html": [
              "Syncing run <strong><a href='https://wandb.ai/vm800-university-of-york/binary_classifier_emd/runs/061aibie' target=\"_blank\">fragrant-sweep-5</a></strong> to <a href='https://wandb.ai/vm800-university-of-york/binary_classifier_emd' target=\"_blank\">Weights & Biases</a> (<a href='https://wandb.me/developer-guide' target=\"_blank\">docs</a>)<br>Sweep page: <a href='https://wandb.ai/vm800-university-of-york/binary_classifier_emd/sweeps/i1dywmsy' target=\"_blank\">https://wandb.ai/vm800-university-of-york/binary_classifier_emd/sweeps/i1dywmsy</a>"
            ]
          },
          "metadata": {}
        },
        {
          "output_type": "display_data",
          "data": {
            "text/plain": [
              "<IPython.core.display.HTML object>"
            ],
            "text/html": [
              " View project at <a href='https://wandb.ai/vm800-university-of-york/binary_classifier_emd' target=\"_blank\">https://wandb.ai/vm800-university-of-york/binary_classifier_emd</a>"
            ]
          },
          "metadata": {}
        },
        {
          "output_type": "display_data",
          "data": {
            "text/plain": [
              "<IPython.core.display.HTML object>"
            ],
            "text/html": [
              " View sweep at <a href='https://wandb.ai/vm800-university-of-york/binary_classifier_emd/sweeps/i1dywmsy' target=\"_blank\">https://wandb.ai/vm800-university-of-york/binary_classifier_emd/sweeps/i1dywmsy</a>"
            ]
          },
          "metadata": {}
        },
        {
          "output_type": "display_data",
          "data": {
            "text/plain": [
              "<IPython.core.display.HTML object>"
            ],
            "text/html": [
              " View run at <a href='https://wandb.ai/vm800-university-of-york/binary_classifier_emd/runs/061aibie' target=\"_blank\">https://wandb.ai/vm800-university-of-york/binary_classifier_emd/runs/061aibie</a>"
            ]
          },
          "metadata": {}
        },
        {
          "output_type": "stream",
          "name": "stdout",
          "text": [
            "[0] Loss: 15.01\n",
            "Overall Accuracy: 14.51%\n",
            "Total No Pit Accuracy: 100.0\n",
            "Total Pit Accuracy: 14.495898228510285\n",
            "Total Pit Predictions: 33644\n",
            "[500] Loss: 15.37\n",
            "Overall Accuracy: 14.49%\n",
            "Total No Pit Accuracy: 0.0\n",
            "Total Pit Accuracy: 14.493744242027995\n",
            "Total Pit Predictions: 33649\n",
            "[1000] Loss: 18.19\n",
            "Overall Accuracy: 14.49%\n",
            "Total No Pit Accuracy: 0.0\n",
            "Total Pit Accuracy: 14.493744242027995\n",
            "Total Pit Predictions: 33649\n",
            "[1500] Loss: 8.03\n",
            "Overall Accuracy: 51.77%\n",
            "Total No Pit Accuracy: 95.55485498108449\n",
            "Total Pit Accuracy: 12.726966102647705\n",
            "Total Pit Predictions: 17789\n",
            "[2000] Loss: 10.39\n",
            "Overall Accuracy: 55.68%\n",
            "Total No Pit Accuracy: 95.71165785237986\n",
            "Total Pit Accuracy: 12.834553620869993\n",
            "Total Pit Predictions: 16253\n",
            "[2500] Loss: 14.20\n",
            "Overall Accuracy: 57.84%\n",
            "Total No Pit Accuracy: 95.79027937236893\n",
            "Total Pit Accuracy: 12.65138689933585\n",
            "Total Pit Predictions: 15358\n",
            "[3000] Loss: 5.60\n",
            "Overall Accuracy: 61.24%\n",
            "Total No Pit Accuracy: 95.8863659505142\n",
            "Total Pit Accuracy: 12.650817448418646\n",
            "Total Pit Predictions: 14007\n",
            "[3500] Loss: 17.84\n",
            "Overall Accuracy: 63.07%\n",
            "Total No Pit Accuracy: 95.94251075479076\n",
            "Total Pit Accuracy: 12.089744561509892\n",
            "Total Pit Predictions: 13193\n",
            "[4000] Loss: 10.08\n",
            "Overall Accuracy: 64.81%\n",
            "Total No Pit Accuracy: 96.05344198607098\n",
            "Total Pit Accuracy: 12.23887737202998\n",
            "Total Pit Predictions: 12542\n",
            "[4500] Loss: 4.23\n",
            "Overall Accuracy: 65.37%\n",
            "Total No Pit Accuracy: 96.08854704061532\n",
            "Total Pit Accuracy: 12.241421270382089\n",
            "Total Pit Predictions: 12327\n",
            "[5000] Loss: 17.59\n",
            "Overall Accuracy: 65.37%\n",
            "Total No Pit Accuracy: 96.08836358519768\n",
            "Total Pit Accuracy: 12.256651524983777\n",
            "Total Pit Predictions: 12328\n",
            "[5500] Loss: 8.59\n",
            "Overall Accuracy: 65.37%\n",
            "Total No Pit Accuracy: 96.08524220803605\n",
            "Total Pit Accuracy: 12.369380315917375\n",
            "Total Pit Predictions: 12345\n",
            "[6000] Loss: 6.75\n",
            "Overall Accuracy: 65.37%\n",
            "Total No Pit Accuracy: 96.08956905454887\n",
            "Total Pit Accuracy: 12.38357495747955\n",
            "Total Pit Predictions: 12347\n",
            "[6500] Loss: 12.95\n",
            "Overall Accuracy: 65.37%\n",
            "Total No Pit Accuracy: 96.08901826376825\n",
            "Total Pit Accuracy: 12.380566801619434\n",
            "Total Pit Predictions: 12350\n",
            "[7000] Loss: 9.17\n",
            "Overall Accuracy: 65.36%\n",
            "Total No Pit Accuracy: 96.08846731780616\n",
            "Total Pit Accuracy: 12.39375050594997\n",
            "Total Pit Predictions: 12353\n",
            "[7500] Loss: 7.11\n",
            "Overall Accuracy: 64.82%\n",
            "Total No Pit Accuracy: 96.04913678618858\n",
            "Total Pit Accuracy: 12.407481098288898\n",
            "Total Pit Predictions: 12565\n",
            "[8000] Loss: 10.50\n",
            "Overall Accuracy: 64.78%\n",
            "Total No Pit Accuracy: 96.04688686408505\n",
            "Total Pit Accuracy: 12.395642840104953\n",
            "Total Pit Predictions: 12577\n",
            "[8500] Loss: 11.98\n",
            "Overall Accuracy: 64.28%\n",
            "Total No Pit Accuracy: 96.01282787669922\n",
            "Total Pit Accuracy: 12.322646390217136\n",
            "Total Pit Predictions: 12757\n",
            "[9000] Loss: 1.49\n",
            "Overall Accuracy: 64.01%\n",
            "Total No Pit Accuracy: 96.00577478344562\n",
            "Total Pit Accuracy: 12.339731136840468\n",
            "Total Pit Predictions: 12869\n",
            "[9500] Loss: 11.72\n",
            "Overall Accuracy: 63.04%\n",
            "Total No Pit Accuracy: 95.94244040918213\n",
            "Total Pit Accuracy: 12.172794673929491\n",
            "Total Pit Predictions: 13218\n",
            "[10000] Loss: 9.12\n",
            "Overall Accuracy: 63.04%\n",
            "Total No Pit Accuracy: 95.94713656387665\n",
            "Total Pit Accuracy: 12.179438686738784\n",
            "Total Pit Predictions: 13219\n"
          ]
        },
        {
          "output_type": "display_data",
          "data": {
            "text/plain": [
              "<IPython.core.display.HTML object>"
            ],
            "text/html": []
          },
          "metadata": {}
        },
        {
          "output_type": "display_data",
          "data": {
            "text/plain": [
              "<IPython.core.display.HTML object>"
            ],
            "text/html": [
              "<br>    <style><br>        .wandb-row {<br>            display: flex;<br>            flex-direction: row;<br>            flex-wrap: wrap;<br>            justify-content: flex-start;<br>            width: 100%;<br>        }<br>        .wandb-col {<br>            display: flex;<br>            flex-direction: column;<br>            flex-basis: 100%;<br>            flex: 1;<br>            padding: 10px;<br>        }<br>    </style><br><div class=\"wandb-row\"><div class=\"wandb-col\"><h3>Run history:</h3><br/><table class=\"wandb\"><tr><td>loss</td><td>▃▅▂█▂▅▂▄▃▄▅▃▂▅█▁▂▅▄▃▃▆▃▃▂▃▃▃▃▅▂▃▃▄▅▄▅▃▂▃</td></tr><tr><td>overall_accuracy</td><td>▁▁▁▆▇▇▇██████████████</td></tr><tr><td>total no pit accurary (exact match)</td><td>█▁▁██████████████████</td></tr><tr><td>total pit accurary (3 laps either side)</td><td>███▃▃▃▃▁▁▁▁▂▂▂▂▂▂▂▂▁▁</td></tr><tr><td>total pit predictions</td><td>███▃▂▂▂▁▁▁▁▁▁▁▁▁▁▁▁▁▁</td></tr></table><br/></div><div class=\"wandb-col\"><h3>Run summary:</h3><br/><table class=\"wandb\"><tr><td>loss</td><td>9.11627</td></tr><tr><td>overall_accuracy</td><td>63.03902</td></tr><tr><td>total no pit accurary (exact match)</td><td>95.94714</td></tr><tr><td>total pit accurary (3 laps either side)</td><td>12.17944</td></tr><tr><td>total pit predictions</td><td>13219</td></tr></table><br/></div></div>"
            ]
          },
          "metadata": {}
        },
        {
          "output_type": "display_data",
          "data": {
            "text/plain": [
              "<IPython.core.display.HTML object>"
            ],
            "text/html": [
              " View run <strong style=\"color:#cdcd00\">fragrant-sweep-5</strong> at: <a href='https://wandb.ai/vm800-university-of-york/binary_classifier_emd/runs/061aibie' target=\"_blank\">https://wandb.ai/vm800-university-of-york/binary_classifier_emd/runs/061aibie</a><br> View project at: <a href='https://wandb.ai/vm800-university-of-york/binary_classifier_emd' target=\"_blank\">https://wandb.ai/vm800-university-of-york/binary_classifier_emd</a><br>Synced 5 W&B file(s), 0 media file(s), 0 artifact file(s) and 1 other file(s)"
            ]
          },
          "metadata": {}
        },
        {
          "output_type": "display_data",
          "data": {
            "text/plain": [
              "<IPython.core.display.HTML object>"
            ],
            "text/html": [
              "Find logs at: <code>./wandb/run-20241229_192319-061aibie/logs</code>"
            ]
          },
          "metadata": {}
        },
        {
          "output_type": "stream",
          "name": "stderr",
          "text": [
            "\u001b[34m\u001b[1mwandb\u001b[0m: Agent Starting Run: euqufxi4 with config:\n",
            "\u001b[34m\u001b[1mwandb\u001b[0m: \tdropout: 0.35427611210795906\n",
            "\u001b[34m\u001b[1mwandb\u001b[0m: \thidden_size: 24\n",
            "\u001b[34m\u001b[1mwandb\u001b[0m: \tlearning_rate: 0.004189085851176536\n",
            "\u001b[34m\u001b[1mwandb\u001b[0m: \toptimizer: sgd\n",
            "\u001b[34m\u001b[1mwandb\u001b[0m: \u001b[33mWARNING\u001b[0m Ignoring project 'binary_classifier_emd' when running a sweep.\n"
          ]
        },
        {
          "output_type": "display_data",
          "data": {
            "text/plain": [
              "<IPython.core.display.HTML object>"
            ],
            "text/html": [
              "Tracking run with wandb version 0.19.1"
            ]
          },
          "metadata": {}
        },
        {
          "output_type": "display_data",
          "data": {
            "text/plain": [
              "<IPython.core.display.HTML object>"
            ],
            "text/html": [
              "Run data is saved locally in <code>/content/wandb/run-20241229_193034-euqufxi4</code>"
            ]
          },
          "metadata": {}
        },
        {
          "output_type": "display_data",
          "data": {
            "text/plain": [
              "<IPython.core.display.HTML object>"
            ],
            "text/html": [
              "Syncing run <strong><a href='https://wandb.ai/vm800-university-of-york/binary_classifier_emd/runs/euqufxi4' target=\"_blank\">dulcet-sweep-6</a></strong> to <a href='https://wandb.ai/vm800-university-of-york/binary_classifier_emd' target=\"_blank\">Weights & Biases</a> (<a href='https://wandb.me/developer-guide' target=\"_blank\">docs</a>)<br>Sweep page: <a href='https://wandb.ai/vm800-university-of-york/binary_classifier_emd/sweeps/i1dywmsy' target=\"_blank\">https://wandb.ai/vm800-university-of-york/binary_classifier_emd/sweeps/i1dywmsy</a>"
            ]
          },
          "metadata": {}
        },
        {
          "output_type": "display_data",
          "data": {
            "text/plain": [
              "<IPython.core.display.HTML object>"
            ],
            "text/html": [
              " View project at <a href='https://wandb.ai/vm800-university-of-york/binary_classifier_emd' target=\"_blank\">https://wandb.ai/vm800-university-of-york/binary_classifier_emd</a>"
            ]
          },
          "metadata": {}
        },
        {
          "output_type": "display_data",
          "data": {
            "text/plain": [
              "<IPython.core.display.HTML object>"
            ],
            "text/html": [
              " View sweep at <a href='https://wandb.ai/vm800-university-of-york/binary_classifier_emd/sweeps/i1dywmsy' target=\"_blank\">https://wandb.ai/vm800-university-of-york/binary_classifier_emd/sweeps/i1dywmsy</a>"
            ]
          },
          "metadata": {}
        },
        {
          "output_type": "display_data",
          "data": {
            "text/plain": [
              "<IPython.core.display.HTML object>"
            ],
            "text/html": [
              " View run at <a href='https://wandb.ai/vm800-university-of-york/binary_classifier_emd/runs/euqufxi4' target=\"_blank\">https://wandb.ai/vm800-university-of-york/binary_classifier_emd/runs/euqufxi4</a>"
            ]
          },
          "metadata": {}
        },
        {
          "output_type": "stream",
          "name": "stdout",
          "text": [
            "[0] Loss: 14.81\n",
            "Overall Accuracy: 70.00%\n",
            "Total No Pit Accuracy: 96.43828839970318\n",
            "Total Pit Accuracy: 1.7144074113512937\n",
            "Total Pit Predictions: 9391\n",
            "[500] Loss: 16.39\n",
            "Overall Accuracy: 69.78%\n",
            "Total No Pit Accuracy: 96.23646960865945\n",
            "Total Pit Accuracy: 3.7906324644303666\n",
            "Total Pit Predictions: 9629\n",
            "[1000] Loss: 10.70\n",
            "Overall Accuracy: 69.79%\n",
            "Total No Pit Accuracy: 96.22214776344447\n",
            "Total Pit Accuracy: 5.208226747160545\n",
            "Total Pit Predictions: 9773\n",
            "[1500] Loss: 6.77\n",
            "Overall Accuracy: 69.79%\n",
            "Total No Pit Accuracy: 96.18717504332756\n",
            "Total Pit Accuracy: 7.285828662930344\n",
            "Total Pit Predictions: 9992\n",
            "[2000] Loss: 21.59\n",
            "Overall Accuracy: 69.79%\n",
            "Total No Pit Accuracy: 96.18427175430433\n",
            "Total Pit Accuracy: 7.452547452547452\n",
            "Total Pit Predictions: 10010\n",
            "[2500] Loss: 12.66\n",
            "Overall Accuracy: 69.79%\n",
            "Total No Pit Accuracy: 96.18039381748889\n",
            "Total Pit Accuracy: 7.6739087103846915\n",
            "Total Pit Predictions: 10034\n",
            "[3000] Loss: 10.06\n",
            "Overall Accuracy: 69.79%\n",
            "Total No Pit Accuracy: 96.1822033898305\n",
            "Total Pit Accuracy: 7.811722559458653\n",
            "Total Pit Predictions: 10049\n",
            "[3500] Loss: 10.21\n",
            "Overall Accuracy: 69.69%\n",
            "Total No Pit Accuracy: 96.19294738185376\n",
            "Total Pit Accuracy: 8.254437869822485\n",
            "Total Pit Predictions: 10140\n",
            "[4000] Loss: 16.89\n",
            "Overall Accuracy: 69.69%\n",
            "Total No Pit Accuracy: 96.19100310677959\n",
            "Total Pit Accuracy: 8.3628841607565\n",
            "Total Pit Predictions: 10152\n",
            "[4500] Loss: 7.94\n",
            "Overall Accuracy: 69.69%\n",
            "Total No Pit Accuracy: 96.18840764873727\n",
            "Total Pit Accuracy: 8.50708103855232\n",
            "Total Pit Predictions: 10168\n",
            "[5000] Loss: 11.17\n",
            "Overall Accuracy: 69.69%\n",
            "Total No Pit Accuracy: 96.18580865118261\n",
            "Total Pit Accuracy: 8.650824823252162\n",
            "Total Pit Predictions: 10184\n",
            "[5500] Loss: 6.44\n",
            "Overall Accuracy: 69.69%\n",
            "Total No Pit Accuracy: 96.18076299394043\n",
            "Total Pit Accuracy: 8.928046989720999\n",
            "Total Pit Predictions: 10215\n",
            "[6000] Loss: 11.54\n",
            "Overall Accuracy: 68.74%\n",
            "Total No Pit Accuracy: 96.13679819224753\n",
            "Total Pit Accuracy: 9.466954968506158\n",
            "Total Pit Predictions: 10637\n",
            "[6500] Loss: 6.36\n",
            "Overall Accuracy: 68.74%\n",
            "Total No Pit Accuracy: 96.13528670173456\n",
            "Total Pit Accuracy: 9.543490512868683\n",
            "Total Pit Predictions: 10646\n",
            "[7000] Loss: 15.45\n",
            "Overall Accuracy: 68.62%\n",
            "Total No Pit Accuracy: 96.12788013415219\n",
            "Total Pit Accuracy: 9.550982226379794\n",
            "Total Pit Predictions: 10690\n",
            "[7500] Loss: 13.42\n",
            "Overall Accuracy: 68.62%\n",
            "Total No Pit Accuracy: 96.12771147312483\n",
            "Total Pit Accuracy: 9.559442521747263\n",
            "Total Pit Predictions: 10691\n",
            "[8000] Loss: 18.62\n",
            "Overall Accuracy: 68.62%\n",
            "Total No Pit Accuracy: 96.11145131659522\n",
            "Total Pit Accuracy: 10.364327431167146\n",
            "Total Pit Predictions: 10787\n",
            "[8500] Loss: 12.19\n",
            "Overall Accuracy: 68.62%\n",
            "Total No Pit Accuracy: 96.09676852827538\n",
            "Total Pit Accuracy: 11.073300836935529\n",
            "Total Pit Predictions: 10873\n",
            "[9000] Loss: 5.06\n",
            "Overall Accuracy: 68.62%\n",
            "Total No Pit Accuracy: 96.09591146633876\n",
            "Total Pit Accuracy: 11.114175399889685\n",
            "Total Pit Predictions: 10878\n",
            "[9500] Loss: 9.74\n",
            "Overall Accuracy: 68.62%\n",
            "Total No Pit Accuracy: 96.0957400087835\n",
            "Total Pit Accuracy: 11.122345803842265\n",
            "Total Pit Predictions: 10879\n",
            "[10000] Loss: 18.59\n",
            "Overall Accuracy: 68.54%\n",
            "Total No Pit Accuracy: 96.0924092409241\n",
            "Total Pit Accuracy: 11.232149395825704\n",
            "Total Pit Predictions: 10924\n"
          ]
        },
        {
          "output_type": "display_data",
          "data": {
            "text/plain": [
              "<IPython.core.display.HTML object>"
            ],
            "text/html": []
          },
          "metadata": {}
        },
        {
          "output_type": "display_data",
          "data": {
            "text/plain": [
              "<IPython.core.display.HTML object>"
            ],
            "text/html": [
              "<br>    <style><br>        .wandb-row {<br>            display: flex;<br>            flex-direction: row;<br>            flex-wrap: wrap;<br>            justify-content: flex-start;<br>            width: 100%;<br>        }<br>        .wandb-col {<br>            display: flex;<br>            flex-direction: column;<br>            flex-basis: 100%;<br>            flex: 1;<br>            padding: 10px;<br>        }<br>    </style><br><div class=\"wandb-row\"><div class=\"wandb-col\"><h3>Run history:</h3><br/><table class=\"wandb\"><tr><td>loss</td><td>▄▄▂▂▄▄▄▁▄▂▄▅▃▄▆▂▃▄▃▄▄▄▂▂▁▃▃▅▃█▄▂▃▄▃▃▃▃▄▁</td></tr><tr><td>overall_accuracy</td><td>█▇▇▇▇▇▇▇▇▇▇▇▂▂▁▁▁▁▁▁▁</td></tr><tr><td>total no pit accurary (exact match)</td><td>█▄▄▃▃▃▃▃▃▃▃▃▂▂▂▂▁▁▁▁▁</td></tr><tr><td>total pit accurary (3 laps either side)</td><td>▁▃▄▅▅▅▅▆▆▆▆▆▇▇▇▇▇████</td></tr><tr><td>total pit predictions</td><td>▁▂▃▄▄▄▄▄▄▅▅▅▇▇▇▇▇████</td></tr></table><br/></div><div class=\"wandb-col\"><h3>Run summary:</h3><br/><table class=\"wandb\"><tr><td>loss</td><td>18.58709</td></tr><tr><td>overall_accuracy</td><td>68.5429</td></tr><tr><td>total no pit accurary (exact match)</td><td>96.09241</td></tr><tr><td>total pit accurary (3 laps either side)</td><td>11.23215</td></tr><tr><td>total pit predictions</td><td>10924</td></tr></table><br/></div></div>"
            ]
          },
          "metadata": {}
        },
        {
          "output_type": "display_data",
          "data": {
            "text/plain": [
              "<IPython.core.display.HTML object>"
            ],
            "text/html": [
              " View run <strong style=\"color:#cdcd00\">dulcet-sweep-6</strong> at: <a href='https://wandb.ai/vm800-university-of-york/binary_classifier_emd/runs/euqufxi4' target=\"_blank\">https://wandb.ai/vm800-university-of-york/binary_classifier_emd/runs/euqufxi4</a><br> View project at: <a href='https://wandb.ai/vm800-university-of-york/binary_classifier_emd' target=\"_blank\">https://wandb.ai/vm800-university-of-york/binary_classifier_emd</a><br>Synced 5 W&B file(s), 0 media file(s), 0 artifact file(s) and 1 other file(s)"
            ]
          },
          "metadata": {}
        },
        {
          "output_type": "display_data",
          "data": {
            "text/plain": [
              "<IPython.core.display.HTML object>"
            ],
            "text/html": [
              "Find logs at: <code>./wandb/run-20241229_193034-euqufxi4/logs</code>"
            ]
          },
          "metadata": {}
        },
        {
          "output_type": "stream",
          "name": "stderr",
          "text": [
            "\u001b[34m\u001b[1mwandb\u001b[0m: Agent Starting Run: qokdjrip with config:\n",
            "\u001b[34m\u001b[1mwandb\u001b[0m: \tdropout: 0.1555180120198322\n",
            "\u001b[34m\u001b[1mwandb\u001b[0m: \thidden_size: 39\n",
            "\u001b[34m\u001b[1mwandb\u001b[0m: \tlearning_rate: 0.002118218312123797\n",
            "\u001b[34m\u001b[1mwandb\u001b[0m: \toptimizer: sgd\n",
            "\u001b[34m\u001b[1mwandb\u001b[0m: \u001b[33mWARNING\u001b[0m Ignoring project 'binary_classifier_emd' when running a sweep.\n"
          ]
        },
        {
          "output_type": "display_data",
          "data": {
            "text/plain": [
              "<IPython.core.display.HTML object>"
            ],
            "text/html": [
              "Tracking run with wandb version 0.19.1"
            ]
          },
          "metadata": {}
        },
        {
          "output_type": "display_data",
          "data": {
            "text/plain": [
              "<IPython.core.display.HTML object>"
            ],
            "text/html": [
              "Run data is saved locally in <code>/content/wandb/run-20241229_193749-qokdjrip</code>"
            ]
          },
          "metadata": {}
        },
        {
          "output_type": "display_data",
          "data": {
            "text/plain": [
              "<IPython.core.display.HTML object>"
            ],
            "text/html": [
              "Syncing run <strong><a href='https://wandb.ai/vm800-university-of-york/binary_classifier_emd/runs/qokdjrip' target=\"_blank\">young-sweep-7</a></strong> to <a href='https://wandb.ai/vm800-university-of-york/binary_classifier_emd' target=\"_blank\">Weights & Biases</a> (<a href='https://wandb.me/developer-guide' target=\"_blank\">docs</a>)<br>Sweep page: <a href='https://wandb.ai/vm800-university-of-york/binary_classifier_emd/sweeps/i1dywmsy' target=\"_blank\">https://wandb.ai/vm800-university-of-york/binary_classifier_emd/sweeps/i1dywmsy</a>"
            ]
          },
          "metadata": {}
        },
        {
          "output_type": "display_data",
          "data": {
            "text/plain": [
              "<IPython.core.display.HTML object>"
            ],
            "text/html": [
              " View project at <a href='https://wandb.ai/vm800-university-of-york/binary_classifier_emd' target=\"_blank\">https://wandb.ai/vm800-university-of-york/binary_classifier_emd</a>"
            ]
          },
          "metadata": {}
        },
        {
          "output_type": "display_data",
          "data": {
            "text/plain": [
              "<IPython.core.display.HTML object>"
            ],
            "text/html": [
              " View sweep at <a href='https://wandb.ai/vm800-university-of-york/binary_classifier_emd/sweeps/i1dywmsy' target=\"_blank\">https://wandb.ai/vm800-university-of-york/binary_classifier_emd/sweeps/i1dywmsy</a>"
            ]
          },
          "metadata": {}
        },
        {
          "output_type": "display_data",
          "data": {
            "text/plain": [
              "<IPython.core.display.HTML object>"
            ],
            "text/html": [
              " View run at <a href='https://wandb.ai/vm800-university-of-york/binary_classifier_emd/runs/qokdjrip' target=\"_blank\">https://wandb.ai/vm800-university-of-york/binary_classifier_emd/runs/qokdjrip</a>"
            ]
          },
          "metadata": {}
        },
        {
          "output_type": "stream",
          "name": "stdout",
          "text": [
            "[0] Loss: 7.91\n",
            "Overall Accuracy: 42.03%\n",
            "Total No Pit Accuracy: 100.0\n",
            "Total Pit Accuracy: 19.93761799228433\n",
            "Total Pit Predictions: 24366\n",
            "[500] Loss: 17.79\n",
            "Overall Accuracy: 40.83%\n",
            "Total No Pit Accuracy: 100.0\n",
            "Total Pit Accuracy: 19.676430242879047\n",
            "Total Pit Predictions: 24786\n",
            "[1000] Loss: 9.21\n",
            "Overall Accuracy: 40.82%\n",
            "Total No Pit Accuracy: 100.0\n",
            "Total Pit Accuracy: 19.674048973334948\n",
            "Total Pit Predictions: 24789\n",
            "[1500] Loss: 10.37\n",
            "Overall Accuracy: 40.82%\n",
            "Total No Pit Accuracy: 100.0\n",
            "Total Pit Accuracy: 19.674048973334948\n",
            "Total Pit Predictions: 24789\n",
            "[2000] Loss: 18.05\n",
            "Overall Accuracy: 40.93%\n",
            "Total No Pit Accuracy: 99.96630727762803\n",
            "Total Pit Accuracy: 19.688826025459687\n",
            "Total Pit Predictions: 24745\n",
            "[2500] Loss: 15.73\n",
            "Overall Accuracy: 40.93%\n",
            "Total No Pit Accuracy: 99.96630727762803\n",
            "Total Pit Accuracy: 19.688826025459687\n",
            "Total Pit Predictions: 24745\n",
            "[3000] Loss: 15.41\n",
            "Overall Accuracy: 40.93%\n",
            "Total No Pit Accuracy: 99.96630727762803\n",
            "Total Pit Accuracy: 19.688826025459687\n",
            "Total Pit Predictions: 24745\n",
            "[3500] Loss: 8.95\n",
            "Overall Accuracy: 40.99%\n",
            "Total No Pit Accuracy: 99.8548783210538\n",
            "Total Pit Accuracy: 19.634684702928194\n",
            "Total Pit Predictions: 24691\n",
            "[4000] Loss: 17.64\n",
            "Overall Accuracy: 54.16%\n",
            "Total No Pit Accuracy: 98.18406933553446\n",
            "Total Pit Accuracy: 20.67395740672911\n",
            "Total Pit Predictions: 19111\n",
            "[4500] Loss: 17.91\n",
            "Overall Accuracy: 61.22%\n",
            "Total No Pit Accuracy: 97.38293561458804\n",
            "Total Pit Accuracy: 20.76695422202632\n",
            "Total Pit Predictions: 15881\n",
            "[5000] Loss: 14.18\n",
            "Overall Accuracy: 67.15%\n",
            "Total No Pit Accuracy: 97.23002612252944\n",
            "Total Pit Accuracy: 21.474550898203592\n",
            "Total Pit Predictions: 13360\n",
            "[5500] Loss: 14.29\n",
            "Overall Accuracy: 73.35%\n",
            "Total No Pit Accuracy: 97.21329517939688\n",
            "Total Pit Accuracy: 23.760746295957563\n",
            "Total Pit Predictions: 10934\n",
            "[6000] Loss: 13.85\n",
            "Overall Accuracy: 79.35%\n",
            "Total No Pit Accuracy: 97.18651756934219\n",
            "Total Pit Accuracy: 26.76056338028169\n",
            "Total Pit Predictions: 8520\n",
            "[6500] Loss: 7.13\n",
            "Overall Accuracy: 84.58%\n",
            "Total No Pit Accuracy: 97.21744224362025\n",
            "Total Pit Accuracy: 30.129419191919194\n",
            "Total Pit Predictions: 6336\n",
            "[7000] Loss: 6.37\n",
            "Overall Accuracy: 89.67%\n",
            "Total No Pit Accuracy: 97.31286638880418\n",
            "Total Pit Accuracy: 35.18608023199613\n",
            "Total Pit Predictions: 4138\n",
            "[7500] Loss: 10.04\n",
            "Overall Accuracy: 92.70%\n",
            "Total No Pit Accuracy: 97.31083146359705\n",
            "Total Pit Accuracy: 43.75\n",
            "Total Pit Predictions: 2896\n",
            "[8000] Loss: 9.81\n",
            "Overall Accuracy: 95.08%\n",
            "Total No Pit Accuracy: 97.27066675061387\n",
            "Total Pit Accuracy: 58.20499203398831\n",
            "Total Pit Predictions: 1883\n",
            "[8500] Loss: 5.74\n",
            "Overall Accuracy: 95.47%\n",
            "Total No Pit Accuracy: 97.25446150006239\n",
            "Total Pit Accuracy: 59.674389480275515\n",
            "Total Pit Predictions: 1597\n",
            "[9000] Loss: 5.93\n",
            "Overall Accuracy: 96.17%\n",
            "Total No Pit Accuracy: 97.26622696172102\n",
            "Total Pit Accuracy: 66.66666666666666\n",
            "Total Pit Predictions: 1203\n",
            "[9500] Loss: 13.98\n",
            "Overall Accuracy: 96.16%\n",
            "Total No Pit Accuracy: 97.26339093536683\n",
            "Total Pit Accuracy: 64.41881100266194\n",
            "Total Pit Predictions: 1127\n",
            "[10000] Loss: 21.91\n",
            "Overall Accuracy: 96.16%\n",
            "Total No Pit Accuracy: 97.2647366156494\n",
            "Total Pit Accuracy: 63.9063906390639\n",
            "Total Pit Predictions: 1111\n"
          ]
        },
        {
          "output_type": "display_data",
          "data": {
            "text/plain": [
              "<IPython.core.display.HTML object>"
            ],
            "text/html": []
          },
          "metadata": {}
        },
        {
          "output_type": "display_data",
          "data": {
            "text/plain": [
              "<IPython.core.display.HTML object>"
            ],
            "text/html": [
              "<br>    <style><br>        .wandb-row {<br>            display: flex;<br>            flex-direction: row;<br>            flex-wrap: wrap;<br>            justify-content: flex-start;<br>            width: 100%;<br>        }<br>        .wandb-col {<br>            display: flex;<br>            flex-direction: column;<br>            flex-basis: 100%;<br>            flex: 1;<br>            padding: 10px;<br>        }<br>    </style><br><div class=\"wandb-row\"><div class=\"wandb-col\"><h3>Run history:</h3><br/><table class=\"wandb\"><tr><td>loss</td><td>▄▅▂▂▃▃▂▄▂▂▄▂▃▅▅▅▂▃▅▂█▂▂▅▂▅▂▁▄▂▂▃▃▄▅▅▅▄▃▅</td></tr><tr><td>overall_accuracy</td><td>▁▁▁▁▁▁▁▁▃▄▄▅▆▇▇██████</td></tr><tr><td>total no pit accurary (exact match)</td><td>████████▃▁▁▁▁▁▁▁▁▁▁▁▁</td></tr><tr><td>total pit accurary (3 laps either side)</td><td>▁▁▁▁▁▁▁▁▁▁▁▂▂▃▃▅▇▇███</td></tr><tr><td>total pit predictions</td><td>████████▆▅▅▄▃▃▂▂▁▁▁▁▁</td></tr></table><br/></div><div class=\"wandb-col\"><h3>Run summary:</h3><br/><table class=\"wandb\"><tr><td>loss</td><td>21.90897</td></tr><tr><td>overall_accuracy</td><td>96.16333</td></tr><tr><td>total no pit accurary (exact match)</td><td>97.26474</td></tr><tr><td>total pit accurary (3 laps either side)</td><td>63.90639</td></tr><tr><td>total pit predictions</td><td>1111</td></tr></table><br/></div></div>"
            ]
          },
          "metadata": {}
        },
        {
          "output_type": "display_data",
          "data": {
            "text/plain": [
              "<IPython.core.display.HTML object>"
            ],
            "text/html": [
              " View run <strong style=\"color:#cdcd00\">young-sweep-7</strong> at: <a href='https://wandb.ai/vm800-university-of-york/binary_classifier_emd/runs/qokdjrip' target=\"_blank\">https://wandb.ai/vm800-university-of-york/binary_classifier_emd/runs/qokdjrip</a><br> View project at: <a href='https://wandb.ai/vm800-university-of-york/binary_classifier_emd' target=\"_blank\">https://wandb.ai/vm800-university-of-york/binary_classifier_emd</a><br>Synced 5 W&B file(s), 0 media file(s), 0 artifact file(s) and 1 other file(s)"
            ]
          },
          "metadata": {}
        },
        {
          "output_type": "display_data",
          "data": {
            "text/plain": [
              "<IPython.core.display.HTML object>"
            ],
            "text/html": [
              "Find logs at: <code>./wandb/run-20241229_193749-qokdjrip/logs</code>"
            ]
          },
          "metadata": {}
        },
        {
          "output_type": "stream",
          "name": "stderr",
          "text": [
            "\u001b[34m\u001b[1mwandb\u001b[0m: Sweep Agent: Waiting for job.\n",
            "\u001b[34m\u001b[1mwandb\u001b[0m: Job received.\n",
            "\u001b[34m\u001b[1mwandb\u001b[0m: Agent Starting Run: 5rg1u8lb with config:\n",
            "\u001b[34m\u001b[1mwandb\u001b[0m: \tdropout: 0.4935648633951163\n",
            "\u001b[34m\u001b[1mwandb\u001b[0m: \thidden_size: 11\n",
            "\u001b[34m\u001b[1mwandb\u001b[0m: \tlearning_rate: 0.007660545228112789\n",
            "\u001b[34m\u001b[1mwandb\u001b[0m: \toptimizer: adagrad\n",
            "\u001b[34m\u001b[1mwandb\u001b[0m: \u001b[33mWARNING\u001b[0m Ignoring project 'binary_classifier_emd' when running a sweep.\n"
          ]
        },
        {
          "output_type": "display_data",
          "data": {
            "text/plain": [
              "<IPython.core.display.HTML object>"
            ],
            "text/html": [
              "Tracking run with wandb version 0.19.1"
            ]
          },
          "metadata": {}
        },
        {
          "output_type": "display_data",
          "data": {
            "text/plain": [
              "<IPython.core.display.HTML object>"
            ],
            "text/html": [
              "Run data is saved locally in <code>/content/wandb/run-20241229_194515-5rg1u8lb</code>"
            ]
          },
          "metadata": {}
        },
        {
          "output_type": "display_data",
          "data": {
            "text/plain": [
              "<IPython.core.display.HTML object>"
            ],
            "text/html": [
              "Syncing run <strong><a href='https://wandb.ai/vm800-university-of-york/binary_classifier_emd/runs/5rg1u8lb' target=\"_blank\">mild-sweep-8</a></strong> to <a href='https://wandb.ai/vm800-university-of-york/binary_classifier_emd' target=\"_blank\">Weights & Biases</a> (<a href='https://wandb.me/developer-guide' target=\"_blank\">docs</a>)<br>Sweep page: <a href='https://wandb.ai/vm800-university-of-york/binary_classifier_emd/sweeps/i1dywmsy' target=\"_blank\">https://wandb.ai/vm800-university-of-york/binary_classifier_emd/sweeps/i1dywmsy</a>"
            ]
          },
          "metadata": {}
        },
        {
          "output_type": "display_data",
          "data": {
            "text/plain": [
              "<IPython.core.display.HTML object>"
            ],
            "text/html": [
              " View project at <a href='https://wandb.ai/vm800-university-of-york/binary_classifier_emd' target=\"_blank\">https://wandb.ai/vm800-university-of-york/binary_classifier_emd</a>"
            ]
          },
          "metadata": {}
        },
        {
          "output_type": "display_data",
          "data": {
            "text/plain": [
              "<IPython.core.display.HTML object>"
            ],
            "text/html": [
              " View sweep at <a href='https://wandb.ai/vm800-university-of-york/binary_classifier_emd/sweeps/i1dywmsy' target=\"_blank\">https://wandb.ai/vm800-university-of-york/binary_classifier_emd/sweeps/i1dywmsy</a>"
            ]
          },
          "metadata": {}
        },
        {
          "output_type": "display_data",
          "data": {
            "text/plain": [
              "<IPython.core.display.HTML object>"
            ],
            "text/html": [
              " View run at <a href='https://wandb.ai/vm800-university-of-york/binary_classifier_emd/runs/5rg1u8lb' target=\"_blank\">https://wandb.ai/vm800-university-of-york/binary_classifier_emd/runs/5rg1u8lb</a>"
            ]
          },
          "metadata": {}
        },
        {
          "output_type": "stream",
          "name": "stdout",
          "text": [
            "[0] Loss: 14.36\n",
            "Overall Accuracy: 69.07%\n",
            "Total No Pit Accuracy: 96.3607527112178\n",
            "Total Pit Accuracy: 7.374031007751938\n",
            "Total Pit Predictions: 10320\n",
            "[500] Loss: 13.36\n",
            "Overall Accuracy: 70.35%\n",
            "Total No Pit Accuracy: 96.3874169400286\n",
            "Total Pit Accuracy: 7.6182757572687665\n",
            "Total Pit Predictions: 9871\n",
            "[1000] Loss: 22.72\n",
            "Overall Accuracy: 70.38%\n",
            "Total No Pit Accuracy: 96.38908739333306\n",
            "Total Pit Accuracy: 7.616632860040568\n",
            "Total Pit Predictions: 9860\n",
            "[1500] Loss: 7.76\n",
            "Overall Accuracy: 70.28%\n",
            "Total No Pit Accuracy: 96.40315040222382\n",
            "Total Pit Accuracy: 7.651928124369069\n",
            "Total Pit Predictions: 9906\n",
            "[2000] Loss: 8.06\n",
            "Overall Accuracy: 70.27%\n",
            "Total No Pit Accuracy: 96.39578947368422\n",
            "Total Pit Accuracy: 7.586624911607233\n",
            "Total Pit Predictions: 9899\n",
            "[2500] Loss: 12.98\n",
            "Overall Accuracy: 70.27%\n",
            "Total No Pit Accuracy: 96.3963963963964\n",
            "Total Pit Accuracy: 7.549267306720566\n",
            "Total Pit Predictions: 9895\n",
            "[3000] Loss: 15.23\n",
            "Overall Accuracy: 71.27%\n",
            "Total No Pit Accuracy: 96.44414904664977\n",
            "Total Pit Accuracy: 7.97827903091061\n",
            "Total Pit Predictions: 9576\n",
            "[3500] Loss: 14.44\n",
            "Overall Accuracy: 71.39%\n",
            "Total No Pit Accuracy: 96.4487222037836\n",
            "Total Pit Accuracy: 8.098480880041906\n",
            "Total Pit Predictions: 9545\n",
            "[4000] Loss: 12.52\n",
            "Overall Accuracy: 71.29%\n",
            "Total No Pit Accuracy: 96.4419319976723\n",
            "Total Pit Accuracy: 8.216035866958608\n",
            "Total Pit Predictions: 9591\n",
            "[4500] Loss: 14.69\n",
            "Overall Accuracy: 71.28%\n",
            "Total No Pit Accuracy: 96.44579314931826\n",
            "Total Pit Accuracy: 8.183050140727614\n",
            "Total Pit Predictions: 9593\n",
            "[5000] Loss: 10.38\n",
            "Overall Accuracy: 70.94%\n",
            "Total No Pit Accuracy: 96.42812382504073\n",
            "Total Pit Accuracy: 8.123970345963755\n",
            "Total Pit Predictions: 9712\n",
            "[5500] Loss: 11.45\n",
            "Overall Accuracy: 71.74%\n",
            "Total No Pit Accuracy: 96.47151179605834\n",
            "Total Pit Accuracy: 8.37391488460724\n",
            "Total Pit Predictions: 9446\n",
            "[6000] Loss: 5.65\n",
            "Overall Accuracy: 71.93%\n",
            "Total No Pit Accuracy: 96.47980214344601\n",
            "Total Pit Accuracy: 8.488656938971136\n",
            "Total Pit Predictions: 9389\n",
            "[6500] Loss: 18.19\n",
            "Overall Accuracy: 71.90%\n",
            "Total No Pit Accuracy: 96.48131342298491\n",
            "Total Pit Accuracy: 8.536196449452534\n",
            "Total Pit Predictions: 9407\n",
            "[7000] Loss: 18.59\n",
            "Overall Accuracy: 72.67%\n",
            "Total No Pit Accuracy: 96.51357419881609\n",
            "Total Pit Accuracy: 8.859514966135022\n",
            "Total Pit Predictions: 9154\n",
            "[7500] Loss: 13.70\n",
            "Overall Accuracy: 72.80%\n",
            "Total No Pit Accuracy: 96.51982558376461\n",
            "Total Pit Accuracy: 8.924259055982436\n",
            "Total Pit Predictions: 9110\n",
            "[8000] Loss: 13.06\n",
            "Overall Accuracy: 73.17%\n",
            "Total No Pit Accuracy: 96.54710703562445\n",
            "Total Pit Accuracy: 9.163612129290238\n",
            "Total Pit Predictions: 9003\n",
            "[8500] Loss: 9.12\n",
            "Overall Accuracy: 73.01%\n",
            "Total No Pit Accuracy: 96.54331028873526\n",
            "Total Pit Accuracy: 9.14008168672039\n",
            "Total Pit Predictions: 9059\n",
            "[9000] Loss: 9.40\n",
            "Overall Accuracy: 74.35%\n",
            "Total No Pit Accuracy: 96.60543130990416\n",
            "Total Pit Accuracy: 9.617841793471948\n",
            "Total Pit Predictions: 8609\n",
            "[9500] Loss: 3.10\n",
            "Overall Accuracy: 75.40%\n",
            "Total No Pit Accuracy: 96.64133559081782\n",
            "Total Pit Accuracy: 10.021812893843917\n",
            "Total Pit Predictions: 8252\n",
            "[10000] Loss: 10.44\n",
            "Overall Accuracy: 77.34%\n",
            "Total No Pit Accuracy: 96.72515068913886\n",
            "Total Pit Accuracy: 10.918179426466718\n",
            "Total Pit Predictions: 7602\n"
          ]
        },
        {
          "output_type": "display_data",
          "data": {
            "text/plain": [
              "<IPython.core.display.HTML object>"
            ],
            "text/html": []
          },
          "metadata": {}
        },
        {
          "output_type": "display_data",
          "data": {
            "text/plain": [
              "<IPython.core.display.HTML object>"
            ],
            "text/html": [
              "<br>    <style><br>        .wandb-row {<br>            display: flex;<br>            flex-direction: row;<br>            flex-wrap: wrap;<br>            justify-content: flex-start;<br>            width: 100%;<br>        }<br>        .wandb-col {<br>            display: flex;<br>            flex-direction: column;<br>            flex-basis: 100%;<br>            flex: 1;<br>            padding: 10px;<br>        }<br>    </style><br><div class=\"wandb-row\"><div class=\"wandb-col\"><h3>Run history:</h3><br/><table class=\"wandb\"><tr><td>loss</td><td>▃▃▅▂▄▃▃▂▃▃▅▃▂▅▆▂▄▂▂▂▂▃▁▃▂▅▄▂▃▄▃▂▁▄▃▂█▄▃▅</td></tr><tr><td>overall_accuracy</td><td>▁▂▂▂▂▂▃▃▃▃▃▃▃▃▄▄▄▄▅▆█</td></tr><tr><td>total no pit accurary (exact match)</td><td>▁▂▂▂▂▂▃▃▃▃▂▃▃▃▄▄▅▅▆▆█</td></tr><tr><td>total pit accurary (3 laps either side)</td><td>▁▁▁▂▁▁▂▂▃▃▂▃▃▃▄▄▅▄▅▆█</td></tr><tr><td>total pit predictions</td><td>█▇▇▇▇▇▆▆▆▆▆▆▆▆▅▅▅▅▄▃▁</td></tr></table><br/></div><div class=\"wandb-col\"><h3>Run summary:</h3><br/><table class=\"wandb\"><tr><td>loss</td><td>10.44376</td></tr><tr><td>overall_accuracy</td><td>77.33959</td></tr><tr><td>total no pit accurary (exact match)</td><td>96.72515</td></tr><tr><td>total pit accurary (3 laps either side)</td><td>10.91818</td></tr><tr><td>total pit predictions</td><td>7602</td></tr></table><br/></div></div>"
            ]
          },
          "metadata": {}
        },
        {
          "output_type": "display_data",
          "data": {
            "text/plain": [
              "<IPython.core.display.HTML object>"
            ],
            "text/html": [
              " View run <strong style=\"color:#cdcd00\">mild-sweep-8</strong> at: <a href='https://wandb.ai/vm800-university-of-york/binary_classifier_emd/runs/5rg1u8lb' target=\"_blank\">https://wandb.ai/vm800-university-of-york/binary_classifier_emd/runs/5rg1u8lb</a><br> View project at: <a href='https://wandb.ai/vm800-university-of-york/binary_classifier_emd' target=\"_blank\">https://wandb.ai/vm800-university-of-york/binary_classifier_emd</a><br>Synced 5 W&B file(s), 0 media file(s), 0 artifact file(s) and 1 other file(s)"
            ]
          },
          "metadata": {}
        },
        {
          "output_type": "display_data",
          "data": {
            "text/plain": [
              "<IPython.core.display.HTML object>"
            ],
            "text/html": [
              "Find logs at: <code>./wandb/run-20241229_194515-5rg1u8lb/logs</code>"
            ]
          },
          "metadata": {}
        },
        {
          "output_type": "stream",
          "name": "stderr",
          "text": [
            "\u001b[34m\u001b[1mwandb\u001b[0m: Agent Starting Run: opgqlxn4 with config:\n",
            "\u001b[34m\u001b[1mwandb\u001b[0m: \tdropout: 0.15970553531193216\n",
            "\u001b[34m\u001b[1mwandb\u001b[0m: \thidden_size: 47\n",
            "\u001b[34m\u001b[1mwandb\u001b[0m: \tlearning_rate: 0.0048939334609068704\n",
            "\u001b[34m\u001b[1mwandb\u001b[0m: \toptimizer: sgd\n",
            "\u001b[34m\u001b[1mwandb\u001b[0m: \u001b[33mWARNING\u001b[0m Ignoring project 'binary_classifier_emd' when running a sweep.\n"
          ]
        },
        {
          "output_type": "display_data",
          "data": {
            "text/plain": [
              "<IPython.core.display.HTML object>"
            ],
            "text/html": [
              "Tracking run with wandb version 0.19.1"
            ]
          },
          "metadata": {}
        },
        {
          "output_type": "display_data",
          "data": {
            "text/plain": [
              "<IPython.core.display.HTML object>"
            ],
            "text/html": [
              "Run data is saved locally in <code>/content/wandb/run-20241229_195231-opgqlxn4</code>"
            ]
          },
          "metadata": {}
        },
        {
          "output_type": "display_data",
          "data": {
            "text/plain": [
              "<IPython.core.display.HTML object>"
            ],
            "text/html": [
              "Syncing run <strong><a href='https://wandb.ai/vm800-university-of-york/binary_classifier_emd/runs/opgqlxn4' target=\"_blank\">wandering-sweep-9</a></strong> to <a href='https://wandb.ai/vm800-university-of-york/binary_classifier_emd' target=\"_blank\">Weights & Biases</a> (<a href='https://wandb.me/developer-guide' target=\"_blank\">docs</a>)<br>Sweep page: <a href='https://wandb.ai/vm800-university-of-york/binary_classifier_emd/sweeps/i1dywmsy' target=\"_blank\">https://wandb.ai/vm800-university-of-york/binary_classifier_emd/sweeps/i1dywmsy</a>"
            ]
          },
          "metadata": {}
        },
        {
          "output_type": "display_data",
          "data": {
            "text/plain": [
              "<IPython.core.display.HTML object>"
            ],
            "text/html": [
              " View project at <a href='https://wandb.ai/vm800-university-of-york/binary_classifier_emd' target=\"_blank\">https://wandb.ai/vm800-university-of-york/binary_classifier_emd</a>"
            ]
          },
          "metadata": {}
        },
        {
          "output_type": "display_data",
          "data": {
            "text/plain": [
              "<IPython.core.display.HTML object>"
            ],
            "text/html": [
              " View sweep at <a href='https://wandb.ai/vm800-university-of-york/binary_classifier_emd/sweeps/i1dywmsy' target=\"_blank\">https://wandb.ai/vm800-university-of-york/binary_classifier_emd/sweeps/i1dywmsy</a>"
            ]
          },
          "metadata": {}
        },
        {
          "output_type": "display_data",
          "data": {
            "text/plain": [
              "<IPython.core.display.HTML object>"
            ],
            "text/html": [
              " View run at <a href='https://wandb.ai/vm800-university-of-york/binary_classifier_emd/runs/opgqlxn4' target=\"_blank\">https://wandb.ai/vm800-university-of-york/binary_classifier_emd/runs/opgqlxn4</a>"
            ]
          },
          "metadata": {}
        },
        {
          "output_type": "stream",
          "name": "stdout",
          "text": [
            "[0] Loss: 14.73\n",
            "Overall Accuracy: 14.49%\n",
            "Total No Pit Accuracy: 0.0\n",
            "Total Pit Accuracy: 14.493744242027995\n",
            "Total Pit Predictions: 33649\n",
            "[500] Loss: 14.30\n",
            "Overall Accuracy: 58.81%\n",
            "Total No Pit Accuracy: 95.98795310315155\n",
            "Total Pit Accuracy: 12.886084357356358\n",
            "Total Pit Predictions: 15055\n",
            "[1000] Loss: 14.84\n",
            "Overall Accuracy: 59.98%\n",
            "Total No Pit Accuracy: 96.07090258783926\n",
            "Total Pit Accuracy: 13.103778096604495\n",
            "Total Pit Predictions: 14637\n",
            "[1500] Loss: 14.27\n",
            "Overall Accuracy: 59.95%\n",
            "Total No Pit Accuracy: 96.07708914749091\n",
            "Total Pit Accuracy: 13.132760267430754\n",
            "Total Pit Predictions: 14658\n",
            "[2000] Loss: 15.22\n",
            "Overall Accuracy: 59.48%\n",
            "Total No Pit Accuracy: 96.07082092726499\n",
            "Total Pit Accuracy: 13.098847786537297\n",
            "Total Pit Predictions: 14841\n",
            "[2500] Loss: 8.71\n",
            "Overall Accuracy: 59.48%\n",
            "Total No Pit Accuracy: 96.07572051472934\n",
            "Total Pit Accuracy: 13.1105571649936\n",
            "Total Pit Predictions: 14843\n",
            "[3000] Loss: 7.52\n",
            "Overall Accuracy: 59.47%\n",
            "Total No Pit Accuracy: 96.07957870099474\n",
            "Total Pit Accuracy: 13.131313131313133\n",
            "Total Pit Predictions: 14850\n",
            "[3500] Loss: 10.94\n",
            "Overall Accuracy: 59.47%\n",
            "Total No Pit Accuracy: 96.07916156833537\n",
            "Total Pit Accuracy: 13.143011042283867\n",
            "Total Pit Predictions: 14852\n",
            "[4000] Loss: 20.74\n",
            "Overall Accuracy: 57.25%\n",
            "Total No Pit Accuracy: 95.96235241701937\n",
            "Total Pit Accuracy: 12.948448352768752\n",
            "Total Pit Predictions: 15693\n",
            "[4500] Loss: 15.11\n",
            "Overall Accuracy: 56.78%\n",
            "Total No Pit Accuracy: 95.936286373614\n",
            "Total Pit Accuracy: 12.970658607228309\n",
            "Total Pit Predictions: 15882\n",
            "[5000] Loss: 9.35\n",
            "Overall Accuracy: 56.77%\n",
            "Total No Pit Accuracy: 95.9398580921275\n",
            "Total Pit Accuracy: 12.994776917752187\n",
            "Total Pit Predictions: 15891\n",
            "[5500] Loss: 12.91\n",
            "Overall Accuracy: 56.75%\n",
            "Total No Pit Accuracy: 95.9371125887524\n",
            "Total Pit Accuracy: 13.022700119474312\n",
            "Total Pit Predictions: 15903\n",
            "[6000] Loss: 6.65\n",
            "Overall Accuracy: 56.75%\n",
            "Total No Pit Accuracy: 95.93642563264386\n",
            "Total Pit Accuracy: 13.039104740349552\n",
            "Total Pit Predictions: 15906\n",
            "[6500] Loss: 9.13\n",
            "Overall Accuracy: 56.75%\n",
            "Total No Pit Accuracy: 95.93413410026504\n",
            "Total Pit Accuracy: 13.093742146267907\n",
            "Total Pit Predictions: 15916\n",
            "[7000] Loss: 10.66\n",
            "Overall Accuracy: 56.77%\n",
            "Total No Pit Accuracy: 95.93505102328466\n",
            "Total Pit Accuracy: 13.103318250377075\n",
            "Total Pit Predictions: 15912\n",
            "[7500] Loss: 15.12\n",
            "Overall Accuracy: 56.34%\n",
            "Total No Pit Accuracy: 95.9327826829963\n",
            "Total Pit Accuracy: 13.15397042376041\n",
            "Total Pit Predictions: 16094\n",
            "[8000] Loss: 15.55\n",
            "Overall Accuracy: 55.26%\n",
            "Total No Pit Accuracy: 95.9007299270073\n",
            "Total Pit Accuracy: 13.150568869523118\n",
            "Total Pit Predictions: 16524\n",
            "[8500] Loss: 7.59\n",
            "Overall Accuracy: 55.26%\n",
            "Total No Pit Accuracy: 95.89953271028038\n",
            "Total Pit Accuracy: 13.17079073144171\n",
            "Total Pit Predictions: 16529\n",
            "[9000] Loss: 7.44\n",
            "Overall Accuracy: 55.26%\n",
            "Total No Pit Accuracy: 95.8997722095672\n",
            "Total Pit Accuracy: 13.165537270087125\n",
            "Total Pit Predictions: 16528\n",
            "[9500] Loss: 16.45\n",
            "Overall Accuracy: 55.26%\n",
            "Total No Pit Accuracy: 95.89953271028038\n",
            "Total Pit Accuracy: 13.17079073144171\n",
            "Total Pit Predictions: 16529\n",
            "[10000] Loss: 6.07\n",
            "Overall Accuracy: 55.26%\n",
            "Total No Pit Accuracy: 95.89833479404032\n",
            "Total Pit Accuracy: 13.184952219668562\n",
            "Total Pit Predictions: 16534\n"
          ]
        },
        {
          "output_type": "display_data",
          "data": {
            "text/plain": [
              "<IPython.core.display.HTML object>"
            ],
            "text/html": []
          },
          "metadata": {}
        },
        {
          "output_type": "display_data",
          "data": {
            "text/plain": [
              "<IPython.core.display.HTML object>"
            ],
            "text/html": [
              "<br>    <style><br>        .wandb-row {<br>            display: flex;<br>            flex-direction: row;<br>            flex-wrap: wrap;<br>            justify-content: flex-start;<br>            width: 100%;<br>        }<br>        .wandb-col {<br>            display: flex;<br>            flex-direction: column;<br>            flex-basis: 100%;<br>            flex: 1;<br>            padding: 10px;<br>        }<br>    </style><br><div class=\"wandb-row\"><div class=\"wandb-col\"><h3>Run history:</h3><br/><table class=\"wandb\"><tr><td>loss</td><td>▃▆▁▄▄▂▂▄▆▇▅▃▃▇▅▅▁▇▇▄▃▄▆▅█▇▄▁▅▂▄▃▅▇▃▇▄▆▃▅</td></tr><tr><td>overall_accuracy</td><td>▁██████████████▇▇▇▇▇▇</td></tr><tr><td>total no pit accurary (exact match)</td><td>▁████████████████████</td></tr><tr><td>total pit accurary (3 laps either side)</td><td>█▁▂▂▂▂▂▂▁▁▁▂▂▂▂▂▂▂▂▂▂</td></tr><tr><td>total pit predictions</td><td>█▁▁▁▁▁▁▁▁▁▁▁▁▁▁▂▂▂▂▂▂</td></tr></table><br/></div><div class=\"wandb-col\"><h3>Run summary:</h3><br/><table class=\"wandb\"><tr><td>loss</td><td>6.07447</td></tr><tr><td>overall_accuracy</td><td>55.25573</td></tr><tr><td>total no pit accurary (exact match)</td><td>95.89833</td></tr><tr><td>total pit accurary (3 laps either side)</td><td>13.18495</td></tr><tr><td>total pit predictions</td><td>16534</td></tr></table><br/></div></div>"
            ]
          },
          "metadata": {}
        },
        {
          "output_type": "display_data",
          "data": {
            "text/plain": [
              "<IPython.core.display.HTML object>"
            ],
            "text/html": [
              " View run <strong style=\"color:#cdcd00\">wandering-sweep-9</strong> at: <a href='https://wandb.ai/vm800-university-of-york/binary_classifier_emd/runs/opgqlxn4' target=\"_blank\">https://wandb.ai/vm800-university-of-york/binary_classifier_emd/runs/opgqlxn4</a><br> View project at: <a href='https://wandb.ai/vm800-university-of-york/binary_classifier_emd' target=\"_blank\">https://wandb.ai/vm800-university-of-york/binary_classifier_emd</a><br>Synced 5 W&B file(s), 0 media file(s), 0 artifact file(s) and 1 other file(s)"
            ]
          },
          "metadata": {}
        },
        {
          "output_type": "display_data",
          "data": {
            "text/plain": [
              "<IPython.core.display.HTML object>"
            ],
            "text/html": [
              "Find logs at: <code>./wandb/run-20241229_195231-opgqlxn4/logs</code>"
            ]
          },
          "metadata": {}
        },
        {
          "output_type": "stream",
          "name": "stderr",
          "text": [
            "\u001b[34m\u001b[1mwandb\u001b[0m: Sweep Agent: Waiting for job.\n",
            "\u001b[34m\u001b[1mwandb\u001b[0m: Job received.\n",
            "\u001b[34m\u001b[1mwandb\u001b[0m: Agent Starting Run: urkp4bqw with config:\n",
            "\u001b[34m\u001b[1mwandb\u001b[0m: \tdropout: 0.11117494162504316\n",
            "\u001b[34m\u001b[1mwandb\u001b[0m: \thidden_size: 47\n",
            "\u001b[34m\u001b[1mwandb\u001b[0m: \tlearning_rate: 0.00599604106655897\n",
            "\u001b[34m\u001b[1mwandb\u001b[0m: \toptimizer: rmsprop\n",
            "\u001b[34m\u001b[1mwandb\u001b[0m: \u001b[33mWARNING\u001b[0m Ignoring project 'binary_classifier_emd' when running a sweep.\n"
          ]
        },
        {
          "output_type": "display_data",
          "data": {
            "text/plain": [
              "<IPython.core.display.HTML object>"
            ],
            "text/html": [
              "Tracking run with wandb version 0.19.1"
            ]
          },
          "metadata": {}
        },
        {
          "output_type": "display_data",
          "data": {
            "text/plain": [
              "<IPython.core.display.HTML object>"
            ],
            "text/html": [
              "Run data is saved locally in <code>/content/wandb/run-20241229_195957-urkp4bqw</code>"
            ]
          },
          "metadata": {}
        },
        {
          "output_type": "display_data",
          "data": {
            "text/plain": [
              "<IPython.core.display.HTML object>"
            ],
            "text/html": [
              "Syncing run <strong><a href='https://wandb.ai/vm800-university-of-york/binary_classifier_emd/runs/urkp4bqw' target=\"_blank\">cosmic-sweep-10</a></strong> to <a href='https://wandb.ai/vm800-university-of-york/binary_classifier_emd' target=\"_blank\">Weights & Biases</a> (<a href='https://wandb.me/developer-guide' target=\"_blank\">docs</a>)<br>Sweep page: <a href='https://wandb.ai/vm800-university-of-york/binary_classifier_emd/sweeps/i1dywmsy' target=\"_blank\">https://wandb.ai/vm800-university-of-york/binary_classifier_emd/sweeps/i1dywmsy</a>"
            ]
          },
          "metadata": {}
        },
        {
          "output_type": "display_data",
          "data": {
            "text/plain": [
              "<IPython.core.display.HTML object>"
            ],
            "text/html": [
              " View project at <a href='https://wandb.ai/vm800-university-of-york/binary_classifier_emd' target=\"_blank\">https://wandb.ai/vm800-university-of-york/binary_classifier_emd</a>"
            ]
          },
          "metadata": {}
        },
        {
          "output_type": "display_data",
          "data": {
            "text/plain": [
              "<IPython.core.display.HTML object>"
            ],
            "text/html": [
              " View sweep at <a href='https://wandb.ai/vm800-university-of-york/binary_classifier_emd/sweeps/i1dywmsy' target=\"_blank\">https://wandb.ai/vm800-university-of-york/binary_classifier_emd/sweeps/i1dywmsy</a>"
            ]
          },
          "metadata": {}
        },
        {
          "output_type": "display_data",
          "data": {
            "text/plain": [
              "<IPython.core.display.HTML object>"
            ],
            "text/html": [
              " View run at <a href='https://wandb.ai/vm800-university-of-york/binary_classifier_emd/runs/urkp4bqw' target=\"_blank\">https://wandb.ai/vm800-university-of-york/binary_classifier_emd/runs/urkp4bqw</a>"
            ]
          },
          "metadata": {}
        },
        {
          "output_type": "stream",
          "name": "stdout",
          "text": [
            "[0] Loss: 6.34\n",
            "Overall Accuracy: 14.49%\n",
            "Total No Pit Accuracy: 0.0\n",
            "Total Pit Accuracy: 14.493744242027995\n",
            "Total Pit Predictions: 33649\n",
            "[500] Loss: 13.06\n",
            "Overall Accuracy: 14.49%\n",
            "Total No Pit Accuracy: 0.0\n",
            "Total Pit Accuracy: 14.493744242027995\n",
            "Total Pit Predictions: 33649\n",
            "[1000] Loss: 10.45\n",
            "Overall Accuracy: 14.49%\n",
            "Total No Pit Accuracy: 100.0\n",
            "Total Pit Accuracy: 14.486120192593473\n",
            "Total Pit Predictions: 33646\n",
            "[1500] Loss: 10.75\n",
            "Overall Accuracy: 14.49%\n",
            "Total No Pit Accuracy: 100.0\n",
            "Total Pit Accuracy: 14.486120192593473\n",
            "Total Pit Predictions: 33646\n",
            "[2000] Loss: 7.58\n",
            "Overall Accuracy: 14.49%\n",
            "Total No Pit Accuracy: 100.0\n",
            "Total Pit Accuracy: 14.486120192593473\n",
            "Total Pit Predictions: 33646\n",
            "[2500] Loss: 8.19\n",
            "Overall Accuracy: 14.49%\n",
            "Total No Pit Accuracy: 100.0\n",
            "Total Pit Accuracy: 14.481036737605516\n",
            "Total Pit Predictions: 33644\n",
            "[3000] Loss: 14.28\n",
            "Overall Accuracy: 33.14%\n",
            "Total No Pit Accuracy: 95.81622176591375\n",
            "Total Pit Accuracy: 14.251459952817418\n",
            "Total Pit Predictions: 25857\n",
            "[3500] Loss: 4.47\n",
            "Overall Accuracy: 39.64%\n",
            "Total No Pit Accuracy: 95.68605093120487\n",
            "Total Pit Accuracy: 14.131891891891893\n",
            "Total Pit Predictions: 23125\n",
            "[4000] Loss: 9.92\n",
            "Overall Accuracy: 42.34%\n",
            "Total No Pit Accuracy: 95.71148435501748\n",
            "Total Pit Accuracy: 13.777372262773724\n",
            "Total Pit Predictions: 21920\n",
            "[4500] Loss: 4.04\n",
            "Overall Accuracy: 44.38%\n",
            "Total No Pit Accuracy: 95.79851993315827\n",
            "Total Pit Accuracy: 13.722606963286216\n",
            "Total Pit Predictions: 21082\n",
            "[5000] Loss: 17.49\n",
            "Overall Accuracy: 45.76%\n",
            "Total No Pit Accuracy: 95.87250630589314\n",
            "Total Pit Accuracy: 13.877273169308568\n",
            "Total Pit Predictions: 20566\n",
            "[5500] Loss: 14.73\n",
            "Overall Accuracy: 46.80%\n",
            "Total No Pit Accuracy: 95.84593816867114\n",
            "Total Pit Accuracy: 13.724124203821656\n",
            "Total Pit Predictions: 20096\n",
            "[6000] Loss: 13.22\n",
            "Overall Accuracy: 46.79%\n",
            "Total No Pit Accuracy: 95.84685748008262\n",
            "Total Pit Accuracy: 13.701289006121534\n",
            "Total Pit Predictions: 20093\n",
            "[6500] Loss: 12.68\n",
            "Overall Accuracy: 47.77%\n",
            "Total No Pit Accuracy: 95.93127740636906\n",
            "Total Pit Accuracy: 13.821055831391224\n",
            "Total Pit Predictions: 19738\n",
            "[7000] Loss: 12.73\n",
            "Overall Accuracy: 47.93%\n",
            "Total No Pit Accuracy: 95.94304522037778\n",
            "Total Pit Accuracy: 13.82097290702994\n",
            "Total Pit Predictions: 19673\n",
            "[7500] Loss: 10.40\n",
            "Overall Accuracy: 47.94%\n",
            "Total No Pit Accuracy: 95.9379246227562\n",
            "Total Pit Accuracy: 13.810637648733856\n",
            "Total Pit Predictions: 19666\n",
            "[8000] Loss: 6.36\n",
            "Overall Accuracy: 47.75%\n",
            "Total No Pit Accuracy: 95.94273793252283\n",
            "Total Pit Accuracy: 13.819120923637836\n",
            "Total Pit Predictions: 19748\n",
            "[8500] Loss: 12.55\n",
            "Overall Accuracy: 47.97%\n",
            "Total No Pit Accuracy: 95.94198756876473\n",
            "Total Pit Accuracy: 13.810299206187665\n",
            "Total Pit Predictions: 19652\n",
            "[9000] Loss: 5.46\n",
            "Overall Accuracy: 47.75%\n",
            "Total No Pit Accuracy: 95.94361334867664\n",
            "Total Pit Accuracy: 13.81109141554824\n",
            "Total Pit Predictions: 19745\n",
            "[9500] Loss: 6.92\n",
            "Overall Accuracy: 47.98%\n",
            "Total No Pit Accuracy: 95.94343665190686\n",
            "Total Pit Accuracy: 13.793454471420574\n",
            "Total Pit Predictions: 19647\n",
            "[10000] Loss: 10.19\n",
            "Overall Accuracy: 47.98%\n",
            "Total No Pit Accuracy: 95.94343665190686\n",
            "Total Pit Accuracy: 13.793454471420574\n",
            "Total Pit Predictions: 19647\n"
          ]
        },
        {
          "output_type": "display_data",
          "data": {
            "text/plain": [
              "<IPython.core.display.HTML object>"
            ],
            "text/html": []
          },
          "metadata": {}
        },
        {
          "output_type": "display_data",
          "data": {
            "text/plain": [
              "<IPython.core.display.HTML object>"
            ],
            "text/html": [
              "<br>    <style><br>        .wandb-row {<br>            display: flex;<br>            flex-direction: row;<br>            flex-wrap: wrap;<br>            justify-content: flex-start;<br>            width: 100%;<br>        }<br>        .wandb-col {<br>            display: flex;<br>            flex-direction: column;<br>            flex-basis: 100%;<br>            flex: 1;<br>            padding: 10px;<br>        }<br>    </style><br><div class=\"wandb-row\"><div class=\"wandb-col\"><h3>Run history:</h3><br/><table class=\"wandb\"><tr><td>loss</td><td>▂█▄▅▃▅▄▄▂▃▃▅▃▃▃▅▁▂▃▂▄▃▂▄▂▁▃▂▂▄▂▄▄▂▂▃▅▄▄▂</td></tr><tr><td>overall_accuracy</td><td>▁▁▁▁▁▁▅▆▇▇███████████</td></tr><tr><td>total no pit accurary (exact match)</td><td>▁▁███████████████████</td></tr><tr><td>total pit accurary (3 laps either side)</td><td>██████▆▅▂▁▃▁▁▂▂▂▂▂▂▂▂</td></tr><tr><td>total pit predictions</td><td>██████▄▃▂▂▁▁▁▁▁▁▁▁▁▁▁</td></tr></table><br/></div><div class=\"wandb-col\"><h3>Run summary:</h3><br/><table class=\"wandb\"><tr><td>loss</td><td>10.18532</td></tr><tr><td>overall_accuracy</td><td>47.97765</td></tr><tr><td>total no pit accurary (exact match)</td><td>95.94344</td></tr><tr><td>total pit accurary (3 laps either side)</td><td>13.79345</td></tr><tr><td>total pit predictions</td><td>19647</td></tr></table><br/></div></div>"
            ]
          },
          "metadata": {}
        },
        {
          "output_type": "display_data",
          "data": {
            "text/plain": [
              "<IPython.core.display.HTML object>"
            ],
            "text/html": [
              " View run <strong style=\"color:#cdcd00\">cosmic-sweep-10</strong> at: <a href='https://wandb.ai/vm800-university-of-york/binary_classifier_emd/runs/urkp4bqw' target=\"_blank\">https://wandb.ai/vm800-university-of-york/binary_classifier_emd/runs/urkp4bqw</a><br> View project at: <a href='https://wandb.ai/vm800-university-of-york/binary_classifier_emd' target=\"_blank\">https://wandb.ai/vm800-university-of-york/binary_classifier_emd</a><br>Synced 5 W&B file(s), 0 media file(s), 0 artifact file(s) and 1 other file(s)"
            ]
          },
          "metadata": {}
        },
        {
          "output_type": "display_data",
          "data": {
            "text/plain": [
              "<IPython.core.display.HTML object>"
            ],
            "text/html": [
              "Find logs at: <code>./wandb/run-20241229_195957-urkp4bqw/logs</code>"
            ]
          },
          "metadata": {}
        }
      ]
    },
    {
      "cell_type": "code",
      "source": [],
      "metadata": {
        "id": "1GOfY8xWwX_W"
      },
      "execution_count": null,
      "outputs": []
    }
  ]
}