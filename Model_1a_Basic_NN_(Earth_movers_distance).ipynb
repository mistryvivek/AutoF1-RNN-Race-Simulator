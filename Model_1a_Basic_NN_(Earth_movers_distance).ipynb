{
  "nbformat": 4,
  "nbformat_minor": 0,
  "metadata": {
    "colab": {
      "provenance": [],
      "gpuType": "T4",
      "mount_file_id": "10QvLz-gCqTCqQu5-ePXNjBJ3aogTxzhp",
      "authorship_tag": "ABX9TyPNGkYC6jyOceqQ2MxBSvIW",
      "include_colab_link": true
    },
    "kernelspec": {
      "name": "python3",
      "display_name": "Python 3"
    },
    "language_info": {
      "name": "python"
    },
    "accelerator": "GPU",
    "widgets": {
      "application/vnd.jupyter.widget-state+json": {
        "29d07d63183645c3ad83bba53a73a034": {
          "model_module": "@jupyter-widgets/controls",
          "model_name": "VBoxModel",
          "model_module_version": "1.5.0",
          "state": {
            "_dom_classes": [],
            "_model_module": "@jupyter-widgets/controls",
            "_model_module_version": "1.5.0",
            "_model_name": "VBoxModel",
            "_view_count": null,
            "_view_module": "@jupyter-widgets/controls",
            "_view_module_version": "1.5.0",
            "_view_name": "VBoxView",
            "box_style": "",
            "children": [
              "IPY_MODEL_cf1b1822dff24cc98487e1ca45cce072",
              "IPY_MODEL_c3c2b600c64241beae0ef02a08b6b94a"
            ],
            "layout": "IPY_MODEL_bf519eee274c4ccf89de198a6b7450ed"
          }
        },
        "cf1b1822dff24cc98487e1ca45cce072": {
          "model_module": "@jupyter-widgets/controls",
          "model_name": "LabelModel",
          "model_module_version": "1.5.0",
          "state": {
            "_dom_classes": [],
            "_model_module": "@jupyter-widgets/controls",
            "_model_module_version": "1.5.0",
            "_model_name": "LabelModel",
            "_view_count": null,
            "_view_module": "@jupyter-widgets/controls",
            "_view_module_version": "1.5.0",
            "_view_name": "LabelView",
            "description": "",
            "description_tooltip": null,
            "layout": "IPY_MODEL_252b8f0def3449648927ebc731ef1cb2",
            "placeholder": "​",
            "style": "IPY_MODEL_c3fac6d225de458ba62c097e0f1344b5",
            "value": "Waiting for wandb.init()...\r"
          }
        },
        "c3c2b600c64241beae0ef02a08b6b94a": {
          "model_module": "@jupyter-widgets/controls",
          "model_name": "FloatProgressModel",
          "model_module_version": "1.5.0",
          "state": {
            "_dom_classes": [],
            "_model_module": "@jupyter-widgets/controls",
            "_model_module_version": "1.5.0",
            "_model_name": "FloatProgressModel",
            "_view_count": null,
            "_view_module": "@jupyter-widgets/controls",
            "_view_module_version": "1.5.0",
            "_view_name": "ProgressView",
            "bar_style": "",
            "description": "",
            "description_tooltip": null,
            "layout": "IPY_MODEL_d9fadf80703b46fcbaad8f5edcaca349",
            "max": 1,
            "min": 0,
            "orientation": "horizontal",
            "style": "IPY_MODEL_0c2ba3e4bdb444b494352487f474d4a6",
            "value": 1
          }
        },
        "bf519eee274c4ccf89de198a6b7450ed": {
          "model_module": "@jupyter-widgets/base",
          "model_name": "LayoutModel",
          "model_module_version": "1.2.0",
          "state": {
            "_model_module": "@jupyter-widgets/base",
            "_model_module_version": "1.2.0",
            "_model_name": "LayoutModel",
            "_view_count": null,
            "_view_module": "@jupyter-widgets/base",
            "_view_module_version": "1.2.0",
            "_view_name": "LayoutView",
            "align_content": null,
            "align_items": null,
            "align_self": null,
            "border": null,
            "bottom": null,
            "display": null,
            "flex": null,
            "flex_flow": null,
            "grid_area": null,
            "grid_auto_columns": null,
            "grid_auto_flow": null,
            "grid_auto_rows": null,
            "grid_column": null,
            "grid_gap": null,
            "grid_row": null,
            "grid_template_areas": null,
            "grid_template_columns": null,
            "grid_template_rows": null,
            "height": null,
            "justify_content": null,
            "justify_items": null,
            "left": null,
            "margin": null,
            "max_height": null,
            "max_width": null,
            "min_height": null,
            "min_width": null,
            "object_fit": null,
            "object_position": null,
            "order": null,
            "overflow": null,
            "overflow_x": null,
            "overflow_y": null,
            "padding": null,
            "right": null,
            "top": null,
            "visibility": null,
            "width": null
          }
        },
        "252b8f0def3449648927ebc731ef1cb2": {
          "model_module": "@jupyter-widgets/base",
          "model_name": "LayoutModel",
          "model_module_version": "1.2.0",
          "state": {
            "_model_module": "@jupyter-widgets/base",
            "_model_module_version": "1.2.0",
            "_model_name": "LayoutModel",
            "_view_count": null,
            "_view_module": "@jupyter-widgets/base",
            "_view_module_version": "1.2.0",
            "_view_name": "LayoutView",
            "align_content": null,
            "align_items": null,
            "align_self": null,
            "border": null,
            "bottom": null,
            "display": null,
            "flex": null,
            "flex_flow": null,
            "grid_area": null,
            "grid_auto_columns": null,
            "grid_auto_flow": null,
            "grid_auto_rows": null,
            "grid_column": null,
            "grid_gap": null,
            "grid_row": null,
            "grid_template_areas": null,
            "grid_template_columns": null,
            "grid_template_rows": null,
            "height": null,
            "justify_content": null,
            "justify_items": null,
            "left": null,
            "margin": null,
            "max_height": null,
            "max_width": null,
            "min_height": null,
            "min_width": null,
            "object_fit": null,
            "object_position": null,
            "order": null,
            "overflow": null,
            "overflow_x": null,
            "overflow_y": null,
            "padding": null,
            "right": null,
            "top": null,
            "visibility": null,
            "width": null
          }
        },
        "c3fac6d225de458ba62c097e0f1344b5": {
          "model_module": "@jupyter-widgets/controls",
          "model_name": "DescriptionStyleModel",
          "model_module_version": "1.5.0",
          "state": {
            "_model_module": "@jupyter-widgets/controls",
            "_model_module_version": "1.5.0",
            "_model_name": "DescriptionStyleModel",
            "_view_count": null,
            "_view_module": "@jupyter-widgets/base",
            "_view_module_version": "1.2.0",
            "_view_name": "StyleView",
            "description_width": ""
          }
        },
        "d9fadf80703b46fcbaad8f5edcaca349": {
          "model_module": "@jupyter-widgets/base",
          "model_name": "LayoutModel",
          "model_module_version": "1.2.0",
          "state": {
            "_model_module": "@jupyter-widgets/base",
            "_model_module_version": "1.2.0",
            "_model_name": "LayoutModel",
            "_view_count": null,
            "_view_module": "@jupyter-widgets/base",
            "_view_module_version": "1.2.0",
            "_view_name": "LayoutView",
            "align_content": null,
            "align_items": null,
            "align_self": null,
            "border": null,
            "bottom": null,
            "display": null,
            "flex": null,
            "flex_flow": null,
            "grid_area": null,
            "grid_auto_columns": null,
            "grid_auto_flow": null,
            "grid_auto_rows": null,
            "grid_column": null,
            "grid_gap": null,
            "grid_row": null,
            "grid_template_areas": null,
            "grid_template_columns": null,
            "grid_template_rows": null,
            "height": null,
            "justify_content": null,
            "justify_items": null,
            "left": null,
            "margin": null,
            "max_height": null,
            "max_width": null,
            "min_height": null,
            "min_width": null,
            "object_fit": null,
            "object_position": null,
            "order": null,
            "overflow": null,
            "overflow_x": null,
            "overflow_y": null,
            "padding": null,
            "right": null,
            "top": null,
            "visibility": null,
            "width": null
          }
        },
        "0c2ba3e4bdb444b494352487f474d4a6": {
          "model_module": "@jupyter-widgets/controls",
          "model_name": "ProgressStyleModel",
          "model_module_version": "1.5.0",
          "state": {
            "_model_module": "@jupyter-widgets/controls",
            "_model_module_version": "1.5.0",
            "_model_name": "ProgressStyleModel",
            "_view_count": null,
            "_view_module": "@jupyter-widgets/base",
            "_view_module_version": "1.2.0",
            "_view_name": "StyleView",
            "bar_color": null,
            "description_width": ""
          }
        }
      }
    }
  },
  "cells": [
    {
      "cell_type": "markdown",
      "metadata": {
        "id": "view-in-github",
        "colab_type": "text"
      },
      "source": [
        "<a href=\"https://colab.research.google.com/github/mistryvivek/YRKCS-PRBX/blob/main/Model_1a_Basic_NN_(Earth_movers_distance).ipynb\" target=\"_parent\"><img src=\"https://colab.research.google.com/assets/colab-badge.svg\" alt=\"Open In Colab\"/></a>"
      ]
    },
    {
      "cell_type": "code",
      "execution_count": 1,
      "metadata": {
        "id": "9BKFIobTm36L"
      },
      "outputs": [],
      "source": [
        "import torch\n",
        "import torch.nn as nn\n",
        "import numpy as np\n",
        "import random\n",
        "import pandas as pd\n",
        "import random\n",
        "from sklearn.preprocessing import LabelEncoder"
      ]
    },
    {
      "cell_type": "code",
      "source": [
        "device = torch.device('cuda' if torch.cuda.is_available() else 'cpu')\n",
        "print(f'Using device: {device}')"
      ],
      "metadata": {
        "colab": {
          "base_uri": "https://localhost:8080/"
        },
        "id": "VOupk8NfiXR7",
        "outputId": "27264802-b243-4d2c-c71c-c3455352fc50"
      },
      "execution_count": 2,
      "outputs": [
        {
          "output_type": "stream",
          "name": "stdout",
          "text": [
            "Using device: cpu\n"
          ]
        }
      ]
    },
    {
      "cell_type": "markdown",
      "source": [
        "# Setup Weights and Bias.\n",
        "\n",
        "* AI experimental tool."
      ],
      "metadata": {
        "id": "cnr6oqBffyAx"
      }
    },
    {
      "cell_type": "code",
      "source": [
        "!pip install wandb -qU"
      ],
      "metadata": {
        "id": "cA-o8vzff3Y3"
      },
      "execution_count": 3,
      "outputs": []
    },
    {
      "cell_type": "code",
      "source": [
        "# Log in to your W&B account\n",
        "import wandb\n",
        "import random\n",
        "import math"
      ],
      "metadata": {
        "id": "3F4388sHf7FM"
      },
      "execution_count": 4,
      "outputs": []
    },
    {
      "cell_type": "code",
      "source": [
        "wandb.login()"
      ],
      "metadata": {
        "id": "0KY69sdrgAqC",
        "colab": {
          "base_uri": "https://localhost:8080/",
          "height": 161
        },
        "outputId": "c90b99e9-3337-48bb-8ac7-a7a20f4d1328"
      },
      "execution_count": 5,
      "outputs": [
        {
          "output_type": "stream",
          "name": "stderr",
          "text": [
            "\u001b[34m\u001b[1mwandb\u001b[0m: Using wandb-core as the SDK backend.  Please refer to https://wandb.me/wandb-core for more information.\n"
          ]
        },
        {
          "output_type": "display_data",
          "data": {
            "text/plain": [
              "<IPython.core.display.Javascript object>"
            ],
            "application/javascript": [
              "\n",
              "        window._wandbApiKey = new Promise((resolve, reject) => {\n",
              "            function loadScript(url) {\n",
              "            return new Promise(function(resolve, reject) {\n",
              "                let newScript = document.createElement(\"script\");\n",
              "                newScript.onerror = reject;\n",
              "                newScript.onload = resolve;\n",
              "                document.body.appendChild(newScript);\n",
              "                newScript.src = url;\n",
              "            });\n",
              "            }\n",
              "            loadScript(\"https://cdn.jsdelivr.net/npm/postmate/build/postmate.min.js\").then(() => {\n",
              "            const iframe = document.createElement('iframe')\n",
              "            iframe.style.cssText = \"width:0;height:0;border:none\"\n",
              "            document.body.appendChild(iframe)\n",
              "            const handshake = new Postmate({\n",
              "                container: iframe,\n",
              "                url: 'https://wandb.ai/authorize'\n",
              "            });\n",
              "            const timeout = setTimeout(() => reject(\"Couldn't auto authenticate\"), 5000)\n",
              "            handshake.then(function(child) {\n",
              "                child.on('authorize', data => {\n",
              "                    clearTimeout(timeout)\n",
              "                    resolve(data)\n",
              "                });\n",
              "            });\n",
              "            })\n",
              "        });\n",
              "    "
            ]
          },
          "metadata": {}
        },
        {
          "output_type": "stream",
          "name": "stderr",
          "text": [
            "\u001b[34m\u001b[1mwandb\u001b[0m: Logging into wandb.ai. (Learn how to deploy a W&B server locally: https://wandb.me/wandb-server)\n",
            "\u001b[34m\u001b[1mwandb\u001b[0m: You can find your API key in your browser here: https://wandb.ai/authorize\n",
            "wandb: Paste an API key from your profile and hit enter, or press ctrl+c to quit:"
          ]
        },
        {
          "name": "stdout",
          "output_type": "stream",
          "text": [
            " ··········\n"
          ]
        },
        {
          "output_type": "stream",
          "name": "stderr",
          "text": [
            "\u001b[34m\u001b[1mwandb\u001b[0m: Appending key for api.wandb.ai to your netrc file: /root/.netrc\n"
          ]
        },
        {
          "output_type": "execute_result",
          "data": {
            "text/plain": [
              "True"
            ]
          },
          "metadata": {},
          "execution_count": 5
        }
      ]
    },
    {
      "cell_type": "markdown",
      "source": [
        "# Earth Movers Distance Loss\n",
        "\n",
        "* https://github.com/TakaraResearch/Pytorch-1D-Wasserstein-Statistical-Loss/blob/master/pytorch_stats_loss.py"
      ],
      "metadata": {
        "id": "dAdUs-wdrOjk"
      }
    },
    {
      "cell_type": "code",
      "source": [
        "import torch\n",
        "from torch.autograd import Variable\n",
        "\n",
        "\n",
        "#######################################################\n",
        "#       STATISTICAL DISTANCES(LOSSES) IN PYTORCH      #\n",
        "#######################################################\n",
        "\n",
        "## Statistial Distances for 1D weight distributions\n",
        "## Inspired by Scipy.Stats Statistial Distances for 1D\n",
        "## Pytorch Version, supporting Autograd to make a valid Loss\n",
        "## Supposing Inputs are Groups of Same-Length Weight Vectors\n",
        "## Instead of (Points, Weight), full-length Weight Vectors are taken as Inputs\n",
        "## Code Written by E.Bao, CASIA\n",
        "\n",
        "def torch_wasserstein_loss(tensor_a,tensor_b):\n",
        "    #Compute the first Wasserstein distance between two 1D distributions.\n",
        "    return(torch_cdf_loss(tensor_a,tensor_b,p=1))\n",
        "\n",
        "def torch_energy_loss(tensor_a,tensor_b):\n",
        "    # Compute the energy distance between two 1D distributions.\n",
        "    return((2**0.5)*torch_cdf_loss(tensor_a,tensor_b,p=2))\n",
        "\n",
        "def torch_cdf_loss(tensor_a,tensor_b,p=1):\n",
        "    # last-dimension is weight distribution\n",
        "    # p is the norm of the distance, p=1 --> First Wasserstein Distance\n",
        "    # to get a positive weight with our normalized distribution\n",
        "    # we recommend combining this loss with other difference-based losses like L1\n",
        "\n",
        "    # normalize distribution, add 1e-14 to divisor to avoid 0/0\n",
        "    tensor_a = tensor_a / (torch.sum(tensor_a, dim=-1, keepdim=True) + 1e-14)\n",
        "    tensor_b = tensor_b / (torch.sum(tensor_b, dim=-1, keepdim=True) + 1e-14)\n",
        "    # make cdf with cumsum\n",
        "    cdf_tensor_a = torch.cumsum(tensor_a,dim=-1)\n",
        "    cdf_tensor_b = torch.cumsum(tensor_b,dim=-1)\n",
        "\n",
        "    # choose different formulas for different norm situations\n",
        "    if p == 1:\n",
        "        cdf_distance = torch.sum(torch.abs((cdf_tensor_a-cdf_tensor_b)),dim=-1)\n",
        "    elif p == 2:\n",
        "        cdf_distance = torch.sqrt(torch.sum(torch.pow((cdf_tensor_a-cdf_tensor_b),2),dim=-1))\n",
        "    else:\n",
        "        cdf_distance = torch.pow(torch.sum(torch.pow(torch.abs(cdf_tensor_a-cdf_tensor_b),p),dim=-1),1/p)\n",
        "\n",
        "    cdf_loss = cdf_distance.mean()\n",
        "    return cdf_loss\n",
        "\n",
        "def torch_validate_distibution(tensor_a,tensor_b):\n",
        "    # Zero sized dimension is not supported by pytorch, we suppose there is no empty inputs\n",
        "    # Weights should be non-negetive, and with a positive and finite sum\n",
        "    # We suppose all conditions will be corrected by network training\n",
        "    # We only check the match of the size here\n",
        "    if tensor_a.size() != tensor_b.size():\n",
        "        raise ValueError(\"Input weight tensors must be of the same size\")"
      ],
      "metadata": {
        "id": "cFslJkAYrQqm"
      },
      "execution_count": 6,
      "outputs": []
    },
    {
      "cell_type": "markdown",
      "source": [
        "## Modify code for sliding window approach (like wk11 code).\n",
        "\n",
        "* Look at the full race image instead.\n",
        "* What data types are in the wk11 practical.\n",
        "* No vocab size required because they apply to catogorical contexts."
      ],
      "metadata": {
        "id": "0vxpMwPmrCNG"
      }
    },
    {
      "cell_type": "code",
      "source": [
        "BASE_PATH = r\"/content/drive/MyDrive/prbx_data/v1/\"\n",
        "max_race_size = 0\n",
        "max_tyre_life = 0"
      ],
      "metadata": {
        "id": "VEYJqy9UAizz"
      },
      "execution_count": 7,
      "outputs": []
    },
    {
      "cell_type": "markdown",
      "source": [
        "# Compound Encoder"
      ],
      "metadata": {
        "id": "KYown7wKKgHs"
      }
    },
    {
      "cell_type": "code",
      "source": [
        "compound_encoder = LabelEncoder()\n",
        "all_compounds = ['SOFT', 'MEDIUM', 'HARD', 'INTERMEDIATE', 'WET']\n",
        "compound_encoder.fit(all_compounds)"
      ],
      "metadata": {
        "id": "RX0MlOxVKjBB",
        "colab": {
          "base_uri": "https://localhost:8080/",
          "height": 100
        },
        "outputId": "85d3b5ac-1770-487d-f91b-d292ea1a496d"
      },
      "execution_count": 23,
      "outputs": [
        {
          "output_type": "execute_result",
          "data": {
            "text/plain": [
              "LabelEncoder()"
            ],
            "text/html": [
              "<style>#sk-container-id-2 {\n",
              "  /* Definition of color scheme common for light and dark mode */\n",
              "  --sklearn-color-text: #000;\n",
              "  --sklearn-color-text-muted: #666;\n",
              "  --sklearn-color-line: gray;\n",
              "  /* Definition of color scheme for unfitted estimators */\n",
              "  --sklearn-color-unfitted-level-0: #fff5e6;\n",
              "  --sklearn-color-unfitted-level-1: #f6e4d2;\n",
              "  --sklearn-color-unfitted-level-2: #ffe0b3;\n",
              "  --sklearn-color-unfitted-level-3: chocolate;\n",
              "  /* Definition of color scheme for fitted estimators */\n",
              "  --sklearn-color-fitted-level-0: #f0f8ff;\n",
              "  --sklearn-color-fitted-level-1: #d4ebff;\n",
              "  --sklearn-color-fitted-level-2: #b3dbfd;\n",
              "  --sklearn-color-fitted-level-3: cornflowerblue;\n",
              "\n",
              "  /* Specific color for light theme */\n",
              "  --sklearn-color-text-on-default-background: var(--sg-text-color, var(--theme-code-foreground, var(--jp-content-font-color1, black)));\n",
              "  --sklearn-color-background: var(--sg-background-color, var(--theme-background, var(--jp-layout-color0, white)));\n",
              "  --sklearn-color-border-box: var(--sg-text-color, var(--theme-code-foreground, var(--jp-content-font-color1, black)));\n",
              "  --sklearn-color-icon: #696969;\n",
              "\n",
              "  @media (prefers-color-scheme: dark) {\n",
              "    /* Redefinition of color scheme for dark theme */\n",
              "    --sklearn-color-text-on-default-background: var(--sg-text-color, var(--theme-code-foreground, var(--jp-content-font-color1, white)));\n",
              "    --sklearn-color-background: var(--sg-background-color, var(--theme-background, var(--jp-layout-color0, #111)));\n",
              "    --sklearn-color-border-box: var(--sg-text-color, var(--theme-code-foreground, var(--jp-content-font-color1, white)));\n",
              "    --sklearn-color-icon: #878787;\n",
              "  }\n",
              "}\n",
              "\n",
              "#sk-container-id-2 {\n",
              "  color: var(--sklearn-color-text);\n",
              "}\n",
              "\n",
              "#sk-container-id-2 pre {\n",
              "  padding: 0;\n",
              "}\n",
              "\n",
              "#sk-container-id-2 input.sk-hidden--visually {\n",
              "  border: 0;\n",
              "  clip: rect(1px 1px 1px 1px);\n",
              "  clip: rect(1px, 1px, 1px, 1px);\n",
              "  height: 1px;\n",
              "  margin: -1px;\n",
              "  overflow: hidden;\n",
              "  padding: 0;\n",
              "  position: absolute;\n",
              "  width: 1px;\n",
              "}\n",
              "\n",
              "#sk-container-id-2 div.sk-dashed-wrapped {\n",
              "  border: 1px dashed var(--sklearn-color-line);\n",
              "  margin: 0 0.4em 0.5em 0.4em;\n",
              "  box-sizing: border-box;\n",
              "  padding-bottom: 0.4em;\n",
              "  background-color: var(--sklearn-color-background);\n",
              "}\n",
              "\n",
              "#sk-container-id-2 div.sk-container {\n",
              "  /* jupyter's `normalize.less` sets `[hidden] { display: none; }`\n",
              "     but bootstrap.min.css set `[hidden] { display: none !important; }`\n",
              "     so we also need the `!important` here to be able to override the\n",
              "     default hidden behavior on the sphinx rendered scikit-learn.org.\n",
              "     See: https://github.com/scikit-learn/scikit-learn/issues/21755 */\n",
              "  display: inline-block !important;\n",
              "  position: relative;\n",
              "}\n",
              "\n",
              "#sk-container-id-2 div.sk-text-repr-fallback {\n",
              "  display: none;\n",
              "}\n",
              "\n",
              "div.sk-parallel-item,\n",
              "div.sk-serial,\n",
              "div.sk-item {\n",
              "  /* draw centered vertical line to link estimators */\n",
              "  background-image: linear-gradient(var(--sklearn-color-text-on-default-background), var(--sklearn-color-text-on-default-background));\n",
              "  background-size: 2px 100%;\n",
              "  background-repeat: no-repeat;\n",
              "  background-position: center center;\n",
              "}\n",
              "\n",
              "/* Parallel-specific style estimator block */\n",
              "\n",
              "#sk-container-id-2 div.sk-parallel-item::after {\n",
              "  content: \"\";\n",
              "  width: 100%;\n",
              "  border-bottom: 2px solid var(--sklearn-color-text-on-default-background);\n",
              "  flex-grow: 1;\n",
              "}\n",
              "\n",
              "#sk-container-id-2 div.sk-parallel {\n",
              "  display: flex;\n",
              "  align-items: stretch;\n",
              "  justify-content: center;\n",
              "  background-color: var(--sklearn-color-background);\n",
              "  position: relative;\n",
              "}\n",
              "\n",
              "#sk-container-id-2 div.sk-parallel-item {\n",
              "  display: flex;\n",
              "  flex-direction: column;\n",
              "}\n",
              "\n",
              "#sk-container-id-2 div.sk-parallel-item:first-child::after {\n",
              "  align-self: flex-end;\n",
              "  width: 50%;\n",
              "}\n",
              "\n",
              "#sk-container-id-2 div.sk-parallel-item:last-child::after {\n",
              "  align-self: flex-start;\n",
              "  width: 50%;\n",
              "}\n",
              "\n",
              "#sk-container-id-2 div.sk-parallel-item:only-child::after {\n",
              "  width: 0;\n",
              "}\n",
              "\n",
              "/* Serial-specific style estimator block */\n",
              "\n",
              "#sk-container-id-2 div.sk-serial {\n",
              "  display: flex;\n",
              "  flex-direction: column;\n",
              "  align-items: center;\n",
              "  background-color: var(--sklearn-color-background);\n",
              "  padding-right: 1em;\n",
              "  padding-left: 1em;\n",
              "}\n",
              "\n",
              "\n",
              "/* Toggleable style: style used for estimator/Pipeline/ColumnTransformer box that is\n",
              "clickable and can be expanded/collapsed.\n",
              "- Pipeline and ColumnTransformer use this feature and define the default style\n",
              "- Estimators will overwrite some part of the style using the `sk-estimator` class\n",
              "*/\n",
              "\n",
              "/* Pipeline and ColumnTransformer style (default) */\n",
              "\n",
              "#sk-container-id-2 div.sk-toggleable {\n",
              "  /* Default theme specific background. It is overwritten whether we have a\n",
              "  specific estimator or a Pipeline/ColumnTransformer */\n",
              "  background-color: var(--sklearn-color-background);\n",
              "}\n",
              "\n",
              "/* Toggleable label */\n",
              "#sk-container-id-2 label.sk-toggleable__label {\n",
              "  cursor: pointer;\n",
              "  display: flex;\n",
              "  width: 100%;\n",
              "  margin-bottom: 0;\n",
              "  padding: 0.5em;\n",
              "  box-sizing: border-box;\n",
              "  text-align: center;\n",
              "  align-items: start;\n",
              "  justify-content: space-between;\n",
              "  gap: 0.5em;\n",
              "}\n",
              "\n",
              "#sk-container-id-2 label.sk-toggleable__label .caption {\n",
              "  font-size: 0.6rem;\n",
              "  font-weight: lighter;\n",
              "  color: var(--sklearn-color-text-muted);\n",
              "}\n",
              "\n",
              "#sk-container-id-2 label.sk-toggleable__label-arrow:before {\n",
              "  /* Arrow on the left of the label */\n",
              "  content: \"▸\";\n",
              "  float: left;\n",
              "  margin-right: 0.25em;\n",
              "  color: var(--sklearn-color-icon);\n",
              "}\n",
              "\n",
              "#sk-container-id-2 label.sk-toggleable__label-arrow:hover:before {\n",
              "  color: var(--sklearn-color-text);\n",
              "}\n",
              "\n",
              "/* Toggleable content - dropdown */\n",
              "\n",
              "#sk-container-id-2 div.sk-toggleable__content {\n",
              "  max-height: 0;\n",
              "  max-width: 0;\n",
              "  overflow: hidden;\n",
              "  text-align: left;\n",
              "  /* unfitted */\n",
              "  background-color: var(--sklearn-color-unfitted-level-0);\n",
              "}\n",
              "\n",
              "#sk-container-id-2 div.sk-toggleable__content.fitted {\n",
              "  /* fitted */\n",
              "  background-color: var(--sklearn-color-fitted-level-0);\n",
              "}\n",
              "\n",
              "#sk-container-id-2 div.sk-toggleable__content pre {\n",
              "  margin: 0.2em;\n",
              "  border-radius: 0.25em;\n",
              "  color: var(--sklearn-color-text);\n",
              "  /* unfitted */\n",
              "  background-color: var(--sklearn-color-unfitted-level-0);\n",
              "}\n",
              "\n",
              "#sk-container-id-2 div.sk-toggleable__content.fitted pre {\n",
              "  /* unfitted */\n",
              "  background-color: var(--sklearn-color-fitted-level-0);\n",
              "}\n",
              "\n",
              "#sk-container-id-2 input.sk-toggleable__control:checked~div.sk-toggleable__content {\n",
              "  /* Expand drop-down */\n",
              "  max-height: 200px;\n",
              "  max-width: 100%;\n",
              "  overflow: auto;\n",
              "}\n",
              "\n",
              "#sk-container-id-2 input.sk-toggleable__control:checked~label.sk-toggleable__label-arrow:before {\n",
              "  content: \"▾\";\n",
              "}\n",
              "\n",
              "/* Pipeline/ColumnTransformer-specific style */\n",
              "\n",
              "#sk-container-id-2 div.sk-label input.sk-toggleable__control:checked~label.sk-toggleable__label {\n",
              "  color: var(--sklearn-color-text);\n",
              "  background-color: var(--sklearn-color-unfitted-level-2);\n",
              "}\n",
              "\n",
              "#sk-container-id-2 div.sk-label.fitted input.sk-toggleable__control:checked~label.sk-toggleable__label {\n",
              "  background-color: var(--sklearn-color-fitted-level-2);\n",
              "}\n",
              "\n",
              "/* Estimator-specific style */\n",
              "\n",
              "/* Colorize estimator box */\n",
              "#sk-container-id-2 div.sk-estimator input.sk-toggleable__control:checked~label.sk-toggleable__label {\n",
              "  /* unfitted */\n",
              "  background-color: var(--sklearn-color-unfitted-level-2);\n",
              "}\n",
              "\n",
              "#sk-container-id-2 div.sk-estimator.fitted input.sk-toggleable__control:checked~label.sk-toggleable__label {\n",
              "  /* fitted */\n",
              "  background-color: var(--sklearn-color-fitted-level-2);\n",
              "}\n",
              "\n",
              "#sk-container-id-2 div.sk-label label.sk-toggleable__label,\n",
              "#sk-container-id-2 div.sk-label label {\n",
              "  /* The background is the default theme color */\n",
              "  color: var(--sklearn-color-text-on-default-background);\n",
              "}\n",
              "\n",
              "/* On hover, darken the color of the background */\n",
              "#sk-container-id-2 div.sk-label:hover label.sk-toggleable__label {\n",
              "  color: var(--sklearn-color-text);\n",
              "  background-color: var(--sklearn-color-unfitted-level-2);\n",
              "}\n",
              "\n",
              "/* Label box, darken color on hover, fitted */\n",
              "#sk-container-id-2 div.sk-label.fitted:hover label.sk-toggleable__label.fitted {\n",
              "  color: var(--sklearn-color-text);\n",
              "  background-color: var(--sklearn-color-fitted-level-2);\n",
              "}\n",
              "\n",
              "/* Estimator label */\n",
              "\n",
              "#sk-container-id-2 div.sk-label label {\n",
              "  font-family: monospace;\n",
              "  font-weight: bold;\n",
              "  display: inline-block;\n",
              "  line-height: 1.2em;\n",
              "}\n",
              "\n",
              "#sk-container-id-2 div.sk-label-container {\n",
              "  text-align: center;\n",
              "}\n",
              "\n",
              "/* Estimator-specific */\n",
              "#sk-container-id-2 div.sk-estimator {\n",
              "  font-family: monospace;\n",
              "  border: 1px dotted var(--sklearn-color-border-box);\n",
              "  border-radius: 0.25em;\n",
              "  box-sizing: border-box;\n",
              "  margin-bottom: 0.5em;\n",
              "  /* unfitted */\n",
              "  background-color: var(--sklearn-color-unfitted-level-0);\n",
              "}\n",
              "\n",
              "#sk-container-id-2 div.sk-estimator.fitted {\n",
              "  /* fitted */\n",
              "  background-color: var(--sklearn-color-fitted-level-0);\n",
              "}\n",
              "\n",
              "/* on hover */\n",
              "#sk-container-id-2 div.sk-estimator:hover {\n",
              "  /* unfitted */\n",
              "  background-color: var(--sklearn-color-unfitted-level-2);\n",
              "}\n",
              "\n",
              "#sk-container-id-2 div.sk-estimator.fitted:hover {\n",
              "  /* fitted */\n",
              "  background-color: var(--sklearn-color-fitted-level-2);\n",
              "}\n",
              "\n",
              "/* Specification for estimator info (e.g. \"i\" and \"?\") */\n",
              "\n",
              "/* Common style for \"i\" and \"?\" */\n",
              "\n",
              ".sk-estimator-doc-link,\n",
              "a:link.sk-estimator-doc-link,\n",
              "a:visited.sk-estimator-doc-link {\n",
              "  float: right;\n",
              "  font-size: smaller;\n",
              "  line-height: 1em;\n",
              "  font-family: monospace;\n",
              "  background-color: var(--sklearn-color-background);\n",
              "  border-radius: 1em;\n",
              "  height: 1em;\n",
              "  width: 1em;\n",
              "  text-decoration: none !important;\n",
              "  margin-left: 0.5em;\n",
              "  text-align: center;\n",
              "  /* unfitted */\n",
              "  border: var(--sklearn-color-unfitted-level-1) 1pt solid;\n",
              "  color: var(--sklearn-color-unfitted-level-1);\n",
              "}\n",
              "\n",
              ".sk-estimator-doc-link.fitted,\n",
              "a:link.sk-estimator-doc-link.fitted,\n",
              "a:visited.sk-estimator-doc-link.fitted {\n",
              "  /* fitted */\n",
              "  border: var(--sklearn-color-fitted-level-1) 1pt solid;\n",
              "  color: var(--sklearn-color-fitted-level-1);\n",
              "}\n",
              "\n",
              "/* On hover */\n",
              "div.sk-estimator:hover .sk-estimator-doc-link:hover,\n",
              ".sk-estimator-doc-link:hover,\n",
              "div.sk-label-container:hover .sk-estimator-doc-link:hover,\n",
              ".sk-estimator-doc-link:hover {\n",
              "  /* unfitted */\n",
              "  background-color: var(--sklearn-color-unfitted-level-3);\n",
              "  color: var(--sklearn-color-background);\n",
              "  text-decoration: none;\n",
              "}\n",
              "\n",
              "div.sk-estimator.fitted:hover .sk-estimator-doc-link.fitted:hover,\n",
              ".sk-estimator-doc-link.fitted:hover,\n",
              "div.sk-label-container:hover .sk-estimator-doc-link.fitted:hover,\n",
              ".sk-estimator-doc-link.fitted:hover {\n",
              "  /* fitted */\n",
              "  background-color: var(--sklearn-color-fitted-level-3);\n",
              "  color: var(--sklearn-color-background);\n",
              "  text-decoration: none;\n",
              "}\n",
              "\n",
              "/* Span, style for the box shown on hovering the info icon */\n",
              ".sk-estimator-doc-link span {\n",
              "  display: none;\n",
              "  z-index: 9999;\n",
              "  position: relative;\n",
              "  font-weight: normal;\n",
              "  right: .2ex;\n",
              "  padding: .5ex;\n",
              "  margin: .5ex;\n",
              "  width: min-content;\n",
              "  min-width: 20ex;\n",
              "  max-width: 50ex;\n",
              "  color: var(--sklearn-color-text);\n",
              "  box-shadow: 2pt 2pt 4pt #999;\n",
              "  /* unfitted */\n",
              "  background: var(--sklearn-color-unfitted-level-0);\n",
              "  border: .5pt solid var(--sklearn-color-unfitted-level-3);\n",
              "}\n",
              "\n",
              ".sk-estimator-doc-link.fitted span {\n",
              "  /* fitted */\n",
              "  background: var(--sklearn-color-fitted-level-0);\n",
              "  border: var(--sklearn-color-fitted-level-3);\n",
              "}\n",
              "\n",
              ".sk-estimator-doc-link:hover span {\n",
              "  display: block;\n",
              "}\n",
              "\n",
              "/* \"?\"-specific style due to the `<a>` HTML tag */\n",
              "\n",
              "#sk-container-id-2 a.estimator_doc_link {\n",
              "  float: right;\n",
              "  font-size: 1rem;\n",
              "  line-height: 1em;\n",
              "  font-family: monospace;\n",
              "  background-color: var(--sklearn-color-background);\n",
              "  border-radius: 1rem;\n",
              "  height: 1rem;\n",
              "  width: 1rem;\n",
              "  text-decoration: none;\n",
              "  /* unfitted */\n",
              "  color: var(--sklearn-color-unfitted-level-1);\n",
              "  border: var(--sklearn-color-unfitted-level-1) 1pt solid;\n",
              "}\n",
              "\n",
              "#sk-container-id-2 a.estimator_doc_link.fitted {\n",
              "  /* fitted */\n",
              "  border: var(--sklearn-color-fitted-level-1) 1pt solid;\n",
              "  color: var(--sklearn-color-fitted-level-1);\n",
              "}\n",
              "\n",
              "/* On hover */\n",
              "#sk-container-id-2 a.estimator_doc_link:hover {\n",
              "  /* unfitted */\n",
              "  background-color: var(--sklearn-color-unfitted-level-3);\n",
              "  color: var(--sklearn-color-background);\n",
              "  text-decoration: none;\n",
              "}\n",
              "\n",
              "#sk-container-id-2 a.estimator_doc_link.fitted:hover {\n",
              "  /* fitted */\n",
              "  background-color: var(--sklearn-color-fitted-level-3);\n",
              "}\n",
              "</style><div id=\"sk-container-id-2\" class=\"sk-top-container\"><div class=\"sk-text-repr-fallback\"><pre>LabelEncoder()</pre><b>In a Jupyter environment, please rerun this cell to show the HTML representation or trust the notebook. <br />On GitHub, the HTML representation is unable to render, please try loading this page with nbviewer.org.</b></div><div class=\"sk-container\" hidden><div class=\"sk-item\"><div class=\"sk-estimator fitted sk-toggleable\"><input class=\"sk-toggleable__control sk-hidden--visually\" id=\"sk-estimator-id-2\" type=\"checkbox\" checked><label for=\"sk-estimator-id-2\" class=\"sk-toggleable__label fitted sk-toggleable__label-arrow\"><div><div>LabelEncoder</div></div><div><a class=\"sk-estimator-doc-link fitted\" rel=\"noreferrer\" target=\"_blank\" href=\"https://scikit-learn.org/1.6/modules/generated/sklearn.preprocessing.LabelEncoder.html\">?<span>Documentation for LabelEncoder</span></a><span class=\"sk-estimator-doc-link fitted\">i<span>Fitted</span></span></div></label><div class=\"sk-toggleable__content fitted\"><pre>LabelEncoder()</pre></div> </div></div></div></div>"
            ]
          },
          "metadata": {},
          "execution_count": 23
        }
      ]
    },
    {
      "cell_type": "code",
      "source": [
        "# TRAINING\n",
        "training_inputs = []\n",
        "training_outputs = []\n",
        "\n",
        "RaceCalender22 = pd.read_csv(BASE_PATH + r\"2022/eventCalender2022.csv\")\n",
        "for _, row in RaceCalender22.iterrows():\n",
        "    if row['EventFormat'] != 'testing':\n",
        "        TempRaceLoad = pd.read_csv(\n",
        "            BASE_PATH + f\"2022/{row['RoundNumber']}_{row['OfficialEventName']}/{row['RoundNumber']}_{row['OfficialEventName']}_Race.csv\".replace(\" \", \"_\")\n",
        "        )\n",
        "        for driver in TempRaceLoad['Driver'].unique():\n",
        "            TempRaceLoadDriver = TempRaceLoad[TempRaceLoad['Driver'] == driver].sort_values(by='LapNumber', ascending=True)\n",
        "            tyre_life_array = TempRaceLoadDriver['TyreLife'].values\n",
        "            stint_array = TempRaceLoadDriver['Stint'].values\n",
        "            compound_array = TempRaceLoadDriver['Compound'].values  # Add the compound data\n",
        "\n",
        "            if max(TempRaceLoadDriver['LapNumber']) > max_race_size:\n",
        "                max_race_size = max(TempRaceLoadDriver['LapNumber'])\n",
        "\n",
        "            if max(TempRaceLoadDriver['TyreLife']) > max_tyre_life:\n",
        "                max_tyre_life = max(TempRaceLoadDriver['TyreLife'])\n",
        "\n",
        "            stint_change_array = [0 if stint_array[i] == stint_array[i + 1] else 1\n",
        "                                  for i in range(len(stint_array) - 1)] + [0]\n",
        "            stint_change_array = np.array(stint_change_array)\n",
        "\n",
        "            encoded_compounds = compound_encoder.transform(compound_array)\n",
        "\n",
        "            mandatory_pit_stop_made = []\n",
        "            # Make mandatory pit made list.\n",
        "            for compound in encoded_compounds:\n",
        "              if len(mandatory_pit_stop_made) > 0 and mandatory_pit_stop_made[-1] == 1:\n",
        "                mandatory_pit_stop_made.append(1)\n",
        "              elif compound != encoded_compounds[0]:\n",
        "                mandatory_pit_stop_made.append(1)\n",
        "              elif compound in [compound_encoder.transform(['INTERMEDIATE'])[0], compound_encoder.transform(['WET'])[0]]:\n",
        "                mandatory_pit_stop_made.append(1)\n",
        "              else:\n",
        "                mandatory_pit_stop_made.append(0)\n",
        "\n",
        "            # Combine tyre_life and compound as input features\n",
        "            combined_input = np.column_stack((tyre_life_array, encoded_compounds, mandatory_pit_stop_made))  # Combine into a 2D array\n",
        "            training_inputs.append(combined_input)\n",
        "            training_outputs.append(stint_change_array)"
      ],
      "metadata": {
        "id": "muIWawoGrFrn"
      },
      "execution_count": 32,
      "outputs": []
    },
    {
      "cell_type": "code",
      "source": [
        "# TESTING\n",
        "testing_inputs = []\n",
        "testing_outputs = []\n",
        "\n",
        "RaceCalender23 = pd.read_csv(BASE_PATH + r\"2023/eventCalender2023.csv\")\n",
        "for _, row in RaceCalender23.iterrows():\n",
        "    if row['EventFormat'] != 'testing':\n",
        "        TempRaceLoad = pd.read_csv(\n",
        "            BASE_PATH + f\"2023/{row['RoundNumber']}_{row['OfficialEventName']}/{row['RoundNumber']}_{row['OfficialEventName']}_Race.csv\".replace(\" \", \"_\")\n",
        "        )\n",
        "        for driver in TempRaceLoad['Driver'].unique():\n",
        "            TempRaceLoadDriver = TempRaceLoad[TempRaceLoad['Driver'] == driver].sort_values(by='LapNumber', ascending=True)\n",
        "            tyre_life_array = TempRaceLoadDriver['TyreLife'].values\n",
        "            stint_array = TempRaceLoadDriver['Stint'].values\n",
        "            compound_array = TempRaceLoadDriver['Compound'].values  # Add the compound data\n",
        "\n",
        "            if max(TempRaceLoadDriver['LapNumber']) > max_race_size:\n",
        "                max_race_size = max(TempRaceLoadDriver['LapNumber'])\n",
        "\n",
        "            if max(TempRaceLoadDriver['TyreLife']) > max_tyre_life:\n",
        "                max_tyre_life = max(TempRaceLoadDriver['TyreLife'])\n",
        "\n",
        "            stint_change_array = [0 if stint_array[i] == stint_array[i + 1] else 1\n",
        "                                  for i in range(len(stint_array) - 1)] + [0]\n",
        "            stint_change_array = np.array(stint_change_array)\n",
        "\n",
        "            encoded_compounds = compound_encoder.transform(compound_array)\n",
        "\n",
        "            mandatory_pit_stop_made = []\n",
        "            # Make mandatory pit made list.\n",
        "            for compound in encoded_compounds:\n",
        "              if len(mandatory_pit_stop_made) > 0 and mandatory_pit_stop_made[-1] == 1:\n",
        "                mandatory_pit_stop_made.append(1)\n",
        "              elif compound != encoded_compounds[0]:\n",
        "                mandatory_pit_stop_made.append(1)\n",
        "              elif compound in [compound_encoder.transform(['INTERMEDIATE'])[0], compound_encoder.transform(['WET'])[0]]:\n",
        "                mandatory_pit_stop_made.append(1)\n",
        "              else:\n",
        "                mandatory_pit_stop_made.append(0)\n",
        "\n",
        "            # Combine tyre_life and compound as input features\n",
        "            combined_input = np.column_stack((tyre_life_array, encoded_compounds, mandatory_pit_stop_made))  # Combine into a 2D array\n",
        "            testing_inputs.append(combined_input)\n",
        "            testing_outputs.append(stint_change_array)"
      ],
      "metadata": {
        "id": "fEz0-Y5DrrEr"
      },
      "execution_count": 33,
      "outputs": []
    },
    {
      "cell_type": "code",
      "source": [
        "class RNNv1bDropout(nn.Module):\n",
        "    def __init__(self,input_size,hidden_size,dropout_prob): #vocab_size\n",
        "        super(RNNv1bDropout, self).__init__()\n",
        "        #self.embedding =  nn.Embedding(vocab_size, hidden_size)\n",
        "        self.linear_x = nn.Linear(input_size, hidden_size)\n",
        "        self.linear_h = nn.Linear(hidden_size,hidden_size)\n",
        "        self.linear_y = nn.Linear(hidden_size,1)\n",
        "        self.tanh = nn.Tanh()\n",
        "        self.sigmoid = nn.Sigmoid()\n",
        "        self.dropout = nn.Dropout(dropout_prob)\n",
        "\n",
        "    def forward(self,x,hprev):\n",
        "        \"\"\"\n",
        "        h = self.tanh(self.embedding(x) + self.linear_h(hprev))\n",
        "        y = self.linear_y(h)\n",
        "        \"\"\"\n",
        "        h = self.tanh(self.linear_x(x) + self.linear_h(hprev))\n",
        "        h - self.dropout(h)\n",
        "        y = self.sigmoid(self.linear_y(h))\n",
        "        return h,y"
      ],
      "metadata": {
        "id": "SbssajRW_yHx"
      },
      "execution_count": 34,
      "outputs": []
    },
    {
      "cell_type": "code",
      "source": [
        "def calculate_loss(model,inputs,targets,hprev):\n",
        "  loss_func = torch_wasserstein_loss\n",
        "  seq_length = len(inputs)\n",
        "  outputs = []\n",
        "  for t in range(seq_length):\n",
        "    # For each character in the input sequence, pass through RNN with previous hidden state\n",
        "    hprev,y = model(inputs[t],hprev)\n",
        "    # Gradually build up matrix of output logits of size seq_length * vocab_size - we want it at every time step do not want this.\n",
        "    # Compute cross entropy loss for seq_length actual targets against estimated distributions\n",
        "    # RuntimeError: result type Float can't be cast to the desired output type Long\n",
        "    outputs.append(y)\n",
        "\n",
        "  outputs = torch.stack(outputs).squeeze(1)\n",
        "  loss = loss_func(targets, outputs)\n",
        "\n",
        "  # For truncated backprop, the next subsequence will use the final hidden state\n",
        "  # but will not backprop through it so we need to detach\n",
        "  hprev = hprev.detach()\n",
        "\n",
        "  return loss, hprev"
      ],
      "metadata": {
        "id": "Kblub6lCs1q9"
      },
      "execution_count": 35,
      "outputs": []
    },
    {
      "cell_type": "code",
      "source": [
        "# Model parameters to be logged by w and b.\n",
        "hidden_size = 6\n",
        "lr = 0.002\n",
        "iterations = 10000\n",
        "input_parameters = ['TyreLife', 'Compound']\n",
        "dataset = 'v1'\n",
        "input_size = 3\n",
        "dropout = 0.45"
      ],
      "metadata": {
        "id": "ZEPgYoM5tVB7"
      },
      "execution_count": 47,
      "outputs": []
    },
    {
      "cell_type": "code",
      "source": [
        "# PADDING\n",
        "def add_padding(max_race_size, sequence):\n",
        "    if len(sequence) >= max_race_size:\n",
        "        return sequence[:max_race_size]\n",
        "    else:\n",
        "        # Handle both 1D and 2D arrays\n",
        "        if sequence.ndim == 1:  # If 1D array\n",
        "            padding_shape = (max_race_size - len(sequence),)\n",
        "        else:  # If 2D array\n",
        "            padding_shape = (max_race_size - len(sequence), sequence.shape[1])\n",
        "\n",
        "        padding = np.zeros(padding_shape, dtype=sequence.dtype)\n",
        "        return np.concatenate([sequence, padding])"
      ],
      "metadata": {
        "id": "kZnrmrWCZewQ"
      },
      "execution_count": 48,
      "outputs": []
    },
    {
      "cell_type": "code",
      "source": [
        "def check_accuracy(model):\n",
        "  total, matches = 0, 0\n",
        "  no_pit_prediction_total, correct_no_pit_prediction = 0,0\n",
        "  pit_prediction_total, correct_pit_prediction = 0,0\n",
        "\n",
        "  for t in range(len(testing_inputs) - 1):\n",
        "      inputs = add_padding(int(max_race_size),testing_inputs[t])\n",
        "      outputs = add_padding(int(max_race_size),testing_outputs[t])\n",
        "      hprev = torch.zeros(hidden_size, device=device)\n",
        "\n",
        "      for x in range(len(inputs) - 1):\n",
        "\n",
        "        hprev, y = model(torch.tensor([inputs[x]], device=device, dtype=torch.float32), hprev)\n",
        "\n",
        "        if (y.item() > 0.5):\n",
        "          pit_prediction_total += 1\n",
        "          if 1 in outputs[max(0, x - 2): min(int(max_race_size), x+4)]:\n",
        "              correct_pit_prediction += 1\n",
        "        else:\n",
        "          no_pit_prediction_total += 1\n",
        "          if y.floor().item() == outputs[x]:\n",
        "              correct_no_pit_prediction += 1\n",
        "\n",
        "  if (pit_prediction_total + no_pit_prediction_total) != 0:\n",
        "      overall_accuracy = (correct_no_pit_prediction + correct_pit_prediction) / (no_pit_prediction_total + pit_prediction_total) * 100\n",
        "      print(f\"Overall Accuracy: {overall_accuracy:.2f}%\")\n",
        "      wandb.log({\"overall_accuracy\": overall_accuracy})\n",
        "  else:\n",
        "      print(\"Overall Accuracy: 0.0%\")\n",
        "      wandb.log({\"overall_accuracy\": 0.0})\n",
        "\n",
        "  if no_pit_prediction_total != 0:\n",
        "    print(f\"Total No Pit Accuracy: {correct_no_pit_prediction / no_pit_prediction_total * 100}\")\n",
        "    wandb.log({\"total no pit accurary (exact match)\": correct_no_pit_prediction / no_pit_prediction_total * 100})\n",
        "  else:\n",
        "    print(f\"Total No Pit Accuracy: 0.0\")\n",
        "    wandb.log({\"total no pit accurary (exact match)\": 0.0})\n",
        "\n",
        "  if pit_prediction_total != 0:\n",
        "    print(f\"Total Pit Accuracy: {correct_pit_prediction / pit_prediction_total * 100}\")\n",
        "    wandb.log({\"total pit accurary (3 laps either side)\": correct_pit_prediction / pit_prediction_total * 100})\n",
        "  else:\n",
        "    print(f\"Total Pit Accuracy: 0.0\")\n",
        "    wandb.log({r\"total pit accurary (3 laps either side)\": 0.0})\n",
        "\n",
        "  print(f\"Total Pit Predictions: {pit_prediction_total}\")\n",
        "  wandb.log({\"total pit predictions\": pit_prediction_total})"
      ],
      "metadata": {
        "id": "TmkbKIyMSOeA"
      },
      "execution_count": 49,
      "outputs": []
    },
    {
      "cell_type": "code",
      "source": [
        "def train(training_inputs, training_outputs):\n",
        "  model = RNNv1bDropout(input_size,hidden_size,dropout)#vocab_size\n",
        "  model.to(device)\n",
        "\n",
        "  optim = torch.optim.Adagrad(model.parameters(), lr = lr)\n",
        "\n",
        "  config = {\n",
        "      \"learning_rate\": lr,\n",
        "      \"hidden_size\": hidden_size,\n",
        "      \"iterations\": 10000,\n",
        "      \"input_parameters\": input_parameters,\n",
        "      \"dataset\": dataset,\n",
        "      \"input_size\": input_size,\n",
        "      \"loss_function\": \"torch_wasserstein_loss\",\n",
        "      \"dropout\": dropout\n",
        "  }\n",
        "\n",
        "  wandb.init(project=\"binary_classifier_emd\", config=config)\n",
        "\n",
        "  # Shuffle the data before starting the training loop\n",
        "  training_data = list(zip(training_inputs, training_outputs))\n",
        "  random.shuffle(training_data)\n",
        "  training_inputs, training_outputs = zip(*training_data)\n",
        "\n",
        "  n, p = 0, 0\n",
        "  while n<=iterations:\n",
        "    hprev = torch.zeros(hidden_size, device=device) # reset RNN memory\n",
        "\n",
        "    training_data = list(zip(training_inputs, training_outputs))\n",
        "    random.shuffle(training_data)\n",
        "    training_inputs, training_outputs = zip(*training_data)\n",
        "\n",
        "    # Why apply padding here\n",
        "    inputs = add_padding(int(max_race_size),training_inputs[p])\n",
        "    outputs = add_padding(int(max_race_size),training_outputs[p])\n",
        "\n",
        "    # Extract next subsequence of characters\n",
        "    inputs = torch.tensor(training_inputs[p],dtype=torch.float32, device=device)\n",
        "    targets = torch.tensor(training_outputs[p],dtype=torch.float32, device=device)\n",
        "\n",
        "    # Compute loss for current subsequence\n",
        "    loss, hprev = calculate_loss(model,inputs,targets,hprev)\n",
        "    optim.zero_grad()\n",
        "    loss.backward()\n",
        "    optim.step()\n",
        "\n",
        "    wandb.log({\"loss\": loss.item()})\n",
        "\n",
        "    if n % 500 == 0:\n",
        "      print('[{:}] Loss: {:.2f}'.format(n,loss.item()))\n",
        "      check_accuracy(model)\n",
        "\n",
        "    p += 1 # move data pointer\n",
        "    n += 1 # iteration counter\n",
        "\n",
        "    if p >= len(training_inputs):  # Check if we've gone through all data\n",
        "      # Shuffle the data before starting a new epoch\n",
        "      training_data = list(zip(training_inputs, training_outputs))\n",
        "      random.shuffle(training_data)\n",
        "      training_inputs, training_outputs = zip(*training_data)\n",
        "\n",
        "      p = 0\n",
        "\n",
        "  # Optionally, save the entire PyTorch model object\n",
        "  torch.save(model, \"full_model.pth\")\n",
        "  wandb.save(\"full_model.pth\")\n",
        "\n",
        "#train(training_inputs, training_outputs)"
      ],
      "metadata": {
        "id": "NjMwOzL7uykr"
      },
      "execution_count": 50,
      "outputs": []
    },
    {
      "cell_type": "code",
      "source": [
        "wandb.finish()"
      ],
      "metadata": {
        "id": "wzZYVE_bmc6I"
      },
      "execution_count": 54,
      "outputs": []
    },
    {
      "cell_type": "code",
      "source": [
        "# Define the sweep configuration\n",
        "sweep_config = {\n",
        "    'method': 'bayes',\n",
        "    'metric': {\n",
        "        'name': 'loss',\n",
        "        'goal': 'minimize'\n",
        "    },\n",
        "    'parameters': {\n",
        "        'learning_rate': {\n",
        "            'min': 1e-4,\n",
        "            'max': 1e-2\n",
        "        },\n",
        "        'optimizer': {\n",
        "            'values': ['adam', 'sgd', 'rmsprop', 'adagrad']\n",
        "        },\n",
        "        'hidden_size': {\n",
        "            'min': 1,\n",
        "            'max': 50\n",
        "        },\n",
        "        'dropout': {\n",
        "            'min': 0.1,\n",
        "            'max': 0.5\n",
        "        }\n",
        "    }\n",
        "}\n",
        "\n",
        "sweep_id = wandb.sweep(sweep_config, project=\"binary_classifier_emd\")"
      ],
      "metadata": {
        "colab": {
          "base_uri": "https://localhost:8080/"
        },
        "id": "9L4teKxZpM44",
        "outputId": "e79d55f3-885b-4446-eccd-fc3fcd347e54"
      },
      "execution_count": 52,
      "outputs": [
        {
          "output_type": "stream",
          "name": "stdout",
          "text": [
            "Create sweep with ID: 0sg2xel9\n",
            "Sweep URL: https://wandb.ai/vm800-university-of-york/binary_classifier_emd/sweeps/0sg2xel9\n"
          ]
        }
      ]
    },
    {
      "cell_type": "code",
      "source": [
        "# Run the sweep\n",
        "wandb.agent(sweep_id, function=lambda: train(training_inputs, training_outputs), count=10)"
      ],
      "metadata": {
        "colab": {
          "base_uri": "https://localhost:8080/",
          "height": 1000
        },
        "id": "_N4w2bCErZ-e",
        "outputId": "5be5a568-b6ed-4e4b-9ca0-d7ce383e08d3"
      },
      "execution_count": 53,
      "outputs": [
        {
          "output_type": "stream",
          "name": "stderr",
          "text": [
            "\u001b[34m\u001b[1mwandb\u001b[0m: Agent Starting Run: fahav4be with config:\n",
            "\u001b[34m\u001b[1mwandb\u001b[0m: \tdropout: 0.2708183050772066\n",
            "\u001b[34m\u001b[1mwandb\u001b[0m: \thidden_size: 21\n",
            "\u001b[34m\u001b[1mwandb\u001b[0m: \tlearning_rate: 0.00021407340575059963\n",
            "\u001b[34m\u001b[1mwandb\u001b[0m: \toptimizer: sgd\n",
            "\u001b[34m\u001b[1mwandb\u001b[0m: \u001b[33mWARNING\u001b[0m Ignoring project 'binary_classifier_emd' when running a sweep.\n"
          ]
        },
        {
          "output_type": "display_data",
          "data": {
            "text/plain": [
              "<IPython.core.display.HTML object>"
            ],
            "text/html": [
              "Tracking run with wandb version 0.19.1"
            ]
          },
          "metadata": {}
        },
        {
          "output_type": "display_data",
          "data": {
            "text/plain": [
              "<IPython.core.display.HTML object>"
            ],
            "text/html": [
              "Run data is saved locally in <code>/content/wandb/run-20241230_153729-fahav4be</code>"
            ]
          },
          "metadata": {}
        },
        {
          "output_type": "display_data",
          "data": {
            "text/plain": [
              "<IPython.core.display.HTML object>"
            ],
            "text/html": [
              "Syncing run <strong><a href='https://wandb.ai/vm800-university-of-york/binary_classifier_emd/runs/fahav4be' target=\"_blank\">logical-sweep-1</a></strong> to <a href='https://wandb.ai/vm800-university-of-york/binary_classifier_emd' target=\"_blank\">Weights & Biases</a> (<a href='https://wandb.me/developer-guide' target=\"_blank\">docs</a>)<br>Sweep page: <a href='https://wandb.ai/vm800-university-of-york/binary_classifier_emd/sweeps/0sg2xel9' target=\"_blank\">https://wandb.ai/vm800-university-of-york/binary_classifier_emd/sweeps/0sg2xel9</a>"
            ]
          },
          "metadata": {}
        },
        {
          "output_type": "display_data",
          "data": {
            "text/plain": [
              "<IPython.core.display.HTML object>"
            ],
            "text/html": [
              " View project at <a href='https://wandb.ai/vm800-university-of-york/binary_classifier_emd' target=\"_blank\">https://wandb.ai/vm800-university-of-york/binary_classifier_emd</a>"
            ]
          },
          "metadata": {}
        },
        {
          "output_type": "display_data",
          "data": {
            "text/plain": [
              "<IPython.core.display.HTML object>"
            ],
            "text/html": [
              " View sweep at <a href='https://wandb.ai/vm800-university-of-york/binary_classifier_emd/sweeps/0sg2xel9' target=\"_blank\">https://wandb.ai/vm800-university-of-york/binary_classifier_emd/sweeps/0sg2xel9</a>"
            ]
          },
          "metadata": {}
        },
        {
          "output_type": "display_data",
          "data": {
            "text/plain": [
              "<IPython.core.display.HTML object>"
            ],
            "text/html": [
              " View run at <a href='https://wandb.ai/vm800-university-of-york/binary_classifier_emd/runs/fahav4be' target=\"_blank\">https://wandb.ai/vm800-university-of-york/binary_classifier_emd/runs/fahav4be</a>"
            ]
          },
          "metadata": {}
        },
        {
          "output_type": "stream",
          "name": "stdout",
          "text": [
            "[0] Loss: 6.57\n"
          ]
        },
        {
          "output_type": "stream",
          "name": "stderr",
          "text": [
            "<ipython-input-49-e7617c931dd8>:13: UserWarning: Creating a tensor from a list of numpy.ndarrays is extremely slow. Please consider converting the list to a single numpy.ndarray with numpy.array() before converting to a tensor. (Triggered internally at ../torch/csrc/utils/tensor_new.cpp:278.)\n",
            "  hprev, y = model(torch.tensor([inputs[x]], device=device, dtype=torch.float32), hprev)\n"
          ]
        },
        {
          "output_type": "stream",
          "name": "stdout",
          "text": [
            "Overall Accuracy: 73.44%\n",
            "Total No Pit Accuracy: 96.4117390787754\n",
            "Total Pit Accuracy: 4.392857142857142\n",
            "Total Pit Predictions: 8400\n",
            "[500] Loss: 8.05\n",
            "Overall Accuracy: 73.06%\n",
            "Total No Pit Accuracy: 96.40670319046085\n",
            "Total Pit Accuracy: 7.388101983002833\n",
            "Total Pit Predictions: 8825\n",
            "[1000] Loss: 7.04\n",
            "Overall Accuracy: 74.08%\n",
            "Total No Pit Accuracy: 96.46038816417436\n",
            "Total Pit Accuracy: 7.901234567901234\n",
            "Total Pit Predictions: 8505\n",
            "[1500] Loss: 1.00\n",
            "Overall Accuracy: 74.14%\n",
            "Total No Pit Accuracy: 96.4608104346443\n",
            "Total Pit Accuracy: 8.139261350270525\n",
            "Total Pit Predictions: 8502\n",
            "[2000] Loss: 16.55\n",
            "Overall Accuracy: 75.81%\n",
            "Total No Pit Accuracy: 96.53683022685708\n",
            "Total Pit Accuracy: 8.79245283018868\n",
            "Total Pit Predictions: 7950\n",
            "[2500] Loss: 8.95\n",
            "Overall Accuracy: 90.92%\n",
            "Total No Pit Accuracy: 97.10587929240374\n",
            "Total Pit Accuracy: 25.267518122195376\n",
            "Total Pit Predictions: 2897\n",
            "[3000] Loss: 8.42\n",
            "Overall Accuracy: 92.08%\n",
            "Total No Pit Accuracy: 97.14074597616218\n",
            "Total Pit Accuracy: 29.579698651863602\n",
            "Total Pit Predictions: 2522\n",
            "[3500] Loss: 7.17\n",
            "Overall Accuracy: 92.03%\n",
            "Total No Pit Accuracy: 97.13881566257314\n",
            "Total Pit Accuracy: 29.532048761305546\n",
            "Total Pit Predictions: 2543\n",
            "[4000] Loss: 14.97\n",
            "Overall Accuracy: 92.22%\n",
            "Total No Pit Accuracy: 97.14753256754155\n",
            "Total Pit Accuracy: 30.40676600886025\n",
            "Total Pit Predictions: 2483\n",
            "[4500] Loss: 11.21\n",
            "Overall Accuracy: 91.89%\n",
            "Total No Pit Accuracy: 97.14212069465476\n",
            "Total Pit Accuracy: 29.51761102603369\n",
            "Total Pit Predictions: 2612\n",
            "[5000] Loss: 13.01\n",
            "Overall Accuracy: 91.46%\n",
            "Total No Pit Accuracy: 97.13101483064568\n",
            "Total Pit Accuracy: 28.15323455005421\n",
            "Total Pit Predictions: 2767\n",
            "[5500] Loss: 8.16\n",
            "Overall Accuracy: 92.42%\n",
            "Total No Pit Accuracy: 97.15741571593387\n",
            "Total Pit Accuracy: 31.983640081799592\n",
            "Total Pit Predictions: 2445\n",
            "[6000] Loss: 18.39\n",
            "Overall Accuracy: 92.32%\n",
            "Total No Pit Accuracy: 97.15615471031937\n",
            "Total Pit Accuracy: 31.916599839615078\n",
            "Total Pit Predictions: 2494\n",
            "[6500] Loss: 8.18\n",
            "Overall Accuracy: 92.31%\n",
            "Total No Pit Accuracy: 97.15578954126673\n",
            "Total Pit Accuracy: 31.945556445156125\n",
            "Total Pit Predictions: 2498\n",
            "[7000] Loss: 6.87\n",
            "Overall Accuracy: 92.42%\n",
            "Total No Pit Accuracy: 97.15879938429964\n",
            "Total Pit Accuracy: 32.41379310344827\n",
            "Total Pit Predictions: 2465\n",
            "[7500] Loss: 5.85\n",
            "Overall Accuracy: 92.47%\n",
            "Total No Pit Accuracy: 97.15916378094138\n",
            "Total Pit Accuracy: 33.035351483136935\n",
            "Total Pit Predictions: 2461\n",
            "[8000] Loss: 10.65\n",
            "Overall Accuracy: 92.55%\n",
            "Total No Pit Accuracy: 97.16098436298385\n",
            "Total Pit Accuracy: 33.55182302335108\n",
            "Total Pit Predictions: 2441\n",
            "[8500] Loss: 17.08\n",
            "Overall Accuracy: 92.42%\n",
            "Total No Pit Accuracy: 97.15963797419603\n",
            "Total Pit Accuracy: 33.11922922521076\n",
            "Total Pit Predictions: 2491\n",
            "[9000] Loss: 11.69\n",
            "Overall Accuracy: 91.89%\n",
            "Total No Pit Accuracy: 97.14082641424095\n",
            "Total Pit Accuracy: 31.63946587537092\n",
            "Total Pit Predictions: 2696\n",
            "[9500] Loss: 15.30\n",
            "Overall Accuracy: 91.88%\n",
            "Total No Pit Accuracy: 97.13851526125194\n",
            "Total Pit Accuracy: 32.08379272326351\n",
            "Total Pit Predictions: 2721\n",
            "[10000] Loss: 6.16\n",
            "Overall Accuracy: 91.38%\n",
            "Total No Pit Accuracy: 97.12017181347825\n",
            "Total Pit Accuracy: 30.877313228238517\n",
            "Total Pit Predictions: 2918\n"
          ]
        },
        {
          "output_type": "display_data",
          "data": {
            "text/plain": [
              "<IPython.core.display.HTML object>"
            ],
            "text/html": []
          },
          "metadata": {}
        },
        {
          "output_type": "display_data",
          "data": {
            "text/plain": [
              "<IPython.core.display.HTML object>"
            ],
            "text/html": [
              "<br>    <style><br>        .wandb-row {<br>            display: flex;<br>            flex-direction: row;<br>            flex-wrap: wrap;<br>            justify-content: flex-start;<br>            width: 100%;<br>        }<br>        .wandb-col {<br>            display: flex;<br>            flex-direction: column;<br>            flex-basis: 100%;<br>            flex: 1;<br>            padding: 10px;<br>        }<br>    </style><br><div class=\"wandb-row\"><div class=\"wandb-col\"><h3>Run history:</h3><br/><table class=\"wandb\"><tr><td>loss</td><td>▅▂▅▃▃▇▂▅▆▂▃▄▃█▅▅▄▁▇▂▄▂▂▃█▄▃▅▅▂▄▅▇▃▃▃▅▃▄▆</td></tr><tr><td>overall_accuracy</td><td>▁▁▁▁▂▇███████████████</td></tr><tr><td>total no pit accurary (exact match)</td><td>▁▁▁▂▂▇███████████████</td></tr><tr><td>total pit accurary (3 laps either side)</td><td>▁▂▂▂▂▆▇▇▇▇▇█████████▇</td></tr><tr><td>total pit predictions</td><td>████▇▁▁▁▁▁▁▁▁▁▁▁▁▁▁▁▂</td></tr></table><br/></div><div class=\"wandb-col\"><h3>Run summary:</h3><br/><table class=\"wandb\"><tr><td>loss</td><td>6.15506</td></tr><tr><td>overall_accuracy</td><td>91.37567</td></tr><tr><td>total no pit accurary (exact match)</td><td>97.12017</td></tr><tr><td>total pit accurary (3 laps either side)</td><td>30.87731</td></tr><tr><td>total pit predictions</td><td>2918</td></tr></table><br/></div></div>"
            ]
          },
          "metadata": {}
        },
        {
          "output_type": "display_data",
          "data": {
            "text/plain": [
              "<IPython.core.display.HTML object>"
            ],
            "text/html": [
              " View run <strong style=\"color:#cdcd00\">logical-sweep-1</strong> at: <a href='https://wandb.ai/vm800-university-of-york/binary_classifier_emd/runs/fahav4be' target=\"_blank\">https://wandb.ai/vm800-university-of-york/binary_classifier_emd/runs/fahav4be</a><br> View project at: <a href='https://wandb.ai/vm800-university-of-york/binary_classifier_emd' target=\"_blank\">https://wandb.ai/vm800-university-of-york/binary_classifier_emd</a><br>Synced 5 W&B file(s), 0 media file(s), 0 artifact file(s) and 1 other file(s)"
            ]
          },
          "metadata": {}
        },
        {
          "output_type": "display_data",
          "data": {
            "text/plain": [
              "<IPython.core.display.HTML object>"
            ],
            "text/html": [
              "Find logs at: <code>./wandb/run-20241230_153729-fahav4be/logs</code>"
            ]
          },
          "metadata": {}
        },
        {
          "output_type": "stream",
          "name": "stderr",
          "text": [
            "\u001b[34m\u001b[1mwandb\u001b[0m: Agent Starting Run: tylr5suz with config:\n",
            "\u001b[34m\u001b[1mwandb\u001b[0m: \tdropout: 0.2715300541003412\n",
            "\u001b[34m\u001b[1mwandb\u001b[0m: \thidden_size: 50\n",
            "\u001b[34m\u001b[1mwandb\u001b[0m: \tlearning_rate: 0.005415681234059654\n",
            "\u001b[34m\u001b[1mwandb\u001b[0m: \toptimizer: adam\n",
            "\u001b[34m\u001b[1mwandb\u001b[0m: \u001b[33mWARNING\u001b[0m Ignoring project 'binary_classifier_emd' when running a sweep.\n"
          ]
        },
        {
          "output_type": "display_data",
          "data": {
            "text/plain": [
              "<IPython.core.display.HTML object>"
            ],
            "text/html": [
              "Tracking run with wandb version 0.19.1"
            ]
          },
          "metadata": {}
        },
        {
          "output_type": "display_data",
          "data": {
            "text/plain": [
              "<IPython.core.display.HTML object>"
            ],
            "text/html": [
              "Run data is saved locally in <code>/content/wandb/run-20241230_154443-tylr5suz</code>"
            ]
          },
          "metadata": {}
        },
        {
          "output_type": "display_data",
          "data": {
            "text/plain": [
              "<IPython.core.display.HTML object>"
            ],
            "text/html": [
              "Syncing run <strong><a href='https://wandb.ai/vm800-university-of-york/binary_classifier_emd/runs/tylr5suz' target=\"_blank\">quiet-sweep-2</a></strong> to <a href='https://wandb.ai/vm800-university-of-york/binary_classifier_emd' target=\"_blank\">Weights & Biases</a> (<a href='https://wandb.me/developer-guide' target=\"_blank\">docs</a>)<br>Sweep page: <a href='https://wandb.ai/vm800-university-of-york/binary_classifier_emd/sweeps/0sg2xel9' target=\"_blank\">https://wandb.ai/vm800-university-of-york/binary_classifier_emd/sweeps/0sg2xel9</a>"
            ]
          },
          "metadata": {}
        },
        {
          "output_type": "display_data",
          "data": {
            "text/plain": [
              "<IPython.core.display.HTML object>"
            ],
            "text/html": [
              " View project at <a href='https://wandb.ai/vm800-university-of-york/binary_classifier_emd' target=\"_blank\">https://wandb.ai/vm800-university-of-york/binary_classifier_emd</a>"
            ]
          },
          "metadata": {}
        },
        {
          "output_type": "display_data",
          "data": {
            "text/plain": [
              "<IPython.core.display.HTML object>"
            ],
            "text/html": [
              " View sweep at <a href='https://wandb.ai/vm800-university-of-york/binary_classifier_emd/sweeps/0sg2xel9' target=\"_blank\">https://wandb.ai/vm800-university-of-york/binary_classifier_emd/sweeps/0sg2xel9</a>"
            ]
          },
          "metadata": {}
        },
        {
          "output_type": "display_data",
          "data": {
            "text/plain": [
              "<IPython.core.display.HTML object>"
            ],
            "text/html": [
              " View run at <a href='https://wandb.ai/vm800-university-of-york/binary_classifier_emd/runs/tylr5suz' target=\"_blank\">https://wandb.ai/vm800-university-of-york/binary_classifier_emd/runs/tylr5suz</a>"
            ]
          },
          "metadata": {}
        },
        {
          "output_type": "stream",
          "name": "stdout",
          "text": [
            "[0] Loss: 11.45\n",
            "Overall Accuracy: 96.29%\n",
            "Total No Pit Accuracy: 97.26808766136296\n",
            "Total Pit Accuracy: 0.0\n",
            "Total Pit Predictions: 339\n",
            "[500] Loss: 9.77\n",
            "Overall Accuracy: 96.06%\n",
            "Total No Pit Accuracy: 97.26151068311766\n",
            "Total Pit Accuracy: 0.47732696897374705\n",
            "Total Pit Predictions: 419\n",
            "[1000] Loss: 8.23\n",
            "Overall Accuracy: 93.85%\n",
            "Total No Pit Accuracy: 97.17913435076308\n",
            "Total Pit Accuracy: 30.125523012552303\n",
            "Total Pit Predictions: 1673\n",
            "[1500] Loss: 6.22\n",
            "Overall Accuracy: 93.78%\n",
            "Total No Pit Accuracy: 97.19734816350896\n",
            "Total Pit Accuracy: 34.13830954994512\n",
            "Total Pit Predictions: 1822\n",
            "[2000] Loss: 6.62\n",
            "Overall Accuracy: 93.78%\n",
            "Total No Pit Accuracy: 97.1971152332063\n",
            "Total Pit Accuracy: 36.550632911392405\n",
            "Total Pit Predictions: 1896\n",
            "[2500] Loss: 13.54\n",
            "Overall Accuracy: 93.77%\n",
            "Total No Pit Accuracy: 97.16473377330685\n",
            "Total Pit Accuracy: 50.2258726899384\n",
            "Total Pit Predictions: 2435\n",
            "[3000] Loss: 8.95\n",
            "Overall Accuracy: 93.75%\n",
            "Total No Pit Accuracy: 97.16291594537411\n",
            "Total Pit Accuracy: 50.42769857433809\n",
            "Total Pit Predictions: 2455\n",
            "[3500] Loss: 7.99\n",
            "Overall Accuracy: 93.74%\n",
            "Total No Pit Accuracy: 97.16266529721402\n",
            "Total Pit Accuracy: 50.90252707581227\n",
            "Total Pit Predictions: 2493\n",
            "[4000] Loss: 9.52\n",
            "Overall Accuracy: 93.57%\n",
            "Total No Pit Accuracy: 97.20987177008827\n",
            "Total Pit Accuracy: 50.24894676369207\n",
            "Total Pit Predictions: 2611\n",
            "[4500] Loss: 19.77\n",
            "Overall Accuracy: 93.51%\n",
            "Total No Pit Accuracy: 97.20652349426773\n",
            "Total Pit Accuracy: 50.81967213114754\n",
            "Total Pit Predictions: 2684\n",
            "[5000] Loss: 9.49\n",
            "Overall Accuracy: 92.97%\n",
            "Total No Pit Accuracy: 97.22765181131092\n",
            "Total Pit Accuracy: 48.73010497798849\n",
            "Total Pit Predictions: 2953\n",
            "[5500] Loss: 5.70\n",
            "Overall Accuracy: 92.97%\n",
            "Total No Pit Accuracy: 97.22466816684604\n",
            "Total Pit Accuracy: 49.2297387809779\n",
            "Total Pit Predictions: 2986\n",
            "[6000] Loss: 12.16\n",
            "Overall Accuracy: 92.93%\n",
            "Total No Pit Accuracy: 97.22648220054165\n",
            "Total Pit Accuracy: 49.100599600266484\n",
            "Total Pit Predictions: 3002\n",
            "[6500] Loss: 6.32\n",
            "Overall Accuracy: 91.42%\n",
            "Total No Pit Accuracy: 97.18384697130712\n",
            "Total Pit Accuracy: 42.380548487418714\n",
            "Total Pit Predictions: 3537\n",
            "[7000] Loss: 5.51\n",
            "Overall Accuracy: 90.70%\n",
            "Total No Pit Accuracy: 97.15912897822446\n",
            "Total Pit Accuracy: 39.931560937088705\n",
            "Total Pit Predictions: 3799\n",
            "[7500] Loss: 20.00\n",
            "Overall Accuracy: 89.55%\n",
            "Total No Pit Accuracy: 97.15160796324656\n",
            "Total Pit Accuracy: 37.171669793621014\n",
            "Total Pit Predictions: 4264\n",
            "[8000] Loss: 9.26\n",
            "Overall Accuracy: 89.56%\n",
            "Total No Pit Accuracy: 97.15481741142837\n",
            "Total Pit Accuracy: 37.24800750117206\n",
            "Total Pit Predictions: 4266\n",
            "[8500] Loss: 8.23\n",
            "Overall Accuracy: 88.95%\n",
            "Total No Pit Accuracy: 97.14050606871014\n",
            "Total Pit Accuracy: 35.690385902297564\n",
            "Total Pit Predictions: 4483\n",
            "[9000] Loss: 19.42\n",
            "Overall Accuracy: 88.91%\n",
            "Total No Pit Accuracy: 97.13834751578369\n",
            "Total Pit Accuracy: 35.64927857935627\n",
            "Total Pit Predictions: 4505\n",
            "[9500] Loss: 5.94\n",
            "Overall Accuracy: 87.14%\n",
            "Total No Pit Accuracy: 97.08448680660196\n",
            "Total Pit Accuracy: 31.61189358372457\n",
            "Total Pit Predictions: 5112\n",
            "[10000] Loss: 7.36\n",
            "Overall Accuracy: 86.93%\n",
            "Total No Pit Accuracy: 97.08321619342142\n",
            "Total Pit Accuracy: 31.27286732139418\n",
            "Total Pit Predictions: 5193\n"
          ]
        },
        {
          "output_type": "display_data",
          "data": {
            "text/plain": [
              "<IPython.core.display.HTML object>"
            ],
            "text/html": []
          },
          "metadata": {}
        },
        {
          "output_type": "display_data",
          "data": {
            "text/plain": [
              "<IPython.core.display.HTML object>"
            ],
            "text/html": [
              "<br>    <style><br>        .wandb-row {<br>            display: flex;<br>            flex-direction: row;<br>            flex-wrap: wrap;<br>            justify-content: flex-start;<br>            width: 100%;<br>        }<br>        .wandb-col {<br>            display: flex;<br>            flex-direction: column;<br>            flex-basis: 100%;<br>            flex: 1;<br>            padding: 10px;<br>        }<br>    </style><br><div class=\"wandb-row\"><div class=\"wandb-col\"><h3>Run history:</h3><br/><table class=\"wandb\"><tr><td>loss</td><td>▅▂▅▄▆▆▂▂▃▃▄▃▂▂▂▄▅█▇▇▅▂▂▄▂▁▁▁▂▅▁▃▂▂▆▂▁▁▂▂</td></tr><tr><td>overall_accuracy</td><td>██▆▆▆▆▆▆▆▆▆▆▅▄▄▃▃▃▂▁▁</td></tr><tr><td>total no pit accurary (exact match)</td><td>██▅▅▅▄▄▄▆▆▆▆▆▅▄▄▄▃▃▁▁</td></tr><tr><td>total pit accurary (3 laps either side)</td><td>▁▁▅▆▆████████▇▆▆▆▆▆▅▅</td></tr><tr><td>total pit predictions</td><td>▁▁▃▃▃▄▄▄▄▄▅▅▅▆▆▇▇▇▇██</td></tr></table><br/></div><div class=\"wandb-col\"><h3>Run summary:</h3><br/><table class=\"wandb\"><tr><td>loss</td><td>7.3644</td></tr><tr><td>overall_accuracy</td><td>86.9268</td></tr><tr><td>total no pit accurary (exact match)</td><td>97.08322</td></tr><tr><td>total pit accurary (3 laps either side)</td><td>31.27287</td></tr><tr><td>total pit predictions</td><td>5193</td></tr></table><br/></div></div>"
            ]
          },
          "metadata": {}
        },
        {
          "output_type": "display_data",
          "data": {
            "text/plain": [
              "<IPython.core.display.HTML object>"
            ],
            "text/html": [
              " View run <strong style=\"color:#cdcd00\">quiet-sweep-2</strong> at: <a href='https://wandb.ai/vm800-university-of-york/binary_classifier_emd/runs/tylr5suz' target=\"_blank\">https://wandb.ai/vm800-university-of-york/binary_classifier_emd/runs/tylr5suz</a><br> View project at: <a href='https://wandb.ai/vm800-university-of-york/binary_classifier_emd' target=\"_blank\">https://wandb.ai/vm800-university-of-york/binary_classifier_emd</a><br>Synced 5 W&B file(s), 0 media file(s), 0 artifact file(s) and 1 other file(s)"
            ]
          },
          "metadata": {}
        },
        {
          "output_type": "display_data",
          "data": {
            "text/plain": [
              "<IPython.core.display.HTML object>"
            ],
            "text/html": [
              "Find logs at: <code>./wandb/run-20241230_154443-tylr5suz/logs</code>"
            ]
          },
          "metadata": {}
        },
        {
          "output_type": "stream",
          "name": "stderr",
          "text": [
            "\u001b[34m\u001b[1mwandb\u001b[0m: Agent Starting Run: mlfowiqs with config:\n",
            "\u001b[34m\u001b[1mwandb\u001b[0m: \tdropout: 0.10240589788033976\n",
            "\u001b[34m\u001b[1mwandb\u001b[0m: \thidden_size: 1\n",
            "\u001b[34m\u001b[1mwandb\u001b[0m: \tlearning_rate: 0.004585982798765924\n",
            "\u001b[34m\u001b[1mwandb\u001b[0m: \toptimizer: adam\n",
            "\u001b[34m\u001b[1mwandb\u001b[0m: \u001b[33mWARNING\u001b[0m Ignoring project 'binary_classifier_emd' when running a sweep.\n"
          ]
        },
        {
          "output_type": "display_data",
          "data": {
            "text/plain": [
              "<IPython.core.display.HTML object>"
            ],
            "text/html": [
              "Tracking run with wandb version 0.19.1"
            ]
          },
          "metadata": {}
        },
        {
          "output_type": "display_data",
          "data": {
            "text/plain": [
              "<IPython.core.display.HTML object>"
            ],
            "text/html": [
              "Run data is saved locally in <code>/content/wandb/run-20241230_155152-mlfowiqs</code>"
            ]
          },
          "metadata": {}
        },
        {
          "output_type": "display_data",
          "data": {
            "text/plain": [
              "<IPython.core.display.HTML object>"
            ],
            "text/html": [
              "Syncing run <strong><a href='https://wandb.ai/vm800-university-of-york/binary_classifier_emd/runs/mlfowiqs' target=\"_blank\">noble-sweep-3</a></strong> to <a href='https://wandb.ai/vm800-university-of-york/binary_classifier_emd' target=\"_blank\">Weights & Biases</a> (<a href='https://wandb.me/developer-guide' target=\"_blank\">docs</a>)<br>Sweep page: <a href='https://wandb.ai/vm800-university-of-york/binary_classifier_emd/sweeps/0sg2xel9' target=\"_blank\">https://wandb.ai/vm800-university-of-york/binary_classifier_emd/sweeps/0sg2xel9</a>"
            ]
          },
          "metadata": {}
        },
        {
          "output_type": "display_data",
          "data": {
            "text/plain": [
              "<IPython.core.display.HTML object>"
            ],
            "text/html": [
              " View project at <a href='https://wandb.ai/vm800-university-of-york/binary_classifier_emd' target=\"_blank\">https://wandb.ai/vm800-university-of-york/binary_classifier_emd</a>"
            ]
          },
          "metadata": {}
        },
        {
          "output_type": "display_data",
          "data": {
            "text/plain": [
              "<IPython.core.display.HTML object>"
            ],
            "text/html": [
              " View sweep at <a href='https://wandb.ai/vm800-university-of-york/binary_classifier_emd/sweeps/0sg2xel9' target=\"_blank\">https://wandb.ai/vm800-university-of-york/binary_classifier_emd/sweeps/0sg2xel9</a>"
            ]
          },
          "metadata": {}
        },
        {
          "output_type": "display_data",
          "data": {
            "text/plain": [
              "<IPython.core.display.HTML object>"
            ],
            "text/html": [
              " View run at <a href='https://wandb.ai/vm800-university-of-york/binary_classifier_emd/runs/mlfowiqs' target=\"_blank\">https://wandb.ai/vm800-university-of-york/binary_classifier_emd/runs/mlfowiqs</a>"
            ]
          },
          "metadata": {}
        },
        {
          "output_type": "stream",
          "name": "stdout",
          "text": [
            "[0] Loss: 20.66\n",
            "Overall Accuracy: 38.20%\n",
            "Total No Pit Accuracy: 100.0\n",
            "Total Pit Accuracy: 18.99809123135055\n",
            "Total Pit Predictions: 25671\n",
            "[500] Loss: 17.19\n",
            "Overall Accuracy: 35.47%\n",
            "Total No Pit Accuracy: 100.0\n",
            "Total Pit Accuracy: 18.341481760060173\n",
            "Total Pit Predictions: 26590\n",
            "[1000] Loss: 9.08\n",
            "Overall Accuracy: 51.58%\n",
            "Total No Pit Accuracy: 97.4056436136186\n",
            "Total Pit Accuracy: 18.651685393258425\n",
            "Total Pit Predictions: 19580\n",
            "[1500] Loss: 17.96\n",
            "Overall Accuracy: 56.27%\n",
            "Total No Pit Accuracy: 97.17577108881457\n",
            "Total Pit Accuracy: 18.53396560589613\n",
            "Total Pit Predictions: 17503\n",
            "[2000] Loss: 8.57\n",
            "Overall Accuracy: 58.73%\n",
            "Total No Pit Accuracy: 97.06734670221397\n",
            "Total Pit Accuracy: 18.383653552912474\n",
            "Total Pit Predictions: 16395\n",
            "[2500] Loss: 9.62\n",
            "Overall Accuracy: 60.17%\n",
            "Total No Pit Accuracy: 97.01951574120673\n",
            "Total Pit Accuracy: 18.362298617277688\n",
            "Total Pit Predictions: 15766\n",
            "[3000] Loss: 7.16\n",
            "Overall Accuracy: 60.30%\n",
            "Total No Pit Accuracy: 96.98724731302556\n",
            "Total Pit Accuracy: 18.308692327300534\n",
            "Total Pit Predictions: 15692\n",
            "[3500] Loss: 6.25\n",
            "Overall Accuracy: 62.42%\n",
            "Total No Pit Accuracy: 96.98743879071749\n",
            "Total Pit Accuracy: 18.713410941390215\n",
            "Total Pit Predictions: 14861\n",
            "[4000] Loss: 16.76\n",
            "Overall Accuracy: 63.21%\n",
            "Total No Pit Accuracy: 96.93030540328897\n",
            "Total Pit Accuracy: 18.63529736442666\n",
            "Total Pit Predictions: 14494\n",
            "[4500] Loss: 12.74\n",
            "Overall Accuracy: 63.78%\n",
            "Total No Pit Accuracy: 96.948732510713\n",
            "Total Pit Accuracy: 18.788515406162464\n",
            "Total Pit Predictions: 14280\n",
            "[5000] Loss: 15.44\n",
            "Overall Accuracy: 65.12%\n",
            "Total No Pit Accuracy: 96.9851016710288\n",
            "Total Pit Accuracy: 19.17857920325085\n",
            "Total Pit Predictions: 13781\n",
            "[5500] Loss: 10.52\n",
            "Overall Accuracy: 66.70%\n",
            "Total No Pit Accuracy: 96.99336196798126\n",
            "Total Pit Accuracy: 19.534989742420787\n",
            "Total Pit Predictions: 13161\n",
            "[6000] Loss: 8.53\n",
            "Overall Accuracy: 66.94%\n",
            "Total No Pit Accuracy: 97.0053475935829\n",
            "Total Pit Accuracy: 19.642174478171114\n",
            "Total Pit Predictions: 13079\n",
            "[6500] Loss: 19.45\n",
            "Overall Accuracy: 68.77%\n",
            "Total No Pit Accuracy: 97.03599153140438\n",
            "Total Pit Accuracy: 20.308213651766984\n",
            "Total Pit Predictions: 12394\n",
            "[7000] Loss: 14.96\n",
            "Overall Accuracy: 69.86%\n",
            "Total No Pit Accuracy: 97.05828107709333\n",
            "Total Pit Accuracy: 20.55012122732213\n",
            "Total Pit Predictions: 11961\n",
            "[7500] Loss: 7.91\n",
            "Overall Accuracy: 70.02%\n",
            "Total No Pit Accuracy: 97.06572230143034\n",
            "Total Pit Accuracy: 20.619855535024357\n",
            "Total Pit Predictions: 11906\n",
            "[8000] Loss: 17.37\n",
            "Overall Accuracy: 71.32%\n",
            "Total No Pit Accuracy: 97.10516837745364\n",
            "Total Pit Accuracy: 21.23808691090321\n",
            "Total Pit Predictions: 11437\n",
            "[8500] Loss: 5.94\n",
            "Overall Accuracy: 71.67%\n",
            "Total No Pit Accuracy: 97.11267290389006\n",
            "Total Pit Accuracy: 21.423519009725904\n",
            "Total Pit Predictions: 11310\n",
            "[9000] Loss: 19.06\n",
            "Overall Accuracy: 72.73%\n",
            "Total No Pit Accuracy: 97.13129179866245\n",
            "Total Pit Accuracy: 21.957696181668346\n",
            "Total Pit Predictions: 10921\n",
            "[9500] Loss: 10.19\n",
            "Overall Accuracy: 73.71%\n",
            "Total No Pit Accuracy: 97.17247061884731\n",
            "Total Pit Accuracy: 22.606232294617566\n",
            "Total Pit Predictions: 10590\n",
            "[10000] Loss: 7.17\n",
            "Overall Accuracy: 74.89%\n",
            "Total No Pit Accuracy: 97.17406085330613\n",
            "Total Pit Accuracy: 23.07008006325986\n",
            "Total Pit Predictions: 10117\n"
          ]
        },
        {
          "output_type": "display_data",
          "data": {
            "text/plain": [
              "<IPython.core.display.HTML object>"
            ],
            "text/html": []
          },
          "metadata": {}
        },
        {
          "output_type": "display_data",
          "data": {
            "text/plain": [
              "<IPython.core.display.HTML object>"
            ],
            "text/html": [
              "<br>    <style><br>        .wandb-row {<br>            display: flex;<br>            flex-direction: row;<br>            flex-wrap: wrap;<br>            justify-content: flex-start;<br>            width: 100%;<br>        }<br>        .wandb-col {<br>            display: flex;<br>            flex-direction: column;<br>            flex-basis: 100%;<br>            flex: 1;<br>            padding: 10px;<br>        }<br>    </style><br><div class=\"wandb-row\"><div class=\"wandb-col\"><h3>Run history:</h3><br/><table class=\"wandb\"><tr><td>loss</td><td>▅▄█▃▆▂▃▅▄▂▃▃▂▄▃▃▃▃▅▂▅▅▁▃▃▃▃▆▆▄▃▃▄▂▂▆▅▅▃▃</td></tr><tr><td>overall_accuracy</td><td>▁▁▄▅▅▅▅▆▆▆▆▇▇▇▇▇▇▇███</td></tr><tr><td>total no pit accurary (exact match)</td><td>██▂▂▁▁▁▁▁▁▁▁▁▁▁▁▁▁▁▂▂</td></tr><tr><td>total pit accurary (3 laps either side)</td><td>▂▁▂▁▁▁▁▂▁▂▂▃▃▄▄▄▅▆▆▇█</td></tr><tr><td>total pit predictions</td><td>██▅▄▄▃▃▃▃▃▃▂▂▂▂▂▂▂▁▁▁</td></tr></table><br/></div><div class=\"wandb-col\"><h3>Run summary:</h3><br/><table class=\"wandb\"><tr><td>loss</td><td>7.17454</td></tr><tr><td>overall_accuracy</td><td>74.89376</td></tr><tr><td>total no pit accurary (exact match)</td><td>97.17406</td></tr><tr><td>total pit accurary (3 laps either side)</td><td>23.07008</td></tr><tr><td>total pit predictions</td><td>10117</td></tr></table><br/></div></div>"
            ]
          },
          "metadata": {}
        },
        {
          "output_type": "display_data",
          "data": {
            "text/plain": [
              "<IPython.core.display.HTML object>"
            ],
            "text/html": [
              " View run <strong style=\"color:#cdcd00\">noble-sweep-3</strong> at: <a href='https://wandb.ai/vm800-university-of-york/binary_classifier_emd/runs/mlfowiqs' target=\"_blank\">https://wandb.ai/vm800-university-of-york/binary_classifier_emd/runs/mlfowiqs</a><br> View project at: <a href='https://wandb.ai/vm800-university-of-york/binary_classifier_emd' target=\"_blank\">https://wandb.ai/vm800-university-of-york/binary_classifier_emd</a><br>Synced 5 W&B file(s), 0 media file(s), 0 artifact file(s) and 1 other file(s)"
            ]
          },
          "metadata": {}
        },
        {
          "output_type": "display_data",
          "data": {
            "text/plain": [
              "<IPython.core.display.HTML object>"
            ],
            "text/html": [
              "Find logs at: <code>./wandb/run-20241230_155152-mlfowiqs/logs</code>"
            ]
          },
          "metadata": {}
        },
        {
          "output_type": "stream",
          "name": "stderr",
          "text": [
            "\u001b[34m\u001b[1mwandb\u001b[0m: Agent Starting Run: yg92vz0k with config:\n",
            "\u001b[34m\u001b[1mwandb\u001b[0m: \tdropout: 0.25367176398118485\n",
            "\u001b[34m\u001b[1mwandb\u001b[0m: \thidden_size: 27\n",
            "\u001b[34m\u001b[1mwandb\u001b[0m: \tlearning_rate: 0.00039816942566829106\n",
            "\u001b[34m\u001b[1mwandb\u001b[0m: \toptimizer: sgd\n",
            "\u001b[34m\u001b[1mwandb\u001b[0m: \u001b[33mWARNING\u001b[0m Ignoring project 'binary_classifier_emd' when running a sweep.\n"
          ]
        },
        {
          "output_type": "display_data",
          "data": {
            "text/plain": [
              "<IPython.core.display.HTML object>"
            ],
            "text/html": [
              "Tracking run with wandb version 0.19.1"
            ]
          },
          "metadata": {}
        },
        {
          "output_type": "display_data",
          "data": {
            "text/plain": [
              "<IPython.core.display.HTML object>"
            ],
            "text/html": [
              "Run data is saved locally in <code>/content/wandb/run-20241230_155906-yg92vz0k</code>"
            ]
          },
          "metadata": {}
        },
        {
          "output_type": "display_data",
          "data": {
            "text/plain": [
              "<IPython.core.display.HTML object>"
            ],
            "text/html": [
              "Syncing run <strong><a href='https://wandb.ai/vm800-university-of-york/binary_classifier_emd/runs/yg92vz0k' target=\"_blank\">worthy-sweep-4</a></strong> to <a href='https://wandb.ai/vm800-university-of-york/binary_classifier_emd' target=\"_blank\">Weights & Biases</a> (<a href='https://wandb.me/developer-guide' target=\"_blank\">docs</a>)<br>Sweep page: <a href='https://wandb.ai/vm800-university-of-york/binary_classifier_emd/sweeps/0sg2xel9' target=\"_blank\">https://wandb.ai/vm800-university-of-york/binary_classifier_emd/sweeps/0sg2xel9</a>"
            ]
          },
          "metadata": {}
        },
        {
          "output_type": "display_data",
          "data": {
            "text/plain": [
              "<IPython.core.display.HTML object>"
            ],
            "text/html": [
              " View project at <a href='https://wandb.ai/vm800-university-of-york/binary_classifier_emd' target=\"_blank\">https://wandb.ai/vm800-university-of-york/binary_classifier_emd</a>"
            ]
          },
          "metadata": {}
        },
        {
          "output_type": "display_data",
          "data": {
            "text/plain": [
              "<IPython.core.display.HTML object>"
            ],
            "text/html": [
              " View sweep at <a href='https://wandb.ai/vm800-university-of-york/binary_classifier_emd/sweeps/0sg2xel9' target=\"_blank\">https://wandb.ai/vm800-university-of-york/binary_classifier_emd/sweeps/0sg2xel9</a>"
            ]
          },
          "metadata": {}
        },
        {
          "output_type": "display_data",
          "data": {
            "text/plain": [
              "<IPython.core.display.HTML object>"
            ],
            "text/html": [
              " View run at <a href='https://wandb.ai/vm800-university-of-york/binary_classifier_emd/runs/yg92vz0k' target=\"_blank\">https://wandb.ai/vm800-university-of-york/binary_classifier_emd/runs/yg92vz0k</a>"
            ]
          },
          "metadata": {}
        },
        {
          "output_type": "stream",
          "name": "stdout",
          "text": [
            "[0] Loss: 6.23\n",
            "Overall Accuracy: 15.68%\n",
            "Total No Pit Accuracy: 96.26307922272048\n",
            "Total Pit Accuracy: 14.044875682231655\n",
            "Total Pit Predictions: 32980\n",
            "[500] Loss: 9.17\n",
            "Overall Accuracy: 14.49%\n",
            "Total No Pit Accuracy: 0.0\n",
            "Total Pit Accuracy: 14.493744242027995\n",
            "Total Pit Predictions: 33649\n",
            "[1000] Loss: 6.95\n",
            "Overall Accuracy: 14.50%\n",
            "Total No Pit Accuracy: 100.0\n",
            "Total Pit Accuracy: 14.491633726632388\n",
            "Total Pit Predictions: 33647\n",
            "[1500] Loss: 8.97\n",
            "Overall Accuracy: 60.48%\n",
            "Total No Pit Accuracy: 96.12100385296262\n",
            "Total Pit Accuracy: 13.07900020771308\n",
            "Total Pit Predictions: 14443\n",
            "[2000] Loss: 5.37\n",
            "Overall Accuracy: 60.73%\n",
            "Total No Pit Accuracy: 96.12097985395411\n",
            "Total Pit Accuracy: 13.082287308228732\n",
            "Total Pit Predictions: 14340\n",
            "[2500] Loss: 15.70\n",
            "Overall Accuracy: 62.39%\n",
            "Total No Pit Accuracy: 96.20926846412613\n",
            "Total Pit Accuracy: 13.348383338188174\n",
            "Total Pit Predictions: 13732\n",
            "[3000] Loss: 6.79\n",
            "Overall Accuracy: 62.39%\n",
            "Total No Pit Accuracy: 96.21181672025723\n",
            "Total Pit Accuracy: 13.408512186249547\n",
            "Total Pit Predictions: 13745\n",
            "[3500] Loss: 4.06\n",
            "Overall Accuracy: 61.84%\n",
            "Total No Pit Accuracy: 96.18626853544586\n",
            "Total Pit Accuracy: 13.391129898975423\n",
            "Total Pit Predictions: 13957\n",
            "[4000] Loss: 7.96\n",
            "Overall Accuracy: 61.79%\n",
            "Total No Pit Accuracy: 96.18142065388722\n",
            "Total Pit Accuracy: 13.417250750965525\n",
            "Total Pit Predictions: 13982\n",
            "[4500] Loss: 7.42\n",
            "Overall Accuracy: 61.54%\n",
            "Total No Pit Accuracy: 96.1780184967554\n",
            "Total Pit Accuracy: 13.375479471515842\n",
            "Total Pit Predictions: 14078\n",
            "[5000] Loss: 8.28\n",
            "Overall Accuracy: 61.53%\n",
            "Total No Pit Accuracy: 96.17938502400654\n",
            "Total Pit Accuracy: 13.318172127069861\n",
            "Total Pit Predictions: 14071\n",
            "[5500] Loss: 14.87\n",
            "Overall Accuracy: 61.08%\n",
            "Total No Pit Accuracy: 96.15305386754558\n",
            "Total Pit Accuracy: 13.21762349799733\n",
            "Total Pit Predictions: 14231\n",
            "[6000] Loss: 13.54\n",
            "Overall Accuracy: 61.08%\n",
            "Total No Pit Accuracy: 96.15305386754558\n",
            "Total Pit Accuracy: 13.21762349799733\n",
            "Total Pit Predictions: 14231\n",
            "[6500] Loss: 12.43\n",
            "Overall Accuracy: 61.01%\n",
            "Total No Pit Accuracy: 96.14809467333573\n",
            "Total Pit Accuracy: 13.215488215488216\n",
            "Total Pit Predictions: 14256\n",
            "[7000] Loss: 15.51\n",
            "Overall Accuracy: 60.86%\n",
            "Total No Pit Accuracy: 96.14827086353283\n",
            "Total Pit Accuracy: 13.297983674038932\n",
            "Total Pit Predictions: 14333\n",
            "[7500] Loss: 17.30\n",
            "Overall Accuracy: 60.58%\n",
            "Total No Pit Accuracy: 96.12822647793506\n",
            "Total Pit Accuracy: 13.261276241945541\n",
            "Total Pit Predictions: 14433\n",
            "[8000] Loss: 6.98\n",
            "Overall Accuracy: 60.58%\n",
            "Total No Pit Accuracy: 96.12621055920026\n",
            "Total Pit Accuracy: 13.307484594613308\n",
            "Total Pit Predictions: 14443\n",
            "[8500] Loss: 6.23\n",
            "Overall Accuracy: 60.68%\n",
            "Total No Pit Accuracy: 96.1214953271028\n",
            "Total Pit Accuracy: 13.232330252276045\n",
            "Total Pit Predictions: 14389\n",
            "[9000] Loss: 12.39\n",
            "Overall Accuracy: 59.69%\n",
            "Total No Pit Accuracy: 96.0730351944959\n",
            "Total Pit Accuracy: 13.094753965026435\n",
            "Total Pit Predictions: 14754\n",
            "[9500] Loss: 5.85\n",
            "Overall Accuracy: 59.70%\n",
            "Total No Pit Accuracy: 96.04483925549916\n",
            "Total Pit Accuracy: 13.062360046142363\n",
            "Total Pit Predictions: 14737\n",
            "[10000] Loss: 6.87\n",
            "Overall Accuracy: 59.70%\n",
            "Total No Pit Accuracy: 96.04483925549916\n",
            "Total Pit Accuracy: 13.069145687724774\n",
            "Total Pit Predictions: 14737\n"
          ]
        },
        {
          "output_type": "display_data",
          "data": {
            "text/plain": [
              "<IPython.core.display.HTML object>"
            ],
            "text/html": []
          },
          "metadata": {}
        },
        {
          "output_type": "display_data",
          "data": {
            "text/plain": [
              "<IPython.core.display.HTML object>"
            ],
            "text/html": [
              "<br>    <style><br>        .wandb-row {<br>            display: flex;<br>            flex-direction: row;<br>            flex-wrap: wrap;<br>            justify-content: flex-start;<br>            width: 100%;<br>        }<br>        .wandb-col {<br>            display: flex;<br>            flex-direction: column;<br>            flex-basis: 100%;<br>            flex: 1;<br>            padding: 10px;<br>        }<br>    </style><br><div class=\"wandb-row\"><div class=\"wandb-col\"><h3>Run history:</h3><br/><table class=\"wandb\"><tr><td>loss</td><td>█▃▄▄▃▄▆▄▄▇▅▃▇▆▃▅▅▄▄▄▁▃▇▄▅▄▃▃▅▃▃▂▄▅▆▄▃▃▅▃</td></tr><tr><td>overall_accuracy</td><td>▁▁▁██████████████████</td></tr><tr><td>total no pit accurary (exact match)</td><td>█▁███████████████████</td></tr><tr><td>total pit accurary (3 laps either side)</td><td>▆██▁▁▂▃▃▃▃▂▂▂▂▂▂▂▂▁▁▁</td></tr><tr><td>total pit predictions</td><td>███▁▁▁▁▁▁▁▁▁▁▁▁▁▁▁▁▁▁</td></tr></table><br/></div><div class=\"wandb-col\"><h3>Run summary:</h3><br/><table class=\"wandb\"><tr><td>loss</td><td>6.87241</td></tr><tr><td>overall_accuracy</td><td>59.7046</td></tr><tr><td>total no pit accurary (exact match)</td><td>96.04484</td></tr><tr><td>total pit accurary (3 laps either side)</td><td>13.06915</td></tr><tr><td>total pit predictions</td><td>14737</td></tr></table><br/></div></div>"
            ]
          },
          "metadata": {}
        },
        {
          "output_type": "display_data",
          "data": {
            "text/plain": [
              "<IPython.core.display.HTML object>"
            ],
            "text/html": [
              " View run <strong style=\"color:#cdcd00\">worthy-sweep-4</strong> at: <a href='https://wandb.ai/vm800-university-of-york/binary_classifier_emd/runs/yg92vz0k' target=\"_blank\">https://wandb.ai/vm800-university-of-york/binary_classifier_emd/runs/yg92vz0k</a><br> View project at: <a href='https://wandb.ai/vm800-university-of-york/binary_classifier_emd' target=\"_blank\">https://wandb.ai/vm800-university-of-york/binary_classifier_emd</a><br>Synced 5 W&B file(s), 0 media file(s), 0 artifact file(s) and 1 other file(s)"
            ]
          },
          "metadata": {}
        },
        {
          "output_type": "display_data",
          "data": {
            "text/plain": [
              "<IPython.core.display.HTML object>"
            ],
            "text/html": [
              "Find logs at: <code>./wandb/run-20241230_155906-yg92vz0k/logs</code>"
            ]
          },
          "metadata": {}
        },
        {
          "output_type": "stream",
          "name": "stderr",
          "text": [
            "\u001b[34m\u001b[1mwandb\u001b[0m: Agent Starting Run: vj79xlun with config:\n",
            "\u001b[34m\u001b[1mwandb\u001b[0m: \tdropout: 0.29809824987201816\n",
            "\u001b[34m\u001b[1mwandb\u001b[0m: \thidden_size: 19\n",
            "\u001b[34m\u001b[1mwandb\u001b[0m: \tlearning_rate: 0.0002432443144312568\n",
            "\u001b[34m\u001b[1mwandb\u001b[0m: \toptimizer: sgd\n",
            "\u001b[34m\u001b[1mwandb\u001b[0m: \u001b[33mWARNING\u001b[0m Ignoring project 'binary_classifier_emd' when running a sweep.\n"
          ]
        },
        {
          "output_type": "display_data",
          "data": {
            "text/plain": [
              "<IPython.core.display.HTML object>"
            ],
            "text/html": [
              "Tracking run with wandb version 0.19.1"
            ]
          },
          "metadata": {}
        },
        {
          "output_type": "display_data",
          "data": {
            "text/plain": [
              "<IPython.core.display.HTML object>"
            ],
            "text/html": [
              "Run data is saved locally in <code>/content/wandb/run-20241230_160626-vj79xlun</code>"
            ]
          },
          "metadata": {}
        },
        {
          "output_type": "display_data",
          "data": {
            "text/plain": [
              "<IPython.core.display.HTML object>"
            ],
            "text/html": [
              "Syncing run <strong><a href='https://wandb.ai/vm800-university-of-york/binary_classifier_emd/runs/vj79xlun' target=\"_blank\">worldly-sweep-5</a></strong> to <a href='https://wandb.ai/vm800-university-of-york/binary_classifier_emd' target=\"_blank\">Weights & Biases</a> (<a href='https://wandb.me/developer-guide' target=\"_blank\">docs</a>)<br>Sweep page: <a href='https://wandb.ai/vm800-university-of-york/binary_classifier_emd/sweeps/0sg2xel9' target=\"_blank\">https://wandb.ai/vm800-university-of-york/binary_classifier_emd/sweeps/0sg2xel9</a>"
            ]
          },
          "metadata": {}
        },
        {
          "output_type": "display_data",
          "data": {
            "text/plain": [
              "<IPython.core.display.HTML object>"
            ],
            "text/html": [
              " View project at <a href='https://wandb.ai/vm800-university-of-york/binary_classifier_emd' target=\"_blank\">https://wandb.ai/vm800-university-of-york/binary_classifier_emd</a>"
            ]
          },
          "metadata": {}
        },
        {
          "output_type": "display_data",
          "data": {
            "text/plain": [
              "<IPython.core.display.HTML object>"
            ],
            "text/html": [
              " View sweep at <a href='https://wandb.ai/vm800-university-of-york/binary_classifier_emd/sweeps/0sg2xel9' target=\"_blank\">https://wandb.ai/vm800-university-of-york/binary_classifier_emd/sweeps/0sg2xel9</a>"
            ]
          },
          "metadata": {}
        },
        {
          "output_type": "display_data",
          "data": {
            "text/plain": [
              "<IPython.core.display.HTML object>"
            ],
            "text/html": [
              " View run at <a href='https://wandb.ai/vm800-university-of-york/binary_classifier_emd/runs/vj79xlun' target=\"_blank\">https://wandb.ai/vm800-university-of-york/binary_classifier_emd/runs/vj79xlun</a>"
            ]
          },
          "metadata": {}
        },
        {
          "output_type": "stream",
          "name": "stdout",
          "text": [
            "[0] Loss: 13.93\n",
            "Overall Accuracy: 14.49%\n",
            "Total No Pit Accuracy: 100.0\n",
            "Total Pit Accuracy: 13.974765293308616\n",
            "Total Pit Predictions: 33446\n",
            "[500] Loss: 8.32\n",
            "Overall Accuracy: 14.49%\n",
            "Total No Pit Accuracy: 0.0\n",
            "Total Pit Accuracy: 14.493744242027995\n",
            "Total Pit Predictions: 33649\n",
            "[1000] Loss: 10.43\n",
            "Overall Accuracy: 14.49%\n",
            "Total No Pit Accuracy: 0.0\n",
            "Total Pit Accuracy: 14.493744242027995\n",
            "Total Pit Predictions: 33649\n",
            "[1500] Loss: 11.08\n",
            "Overall Accuracy: 14.49%\n",
            "Total No Pit Accuracy: 0.0\n",
            "Total Pit Accuracy: 14.493744242027995\n",
            "Total Pit Predictions: 33649\n",
            "[2000] Loss: 15.32\n",
            "Overall Accuracy: 14.49%\n",
            "Total No Pit Accuracy: 0.0\n",
            "Total Pit Accuracy: 14.493744242027995\n",
            "Total Pit Predictions: 33649\n",
            "[2500] Loss: 15.14\n",
            "Overall Accuracy: 14.49%\n",
            "Total No Pit Accuracy: 0.0\n",
            "Total Pit Accuracy: 14.493744242027995\n",
            "Total Pit Predictions: 33649\n",
            "[3000] Loss: 8.52\n",
            "Overall Accuracy: 14.49%\n",
            "Total No Pit Accuracy: 0.0\n",
            "Total Pit Accuracy: 14.493744242027995\n",
            "Total Pit Predictions: 33649\n",
            "[3500] Loss: 10.39\n",
            "Overall Accuracy: 14.49%\n",
            "Total No Pit Accuracy: 0.0\n",
            "Total Pit Accuracy: 14.493744242027995\n",
            "Total Pit Predictions: 33649\n",
            "[4000] Loss: 19.34\n",
            "Overall Accuracy: 14.49%\n",
            "Total No Pit Accuracy: 0.0\n",
            "Total Pit Accuracy: 14.493744242027995\n",
            "Total Pit Predictions: 33649\n",
            "[4500] Loss: 17.34\n",
            "Overall Accuracy: 14.49%\n",
            "Total No Pit Accuracy: 0.0\n",
            "Total Pit Accuracy: 14.493744242027995\n",
            "Total Pit Predictions: 33649\n",
            "[5000] Loss: 7.10\n",
            "Overall Accuracy: 14.49%\n",
            "Total No Pit Accuracy: 0.0\n",
            "Total Pit Accuracy: 14.493744242027995\n",
            "Total Pit Predictions: 33649\n",
            "[5500] Loss: 12.63\n",
            "Overall Accuracy: 21.75%\n",
            "Total No Pit Accuracy: 96.1264016309888\n",
            "Total Pit Accuracy: 14.625806031394518\n",
            "Total Pit Predictions: 30706\n",
            "[6000] Loss: 8.14\n",
            "Overall Accuracy: 26.74%\n",
            "Total No Pit Accuracy: 96.0481444332999\n",
            "Total Pit Accuracy: 14.687412782584428\n",
            "Total Pit Predictions: 28664\n",
            "[6500] Loss: 21.10\n",
            "Overall Accuracy: 30.18%\n",
            "Total No Pit Accuracy: 96.15743621655258\n",
            "Total Pit Accuracy: 14.59534917894273\n",
            "Total Pit Predictions: 27221\n",
            "[7000] Loss: 13.55\n",
            "Overall Accuracy: 32.95%\n",
            "Total No Pit Accuracy: 96.29826190792092\n",
            "Total Pit Accuracy: 14.671415441176471\n",
            "Total Pit Predictions: 26112\n",
            "[7500] Loss: 29.47\n",
            "Overall Accuracy: 33.39%\n",
            "Total No Pit Accuracy: 96.30781189273222\n",
            "Total Pit Accuracy: 14.654839953721558\n",
            "Total Pit Predictions: 25930\n",
            "[8000] Loss: 7.45\n",
            "Overall Accuracy: 34.73%\n",
            "Total No Pit Accuracy: 96.3886186770428\n",
            "Total Pit Accuracy: 14.784660766961652\n",
            "Total Pit Predictions: 25425\n",
            "[8500] Loss: 15.45\n",
            "Overall Accuracy: 35.24%\n",
            "Total No Pit Accuracy: 96.35114322947518\n",
            "Total Pit Accuracy: 14.773087908600443\n",
            "Total Pit Predictions: 25208\n",
            "[9000] Loss: 16.61\n",
            "Overall Accuracy: 36.73%\n",
            "Total No Pit Accuracy: 96.38500776225327\n",
            "Total Pit Accuracy: 14.883683163493158\n",
            "Total Pit Predictions: 24631\n",
            "[9500] Loss: 8.52\n",
            "Overall Accuracy: 37.30%\n",
            "Total No Pit Accuracy: 96.34580144443247\n",
            "Total Pit Accuracy: 14.828491711800426\n",
            "Total Pit Predictions: 24372\n",
            "[10000] Loss: 5.62\n",
            "Overall Accuracy: 37.71%\n",
            "Total No Pit Accuracy: 96.20693288378463\n",
            "Total Pit Accuracy: 14.723900985180894\n",
            "Total Pit Predictions: 24158\n"
          ]
        },
        {
          "output_type": "display_data",
          "data": {
            "text/plain": [
              "<IPython.core.display.HTML object>"
            ],
            "text/html": []
          },
          "metadata": {}
        },
        {
          "output_type": "display_data",
          "data": {
            "text/plain": [
              "<IPython.core.display.HTML object>"
            ],
            "text/html": [
              "<br>    <style><br>        .wandb-row {<br>            display: flex;<br>            flex-direction: row;<br>            flex-wrap: wrap;<br>            justify-content: flex-start;<br>            width: 100%;<br>        }<br>        .wandb-col {<br>            display: flex;<br>            flex-direction: column;<br>            flex-basis: 100%;<br>            flex: 1;<br>            padding: 10px;<br>        }<br>    </style><br><div class=\"wandb-row\"><div class=\"wandb-col\"><h3>Run history:</h3><br/><table class=\"wandb\"><tr><td>loss</td><td>▃▇▆▃▅▇▆▃▄▃▁▆▂▅▃▃▃▆▃▃▄▅▄▄▃▅▆▆▇▅▆█▆▅▅▅▅▂▅▃</td></tr><tr><td>overall_accuracy</td><td>▁▁▁▁▁▁▁▁▁▁▁▃▅▆▇▇▇▇███</td></tr><tr><td>total no pit accurary (exact match)</td><td>█▁▁▁▁▁▁▁▁▁▁██████████</td></tr><tr><td>total pit accurary (3 laps either side)</td><td>▁▅▅▅▅▅▅▅▅▅▅▆▆▆▆▆▇▇██▇</td></tr><tr><td>total pit predictions</td><td>███████████▆▄▃▂▂▂▂▁▁▁</td></tr></table><br/></div><div class=\"wandb-col\"><h3>Run summary:</h3><br/><table class=\"wandb\"><tr><td>loss</td><td>5.62219</td></tr><tr><td>overall_accuracy</td><td>37.70692</td></tr><tr><td>total no pit accurary (exact match)</td><td>96.20693</td></tr><tr><td>total pit accurary (3 laps either side)</td><td>14.7239</td></tr><tr><td>total pit predictions</td><td>24158</td></tr></table><br/></div></div>"
            ]
          },
          "metadata": {}
        },
        {
          "output_type": "display_data",
          "data": {
            "text/plain": [
              "<IPython.core.display.HTML object>"
            ],
            "text/html": [
              " View run <strong style=\"color:#cdcd00\">worldly-sweep-5</strong> at: <a href='https://wandb.ai/vm800-university-of-york/binary_classifier_emd/runs/vj79xlun' target=\"_blank\">https://wandb.ai/vm800-university-of-york/binary_classifier_emd/runs/vj79xlun</a><br> View project at: <a href='https://wandb.ai/vm800-university-of-york/binary_classifier_emd' target=\"_blank\">https://wandb.ai/vm800-university-of-york/binary_classifier_emd</a><br>Synced 5 W&B file(s), 0 media file(s), 0 artifact file(s) and 1 other file(s)"
            ]
          },
          "metadata": {}
        },
        {
          "output_type": "display_data",
          "data": {
            "text/plain": [
              "<IPython.core.display.HTML object>"
            ],
            "text/html": [
              "Find logs at: <code>./wandb/run-20241230_160626-vj79xlun/logs</code>"
            ]
          },
          "metadata": {}
        },
        {
          "output_type": "stream",
          "name": "stderr",
          "text": [
            "\u001b[34m\u001b[1mwandb\u001b[0m: Agent Starting Run: hm7vetq3 with config:\n",
            "\u001b[34m\u001b[1mwandb\u001b[0m: \tdropout: 0.3329105919427795\n",
            "\u001b[34m\u001b[1mwandb\u001b[0m: \thidden_size: 21\n",
            "\u001b[34m\u001b[1mwandb\u001b[0m: \tlearning_rate: 0.00040997583519042634\n",
            "\u001b[34m\u001b[1mwandb\u001b[0m: \toptimizer: rmsprop\n",
            "\u001b[34m\u001b[1mwandb\u001b[0m: \u001b[33mWARNING\u001b[0m Ignoring project 'binary_classifier_emd' when running a sweep.\n"
          ]
        },
        {
          "output_type": "display_data",
          "data": {
            "text/plain": [
              "<IPython.core.display.HTML object>"
            ],
            "text/html": [
              "Tracking run with wandb version 0.19.1"
            ]
          },
          "metadata": {}
        },
        {
          "output_type": "display_data",
          "data": {
            "text/plain": [
              "<IPython.core.display.HTML object>"
            ],
            "text/html": [
              "Run data is saved locally in <code>/content/wandb/run-20241230_161351-hm7vetq3</code>"
            ]
          },
          "metadata": {}
        },
        {
          "output_type": "display_data",
          "data": {
            "text/plain": [
              "<IPython.core.display.HTML object>"
            ],
            "text/html": [
              "Syncing run <strong><a href='https://wandb.ai/vm800-university-of-york/binary_classifier_emd/runs/hm7vetq3' target=\"_blank\">bright-sweep-6</a></strong> to <a href='https://wandb.ai/vm800-university-of-york/binary_classifier_emd' target=\"_blank\">Weights & Biases</a> (<a href='https://wandb.me/developer-guide' target=\"_blank\">docs</a>)<br>Sweep page: <a href='https://wandb.ai/vm800-university-of-york/binary_classifier_emd/sweeps/0sg2xel9' target=\"_blank\">https://wandb.ai/vm800-university-of-york/binary_classifier_emd/sweeps/0sg2xel9</a>"
            ]
          },
          "metadata": {}
        },
        {
          "output_type": "display_data",
          "data": {
            "text/plain": [
              "<IPython.core.display.HTML object>"
            ],
            "text/html": [
              " View project at <a href='https://wandb.ai/vm800-university-of-york/binary_classifier_emd' target=\"_blank\">https://wandb.ai/vm800-university-of-york/binary_classifier_emd</a>"
            ]
          },
          "metadata": {}
        },
        {
          "output_type": "display_data",
          "data": {
            "text/plain": [
              "<IPython.core.display.HTML object>"
            ],
            "text/html": [
              " View sweep at <a href='https://wandb.ai/vm800-university-of-york/binary_classifier_emd/sweeps/0sg2xel9' target=\"_blank\">https://wandb.ai/vm800-university-of-york/binary_classifier_emd/sweeps/0sg2xel9</a>"
            ]
          },
          "metadata": {}
        },
        {
          "output_type": "display_data",
          "data": {
            "text/plain": [
              "<IPython.core.display.HTML object>"
            ],
            "text/html": [
              " View run at <a href='https://wandb.ai/vm800-university-of-york/binary_classifier_emd/runs/hm7vetq3' target=\"_blank\">https://wandb.ai/vm800-university-of-york/binary_classifier_emd/runs/hm7vetq3</a>"
            ]
          },
          "metadata": {}
        },
        {
          "output_type": "stream",
          "name": "stdout",
          "text": [
            "[0] Loss: 13.84\n",
            "Overall Accuracy: 39.70%\n",
            "Total No Pit Accuracy: 99.87518438670146\n",
            "Total Pit Accuracy: 18.352391689483007\n",
            "Total Pit Predictions: 24836\n",
            "[500] Loss: 5.15\n",
            "Overall Accuracy: 14.51%\n",
            "Total No Pit Accuracy: 100.0\n",
            "Total Pit Accuracy: 14.490815052612804\n",
            "Total Pit Predictions: 33642\n",
            "[1000] Loss: 15.94\n",
            "Overall Accuracy: 14.49%\n",
            "Total No Pit Accuracy: 0.0\n",
            "Total Pit Accuracy: 14.493744242027995\n",
            "Total Pit Predictions: 33649\n",
            "[1500] Loss: 7.08\n",
            "Overall Accuracy: 14.49%\n",
            "Total No Pit Accuracy: 0.0\n",
            "Total Pit Accuracy: 14.493744242027995\n",
            "Total Pit Predictions: 33649\n",
            "[2000] Loss: 14.90\n",
            "Overall Accuracy: 14.49%\n",
            "Total No Pit Accuracy: 0.0\n",
            "Total Pit Accuracy: 14.493744242027995\n",
            "Total Pit Predictions: 33649\n",
            "[2500] Loss: 15.32\n",
            "Overall Accuracy: 14.49%\n",
            "Total No Pit Accuracy: 0.0\n",
            "Total Pit Accuracy: 14.493744242027995\n",
            "Total Pit Predictions: 33649\n",
            "[3000] Loss: 18.97\n",
            "Overall Accuracy: 14.49%\n",
            "Total No Pit Accuracy: 0.0\n",
            "Total Pit Accuracy: 14.493744242027995\n",
            "Total Pit Predictions: 33649\n",
            "[3500] Loss: 17.11\n",
            "Overall Accuracy: 34.38%\n",
            "Total No Pit Accuracy: 97.03741540033202\n",
            "Total Pit Accuracy: 15.380742117902239\n",
            "Total Pit Predictions: 25818\n",
            "[4000] Loss: 8.88\n",
            "Overall Accuracy: 44.79%\n",
            "Total No Pit Accuracy: 95.79252526835383\n",
            "Total Pit Accuracy: 13.626352580676052\n",
            "Total Pit Predictions: 20886\n",
            "[4500] Loss: 11.11\n",
            "Overall Accuracy: 48.34%\n",
            "Total No Pit Accuracy: 95.6385424649899\n",
            "Total Pit Accuracy: 13.163349917081261\n",
            "Total Pit Predictions: 19296\n",
            "[5000] Loss: 9.51\n",
            "Overall Accuracy: 50.25%\n",
            "Total No Pit Accuracy: 95.75172048703018\n",
            "Total Pit Accuracy: 13.16286346226466\n",
            "Total Pit Predictions: 18537\n",
            "[5500] Loss: 12.62\n",
            "Overall Accuracy: 50.47%\n",
            "Total No Pit Accuracy: 95.7295841271927\n",
            "Total Pit Accuracy: 13.088777946602995\n",
            "Total Pit Predictions: 18428\n",
            "[6000] Loss: 8.19\n",
            "Overall Accuracy: 50.47%\n",
            "Total No Pit Accuracy: 95.72986466955722\n",
            "Total Pit Accuracy: 13.089488250936126\n",
            "Total Pit Predictions: 18427\n",
            "[6500] Loss: 12.77\n",
            "Overall Accuracy: 50.39%\n",
            "Total No Pit Accuracy: 95.74496113818996\n",
            "Total Pit Accuracy: 13.10445659825635\n",
            "Total Pit Predictions: 18467\n",
            "[7000] Loss: 15.26\n",
            "Overall Accuracy: 50.18%\n",
            "Total No Pit Accuracy: 95.74087567066304\n",
            "Total Pit Accuracy: 13.098318240620957\n",
            "Total Pit Predictions: 18552\n",
            "[7500] Loss: 5.85\n",
            "Overall Accuracy: 50.18%\n",
            "Total No Pit Accuracy: 95.74143983045235\n",
            "Total Pit Accuracy: 13.09433962264151\n",
            "Total Pit Predictions: 18550\n",
            "[8000] Loss: 13.78\n",
            "Overall Accuracy: 50.33%\n",
            "Total No Pit Accuracy: 95.74973600844773\n",
            "Total Pit Accuracy: 13.121046656214522\n",
            "Total Pit Predictions: 18497\n",
            "[8500] Loss: 9.59\n",
            "Overall Accuracy: 50.34%\n",
            "Total No Pit Accuracy: 95.74482121651933\n",
            "Total Pit Accuracy: 13.119896165702233\n",
            "Total Pit Predictions: 18491\n",
            "[9000] Loss: 6.48\n",
            "Overall Accuracy: 50.34%\n",
            "Total No Pit Accuracy: 95.73934837092732\n",
            "Total Pit Accuracy: 13.111916481852113\n",
            "Total Pit Predictions: 18487\n",
            "[9500] Loss: 21.59\n",
            "Overall Accuracy: 49.82%\n",
            "Total No Pit Accuracy: 95.72002679169458\n",
            "Total Pit Accuracy: 13.216517976387628\n",
            "Total Pit Predictions: 18719\n",
            "[10000] Loss: 17.92\n",
            "Overall Accuracy: 49.70%\n",
            "Total No Pit Accuracy: 95.72879531849061\n",
            "Total Pit Accuracy: 13.27334682142477\n",
            "Total Pit Predictions: 18782\n"
          ]
        },
        {
          "output_type": "display_data",
          "data": {
            "text/plain": [
              "<IPython.core.display.HTML object>"
            ],
            "text/html": []
          },
          "metadata": {}
        },
        {
          "output_type": "display_data",
          "data": {
            "text/plain": [
              "<IPython.core.display.HTML object>"
            ],
            "text/html": [
              "<br>    <style><br>        .wandb-row {<br>            display: flex;<br>            flex-direction: row;<br>            flex-wrap: wrap;<br>            justify-content: flex-start;<br>            width: 100%;<br>        }<br>        .wandb-col {<br>            display: flex;<br>            flex-direction: column;<br>            flex-basis: 100%;<br>            flex: 1;<br>            padding: 10px;<br>        }<br>    </style><br><div class=\"wandb-row\"><div class=\"wandb-col\"><h3>Run history:</h3><br/><table class=\"wandb\"><tr><td>loss</td><td>▃▄▇▅▂▃▃▂▃▃▅▄▅▃▄▃▅▁▅█▁▅▃▃▃▇▄▅▅▃▃█▁▂▃▃▃▆▄▃</td></tr><tr><td>overall_accuracy</td><td>▆▁▁▁▁▁▁▅▇████████████</td></tr><tr><td>total no pit accurary (exact match)</td><td>██▁▁▁▁▁██████████████</td></tr><tr><td>total pit accurary (3 laps either side)</td><td>█▃▃▃▃▃▃▄▂▁▁▁▁▁▁▁▁▁▁▁▁</td></tr><tr><td>total pit predictions</td><td>▄██████▄▂▁▁▁▁▁▁▁▁▁▁▁▁</td></tr></table><br/></div><div class=\"wandb-col\"><h3>Run summary:</h3><br/><table class=\"wandb\"><tr><td>loss</td><td>17.91871</td></tr><tr><td>overall_accuracy</td><td>49.7043</td></tr><tr><td>total no pit accurary (exact match)</td><td>95.7288</td></tr><tr><td>total pit accurary (3 laps either side)</td><td>13.27335</td></tr><tr><td>total pit predictions</td><td>18782</td></tr></table><br/></div></div>"
            ]
          },
          "metadata": {}
        },
        {
          "output_type": "display_data",
          "data": {
            "text/plain": [
              "<IPython.core.display.HTML object>"
            ],
            "text/html": [
              " View run <strong style=\"color:#cdcd00\">bright-sweep-6</strong> at: <a href='https://wandb.ai/vm800-university-of-york/binary_classifier_emd/runs/hm7vetq3' target=\"_blank\">https://wandb.ai/vm800-university-of-york/binary_classifier_emd/runs/hm7vetq3</a><br> View project at: <a href='https://wandb.ai/vm800-university-of-york/binary_classifier_emd' target=\"_blank\">https://wandb.ai/vm800-university-of-york/binary_classifier_emd</a><br>Synced 5 W&B file(s), 0 media file(s), 0 artifact file(s) and 1 other file(s)"
            ]
          },
          "metadata": {}
        },
        {
          "output_type": "display_data",
          "data": {
            "text/plain": [
              "<IPython.core.display.HTML object>"
            ],
            "text/html": [
              "Find logs at: <code>./wandb/run-20241230_161351-hm7vetq3/logs</code>"
            ]
          },
          "metadata": {}
        },
        {
          "output_type": "stream",
          "name": "stderr",
          "text": [
            "\u001b[34m\u001b[1mwandb\u001b[0m: Agent Starting Run: de9wv7l2 with config:\n",
            "\u001b[34m\u001b[1mwandb\u001b[0m: \tdropout: 0.3102427642063449\n",
            "\u001b[34m\u001b[1mwandb\u001b[0m: \thidden_size: 18\n",
            "\u001b[34m\u001b[1mwandb\u001b[0m: \tlearning_rate: 0.001365244444575602\n",
            "\u001b[34m\u001b[1mwandb\u001b[0m: \toptimizer: sgd\n",
            "\u001b[34m\u001b[1mwandb\u001b[0m: \u001b[33mWARNING\u001b[0m Ignoring project 'binary_classifier_emd' when running a sweep.\n"
          ]
        },
        {
          "output_type": "display_data",
          "data": {
            "text/plain": [
              "<IPython.core.display.HTML object>"
            ],
            "text/html": [
              "Tracking run with wandb version 0.19.1"
            ]
          },
          "metadata": {}
        },
        {
          "output_type": "display_data",
          "data": {
            "text/plain": [
              "<IPython.core.display.HTML object>"
            ],
            "text/html": [
              "Run data is saved locally in <code>/content/wandb/run-20241230_162110-de9wv7l2</code>"
            ]
          },
          "metadata": {}
        },
        {
          "output_type": "display_data",
          "data": {
            "text/plain": [
              "<IPython.core.display.HTML object>"
            ],
            "text/html": [
              "Syncing run <strong><a href='https://wandb.ai/vm800-university-of-york/binary_classifier_emd/runs/de9wv7l2' target=\"_blank\">drawn-sweep-7</a></strong> to <a href='https://wandb.ai/vm800-university-of-york/binary_classifier_emd' target=\"_blank\">Weights & Biases</a> (<a href='https://wandb.me/developer-guide' target=\"_blank\">docs</a>)<br>Sweep page: <a href='https://wandb.ai/vm800-university-of-york/binary_classifier_emd/sweeps/0sg2xel9' target=\"_blank\">https://wandb.ai/vm800-university-of-york/binary_classifier_emd/sweeps/0sg2xel9</a>"
            ]
          },
          "metadata": {}
        },
        {
          "output_type": "display_data",
          "data": {
            "text/plain": [
              "<IPython.core.display.HTML object>"
            ],
            "text/html": [
              " View project at <a href='https://wandb.ai/vm800-university-of-york/binary_classifier_emd' target=\"_blank\">https://wandb.ai/vm800-university-of-york/binary_classifier_emd</a>"
            ]
          },
          "metadata": {}
        },
        {
          "output_type": "display_data",
          "data": {
            "text/plain": [
              "<IPython.core.display.HTML object>"
            ],
            "text/html": [
              " View sweep at <a href='https://wandb.ai/vm800-university-of-york/binary_classifier_emd/sweeps/0sg2xel9' target=\"_blank\">https://wandb.ai/vm800-university-of-york/binary_classifier_emd/sweeps/0sg2xel9</a>"
            ]
          },
          "metadata": {}
        },
        {
          "output_type": "display_data",
          "data": {
            "text/plain": [
              "<IPython.core.display.HTML object>"
            ],
            "text/html": [
              " View run at <a href='https://wandb.ai/vm800-university-of-york/binary_classifier_emd/runs/de9wv7l2' target=\"_blank\">https://wandb.ai/vm800-university-of-york/binary_classifier_emd/runs/de9wv7l2</a>"
            ]
          },
          "metadata": {}
        },
        {
          "output_type": "stream",
          "name": "stdout",
          "text": [
            "[0] Loss: 19.47\n",
            "Overall Accuracy: 15.29%\n",
            "Total No Pit Accuracy: 100.0\n",
            "Total Pit Accuracy: 14.594756554307118\n",
            "Total Pit Predictions: 33375\n",
            "[500] Loss: 8.99\n",
            "Overall Accuracy: 46.23%\n",
            "Total No Pit Accuracy: 95.18478650879082\n",
            "Total Pit Accuracy: 11.621182915694432\n",
            "Total Pit Predictions: 19714\n",
            "[1000] Loss: 7.83\n",
            "Overall Accuracy: 54.39%\n",
            "Total No Pit Accuracy: 95.81508227773175\n",
            "Total Pit Accuracy: 12.629065950462548\n",
            "Total Pit Predictions: 16755\n",
            "[1500] Loss: 14.96\n",
            "Overall Accuracy: 56.91%\n",
            "Total No Pit Accuracy: 95.96543403849391\n",
            "Total Pit Accuracy: 12.93277735658327\n",
            "Total Pit Predictions: 15828\n",
            "[2000] Loss: 13.70\n",
            "Overall Accuracy: 56.91%\n",
            "Total No Pit Accuracy: 95.96679194480284\n",
            "Total Pit Accuracy: 12.906080141575021\n",
            "Total Pit Predictions: 15822\n",
            "[2500] Loss: 23.14\n",
            "Overall Accuracy: 57.32%\n",
            "Total No Pit Accuracy: 95.94069302532208\n",
            "Total Pit Accuracy: 12.863627645291222\n",
            "Total Pit Predictions: 15641\n",
            "[3000] Loss: 10.19\n",
            "Overall Accuracy: 59.00%\n",
            "Total No Pit Accuracy: 95.94153236601167\n",
            "Total Pit Accuracy: 12.910766764627304\n",
            "Total Pit Predictions: 14972\n",
            "[3500] Loss: 8.00\n",
            "Overall Accuracy: 59.02%\n",
            "Total No Pit Accuracy: 95.9403080872914\n",
            "Total Pit Accuracy: 12.866983214070753\n",
            "Total Pit Predictions: 14953\n",
            "[4000] Loss: 8.05\n",
            "Overall Accuracy: 59.05%\n",
            "Total No Pit Accuracy: 95.92283851661857\n",
            "Total Pit Accuracy: 12.842316705724807\n",
            "Total Pit Predictions: 14935\n",
            "[4500] Loss: 12.98\n",
            "Overall Accuracy: 59.40%\n",
            "Total No Pit Accuracy: 95.94737958837258\n",
            "Total Pit Accuracy: 12.826924376562818\n",
            "Total Pit Predictions: 14797\n",
            "[5000] Loss: 1.50\n",
            "Overall Accuracy: 60.93%\n",
            "Total No Pit Accuracy: 96.01460454592204\n",
            "Total Pit Accuracy: 12.898683376751391\n",
            "Total Pit Predictions: 14203\n",
            "[5500] Loss: 12.10\n",
            "Overall Accuracy: 61.49%\n",
            "Total No Pit Accuracy: 96.04514030093534\n",
            "Total Pit Accuracy: 12.849681619803963\n",
            "Total Pit Predictions: 13977\n",
            "[6000] Loss: 6.04\n",
            "Overall Accuracy: 62.37%\n",
            "Total No Pit Accuracy: 96.0927350854402\n",
            "Total Pit Accuracy: 12.863953061972863\n",
            "Total Pit Predictions: 13635\n",
            "[6500] Loss: 1.00\n",
            "Overall Accuracy: 63.40%\n",
            "Total No Pit Accuracy: 96.12858963050084\n",
            "Total Pit Accuracy: 12.957789020614666\n",
            "Total Pit Predictions: 13243\n",
            "[7000] Loss: 29.66\n",
            "Overall Accuracy: 63.92%\n",
            "Total No Pit Accuracy: 96.08156543640415\n",
            "Total Pit Accuracy: 12.858571098977158\n",
            "Total Pit Predictions: 13003\n",
            "[7500] Loss: 7.09\n",
            "Overall Accuracy: 65.35%\n",
            "Total No Pit Accuracy: 96.15839523111133\n",
            "Total Pit Accuracy: 13.31521739130435\n",
            "Total Pit Predictions: 12512\n",
            "[8000] Loss: 10.60\n",
            "Overall Accuracy: 65.36%\n",
            "Total No Pit Accuracy: 96.1600302657713\n",
            "Total Pit Accuracy: 13.276813564744462\n",
            "Total Pit Predictions: 12503\n",
            "[8500] Loss: 7.54\n",
            "Overall Accuracy: 65.37%\n",
            "Total No Pit Accuracy: 96.16075650118204\n",
            "Total Pit Accuracy: 13.257060564845188\n",
            "Total Pit Predictions: 12499\n",
            "[9000] Loss: 6.30\n",
            "Overall Accuracy: 67.46%\n",
            "Total No Pit Accuracy: 96.27107800575789\n",
            "Total Pit Accuracy: 13.870474247832739\n",
            "Total Pit Predictions: 11766\n",
            "[9500] Loss: 6.81\n",
            "Overall Accuracy: 89.46%\n",
            "Total No Pit Accuracy: 97.21454173067076\n",
            "Total Pit Accuracy: 37.29903536977492\n",
            "Total Pit Predictions: 4354\n",
            "[10000] Loss: 15.86\n",
            "Overall Accuracy: 89.85%\n",
            "Total No Pit Accuracy: 97.19036308109942\n",
            "Total Pit Accuracy: 38.07130892558028\n",
            "Total Pit Predictions: 4179\n"
          ]
        },
        {
          "output_type": "display_data",
          "data": {
            "text/plain": [
              "<IPython.core.display.HTML object>"
            ],
            "text/html": []
          },
          "metadata": {}
        },
        {
          "output_type": "display_data",
          "data": {
            "text/plain": [
              "<IPython.core.display.HTML object>"
            ],
            "text/html": [
              "<br>    <style><br>        .wandb-row {<br>            display: flex;<br>            flex-direction: row;<br>            flex-wrap: wrap;<br>            justify-content: flex-start;<br>            width: 100%;<br>        }<br>        .wandb-col {<br>            display: flex;<br>            flex-direction: column;<br>            flex-basis: 100%;<br>            flex: 1;<br>            padding: 10px;<br>        }<br>    </style><br><div class=\"wandb-row\"><div class=\"wandb-col\"><h3>Run history:</h3><br/><table class=\"wandb\"><tr><td>loss</td><td>▇▆▄▇▃▇▃█▃▆▅▃▃▅▂▄▃▂▁▄█▃▃▆▂▃▃▃▂▃▇▂▂▄▂▃▆▃▄▅</td></tr><tr><td>overall_accuracy</td><td>▁▄▅▅▅▅▅▅▅▅▅▅▅▆▆▆▆▆▆██</td></tr><tr><td>total no pit accurary (exact match)</td><td>█▁▂▂▂▂▂▂▂▂▂▂▂▂▂▂▂▂▃▄▄</td></tr><tr><td>total pit accurary (3 laps either side)</td><td>▂▁▁▁▁▁▁▁▁▁▁▁▁▁▁▁▁▁▂██</td></tr><tr><td>total pit predictions</td><td>█▅▄▄▄▄▄▄▄▄▃▃▃▃▃▃▃▃▃▁▁</td></tr></table><br/></div><div class=\"wandb-col\"><h3>Run summary:</h3><br/><table class=\"wandb\"><tr><td>loss</td><td>15.86491</td></tr><tr><td>overall_accuracy</td><td>89.84814</td></tr><tr><td>total no pit accurary (exact match)</td><td>97.19036</td></tr><tr><td>total pit accurary (3 laps either side)</td><td>38.07131</td></tr><tr><td>total pit predictions</td><td>4179</td></tr></table><br/></div></div>"
            ]
          },
          "metadata": {}
        },
        {
          "output_type": "display_data",
          "data": {
            "text/plain": [
              "<IPython.core.display.HTML object>"
            ],
            "text/html": [
              " View run <strong style=\"color:#cdcd00\">drawn-sweep-7</strong> at: <a href='https://wandb.ai/vm800-university-of-york/binary_classifier_emd/runs/de9wv7l2' target=\"_blank\">https://wandb.ai/vm800-university-of-york/binary_classifier_emd/runs/de9wv7l2</a><br> View project at: <a href='https://wandb.ai/vm800-university-of-york/binary_classifier_emd' target=\"_blank\">https://wandb.ai/vm800-university-of-york/binary_classifier_emd</a><br>Synced 5 W&B file(s), 0 media file(s), 0 artifact file(s) and 1 other file(s)"
            ]
          },
          "metadata": {}
        },
        {
          "output_type": "display_data",
          "data": {
            "text/plain": [
              "<IPython.core.display.HTML object>"
            ],
            "text/html": [
              "Find logs at: <code>./wandb/run-20241230_162110-de9wv7l2/logs</code>"
            ]
          },
          "metadata": {}
        },
        {
          "output_type": "stream",
          "name": "stderr",
          "text": [
            "\u001b[34m\u001b[1mwandb\u001b[0m: Agent Starting Run: y7sxxvm0 with config:\n",
            "\u001b[34m\u001b[1mwandb\u001b[0m: \tdropout: 0.33567287061275874\n",
            "\u001b[34m\u001b[1mwandb\u001b[0m: \thidden_size: 34\n",
            "\u001b[34m\u001b[1mwandb\u001b[0m: \tlearning_rate: 0.009582422530538058\n",
            "\u001b[34m\u001b[1mwandb\u001b[0m: \toptimizer: adagrad\n",
            "\u001b[34m\u001b[1mwandb\u001b[0m: \u001b[33mWARNING\u001b[0m Ignoring project 'binary_classifier_emd' when running a sweep.\n"
          ]
        },
        {
          "output_type": "display_data",
          "data": {
            "text/plain": [
              "<IPython.core.display.HTML object>"
            ],
            "text/html": [
              "Tracking run with wandb version 0.19.1"
            ]
          },
          "metadata": {}
        },
        {
          "output_type": "display_data",
          "data": {
            "text/plain": [
              "<IPython.core.display.HTML object>"
            ],
            "text/html": [
              "Run data is saved locally in <code>/content/wandb/run-20241230_162824-y7sxxvm0</code>"
            ]
          },
          "metadata": {}
        },
        {
          "output_type": "display_data",
          "data": {
            "text/plain": [
              "<IPython.core.display.HTML object>"
            ],
            "text/html": [
              "Syncing run <strong><a href='https://wandb.ai/vm800-university-of-york/binary_classifier_emd/runs/y7sxxvm0' target=\"_blank\">winter-sweep-8</a></strong> to <a href='https://wandb.ai/vm800-university-of-york/binary_classifier_emd' target=\"_blank\">Weights & Biases</a> (<a href='https://wandb.me/developer-guide' target=\"_blank\">docs</a>)<br>Sweep page: <a href='https://wandb.ai/vm800-university-of-york/binary_classifier_emd/sweeps/0sg2xel9' target=\"_blank\">https://wandb.ai/vm800-university-of-york/binary_classifier_emd/sweeps/0sg2xel9</a>"
            ]
          },
          "metadata": {}
        },
        {
          "output_type": "display_data",
          "data": {
            "text/plain": [
              "<IPython.core.display.HTML object>"
            ],
            "text/html": [
              " View project at <a href='https://wandb.ai/vm800-university-of-york/binary_classifier_emd' target=\"_blank\">https://wandb.ai/vm800-university-of-york/binary_classifier_emd</a>"
            ]
          },
          "metadata": {}
        },
        {
          "output_type": "display_data",
          "data": {
            "text/plain": [
              "<IPython.core.display.HTML object>"
            ],
            "text/html": [
              " View sweep at <a href='https://wandb.ai/vm800-university-of-york/binary_classifier_emd/sweeps/0sg2xel9' target=\"_blank\">https://wandb.ai/vm800-university-of-york/binary_classifier_emd/sweeps/0sg2xel9</a>"
            ]
          },
          "metadata": {}
        },
        {
          "output_type": "display_data",
          "data": {
            "text/plain": [
              "<IPython.core.display.HTML object>"
            ],
            "text/html": [
              " View run at <a href='https://wandb.ai/vm800-university-of-york/binary_classifier_emd/runs/y7sxxvm0' target=\"_blank\">https://wandb.ai/vm800-university-of-york/binary_classifier_emd/runs/y7sxxvm0</a>"
            ]
          },
          "metadata": {}
        },
        {
          "output_type": "stream",
          "name": "stdout",
          "text": [
            "[0] Loss: 17.00\n",
            "Overall Accuracy: 14.49%\n",
            "Total No Pit Accuracy: 0.0\n",
            "Total Pit Accuracy: 14.493744242027995\n",
            "Total Pit Predictions: 33649\n",
            "[500] Loss: 6.96\n",
            "Overall Accuracy: 14.49%\n",
            "Total No Pit Accuracy: 0.0\n",
            "Total Pit Accuracy: 14.493744242027995\n",
            "Total Pit Predictions: 33649\n",
            "[1000] Loss: 6.92\n",
            "Overall Accuracy: 14.49%\n",
            "Total No Pit Accuracy: 0.0\n",
            "Total Pit Accuracy: 14.493744242027995\n",
            "Total Pit Predictions: 33649\n",
            "[1500] Loss: 15.49\n",
            "Overall Accuracy: 14.49%\n",
            "Total No Pit Accuracy: 0.0\n",
            "Total Pit Accuracy: 14.493744242027995\n",
            "Total Pit Predictions: 33649\n",
            "[2000] Loss: 7.60\n",
            "Overall Accuracy: 14.49%\n",
            "Total No Pit Accuracy: 0.0\n",
            "Total Pit Accuracy: 14.493744242027995\n",
            "Total Pit Predictions: 33649\n",
            "[2500] Loss: 16.44\n",
            "Overall Accuracy: 14.49%\n",
            "Total No Pit Accuracy: 0.0\n",
            "Total Pit Accuracy: 14.493744242027995\n",
            "Total Pit Predictions: 33649\n",
            "[3000] Loss: 5.62\n",
            "Overall Accuracy: 14.49%\n",
            "Total No Pit Accuracy: 0.0\n",
            "Total Pit Accuracy: 14.493744242027995\n",
            "Total Pit Predictions: 33649\n",
            "[3500] Loss: 13.01\n",
            "Overall Accuracy: 14.49%\n",
            "Total No Pit Accuracy: 0.0\n",
            "Total Pit Accuracy: 14.493744242027995\n",
            "Total Pit Predictions: 33649\n",
            "[4000] Loss: 8.95\n",
            "Overall Accuracy: 14.49%\n",
            "Total No Pit Accuracy: 0.0\n",
            "Total Pit Accuracy: 14.493744242027995\n",
            "Total Pit Predictions: 33649\n",
            "[4500] Loss: 7.47\n",
            "Overall Accuracy: 14.49%\n",
            "Total No Pit Accuracy: 0.0\n",
            "Total Pit Accuracy: 14.493744242027995\n",
            "Total Pit Predictions: 33649\n",
            "[5000] Loss: 13.78\n",
            "Overall Accuracy: 14.49%\n",
            "Total No Pit Accuracy: 0.0\n",
            "Total Pit Accuracy: 14.493744242027995\n",
            "Total Pit Predictions: 33649\n",
            "[5500] Loss: 13.55\n",
            "Overall Accuracy: 29.63%\n",
            "Total No Pit Accuracy: 94.64964280285758\n",
            "Total Pit Accuracy: 13.830809013668269\n",
            "Total Pit Predictions: 27070\n",
            "[6000] Loss: 8.28\n",
            "Overall Accuracy: 37.02%\n",
            "Total No Pit Accuracy: 94.84422110552764\n",
            "Total Pit Accuracy: 12.738934132241866\n",
            "Total Pit Predictions: 23699\n",
            "[6500] Loss: 17.98\n",
            "Overall Accuracy: 38.68%\n",
            "Total No Pit Accuracy: 94.97789899369886\n",
            "Total Pit Accuracy: 12.66510253736531\n",
            "Total Pit Predictions: 23016\n",
            "[7000] Loss: 21.17\n",
            "Overall Accuracy: 39.01%\n",
            "Total No Pit Accuracy: 95.03209600893106\n",
            "Total Pit Accuracy: 12.716157205240176\n",
            "Total Pit Predictions: 22900\n",
            "[7500] Loss: 16.89\n",
            "Overall Accuracy: 39.15%\n",
            "Total No Pit Accuracy: 94.9866125011541\n",
            "Total Pit Accuracy: 12.647909545095976\n",
            "Total Pit Predictions: 22818\n",
            "[8000] Loss: 8.97\n",
            "Overall Accuracy: 39.15%\n",
            "Total No Pit Accuracy: 94.97830702483154\n",
            "Total Pit Accuracy: 12.644635343618512\n",
            "Total Pit Predictions: 22816\n",
            "[8500] Loss: 14.69\n",
            "Overall Accuracy: 39.50%\n",
            "Total No Pit Accuracy: 95.00774346360572\n",
            "Total Pit Accuracy: 12.627911079745942\n",
            "Total Pit Predictions: 22672\n",
            "[9000] Loss: 8.84\n",
            "Overall Accuracy: 40.68%\n",
            "Total No Pit Accuracy: 95.164121467439\n",
            "Total Pit Accuracy: 12.78364412491575\n",
            "Total Pit Predictions: 22255\n",
            "[9500] Loss: 5.59\n",
            "Overall Accuracy: 41.07%\n",
            "Total No Pit Accuracy: 95.13289609941319\n",
            "Total Pit Accuracy: 12.664883731471829\n",
            "Total Pit Predictions: 22061\n",
            "[10000] Loss: 13.97\n",
            "Overall Accuracy: 41.07%\n",
            "Total No Pit Accuracy: 95.13331607558892\n",
            "Total Pit Accuracy: 12.665457842248411\n",
            "Total Pit Predictions: 22060\n"
          ]
        },
        {
          "output_type": "display_data",
          "data": {
            "text/plain": [
              "<IPython.core.display.HTML object>"
            ],
            "text/html": []
          },
          "metadata": {}
        },
        {
          "output_type": "display_data",
          "data": {
            "text/plain": [
              "<IPython.core.display.HTML object>"
            ],
            "text/html": [
              "<br>    <style><br>        .wandb-row {<br>            display: flex;<br>            flex-direction: row;<br>            flex-wrap: wrap;<br>            justify-content: flex-start;<br>            width: 100%;<br>        }<br>        .wandb-col {<br>            display: flex;<br>            flex-direction: column;<br>            flex-basis: 100%;<br>            flex: 1;<br>            padding: 10px;<br>        }<br>    </style><br><div class=\"wandb-row\"><div class=\"wandb-col\"><h3>Run history:</h3><br/><table class=\"wandb\"><tr><td>loss</td><td>█▇▅▅▅▃▄▇▃▇▄▃▄▅▁▇▃▅▇▄▃▆▃▃▇▆▅█▆▃█▅▄▃▃▅▂▅▃▄</td></tr><tr><td>overall_accuracy</td><td>▁▁▁▁▁▁▁▁▁▁▁▅▇▇▇▇▇████</td></tr><tr><td>total no pit accurary (exact match)</td><td>▁▁▁▁▁▁▁▁▁▁▁██████████</td></tr><tr><td>total pit accurary (3 laps either side)</td><td>███████████▆▁▁▁▁▁▁▂▁▁</td></tr><tr><td>total pit predictions</td><td>███████████▄▂▂▂▁▁▁▁▁▁</td></tr></table><br/></div><div class=\"wandb-col\"><h3>Run summary:</h3><br/><table class=\"wandb\"><tr><td>loss</td><td>13.96503</td></tr><tr><td>overall_accuracy</td><td>41.06809</td></tr><tr><td>total no pit accurary (exact match)</td><td>95.13332</td></tr><tr><td>total pit accurary (3 laps either side)</td><td>12.66546</td></tr><tr><td>total pit predictions</td><td>22060</td></tr></table><br/></div></div>"
            ]
          },
          "metadata": {}
        },
        {
          "output_type": "display_data",
          "data": {
            "text/plain": [
              "<IPython.core.display.HTML object>"
            ],
            "text/html": [
              " View run <strong style=\"color:#cdcd00\">winter-sweep-8</strong> at: <a href='https://wandb.ai/vm800-university-of-york/binary_classifier_emd/runs/y7sxxvm0' target=\"_blank\">https://wandb.ai/vm800-university-of-york/binary_classifier_emd/runs/y7sxxvm0</a><br> View project at: <a href='https://wandb.ai/vm800-university-of-york/binary_classifier_emd' target=\"_blank\">https://wandb.ai/vm800-university-of-york/binary_classifier_emd</a><br>Synced 5 W&B file(s), 0 media file(s), 0 artifact file(s) and 1 other file(s)"
            ]
          },
          "metadata": {}
        },
        {
          "output_type": "display_data",
          "data": {
            "text/plain": [
              "<IPython.core.display.HTML object>"
            ],
            "text/html": [
              "Find logs at: <code>./wandb/run-20241230_162824-y7sxxvm0/logs</code>"
            ]
          },
          "metadata": {}
        },
        {
          "output_type": "stream",
          "name": "stderr",
          "text": [
            "\u001b[34m\u001b[1mwandb\u001b[0m: Agent Starting Run: kr2raj9i with config:\n",
            "\u001b[34m\u001b[1mwandb\u001b[0m: \tdropout: 0.1029903128533598\n",
            "\u001b[34m\u001b[1mwandb\u001b[0m: \thidden_size: 40\n",
            "\u001b[34m\u001b[1mwandb\u001b[0m: \tlearning_rate: 0.008280160147929953\n",
            "\u001b[34m\u001b[1mwandb\u001b[0m: \toptimizer: rmsprop\n",
            "\u001b[34m\u001b[1mwandb\u001b[0m: \u001b[33mWARNING\u001b[0m Ignoring project 'binary_classifier_emd' when running a sweep.\n"
          ]
        },
        {
          "output_type": "display_data",
          "data": {
            "text/plain": [
              "<IPython.core.display.HTML object>"
            ],
            "text/html": [
              "Tracking run with wandb version 0.19.1"
            ]
          },
          "metadata": {}
        },
        {
          "output_type": "display_data",
          "data": {
            "text/plain": [
              "<IPython.core.display.HTML object>"
            ],
            "text/html": [
              "Run data is saved locally in <code>/content/wandb/run-20241230_163544-kr2raj9i</code>"
            ]
          },
          "metadata": {}
        },
        {
          "output_type": "display_data",
          "data": {
            "text/plain": [
              "<IPython.core.display.HTML object>"
            ],
            "text/html": [
              "Syncing run <strong><a href='https://wandb.ai/vm800-university-of-york/binary_classifier_emd/runs/kr2raj9i' target=\"_blank\">golden-sweep-9</a></strong> to <a href='https://wandb.ai/vm800-university-of-york/binary_classifier_emd' target=\"_blank\">Weights & Biases</a> (<a href='https://wandb.me/developer-guide' target=\"_blank\">docs</a>)<br>Sweep page: <a href='https://wandb.ai/vm800-university-of-york/binary_classifier_emd/sweeps/0sg2xel9' target=\"_blank\">https://wandb.ai/vm800-university-of-york/binary_classifier_emd/sweeps/0sg2xel9</a>"
            ]
          },
          "metadata": {}
        },
        {
          "output_type": "display_data",
          "data": {
            "text/plain": [
              "<IPython.core.display.HTML object>"
            ],
            "text/html": [
              " View project at <a href='https://wandb.ai/vm800-university-of-york/binary_classifier_emd' target=\"_blank\">https://wandb.ai/vm800-university-of-york/binary_classifier_emd</a>"
            ]
          },
          "metadata": {}
        },
        {
          "output_type": "display_data",
          "data": {
            "text/plain": [
              "<IPython.core.display.HTML object>"
            ],
            "text/html": [
              " View sweep at <a href='https://wandb.ai/vm800-university-of-york/binary_classifier_emd/sweeps/0sg2xel9' target=\"_blank\">https://wandb.ai/vm800-university-of-york/binary_classifier_emd/sweeps/0sg2xel9</a>"
            ]
          },
          "metadata": {}
        },
        {
          "output_type": "display_data",
          "data": {
            "text/plain": [
              "<IPython.core.display.HTML object>"
            ],
            "text/html": [
              " View run at <a href='https://wandb.ai/vm800-university-of-york/binary_classifier_emd/runs/kr2raj9i' target=\"_blank\">https://wandb.ai/vm800-university-of-york/binary_classifier_emd/runs/kr2raj9i</a>"
            ]
          },
          "metadata": {}
        },
        {
          "output_type": "stream",
          "name": "stdout",
          "text": [
            "[0] Loss: 17.64\n",
            "Overall Accuracy: 15.37%\n",
            "Total No Pit Accuracy: 88.93805309734513\n",
            "Total Pit Accuracy: 14.371780582582764\n",
            "Total Pit Predictions: 33197\n",
            "[500] Loss: 17.45\n",
            "Overall Accuracy: 68.68%\n",
            "Total No Pit Accuracy: 96.1294304355493\n",
            "Total Pit Accuracy: 11.892384860921112\n",
            "Total Pit Predictions: 10965\n",
            "[1000] Loss: 7.38\n",
            "Overall Accuracy: 68.89%\n",
            "Total No Pit Accuracy: 96.14354109017438\n",
            "Total Pit Accuracy: 11.882006984010292\n",
            "Total Pit Predictions: 10882\n",
            "[1500] Loss: 7.65\n",
            "Overall Accuracy: 68.43%\n",
            "Total No Pit Accuracy: 96.11723557798733\n",
            "Total Pit Accuracy: 11.887542939793889\n",
            "Total Pit Predictions: 11062\n",
            "[2000] Loss: 13.83\n",
            "Overall Accuracy: 69.21%\n",
            "Total No Pit Accuracy: 96.16546290216678\n",
            "Total Pit Accuracy: 12.19918548685672\n",
            "Total Pit Predictions: 10804\n",
            "[2500] Loss: 13.59\n",
            "Overall Accuracy: 91.70%\n",
            "Total No Pit Accuracy: 97.10302193285324\n",
            "Total Pit Accuracy: 40.98208770846201\n",
            "Total Pit Predictions: 3238\n",
            "[3000] Loss: 16.39\n",
            "Overall Accuracy: 91.76%\n",
            "Total No Pit Accuracy: 97.10007208860345\n",
            "Total Pit Accuracy: 39.76365378473331\n",
            "Total Pit Predictions: 3131\n",
            "[3500] Loss: 7.81\n",
            "Overall Accuracy: 91.82%\n",
            "Total No Pit Accuracy: 97.10273030838735\n",
            "Total Pit Accuracy: 39.80019336126329\n",
            "Total Pit Predictions: 3103\n",
            "[4000] Loss: 11.65\n",
            "Overall Accuracy: 92.92%\n",
            "Total No Pit Accuracy: 97.1379600284587\n",
            "Total Pit Accuracy: 45.06784011734507\n",
            "Total Pit Predictions: 2727\n",
            "[4500] Loss: 5.17\n",
            "Overall Accuracy: 92.94%\n",
            "Total No Pit Accuracy: 97.13888529678003\n",
            "Total Pit Accuracy: 45.160103054839894\n",
            "Total Pit Predictions: 2717\n",
            "[5000] Loss: 7.28\n",
            "Overall Accuracy: 93.00%\n",
            "Total No Pit Accuracy: 97.1394401706639\n",
            "Total Pit Accuracy: 45.702692733308744\n",
            "Total Pit Predictions: 2711\n",
            "[5500] Loss: 5.19\n",
            "Overall Accuracy: 93.01%\n",
            "Total No Pit Accuracy: 97.13916276062712\n",
            "Total Pit Accuracy: 45.91009579955785\n",
            "Total Pit Predictions: 2714\n",
            "[6000] Loss: 7.82\n",
            "Overall Accuracy: 93.01%\n",
            "Total No Pit Accuracy: 97.13879279687046\n",
            "Total Pit Accuracy: 45.989698307579104\n",
            "Total Pit Predictions: 2718\n",
            "[6500] Loss: 11.78\n",
            "Overall Accuracy: 93.01%\n",
            "Total No Pit Accuracy: 97.13833020759232\n",
            "Total Pit Accuracy: 46.08887256702167\n",
            "Total Pit Predictions: 2723\n",
            "[7000] Loss: 17.27\n",
            "Overall Accuracy: 93.01%\n",
            "Total No Pit Accuracy: 97.13851526125194\n",
            "Total Pit Accuracy: 46.08599779492833\n",
            "Total Pit Predictions: 2721\n",
            "[7500] Loss: 11.32\n",
            "Overall Accuracy: 93.02%\n",
            "Total No Pit Accuracy: 97.14285714285714\n",
            "Total Pit Accuracy: 47.24721122706009\n",
            "Total Pit Predictions: 2779\n",
            "[8000] Loss: 14.50\n",
            "Overall Accuracy: 93.03%\n",
            "Total No Pit Accuracy: 97.14239429774825\n",
            "Total Pit Accuracy: 47.44971264367816\n",
            "Total Pit Predictions: 2784\n",
            "[8500] Loss: 5.51\n",
            "Overall Accuracy: 93.02%\n",
            "Total No Pit Accuracy: 97.14146815751093\n",
            "Total Pit Accuracy: 47.53042233357194\n",
            "Total Pit Predictions: 2794\n",
            "[9000] Loss: 8.54\n",
            "Overall Accuracy: 93.03%\n",
            "Total No Pit Accuracy: 97.14128285742068\n",
            "Total Pit Accuracy: 47.60371959942775\n",
            "Total Pit Predictions: 2796\n",
            "[9500] Loss: 10.60\n",
            "Overall Accuracy: 93.01%\n",
            "Total No Pit Accuracy: 97.14322773111968\n",
            "Total Pit Accuracy: 47.65124555160142\n",
            "Total Pit Predictions: 2810\n",
            "[10000] Loss: 11.05\n",
            "Overall Accuracy: 93.03%\n",
            "Total No Pit Accuracy: 97.14980544747081\n",
            "Total Pit Accuracy: 47.7750088999644\n",
            "Total Pit Predictions: 2809\n"
          ]
        },
        {
          "output_type": "display_data",
          "data": {
            "text/plain": [
              "<IPython.core.display.HTML object>"
            ],
            "text/html": []
          },
          "metadata": {}
        },
        {
          "output_type": "display_data",
          "data": {
            "text/plain": [
              "<IPython.core.display.HTML object>"
            ],
            "text/html": [
              "<br>    <style><br>        .wandb-row {<br>            display: flex;<br>            flex-direction: row;<br>            flex-wrap: wrap;<br>            justify-content: flex-start;<br>            width: 100%;<br>        }<br>        .wandb-col {<br>            display: flex;<br>            flex-direction: column;<br>            flex-basis: 100%;<br>            flex: 1;<br>            padding: 10px;<br>        }<br>    </style><br><div class=\"wandb-row\"><div class=\"wandb-col\"><h3>Run history:</h3><br/><table class=\"wandb\"><tr><td>loss</td><td>▇▆▆█▄▃▃▆▅▇▅▄▆▅▃▅█▅▅▆▃▂▃▃▇▃▁▃▃▆▂▃▃▃▅▅▄▆▃▅</td></tr><tr><td>overall_accuracy</td><td>▁▆▆▆▆████████████████</td></tr><tr><td>total no pit accurary (exact match)</td><td>▁▇▇▇▇████████████████</td></tr><tr><td>total pit accurary (3 laps either side)</td><td>▁▁▁▁▁▇▆▆▇▇███████████</td></tr><tr><td>total pit predictions</td><td>█▃▃▃▃▁▁▁▁▁▁▁▁▁▁▁▁▁▁▁▁</td></tr></table><br/></div><div class=\"wandb-col\"><h3>Run summary:</h3><br/><table class=\"wandb\"><tr><td>loss</td><td>11.05194</td></tr><tr><td>overall_accuracy</td><td>93.02802</td></tr><tr><td>total no pit accurary (exact match)</td><td>97.14981</td></tr><tr><td>total pit accurary (3 laps either side)</td><td>47.77501</td></tr><tr><td>total pit predictions</td><td>2809</td></tr></table><br/></div></div>"
            ]
          },
          "metadata": {}
        },
        {
          "output_type": "display_data",
          "data": {
            "text/plain": [
              "<IPython.core.display.HTML object>"
            ],
            "text/html": [
              " View run <strong style=\"color:#cdcd00\">golden-sweep-9</strong> at: <a href='https://wandb.ai/vm800-university-of-york/binary_classifier_emd/runs/kr2raj9i' target=\"_blank\">https://wandb.ai/vm800-university-of-york/binary_classifier_emd/runs/kr2raj9i</a><br> View project at: <a href='https://wandb.ai/vm800-university-of-york/binary_classifier_emd' target=\"_blank\">https://wandb.ai/vm800-university-of-york/binary_classifier_emd</a><br>Synced 5 W&B file(s), 0 media file(s), 0 artifact file(s) and 1 other file(s)"
            ]
          },
          "metadata": {}
        },
        {
          "output_type": "display_data",
          "data": {
            "text/plain": [
              "<IPython.core.display.HTML object>"
            ],
            "text/html": [
              "Find logs at: <code>./wandb/run-20241230_163544-kr2raj9i/logs</code>"
            ]
          },
          "metadata": {}
        },
        {
          "output_type": "stream",
          "name": "stderr",
          "text": [
            "\u001b[34m\u001b[1mwandb\u001b[0m: Agent Starting Run: dir2hlc5 with config:\n",
            "\u001b[34m\u001b[1mwandb\u001b[0m: \tdropout: 0.4930507039199285\n",
            "\u001b[34m\u001b[1mwandb\u001b[0m: \thidden_size: 5\n",
            "\u001b[34m\u001b[1mwandb\u001b[0m: \tlearning_rate: 0.001299051845845068\n",
            "\u001b[34m\u001b[1mwandb\u001b[0m: \toptimizer: sgd\n",
            "\u001b[34m\u001b[1mwandb\u001b[0m: \u001b[33mWARNING\u001b[0m Ignoring project 'binary_classifier_emd' when running a sweep.\n"
          ]
        },
        {
          "output_type": "display_data",
          "data": {
            "text/plain": [
              "<IPython.core.display.HTML object>"
            ],
            "text/html": [
              "Tracking run with wandb version 0.19.1"
            ]
          },
          "metadata": {}
        },
        {
          "output_type": "display_data",
          "data": {
            "text/plain": [
              "<IPython.core.display.HTML object>"
            ],
            "text/html": [
              "Run data is saved locally in <code>/content/wandb/run-20241230_164300-dir2hlc5</code>"
            ]
          },
          "metadata": {}
        },
        {
          "output_type": "display_data",
          "data": {
            "text/plain": [
              "<IPython.core.display.HTML object>"
            ],
            "text/html": [
              "Syncing run <strong><a href='https://wandb.ai/vm800-university-of-york/binary_classifier_emd/runs/dir2hlc5' target=\"_blank\">cool-sweep-10</a></strong> to <a href='https://wandb.ai/vm800-university-of-york/binary_classifier_emd' target=\"_blank\">Weights & Biases</a> (<a href='https://wandb.me/developer-guide' target=\"_blank\">docs</a>)<br>Sweep page: <a href='https://wandb.ai/vm800-university-of-york/binary_classifier_emd/sweeps/0sg2xel9' target=\"_blank\">https://wandb.ai/vm800-university-of-york/binary_classifier_emd/sweeps/0sg2xel9</a>"
            ]
          },
          "metadata": {}
        },
        {
          "output_type": "display_data",
          "data": {
            "text/plain": [
              "<IPython.core.display.HTML object>"
            ],
            "text/html": [
              " View project at <a href='https://wandb.ai/vm800-university-of-york/binary_classifier_emd' target=\"_blank\">https://wandb.ai/vm800-university-of-york/binary_classifier_emd</a>"
            ]
          },
          "metadata": {}
        },
        {
          "output_type": "display_data",
          "data": {
            "text/plain": [
              "<IPython.core.display.HTML object>"
            ],
            "text/html": [
              " View sweep at <a href='https://wandb.ai/vm800-university-of-york/binary_classifier_emd/sweeps/0sg2xel9' target=\"_blank\">https://wandb.ai/vm800-university-of-york/binary_classifier_emd/sweeps/0sg2xel9</a>"
            ]
          },
          "metadata": {}
        },
        {
          "output_type": "display_data",
          "data": {
            "text/plain": [
              "<IPython.core.display.HTML object>"
            ],
            "text/html": [
              " View run at <a href='https://wandb.ai/vm800-university-of-york/binary_classifier_emd/runs/dir2hlc5' target=\"_blank\">https://wandb.ai/vm800-university-of-york/binary_classifier_emd/runs/dir2hlc5</a>"
            ]
          },
          "metadata": {}
        },
        {
          "output_type": "stream",
          "name": "stdout",
          "text": [
            "[0] Loss: 8.87\n",
            "Overall Accuracy: 40.98%\n",
            "Total No Pit Accuracy: 99.7886305484481\n",
            "Total Pit Accuracy: 19.53771289537713\n",
            "Total Pit Predictions: 24660\n",
            "[500] Loss: 13.99\n",
            "Overall Accuracy: 50.99%\n",
            "Total No Pit Accuracy: 98.48185820555639\n",
            "Total Pit Accuracy: 20.434676434676437\n",
            "Total Pit Predictions: 20475\n",
            "[1000] Loss: 15.87\n",
            "Overall Accuracy: 58.06%\n",
            "Total No Pit Accuracy: 97.61079700893671\n",
            "Total Pit Accuracy: 20.22674418604651\n",
            "Total Pit Predictions: 17200\n",
            "[1500] Loss: 13.04\n",
            "Overall Accuracy: 62.23%\n",
            "Total No Pit Accuracy: 97.36798995249276\n",
            "Total Pit Accuracy: 20.272561293688053\n",
            "Total Pit Predictions: 15336\n",
            "[2000] Loss: 6.06\n",
            "Overall Accuracy: 65.20%\n",
            "Total No Pit Accuracy: 97.22477298234874\n",
            "Total Pit Accuracy: 20.516836335160534\n",
            "Total Pit Predictions: 14047\n",
            "[2500] Loss: 9.61\n",
            "Overall Accuracy: 67.61%\n",
            "Total No Pit Accuracy: 97.17865294031952\n",
            "Total Pit Accuracy: 20.971200980392158\n",
            "Total Pit Predictions: 13056\n",
            "[3000] Loss: 9.71\n",
            "Overall Accuracy: 68.36%\n",
            "Total No Pit Accuracy: 97.1733307824756\n",
            "Total Pit Accuracy: 21.089396436700415\n",
            "Total Pit Predictions: 12741\n",
            "[3500] Loss: 7.65\n",
            "Overall Accuracy: 70.23%\n",
            "Total No Pit Accuracy: 97.16000923574232\n",
            "Total Pit Accuracy: 21.602467900616976\n",
            "Total Pit Predictions: 11994\n",
            "[4000] Loss: 7.01\n",
            "Overall Accuracy: 70.88%\n",
            "Total No Pit Accuracy: 97.17743777118064\n",
            "Total Pit Accuracy: 21.881912540411776\n",
            "Total Pit Predictions: 11754\n",
            "[4500] Loss: 16.28\n",
            "Overall Accuracy: 72.30%\n",
            "Total No Pit Accuracy: 97.1102627840909\n",
            "Total Pit Accuracy: 22.048376944519376\n",
            "Total Pit Predictions: 11121\n",
            "[5000] Loss: 10.91\n",
            "Overall Accuracy: 72.51%\n",
            "Total No Pit Accuracy: 97.06584180291648\n",
            "Total Pit Accuracy: 22.070968327434432\n",
            "Total Pit Predictions: 11019\n",
            "[5500] Loss: 5.45\n",
            "Overall Accuracy: 72.97%\n",
            "Total No Pit Accuracy: 97.04748554406869\n",
            "Total Pit Accuracy: 22.16985491174568\n",
            "Total Pit Predictions: 10821\n",
            "[6000] Loss: 10.38\n",
            "Overall Accuracy: 74.43%\n",
            "Total No Pit Accuracy: 97.03435033070194\n",
            "Total Pit Accuracy: 22.56706481300176\n",
            "Total Pit Predictions: 10214\n",
            "[6500] Loss: 10.56\n",
            "Overall Accuracy: 74.39%\n",
            "Total No Pit Accuracy: 97.03295765027322\n",
            "Total Pit Accuracy: 22.52322738386308\n",
            "Total Pit Predictions: 10225\n",
            "[7000] Loss: 8.39\n",
            "Overall Accuracy: 75.98%\n",
            "Total No Pit Accuracy: 97.06445702864757\n",
            "Total Pit Accuracy: 23.39873352019101\n",
            "Total Pit Predictions: 9633\n",
            "[7500] Loss: 5.54\n",
            "Overall Accuracy: 76.20%\n",
            "Total No Pit Accuracy: 97.06309370722197\n",
            "Total Pit Accuracy: 23.506602389436175\n",
            "Total Pit Predictions: 9542\n",
            "[8000] Loss: 17.07\n",
            "Overall Accuracy: 76.29%\n",
            "Total No Pit Accuracy: 97.05955437753666\n",
            "Total Pit Accuracy: 23.52941176470588\n",
            "Total Pit Predictions: 9503\n",
            "[8500] Loss: 16.42\n",
            "Overall Accuracy: 76.84%\n",
            "Total No Pit Accuracy: 97.03518412203724\n",
            "Total Pit Accuracy: 23.674835366511928\n",
            "Total Pit Predictions: 9263\n",
            "[9000] Loss: 12.13\n",
            "Overall Accuracy: 77.48%\n",
            "Total No Pit Accuracy: 97.04055535257581\n",
            "Total Pit Accuracy: 24.03504880212955\n",
            "Total Pit Predictions: 9016\n",
            "[9500] Loss: 8.36\n",
            "Overall Accuracy: 77.79%\n",
            "Total No Pit Accuracy: 97.0430216117956\n",
            "Total Pit Accuracy: 24.184843714863955\n",
            "Total Pit Predictions: 8894\n",
            "[10000] Loss: 13.40\n",
            "Overall Accuracy: 78.28%\n",
            "Total No Pit Accuracy: 97.05622844308975\n",
            "Total Pit Accuracy: 24.57831325301205\n",
            "Total Pit Predictions: 8715\n"
          ]
        },
        {
          "output_type": "display_data",
          "data": {
            "text/plain": [
              "<IPython.core.display.HTML object>"
            ],
            "text/html": []
          },
          "metadata": {}
        },
        {
          "output_type": "display_data",
          "data": {
            "text/plain": [
              "<IPython.core.display.HTML object>"
            ],
            "text/html": [
              "<br>    <style><br>        .wandb-row {<br>            display: flex;<br>            flex-direction: row;<br>            flex-wrap: wrap;<br>            justify-content: flex-start;<br>            width: 100%;<br>        }<br>        .wandb-col {<br>            display: flex;<br>            flex-direction: column;<br>            flex-basis: 100%;<br>            flex: 1;<br>            padding: 10px;<br>        }<br>    </style><br><div class=\"wandb-row\"><div class=\"wandb-col\"><h3>Run history:</h3><br/><table class=\"wandb\"><tr><td>loss</td><td>▆▂▃▄▆▄▅▄▁▆▃▅▅▆█▅▆▅▄▃▃▄▂▄▃▅▄▄▃▅▃▄▄▃▄▅▃▃▄▃</td></tr><tr><td>overall_accuracy</td><td>▁▃▄▅▆▆▆▆▇▇▇▇▇▇███████</td></tr><tr><td>total no pit accurary (exact match)</td><td>█▅▂▂▁▁▁▁▁▁▁▁▁▁▁▁▁▁▁▁▁</td></tr><tr><td>total pit accurary (3 laps either side)</td><td>▁▂▂▂▂▃▃▄▄▄▅▅▅▅▆▇▇▇▇▇█</td></tr><tr><td>total pit predictions</td><td>█▆▅▄▃▃▃▂▂▂▂▂▂▂▁▁▁▁▁▁▁</td></tr></table><br/></div><div class=\"wandb-col\"><h3>Run summary:</h3><br/><table class=\"wandb\"><tr><td>loss</td><td>13.39761</td></tr><tr><td>overall_accuracy</td><td>78.28464</td></tr><tr><td>total no pit accurary (exact match)</td><td>97.05623</td></tr><tr><td>total pit accurary (3 laps either side)</td><td>24.57831</td></tr><tr><td>total pit predictions</td><td>8715</td></tr></table><br/></div></div>"
            ]
          },
          "metadata": {}
        },
        {
          "output_type": "display_data",
          "data": {
            "text/plain": [
              "<IPython.core.display.HTML object>"
            ],
            "text/html": [
              " View run <strong style=\"color:#cdcd00\">cool-sweep-10</strong> at: <a href='https://wandb.ai/vm800-university-of-york/binary_classifier_emd/runs/dir2hlc5' target=\"_blank\">https://wandb.ai/vm800-university-of-york/binary_classifier_emd/runs/dir2hlc5</a><br> View project at: <a href='https://wandb.ai/vm800-university-of-york/binary_classifier_emd' target=\"_blank\">https://wandb.ai/vm800-university-of-york/binary_classifier_emd</a><br>Synced 5 W&B file(s), 0 media file(s), 0 artifact file(s) and 1 other file(s)"
            ]
          },
          "metadata": {}
        },
        {
          "output_type": "display_data",
          "data": {
            "text/plain": [
              "<IPython.core.display.HTML object>"
            ],
            "text/html": [
              "Find logs at: <code>./wandb/run-20241230_164300-dir2hlc5/logs</code>"
            ]
          },
          "metadata": {}
        }
      ]
    },
    {
      "cell_type": "markdown",
      "source": [
        "## Lets try a LTSM varient of a RNN."
      ],
      "metadata": {
        "id": "Cdh8kPcSi0XQ"
      }
    },
    {
      "cell_type": "code",
      "source": [
        "def check_accuracy_ltsm(model):\n",
        "    total, matches = 0, 0\n",
        "    no_pit_prediction_total, correct_no_pit_prediction = 0, 0\n",
        "    pit_prediction_total, correct_pit_prediction = 0, 0\n",
        "\n",
        "    # Loop through the testing data\n",
        "    for t in range(len(testing_inputs) - 1):\n",
        "        inputs = add_padding(int(max_race_size), testing_inputs[t])\n",
        "        outputs = add_padding(int(max_race_size), testing_outputs[t])\n",
        "\n",
        "        # Convert the entire sequence to tensor and add batch dimension\n",
        "        input_tensor = torch.tensor([inputs], device=device, dtype=torch.float32)\n",
        "        target_tensor = torch.tensor([outputs], device=device, dtype=torch.float32)\n",
        "\n",
        "        # Run the model on the full input sequence\n",
        "        y, (hprev, cprev) = model(input_tensor)\n",
        "\n",
        "        # Remove the extra batch dimension\n",
        "        y = y.squeeze(0)\n",
        "\n",
        "        # Process the predictions and compare with actual outputs\n",
        "        for x in range(len(y)):\n",
        "            # For pit predictions (y > 0.5)\n",
        "            if y[x].item() > 0.5:\n",
        "                pit_prediction_total += 1\n",
        "                if 1 in outputs[max(0, x - 2): min(int(max_race_size), x + 4)]:\n",
        "                    correct_pit_prediction += 1\n",
        "            else:\n",
        "                no_pit_prediction_total += 1\n",
        "                if y[x].floor().item() == outputs[x]:\n",
        "                    correct_no_pit_prediction += 1\n",
        "\n",
        "    # Calculate overall accuracy\n",
        "    if (pit_prediction_total + no_pit_prediction_total) != 0:\n",
        "        overall_accuracy = (correct_no_pit_prediction + correct_pit_prediction) / (no_pit_prediction_total + pit_prediction_total) * 100\n",
        "        print(f\"Overall Accuracy: {overall_accuracy:.2f}%\")\n",
        "        wandb.log({\"overall_accuracy\": overall_accuracy})\n",
        "    else:\n",
        "        print(\"Overall Accuracy: 0.0%\")\n",
        "        wandb.log({\"overall_accuracy\": 0.0})\n",
        "\n",
        "    # Calculate accuracy for no pit predictions\n",
        "    if no_pit_prediction_total != 0:\n",
        "        print(f\"Total No Pit Accuracy: {correct_no_pit_prediction / no_pit_prediction_total * 100:.2f}%\")\n",
        "        wandb.log({\"total no pit accuracy (exact match)\": correct_no_pit_prediction / no_pit_prediction_total * 100})\n",
        "    else:\n",
        "        print(f\"Total No Pit Accuracy: 0.0\")\n",
        "        wandb.log({\"total no pit accuracy (exact match)\": 0.0})\n",
        "\n",
        "    # Calculate accuracy for pit predictions\n",
        "    if pit_prediction_total != 0:\n",
        "        print(f\"Total Pit Accuracy: {correct_pit_prediction / pit_prediction_total * 100:.2f}%\")\n",
        "        wandb.log({\"total pit accuracy (3 laps either side)\": correct_pit_prediction / pit_prediction_total * 100})\n",
        "    else:\n",
        "        print(f\"Total Pit Accuracy: 0.0\")\n",
        "        wandb.log({\"total pit accuracy (3 laps either side)\": 0.0})\n",
        "\n",
        "    print(f\"Total Pit Predictions: {pit_prediction_total}\")\n",
        "    wandb.log({\"total pit predictions\": pit_prediction_total})"
      ],
      "metadata": {
        "id": "PYN_QH1Nli9L"
      },
      "execution_count": 55,
      "outputs": []
    },
    {
      "cell_type": "code",
      "source": [
        "class LSTMModel(nn.Module):\n",
        "    def __init__(self, input_size, hidden_size, dropout_prob):\n",
        "        super(LSTMModel, self).__init__()\n",
        "        self.hidden_dim = hidden_size\n",
        "        self.lstm = nn.LSTM(input_size, hidden_size, batch_first=True)\n",
        "        self.linear = nn.Linear(hidden_size, 1)\n",
        "        self.sigmoid = nn.Sigmoid()\n",
        "\n",
        "    # https://discuss.pytorch.org/t/lstm-model-not-learning/110164\n",
        "    def forward(self, x):\n",
        "        h0 = torch.zeros(1, x.size(0), self.hidden_dim, device=device)\n",
        "        c0 = torch.zeros(1, x.size(0), self.hidden_dim, device=device)\n",
        "        out, (h0, c0) = self.lstm(x, (h0, c0))  # h0, c0 are the hidden and cell states\n",
        "        y = self.sigmoid(self.linear(out))  # Use the last time step's output\n",
        "        return y, (h0, c0)"
      ],
      "metadata": {
        "id": "FK9RBhIfjlOj"
      },
      "execution_count": 56,
      "outputs": []
    },
    {
      "cell_type": "code",
      "source": [
        "def calculate_loss_ltsm(model, inputs, targets):\n",
        "    loss_func = torch_wasserstein_loss\n",
        "    outputs, hprev = model(inputs)\n",
        "    outputs = outputs.squeeze(-1)\n",
        "\n",
        "    loss = loss_func(targets, outputs)\n",
        "\n",
        "    hprev = tuple(state.detach() for state in hprev)\n",
        "\n",
        "    return loss, hprev"
      ],
      "metadata": {
        "id": "mWl4AF-4i27I"
      },
      "execution_count": 57,
      "outputs": []
    },
    {
      "cell_type": "code",
      "source": [
        "def train(training_inputs, training_outputs):\n",
        "    model = LSTMModel(input_size, hidden_size, dropout).to(device)\n",
        "    optim = torch.optim.Adagrad(model.parameters(), lr=lr)\n",
        "\n",
        "    # Log configuration to W&B\n",
        "    config = {\n",
        "        \"learning_rate\": lr,\n",
        "        \"hidden_size\": hidden_size,\n",
        "        \"iterations\": iterations,\n",
        "        \"input_parameters\": input_parameters,\n",
        "        \"dataset\": dataset,\n",
        "        \"input_size\": input_size,\n",
        "        \"loss_function\": \"torch_wasserstein_loss\",\n",
        "        \"dropout\": dropout,\n",
        "    }\n",
        "\n",
        "    wandb.init(project=\"binary_classifier_emd_lstm\", config=config)\n",
        "\n",
        "    # Pad all sequences to the same length\n",
        "    max_length = max(len(seq) for seq in training_inputs)\n",
        "    training_inputs = [add_padding(max_length, seq) for seq in training_inputs]\n",
        "    training_outputs = [add_padding(max_length, seq) for seq in training_outputs]\n",
        "\n",
        "    # Convert inputs and outputs to tensors\n",
        "    training_inputs = torch.tensor(training_inputs, dtype=torch.float32, device=device)\n",
        "    training_outputs = torch.tensor(training_outputs, dtype=torch.float32, device=device)\n",
        "\n",
        "    n = 0  # iteration counter\n",
        "    while n <= iterations:\n",
        "        # Shuffle the data at the start of each iteration\n",
        "        data = list(zip(training_inputs, training_outputs))\n",
        "        random.shuffle(data)\n",
        "        training_inputs, training_outputs = zip(*data)\n",
        "\n",
        "        # Iterate through the dataset one sequence at a time\n",
        "        for i in range(len(training_inputs)):\n",
        "            inputs = training_inputs[i].unsqueeze(0)  # Add batch dimension\n",
        "            targets = training_outputs[i].unsqueeze(0)  # Add batch dimension\n",
        "\n",
        "            # Compute loss\n",
        "            loss, (hprev, cprev) = calculate_loss_ltsm(model, inputs, targets)\n",
        "\n",
        "            # Backpropagation\n",
        "            optim.zero_grad()\n",
        "            loss.backward()\n",
        "            optim.step()\n",
        "\n",
        "            # Log metrics\n",
        "            wandb.log({\"loss\": loss.item()})\n",
        "\n",
        "            # Print progress every 500 iterations\n",
        "            if n % 500 == 0:\n",
        "                print(f'[Iteration {n}] Loss: {loss.item():.2f}')\n",
        "                check_accuracy_ltsm(model)\n",
        "\n",
        "            n += 1\n",
        "            if n > iterations:\n",
        "                break\n",
        "\n",
        "    # Save model\n",
        "    torch.save(model, \"full_model.pth\")\n",
        "    wandb.save(\"full_model.pth\")"
      ],
      "metadata": {
        "id": "f86REhnJjGuA"
      },
      "execution_count": 58,
      "outputs": []
    },
    {
      "cell_type": "code",
      "source": [
        "# Define the sweep configuration\n",
        "sweep_config = {\n",
        "    'method': 'bayes',\n",
        "    'metric': {\n",
        "        'name': 'loss',\n",
        "        'goal': 'minimize'\n",
        "    },\n",
        "    'parameters': {\n",
        "        'learning_rate': {\n",
        "            'min': 1e-4,\n",
        "            'max': 1e-2\n",
        "        },\n",
        "        'optimizer': {\n",
        "            'values': ['adam', 'sgd', 'rmsprop', 'adagrad']\n",
        "        },\n",
        "        'hidden_size': {\n",
        "            'min': 1,\n",
        "            'max': 50\n",
        "        },\n",
        "        'dropout': {\n",
        "            'min': 0.1,\n",
        "            'max': 0.5\n",
        "        }\n",
        "    }\n",
        "}\n",
        "\n",
        "sweep_id = wandb.sweep(sweep_config, project=\"binary_classifier_emd_lstm\")"
      ],
      "metadata": {
        "colab": {
          "base_uri": "https://localhost:8080/"
        },
        "id": "Gu-xG4eso5zm",
        "outputId": "dd70338f-b55b-4bf8-f438-8c83be0044e1"
      },
      "execution_count": 59,
      "outputs": [
        {
          "output_type": "stream",
          "name": "stdout",
          "text": [
            "Create sweep with ID: v7ifde9r\n",
            "Sweep URL: https://wandb.ai/vm800-university-of-york/binary_classifier_emd_lstm/sweeps/v7ifde9r\n"
          ]
        }
      ]
    },
    {
      "cell_type": "code",
      "source": [
        "# Run the sweep\n",
        "wandb.agent(sweep_id, function=lambda: train(training_inputs, training_outputs), count=10)"
      ],
      "metadata": {
        "colab": {
          "base_uri": "https://localhost:8080/",
          "height": 1000,
          "referenced_widgets": [
            "29d07d63183645c3ad83bba53a73a034",
            "cf1b1822dff24cc98487e1ca45cce072",
            "c3c2b600c64241beae0ef02a08b6b94a",
            "bf519eee274c4ccf89de198a6b7450ed",
            "252b8f0def3449648927ebc731ef1cb2",
            "c3fac6d225de458ba62c097e0f1344b5",
            "d9fadf80703b46fcbaad8f5edcaca349",
            "0c2ba3e4bdb444b494352487f474d4a6"
          ]
        },
        "id": "xcKWI-Oeo9CY",
        "outputId": "778bc7e5-4f99-4c82-82ab-272a3c8226c3"
      },
      "execution_count": 60,
      "outputs": [
        {
          "output_type": "stream",
          "name": "stderr",
          "text": [
            "\u001b[34m\u001b[1mwandb\u001b[0m: Agent Starting Run: 75uybrw0 with config:\n",
            "\u001b[34m\u001b[1mwandb\u001b[0m: \tdropout: 0.382032909016666\n",
            "\u001b[34m\u001b[1mwandb\u001b[0m: \thidden_size: 26\n",
            "\u001b[34m\u001b[1mwandb\u001b[0m: \tlearning_rate: 0.0089343572935654\n",
            "\u001b[34m\u001b[1mwandb\u001b[0m: \toptimizer: adagrad\n",
            "\u001b[34m\u001b[1mwandb\u001b[0m: \u001b[33mWARNING\u001b[0m Ignoring project 'binary_classifier_emd_lstm' when running a sweep.\n"
          ]
        },
        {
          "output_type": "display_data",
          "data": {
            "text/plain": [
              "<IPython.core.display.HTML object>"
            ],
            "text/html": [
              "Tracking run with wandb version 0.19.1"
            ]
          },
          "metadata": {}
        },
        {
          "output_type": "display_data",
          "data": {
            "text/plain": [
              "<IPython.core.display.HTML object>"
            ],
            "text/html": [
              "Run data is saved locally in <code>/content/wandb/run-20241230_165645-75uybrw0</code>"
            ]
          },
          "metadata": {}
        },
        {
          "output_type": "display_data",
          "data": {
            "text/plain": [
              "<IPython.core.display.HTML object>"
            ],
            "text/html": [
              "Syncing run <strong><a href='https://wandb.ai/vm800-university-of-york/binary_classifier_emd_lstm/runs/75uybrw0' target=\"_blank\">skilled-sweep-1</a></strong> to <a href='https://wandb.ai/vm800-university-of-york/binary_classifier_emd_lstm' target=\"_blank\">Weights & Biases</a> (<a href='https://wandb.me/developer-guide' target=\"_blank\">docs</a>)<br>Sweep page: <a href='https://wandb.ai/vm800-university-of-york/binary_classifier_emd_lstm/sweeps/v7ifde9r' target=\"_blank\">https://wandb.ai/vm800-university-of-york/binary_classifier_emd_lstm/sweeps/v7ifde9r</a>"
            ]
          },
          "metadata": {}
        },
        {
          "output_type": "display_data",
          "data": {
            "text/plain": [
              "<IPython.core.display.HTML object>"
            ],
            "text/html": [
              " View project at <a href='https://wandb.ai/vm800-university-of-york/binary_classifier_emd_lstm' target=\"_blank\">https://wandb.ai/vm800-university-of-york/binary_classifier_emd_lstm</a>"
            ]
          },
          "metadata": {}
        },
        {
          "output_type": "display_data",
          "data": {
            "text/plain": [
              "<IPython.core.display.HTML object>"
            ],
            "text/html": [
              " View sweep at <a href='https://wandb.ai/vm800-university-of-york/binary_classifier_emd_lstm/sweeps/v7ifde9r' target=\"_blank\">https://wandb.ai/vm800-university-of-york/binary_classifier_emd_lstm/sweeps/v7ifde9r</a>"
            ]
          },
          "metadata": {}
        },
        {
          "output_type": "display_data",
          "data": {
            "text/plain": [
              "<IPython.core.display.HTML object>"
            ],
            "text/html": [
              " View run at <a href='https://wandb.ai/vm800-university-of-york/binary_classifier_emd_lstm/runs/75uybrw0' target=\"_blank\">https://wandb.ai/vm800-university-of-york/binary_classifier_emd_lstm/runs/75uybrw0</a>"
            ]
          },
          "metadata": {}
        },
        {
          "output_type": "stream",
          "name": "stdout",
          "text": [
            "[Iteration 0] Loss: 23.53\n",
            "Overall Accuracy: 97.33%\n",
            "Total No Pit Accuracy: 97.33%\n",
            "Total Pit Accuracy: 0.0\n",
            "Total Pit Predictions: 0\n",
            "[Iteration 500] Loss: 9.04\n",
            "Overall Accuracy: 97.22%\n",
            "Total No Pit Accuracy: 97.33%\n",
            "Total Pit Accuracy: 25.45%\n",
            "Total Pit Predictions: 55\n",
            "[Iteration 1000] Loss: 11.54\n",
            "Overall Accuracy: 65.67%\n",
            "Total No Pit Accuracy: 97.13%\n",
            "Total Pit Accuracy: 18.20%\n",
            "Total Pit Predictions: 13586\n",
            "[Iteration 1500] Loss: 17.93\n",
            "Overall Accuracy: 55.89%\n",
            "Total No Pit Accuracy: 97.89%\n",
            "Total Pit Accuracy: 20.39%\n",
            "Total Pit Predictions: 18470\n",
            "[Iteration 2000] Loss: 17.43\n",
            "Overall Accuracy: 52.07%\n",
            "Total No Pit Accuracy: 98.17%\n",
            "Total Pit Accuracy: 20.31%\n",
            "Total Pit Predictions: 20181\n",
            "[Iteration 2500] Loss: 14.01\n",
            "Overall Accuracy: 50.42%\n",
            "Total No Pit Accuracy: 98.39%\n",
            "Total Pit Accuracy: 20.34%\n",
            "Total Pit Predictions: 20949\n",
            "[Iteration 3000] Loss: 17.92\n",
            "Overall Accuracy: 50.19%\n",
            "Total No Pit Accuracy: 98.46%\n",
            "Total Pit Accuracy: 20.43%\n",
            "Total Pit Predictions: 21088\n",
            "[Iteration 3500] Loss: 10.76\n",
            "Overall Accuracy: 49.62%\n",
            "Total No Pit Accuracy: 98.56%\n",
            "Total Pit Accuracy: 20.42%\n",
            "Total Pit Predictions: 21347\n",
            "[Iteration 4000] Loss: 10.21\n",
            "Overall Accuracy: 49.62%\n",
            "Total No Pit Accuracy: 98.56%\n",
            "Total Pit Accuracy: 20.42%\n",
            "Total Pit Predictions: 21347\n",
            "[Iteration 4500] Loss: 13.54\n",
            "Overall Accuracy: 49.92%\n",
            "Total No Pit Accuracy: 98.57%\n",
            "Total Pit Accuracy: 20.51%\n",
            "Total Pit Predictions: 21242\n",
            "[Iteration 5000] Loss: 17.62\n",
            "Overall Accuracy: 50.01%\n",
            "Total No Pit Accuracy: 98.58%\n",
            "Total Pit Accuracy: 20.52%\n",
            "Total Pit Predictions: 21210\n",
            "[Iteration 5500] Loss: 8.57\n",
            "Overall Accuracy: 49.51%\n",
            "Total No Pit Accuracy: 98.70%\n",
            "Total Pit Accuracy: 20.43%\n",
            "Total Pit Predictions: 21422\n",
            "[Iteration 6000] Loss: 10.97\n",
            "Overall Accuracy: 50.13%\n",
            "Total No Pit Accuracy: 98.62%\n",
            "Total Pit Accuracy: 20.45%\n",
            "Total Pit Predictions: 21144\n",
            "[Iteration 6500] Loss: 17.43\n",
            "Overall Accuracy: 50.19%\n",
            "Total No Pit Accuracy: 98.63%\n",
            "Total Pit Accuracy: 20.45%\n",
            "Total Pit Predictions: 21119\n",
            "[Iteration 7000] Loss: 46.64\n",
            "Overall Accuracy: 50.75%\n",
            "Total No Pit Accuracy: 98.55%\n",
            "Total Pit Accuracy: 20.49%\n",
            "Total Pit Predictions: 20873\n",
            "[Iteration 7500] Loss: 9.05\n",
            "Overall Accuracy: 50.92%\n",
            "Total No Pit Accuracy: 98.53%\n",
            "Total Pit Accuracy: 20.47%\n",
            "Total Pit Predictions: 20792\n",
            "[Iteration 8000] Loss: 23.79\n",
            "Overall Accuracy: 51.03%\n",
            "Total No Pit Accuracy: 98.53%\n",
            "Total Pit Accuracy: 20.47%\n",
            "Total Pit Predictions: 20740\n",
            "[Iteration 8500] Loss: 6.93\n",
            "Overall Accuracy: 51.55%\n",
            "Total No Pit Accuracy: 98.47%\n",
            "Total Pit Accuracy: 20.51%\n",
            "Total Pit Predictions: 20512\n",
            "[Iteration 9000] Loss: 9.11\n",
            "Overall Accuracy: 51.71%\n",
            "Total No Pit Accuracy: 98.46%\n",
            "Total Pit Accuracy: 20.52%\n",
            "Total Pit Predictions: 20445\n",
            "[Iteration 9500] Loss: 16.96\n",
            "Overall Accuracy: 51.74%\n",
            "Total No Pit Accuracy: 98.45%\n",
            "Total Pit Accuracy: 20.51%\n",
            "Total Pit Predictions: 20430\n",
            "[Iteration 10000] Loss: 11.76\n",
            "Overall Accuracy: 52.40%\n",
            "Total No Pit Accuracy: 98.35%\n",
            "Total Pit Accuracy: 20.53%\n",
            "Total Pit Predictions: 20126\n"
          ]
        },
        {
          "output_type": "display_data",
          "data": {
            "text/plain": [
              "<IPython.core.display.HTML object>"
            ],
            "text/html": []
          },
          "metadata": {}
        },
        {
          "output_type": "display_data",
          "data": {
            "text/plain": [
              "<IPython.core.display.HTML object>"
            ],
            "text/html": [
              "<br>    <style><br>        .wandb-row {<br>            display: flex;<br>            flex-direction: row;<br>            flex-wrap: wrap;<br>            justify-content: flex-start;<br>            width: 100%;<br>        }<br>        .wandb-col {<br>            display: flex;<br>            flex-direction: column;<br>            flex-basis: 100%;<br>            flex: 1;<br>            padding: 10px;<br>        }<br>    </style><br><div class=\"wandb-row\"><div class=\"wandb-col\"><h3>Run history:</h3><br/><table class=\"wandb\"><tr><td>loss</td><td>▆▄▂▄▂▂█▃▃▄▂▂▂▃▃▅▂▂▃▃▃▁▅▁▂▃▃▁▄▃▃▄▃▃▂▂▁▄▃▃</td></tr><tr><td>overall_accuracy</td><td>██▃▂▁▁▁▁▁▁▁▁▁▁▁▁▁▁▁▁▁</td></tr><tr><td>total no pit accuracy (exact match)</td><td>▂▂▁▄▆▇▇▇▇▇▇███▇▇▇▇▇▇▆</td></tr><tr><td>total pit accuracy (3 laps either side)</td><td>▁█▆▇▇▇▇▇▇▇▇▇▇▇▇▇▇▇▇▇▇</td></tr><tr><td>total pit predictions</td><td>▁▁▅▇█████████████████</td></tr></table><br/></div><div class=\"wandb-col\"><h3>Run summary:</h3><br/><table class=\"wandb\"><tr><td>loss</td><td>11.75936</td></tr><tr><td>overall_accuracy</td><td>52.40275</td></tr><tr><td>total no pit accuracy (exact match)</td><td>98.35244</td></tr><tr><td>total pit accuracy (3 laps either side)</td><td>20.53066</td></tr><tr><td>total pit predictions</td><td>20126</td></tr></table><br/></div></div>"
            ]
          },
          "metadata": {}
        },
        {
          "output_type": "display_data",
          "data": {
            "text/plain": [
              "<IPython.core.display.HTML object>"
            ],
            "text/html": [
              " View run <strong style=\"color:#cdcd00\">skilled-sweep-1</strong> at: <a href='https://wandb.ai/vm800-university-of-york/binary_classifier_emd_lstm/runs/75uybrw0' target=\"_blank\">https://wandb.ai/vm800-university-of-york/binary_classifier_emd_lstm/runs/75uybrw0</a><br> View project at: <a href='https://wandb.ai/vm800-university-of-york/binary_classifier_emd_lstm' target=\"_blank\">https://wandb.ai/vm800-university-of-york/binary_classifier_emd_lstm</a><br>Synced 5 W&B file(s), 0 media file(s), 0 artifact file(s) and 1 other file(s)"
            ]
          },
          "metadata": {}
        },
        {
          "output_type": "display_data",
          "data": {
            "text/plain": [
              "<IPython.core.display.HTML object>"
            ],
            "text/html": [
              "Find logs at: <code>./wandb/run-20241230_165645-75uybrw0/logs</code>"
            ]
          },
          "metadata": {}
        },
        {
          "output_type": "stream",
          "name": "stderr",
          "text": [
            "\u001b[34m\u001b[1mwandb\u001b[0m: Agent Starting Run: oncg7oed with config:\n",
            "\u001b[34m\u001b[1mwandb\u001b[0m: \tdropout: 0.1023608680741543\n",
            "\u001b[34m\u001b[1mwandb\u001b[0m: \thidden_size: 44\n",
            "\u001b[34m\u001b[1mwandb\u001b[0m: \tlearning_rate: 0.00974892895419182\n",
            "\u001b[34m\u001b[1mwandb\u001b[0m: \toptimizer: adam\n",
            "\u001b[34m\u001b[1mwandb\u001b[0m: \u001b[33mWARNING\u001b[0m Ignoring project 'binary_classifier_emd_lstm' when running a sweep.\n"
          ]
        },
        {
          "output_type": "display_data",
          "data": {
            "text/plain": [
              "<IPython.core.display.HTML object>"
            ],
            "text/html": [
              "Tracking run with wandb version 0.19.1"
            ]
          },
          "metadata": {}
        },
        {
          "output_type": "display_data",
          "data": {
            "text/plain": [
              "<IPython.core.display.HTML object>"
            ],
            "text/html": [
              "Run data is saved locally in <code>/content/wandb/run-20241230_165756-oncg7oed</code>"
            ]
          },
          "metadata": {}
        },
        {
          "output_type": "display_data",
          "data": {
            "text/plain": [
              "<IPython.core.display.HTML object>"
            ],
            "text/html": [
              "Syncing run <strong><a href='https://wandb.ai/vm800-university-of-york/binary_classifier_emd_lstm/runs/oncg7oed' target=\"_blank\">fresh-sweep-2</a></strong> to <a href='https://wandb.ai/vm800-university-of-york/binary_classifier_emd_lstm' target=\"_blank\">Weights & Biases</a> (<a href='https://wandb.me/developer-guide' target=\"_blank\">docs</a>)<br>Sweep page: <a href='https://wandb.ai/vm800-university-of-york/binary_classifier_emd_lstm/sweeps/v7ifde9r' target=\"_blank\">https://wandb.ai/vm800-university-of-york/binary_classifier_emd_lstm/sweeps/v7ifde9r</a>"
            ]
          },
          "metadata": {}
        },
        {
          "output_type": "display_data",
          "data": {
            "text/plain": [
              "<IPython.core.display.HTML object>"
            ],
            "text/html": [
              " View project at <a href='https://wandb.ai/vm800-university-of-york/binary_classifier_emd_lstm' target=\"_blank\">https://wandb.ai/vm800-university-of-york/binary_classifier_emd_lstm</a>"
            ]
          },
          "metadata": {}
        },
        {
          "output_type": "display_data",
          "data": {
            "text/plain": [
              "<IPython.core.display.HTML object>"
            ],
            "text/html": [
              " View sweep at <a href='https://wandb.ai/vm800-university-of-york/binary_classifier_emd_lstm/sweeps/v7ifde9r' target=\"_blank\">https://wandb.ai/vm800-university-of-york/binary_classifier_emd_lstm/sweeps/v7ifde9r</a>"
            ]
          },
          "metadata": {}
        },
        {
          "output_type": "display_data",
          "data": {
            "text/plain": [
              "<IPython.core.display.HTML object>"
            ],
            "text/html": [
              " View run at <a href='https://wandb.ai/vm800-university-of-york/binary_classifier_emd_lstm/runs/oncg7oed' target=\"_blank\">https://wandb.ai/vm800-university-of-york/binary_classifier_emd_lstm/runs/oncg7oed</a>"
            ]
          },
          "metadata": {}
        },
        {
          "output_type": "stream",
          "name": "stdout",
          "text": [
            "[Iteration 0] Loss: 17.89\n",
            "Overall Accuracy: 27.45%\n",
            "Total No Pit Accuracy: 98.90%\n",
            "Total Pit Accuracy: 13.57%\n",
            "Total Pit Predictions: 28544\n",
            "[Iteration 500] Loss: 21.83\n",
            "Overall Accuracy: 14.31%\n",
            "Total No Pit Accuracy: 0.0\n",
            "Total Pit Accuracy: 14.31%\n",
            "Total Pit Predictions: 34086\n",
            "[Iteration 1000] Loss: 22.07\n",
            "Overall Accuracy: 34.23%\n",
            "Total No Pit Accuracy: 100.00%\n",
            "Total Pit Accuracy: 17.87%\n",
            "Total Pit Predictions: 27294\n",
            "[Iteration 1500] Loss: 7.01\n",
            "Overall Accuracy: 36.86%\n",
            "Total No Pit Accuracy: 99.94%\n",
            "Total Pit Accuracy: 18.43%\n",
            "Total Pit Predictions: 26377\n",
            "[Iteration 2000] Loss: 17.24\n",
            "Overall Accuracy: 37.71%\n",
            "Total No Pit Accuracy: 99.88%\n",
            "Total Pit Accuracy: 18.55%\n",
            "Total Pit Predictions: 26056\n",
            "[Iteration 2500] Loss: 7.09\n",
            "Overall Accuracy: 38.66%\n",
            "Total No Pit Accuracy: 99.75%\n",
            "Total Pit Accuracy: 18.67%\n",
            "Total Pit Predictions: 25680\n",
            "[Iteration 3000] Loss: 16.46\n",
            "Overall Accuracy: 39.17%\n",
            "Total No Pit Accuracy: 99.74%\n",
            "Total Pit Accuracy: 18.75%\n",
            "Total Pit Predictions: 25489\n",
            "[Iteration 3500] Loss: 13.37\n",
            "Overall Accuracy: 39.66%\n",
            "Total No Pit Accuracy: 99.55%\n",
            "Total Pit Accuracy: 18.78%\n",
            "Total Pit Predictions: 25272\n",
            "[Iteration 4000] Loss: 17.45\n",
            "Overall Accuracy: 40.51%\n",
            "Total No Pit Accuracy: 99.36%\n",
            "Total Pit Accuracy: 18.92%\n",
            "Total Pit Predictions: 24937\n",
            "[Iteration 4500] Loss: 28.90\n",
            "Overall Accuracy: 40.92%\n",
            "Total No Pit Accuracy: 99.37%\n",
            "Total Pit Accuracy: 18.99%\n",
            "Total Pit Predictions: 24785\n",
            "[Iteration 5000] Loss: 37.13\n",
            "Overall Accuracy: 41.28%\n",
            "Total No Pit Accuracy: 99.37%\n",
            "Total Pit Accuracy: 19.08%\n",
            "Total Pit Predictions: 24663\n",
            "[Iteration 5500] Loss: 10.68\n",
            "Overall Accuracy: 41.45%\n",
            "Total No Pit Accuracy: 99.38%\n",
            "Total Pit Accuracy: 19.12%\n",
            "Total Pit Predictions: 24603\n",
            "[Iteration 6000] Loss: 7.44\n",
            "Overall Accuracy: 41.74%\n",
            "Total No Pit Accuracy: 99.38%\n",
            "Total Pit Accuracy: 19.19%\n",
            "Total Pit Predictions: 24503\n",
            "[Iteration 6500] Loss: 21.89\n",
            "Overall Accuracy: 41.93%\n",
            "Total No Pit Accuracy: 99.39%\n",
            "Total Pit Accuracy: 19.23%\n",
            "Total Pit Predictions: 24434\n",
            "[Iteration 7000] Loss: 12.59\n",
            "Overall Accuracy: 42.27%\n",
            "Total No Pit Accuracy: 99.40%\n",
            "Total Pit Accuracy: 19.31%\n",
            "Total Pit Predictions: 24313\n",
            "[Iteration 7500] Loss: 6.53\n",
            "Overall Accuracy: 42.64%\n",
            "Total No Pit Accuracy: 99.39%\n",
            "Total Pit Accuracy: 19.39%\n",
            "Total Pit Predictions: 24182\n",
            "[Iteration 8000] Loss: 14.70\n",
            "Overall Accuracy: 42.94%\n",
            "Total No Pit Accuracy: 99.39%\n",
            "Total Pit Accuracy: 19.47%\n",
            "Total Pit Predictions: 24078\n",
            "[Iteration 8500] Loss: 16.95\n",
            "Overall Accuracy: 43.25%\n",
            "Total No Pit Accuracy: 99.40%\n",
            "Total Pit Accuracy: 19.56%\n",
            "Total Pit Predictions: 23972\n",
            "[Iteration 9000] Loss: 11.88\n",
            "Overall Accuracy: 43.43%\n",
            "Total No Pit Accuracy: 99.40%\n",
            "Total Pit Accuracy: 19.60%\n",
            "Total Pit Predictions: 23907\n",
            "[Iteration 9500] Loss: 11.54\n",
            "Overall Accuracy: 43.61%\n",
            "Total No Pit Accuracy: 99.40%\n",
            "Total Pit Accuracy: 19.63%\n",
            "Total Pit Predictions: 23842\n",
            "[Iteration 10000] Loss: 8.25\n",
            "Overall Accuracy: 43.74%\n",
            "Total No Pit Accuracy: 99.41%\n",
            "Total Pit Accuracy: 19.66%\n",
            "Total Pit Predictions: 23793\n"
          ]
        },
        {
          "output_type": "display_data",
          "data": {
            "text/plain": [
              "<IPython.core.display.HTML object>"
            ],
            "text/html": []
          },
          "metadata": {}
        },
        {
          "output_type": "display_data",
          "data": {
            "text/plain": [
              "<IPython.core.display.HTML object>"
            ],
            "text/html": [
              "<br>    <style><br>        .wandb-row {<br>            display: flex;<br>            flex-direction: row;<br>            flex-wrap: wrap;<br>            justify-content: flex-start;<br>            width: 100%;<br>        }<br>        .wandb-col {<br>            display: flex;<br>            flex-direction: column;<br>            flex-basis: 100%;<br>            flex: 1;<br>            padding: 10px;<br>        }<br>    </style><br><div class=\"wandb-row\"><div class=\"wandb-col\"><h3>Run history:</h3><br/><table class=\"wandb\"><tr><td>loss</td><td>▁█▅▂▅▂▆▆▇█▄▄▅▁▃▅▄▅▇▂▄▄▆▅▄▅▅▅▂▇▃▂▄▄▅▅▆▅▃▄</td></tr><tr><td>overall_accuracy</td><td>▄▁▆▆▇▇▇▇▇▇▇▇█████████</td></tr><tr><td>total no pit accuracy (exact match)</td><td>█▁███████████████████</td></tr><tr><td>total pit accuracy (3 laps either side)</td><td>▁▂▆▇▇▇▇▇▇▇▇▇▇████████</td></tr><tr><td>total pit predictions</td><td>▄█▃▃▃▂▂▂▂▂▂▂▁▁▁▁▁▁▁▁▁</td></tr></table><br/></div><div class=\"wandb-col\"><h3>Run summary:</h3><br/><table class=\"wandb\"><tr><td>loss</td><td>8.24709</td></tr><tr><td>overall_accuracy</td><td>43.73937</td></tr><tr><td>total no pit accuracy (exact match)</td><td>99.40736</td></tr><tr><td>total pit accuracy (3 laps either side)</td><td>19.65704</td></tr><tr><td>total pit predictions</td><td>23793</td></tr></table><br/></div></div>"
            ]
          },
          "metadata": {}
        },
        {
          "output_type": "display_data",
          "data": {
            "text/plain": [
              "<IPython.core.display.HTML object>"
            ],
            "text/html": [
              " View run <strong style=\"color:#cdcd00\">fresh-sweep-2</strong> at: <a href='https://wandb.ai/vm800-university-of-york/binary_classifier_emd_lstm/runs/oncg7oed' target=\"_blank\">https://wandb.ai/vm800-university-of-york/binary_classifier_emd_lstm/runs/oncg7oed</a><br> View project at: <a href='https://wandb.ai/vm800-university-of-york/binary_classifier_emd_lstm' target=\"_blank\">https://wandb.ai/vm800-university-of-york/binary_classifier_emd_lstm</a><br>Synced 5 W&B file(s), 0 media file(s), 0 artifact file(s) and 1 other file(s)"
            ]
          },
          "metadata": {}
        },
        {
          "output_type": "display_data",
          "data": {
            "text/plain": [
              "<IPython.core.display.HTML object>"
            ],
            "text/html": [
              "Find logs at: <code>./wandb/run-20241230_165756-oncg7oed/logs</code>"
            ]
          },
          "metadata": {}
        },
        {
          "output_type": "stream",
          "name": "stderr",
          "text": [
            "\u001b[34m\u001b[1mwandb\u001b[0m: Agent Starting Run: 21g6afld with config:\n",
            "\u001b[34m\u001b[1mwandb\u001b[0m: \tdropout: 0.34377161875799345\n",
            "\u001b[34m\u001b[1mwandb\u001b[0m: \thidden_size: 46\n",
            "\u001b[34m\u001b[1mwandb\u001b[0m: \tlearning_rate: 0.0019350999828282968\n",
            "\u001b[34m\u001b[1mwandb\u001b[0m: \toptimizer: adam\n",
            "\u001b[34m\u001b[1mwandb\u001b[0m: \u001b[33mWARNING\u001b[0m Ignoring project 'binary_classifier_emd_lstm' when running a sweep.\n"
          ]
        },
        {
          "output_type": "display_data",
          "data": {
            "text/plain": [
              "<IPython.core.display.HTML object>"
            ],
            "text/html": [
              "Tracking run with wandb version 0.19.1"
            ]
          },
          "metadata": {}
        },
        {
          "output_type": "display_data",
          "data": {
            "text/plain": [
              "<IPython.core.display.HTML object>"
            ],
            "text/html": [
              "Run data is saved locally in <code>/content/wandb/run-20241230_165907-21g6afld</code>"
            ]
          },
          "metadata": {}
        },
        {
          "output_type": "display_data",
          "data": {
            "text/plain": [
              "<IPython.core.display.HTML object>"
            ],
            "text/html": [
              "Syncing run <strong><a href='https://wandb.ai/vm800-university-of-york/binary_classifier_emd_lstm/runs/21g6afld' target=\"_blank\">dashing-sweep-3</a></strong> to <a href='https://wandb.ai/vm800-university-of-york/binary_classifier_emd_lstm' target=\"_blank\">Weights & Biases</a> (<a href='https://wandb.me/developer-guide' target=\"_blank\">docs</a>)<br>Sweep page: <a href='https://wandb.ai/vm800-university-of-york/binary_classifier_emd_lstm/sweeps/v7ifde9r' target=\"_blank\">https://wandb.ai/vm800-university-of-york/binary_classifier_emd_lstm/sweeps/v7ifde9r</a>"
            ]
          },
          "metadata": {}
        },
        {
          "output_type": "display_data",
          "data": {
            "text/plain": [
              "<IPython.core.display.HTML object>"
            ],
            "text/html": [
              " View project at <a href='https://wandb.ai/vm800-university-of-york/binary_classifier_emd_lstm' target=\"_blank\">https://wandb.ai/vm800-university-of-york/binary_classifier_emd_lstm</a>"
            ]
          },
          "metadata": {}
        },
        {
          "output_type": "display_data",
          "data": {
            "text/plain": [
              "<IPython.core.display.HTML object>"
            ],
            "text/html": [
              " View sweep at <a href='https://wandb.ai/vm800-university-of-york/binary_classifier_emd_lstm/sweeps/v7ifde9r' target=\"_blank\">https://wandb.ai/vm800-university-of-york/binary_classifier_emd_lstm/sweeps/v7ifde9r</a>"
            ]
          },
          "metadata": {}
        },
        {
          "output_type": "display_data",
          "data": {
            "text/plain": [
              "<IPython.core.display.HTML object>"
            ],
            "text/html": [
              " View run at <a href='https://wandb.ai/vm800-university-of-york/binary_classifier_emd_lstm/runs/21g6afld' target=\"_blank\">https://wandb.ai/vm800-university-of-york/binary_classifier_emd_lstm/runs/21g6afld</a>"
            ]
          },
          "metadata": {}
        },
        {
          "output_type": "stream",
          "name": "stdout",
          "text": [
            "[Iteration 0] Loss: 9.93\n",
            "Overall Accuracy: 35.18%\n",
            "Total No Pit Accuracy: 93.88%\n",
            "Total Pit Accuracy: 11.33%\n",
            "Total Pit Predictions: 24239\n",
            "[Iteration 500] Loss: 21.22\n",
            "Overall Accuracy: 38.73%\n",
            "Total No Pit Accuracy: 99.37%\n",
            "Total Pit Accuracy: 18.50%\n",
            "Total Pit Predictions: 25561\n",
            "[Iteration 1000] Loss: 25.48\n",
            "Overall Accuracy: 39.42%\n",
            "Total No Pit Accuracy: 99.47%\n",
            "Total Pit Accuracy: 18.73%\n",
            "Total Pit Predictions: 25350\n",
            "[Iteration 1500] Loss: 26.55\n",
            "Overall Accuracy: 40.01%\n",
            "Total No Pit Accuracy: 99.56%\n",
            "Total Pit Accuracy: 18.91%\n",
            "Total Pit Predictions: 25169\n",
            "[Iteration 2000] Loss: 6.94\n",
            "Overall Accuracy: 40.23%\n",
            "Total No Pit Accuracy: 99.57%\n",
            "Total Pit Accuracy: 18.97%\n",
            "Total Pit Predictions: 25093\n",
            "[Iteration 2500] Loss: 8.51\n",
            "Overall Accuracy: 40.36%\n",
            "Total No Pit Accuracy: 99.54%\n",
            "Total Pit Accuracy: 18.98%\n",
            "Total Pit Predictions: 25039\n",
            "[Iteration 3000] Loss: 17.75\n",
            "Overall Accuracy: 40.59%\n",
            "Total No Pit Accuracy: 99.45%\n",
            "Total Pit Accuracy: 18.94%\n",
            "Total Pit Predictions: 24918\n",
            "[Iteration 3500] Loss: 19.66\n",
            "Overall Accuracy: 41.07%\n",
            "Total No Pit Accuracy: 99.33%\n",
            "Total Pit Accuracy: 18.90%\n",
            "Total Pit Predictions: 24689\n",
            "[Iteration 4000] Loss: 11.50\n",
            "Overall Accuracy: 42.04%\n",
            "Total No Pit Accuracy: 99.13%\n",
            "Total Pit Accuracy: 18.89%\n",
            "Total Pit Predictions: 24252\n",
            "[Iteration 4500] Loss: 19.45\n",
            "Overall Accuracy: 43.55%\n",
            "Total No Pit Accuracy: 98.92%\n",
            "Total Pit Accuracy: 19.05%\n",
            "Total Pit Predictions: 23632\n",
            "[Iteration 5000] Loss: 25.44\n",
            "Overall Accuracy: 44.67%\n",
            "Total No Pit Accuracy: 98.84%\n",
            "Total Pit Accuracy: 19.23%\n",
            "Total Pit Predictions: 23195\n",
            "[Iteration 5500] Loss: 10.78\n",
            "Overall Accuracy: 46.82%\n",
            "Total No Pit Accuracy: 98.68%\n",
            "Total Pit Accuracy: 19.48%\n",
            "Total Pit Predictions: 22320\n",
            "[Iteration 6000] Loss: 14.92\n",
            "Overall Accuracy: 48.12%\n",
            "Total No Pit Accuracy: 98.54%\n",
            "Total Pit Accuracy: 19.62%\n",
            "Total Pit Predictions: 21776\n",
            "[Iteration 6500] Loss: 8.47\n",
            "Overall Accuracy: 49.62%\n",
            "Total No Pit Accuracy: 98.36%\n",
            "Total Pit Accuracy: 19.74%\n",
            "Total Pit Predictions: 21133\n",
            "[Iteration 7000] Loss: 10.69\n",
            "Overall Accuracy: 50.54%\n",
            "Total No Pit Accuracy: 98.24%\n",
            "Total Pit Accuracy: 19.71%\n",
            "Total Pit Predictions: 20703\n",
            "[Iteration 7500] Loss: 17.67\n",
            "Overall Accuracy: 51.42%\n",
            "Total No Pit Accuracy: 98.18%\n",
            "Total Pit Accuracy: 19.64%\n",
            "Total Pit Predictions: 20293\n",
            "[Iteration 8000] Loss: 12.63\n",
            "Overall Accuracy: 52.30%\n",
            "Total No Pit Accuracy: 98.15%\n",
            "Total Pit Accuracy: 19.58%\n",
            "Total Pit Predictions: 19893\n",
            "[Iteration 8500] Loss: 9.99\n",
            "Overall Accuracy: 52.78%\n",
            "Total No Pit Accuracy: 98.12%\n",
            "Total Pit Accuracy: 19.58%\n",
            "Total Pit Predictions: 19679\n",
            "[Iteration 9000] Loss: 16.19\n",
            "Overall Accuracy: 52.95%\n",
            "Total No Pit Accuracy: 98.15%\n",
            "Total Pit Accuracy: 19.63%\n",
            "Total Pit Predictions: 19624\n",
            "[Iteration 9500] Loss: 10.78\n",
            "Overall Accuracy: 54.25%\n",
            "Total No Pit Accuracy: 98.07%\n",
            "Total Pit Accuracy: 19.64%\n",
            "Total Pit Predictions: 19044\n",
            "[Iteration 10000] Loss: 49.25\n",
            "Overall Accuracy: 54.27%\n",
            "Total No Pit Accuracy: 98.10%\n",
            "Total Pit Accuracy: 19.70%\n",
            "Total Pit Predictions: 19057\n"
          ]
        },
        {
          "output_type": "display_data",
          "data": {
            "text/plain": [
              "<IPython.core.display.HTML object>"
            ],
            "text/html": []
          },
          "metadata": {}
        },
        {
          "output_type": "display_data",
          "data": {
            "text/plain": [
              "<IPython.core.display.HTML object>"
            ],
            "text/html": [
              "<br>    <style><br>        .wandb-row {<br>            display: flex;<br>            flex-direction: row;<br>            flex-wrap: wrap;<br>            justify-content: flex-start;<br>            width: 100%;<br>        }<br>        .wandb-col {<br>            display: flex;<br>            flex-direction: column;<br>            flex-basis: 100%;<br>            flex: 1;<br>            padding: 10px;<br>        }<br>    </style><br><div class=\"wandb-row\"><div class=\"wandb-col\"><h3>Run history:</h3><br/><table class=\"wandb\"><tr><td>loss</td><td>▄█▂▄▂▂▂▂▃▁▄▂▂▅▃▂▄▂▄▃▂█▂▂▂▄▃▄▂▁▄▄▃▂▃▄▂▃▂▁</td></tr><tr><td>overall_accuracy</td><td>▁▂▃▃▃▃▃▃▄▄▄▅▆▆▇▇▇▇███</td></tr><tr><td>total no pit accuracy (exact match)</td><td>▁███████▇▇▇▇▇▇▆▆▆▆▆▆▆</td></tr><tr><td>total pit accuracy (3 laps either side)</td><td>▁▇▇▇▇▇▇▇▇▇███████████</td></tr><tr><td>total pit predictions</td><td>▇███▇▇▇▇▇▆▅▅▄▃▃▂▂▂▂▁▁</td></tr></table><br/></div><div class=\"wandb-col\"><h3>Run summary:</h3><br/><table class=\"wandb\"><tr><td>loss</td><td>49.2525</td></tr><tr><td>overall_accuracy</td><td>54.26861</td></tr><tr><td>total no pit accuracy (exact match)</td><td>98.09701</td></tr><tr><td>total pit accuracy (3 laps either side)</td><td>19.70405</td></tr><tr><td>total pit predictions</td><td>19057</td></tr></table><br/></div></div>"
            ]
          },
          "metadata": {}
        },
        {
          "output_type": "display_data",
          "data": {
            "text/plain": [
              "<IPython.core.display.HTML object>"
            ],
            "text/html": [
              " View run <strong style=\"color:#cdcd00\">dashing-sweep-3</strong> at: <a href='https://wandb.ai/vm800-university-of-york/binary_classifier_emd_lstm/runs/21g6afld' target=\"_blank\">https://wandb.ai/vm800-university-of-york/binary_classifier_emd_lstm/runs/21g6afld</a><br> View project at: <a href='https://wandb.ai/vm800-university-of-york/binary_classifier_emd_lstm' target=\"_blank\">https://wandb.ai/vm800-university-of-york/binary_classifier_emd_lstm</a><br>Synced 5 W&B file(s), 0 media file(s), 0 artifact file(s) and 1 other file(s)"
            ]
          },
          "metadata": {}
        },
        {
          "output_type": "display_data",
          "data": {
            "text/plain": [
              "<IPython.core.display.HTML object>"
            ],
            "text/html": [
              "Find logs at: <code>./wandb/run-20241230_165907-21g6afld/logs</code>"
            ]
          },
          "metadata": {}
        },
        {
          "output_type": "stream",
          "name": "stderr",
          "text": [
            "\u001b[34m\u001b[1mwandb\u001b[0m: Sweep Agent: Waiting for job.\n",
            "\u001b[34m\u001b[1mwandb\u001b[0m: Job received.\n",
            "\u001b[34m\u001b[1mwandb\u001b[0m: Agent Starting Run: 55ll3ene with config:\n",
            "\u001b[34m\u001b[1mwandb\u001b[0m: \tdropout: 0.4140349433619964\n",
            "\u001b[34m\u001b[1mwandb\u001b[0m: \thidden_size: 10\n",
            "\u001b[34m\u001b[1mwandb\u001b[0m: \tlearning_rate: 0.007546333782340989\n",
            "\u001b[34m\u001b[1mwandb\u001b[0m: \toptimizer: sgd\n",
            "\u001b[34m\u001b[1mwandb\u001b[0m: \u001b[33mWARNING\u001b[0m Ignoring project 'binary_classifier_emd_lstm' when running a sweep.\n"
          ]
        },
        {
          "output_type": "display_data",
          "data": {
            "text/plain": [
              "<IPython.core.display.HTML object>"
            ],
            "text/html": [
              "Tracking run with wandb version 0.19.1"
            ]
          },
          "metadata": {}
        },
        {
          "output_type": "display_data",
          "data": {
            "text/plain": [
              "<IPython.core.display.HTML object>"
            ],
            "text/html": [
              "Run data is saved locally in <code>/content/wandb/run-20241230_170031-55ll3ene</code>"
            ]
          },
          "metadata": {}
        },
        {
          "output_type": "display_data",
          "data": {
            "text/plain": [
              "<IPython.core.display.HTML object>"
            ],
            "text/html": [
              "Syncing run <strong><a href='https://wandb.ai/vm800-university-of-york/binary_classifier_emd_lstm/runs/55ll3ene' target=\"_blank\">prime-sweep-4</a></strong> to <a href='https://wandb.ai/vm800-university-of-york/binary_classifier_emd_lstm' target=\"_blank\">Weights & Biases</a> (<a href='https://wandb.me/developer-guide' target=\"_blank\">docs</a>)<br>Sweep page: <a href='https://wandb.ai/vm800-university-of-york/binary_classifier_emd_lstm/sweeps/v7ifde9r' target=\"_blank\">https://wandb.ai/vm800-university-of-york/binary_classifier_emd_lstm/sweeps/v7ifde9r</a>"
            ]
          },
          "metadata": {}
        },
        {
          "output_type": "display_data",
          "data": {
            "text/plain": [
              "<IPython.core.display.HTML object>"
            ],
            "text/html": [
              " View project at <a href='https://wandb.ai/vm800-university-of-york/binary_classifier_emd_lstm' target=\"_blank\">https://wandb.ai/vm800-university-of-york/binary_classifier_emd_lstm</a>"
            ]
          },
          "metadata": {}
        },
        {
          "output_type": "display_data",
          "data": {
            "text/plain": [
              "<IPython.core.display.HTML object>"
            ],
            "text/html": [
              " View sweep at <a href='https://wandb.ai/vm800-university-of-york/binary_classifier_emd_lstm/sweeps/v7ifde9r' target=\"_blank\">https://wandb.ai/vm800-university-of-york/binary_classifier_emd_lstm/sweeps/v7ifde9r</a>"
            ]
          },
          "metadata": {}
        },
        {
          "output_type": "display_data",
          "data": {
            "text/plain": [
              "<IPython.core.display.HTML object>"
            ],
            "text/html": [
              " View run at <a href='https://wandb.ai/vm800-university-of-york/binary_classifier_emd_lstm/runs/55ll3ene' target=\"_blank\">https://wandb.ai/vm800-university-of-york/binary_classifier_emd_lstm/runs/55ll3ene</a>"
            ]
          },
          "metadata": {}
        },
        {
          "output_type": "stream",
          "name": "stdout",
          "text": [
            "[Iteration 0] Loss: 19.77\n",
            "Overall Accuracy: 52.47%\n",
            "Total No Pit Accuracy: 96.94%\n",
            "Total Pit Accuracy: 14.84%\n",
            "Total Pit Predictions: 18462\n",
            "[Iteration 500] Loss: 20.09\n",
            "Overall Accuracy: 14.31%\n",
            "Total No Pit Accuracy: 0.0\n",
            "Total Pit Accuracy: 14.31%\n",
            "Total Pit Predictions: 34086\n",
            "[Iteration 1000] Loss: 15.51\n",
            "Overall Accuracy: 14.31%\n",
            "Total No Pit Accuracy: 0.0\n",
            "Total Pit Accuracy: 14.31%\n",
            "Total Pit Predictions: 34086\n",
            "[Iteration 1500] Loss: 15.49\n",
            "Overall Accuracy: 37.39%\n",
            "Total No Pit Accuracy: 100.00%\n",
            "Total Pit Accuracy: 18.60%\n",
            "Total Pit Predictions: 26219\n",
            "[Iteration 2000] Loss: 26.33\n",
            "Overall Accuracy: 39.06%\n",
            "Total No Pit Accuracy: 100.00%\n",
            "Total Pit Accuracy: 19.01%\n",
            "Total Pit Predictions: 25649\n",
            "[Iteration 2500] Loss: 9.50\n",
            "Overall Accuracy: 39.84%\n",
            "Total No Pit Accuracy: 100.00%\n",
            "Total Pit Accuracy: 19.21%\n",
            "Total Pit Predictions: 25383\n",
            "[Iteration 3000] Loss: 17.89\n",
            "Overall Accuracy: 40.50%\n",
            "Total No Pit Accuracy: 99.98%\n",
            "Total Pit Accuracy: 19.38%\n",
            "Total Pit Predictions: 25154\n",
            "[Iteration 3500] Loss: 8.14\n",
            "Overall Accuracy: 40.93%\n",
            "Total No Pit Accuracy: 99.94%\n",
            "Total Pit Accuracy: 19.48%\n",
            "Total Pit Predictions: 24998\n",
            "[Iteration 4000] Loss: 8.43\n",
            "Overall Accuracy: 41.24%\n",
            "Total No Pit Accuracy: 99.95%\n",
            "Total Pit Accuracy: 19.56%\n",
            "Total Pit Predictions: 24893\n",
            "[Iteration 4500] Loss: 18.19\n",
            "Overall Accuracy: 41.56%\n",
            "Total No Pit Accuracy: 99.95%\n",
            "Total Pit Accuracy: 19.64%\n",
            "Total Pit Predictions: 24784\n",
            "[Iteration 5000] Loss: 13.70\n",
            "Overall Accuracy: 41.72%\n",
            "Total No Pit Accuracy: 99.95%\n",
            "Total Pit Accuracy: 19.68%\n",
            "Total Pit Predictions: 24727\n",
            "[Iteration 5500] Loss: 10.91\n",
            "Overall Accuracy: 41.89%\n",
            "Total No Pit Accuracy: 99.95%\n",
            "Total Pit Accuracy: 19.72%\n",
            "Total Pit Predictions: 24669\n",
            "[Iteration 6000] Loss: 19.39\n",
            "Overall Accuracy: 42.03%\n",
            "Total No Pit Accuracy: 99.95%\n",
            "Total Pit Accuracy: 19.76%\n",
            "Total Pit Predictions: 24619\n",
            "[Iteration 6500] Loss: 18.92\n",
            "Overall Accuracy: 42.20%\n",
            "Total No Pit Accuracy: 99.81%\n",
            "Total Pit Accuracy: 19.67%\n",
            "Total Pit Predictions: 24504\n",
            "[Iteration 7000] Loss: 19.24\n",
            "Overall Accuracy: 42.71%\n",
            "Total No Pit Accuracy: 99.66%\n",
            "Total Pit Accuracy: 19.64%\n",
            "Total Pit Predictions: 24257\n",
            "[Iteration 7500] Loss: 18.11\n",
            "Overall Accuracy: 43.37%\n",
            "Total No Pit Accuracy: 99.59%\n",
            "Total Pit Accuracy: 19.70%\n",
            "Total Pit Predictions: 23987\n",
            "[Iteration 8000] Loss: 18.83\n",
            "Overall Accuracy: 44.12%\n",
            "Total No Pit Accuracy: 99.52%\n",
            "Total Pit Accuracy: 19.82%\n",
            "Total Pit Predictions: 23693\n",
            "[Iteration 8500] Loss: 9.67\n",
            "Overall Accuracy: 45.00%\n",
            "Total No Pit Accuracy: 99.46%\n",
            "Total Pit Accuracy: 19.95%\n",
            "Total Pit Predictions: 23349\n",
            "[Iteration 9000] Loss: 18.49\n",
            "Overall Accuracy: 45.75%\n",
            "Total No Pit Accuracy: 99.41%\n",
            "Total Pit Accuracy: 20.09%\n",
            "Total Pit Predictions: 23061\n",
            "[Iteration 9500] Loss: 17.25\n",
            "Overall Accuracy: 46.33%\n",
            "Total No Pit Accuracy: 99.40%\n",
            "Total Pit Accuracy: 20.20%\n",
            "Total Pit Predictions: 22839\n",
            "[Iteration 10000] Loss: 17.89\n",
            "Overall Accuracy: 47.23%\n",
            "Total No Pit Accuracy: 99.33%\n",
            "Total Pit Accuracy: 20.38%\n",
            "Total Pit Predictions: 22492\n"
          ]
        },
        {
          "output_type": "display_data",
          "data": {
            "text/plain": [
              "<IPython.core.display.HTML object>"
            ],
            "text/html": []
          },
          "metadata": {}
        },
        {
          "output_type": "display_data",
          "data": {
            "text/plain": [
              "<IPython.core.display.HTML object>"
            ],
            "text/html": [
              "<br>    <style><br>        .wandb-row {<br>            display: flex;<br>            flex-direction: row;<br>            flex-wrap: wrap;<br>            justify-content: flex-start;<br>            width: 100%;<br>        }<br>        .wandb-col {<br>            display: flex;<br>            flex-direction: column;<br>            flex-basis: 100%;<br>            flex: 1;<br>            padding: 10px;<br>        }<br>    </style><br><div class=\"wandb-row\"><div class=\"wandb-col\"><h3>Run history:</h3><br/><table class=\"wandb\"><tr><td>loss</td><td>▂▄▃▇▃▇▄▃▇▂▄▄▂▂▃▃▂▄▃▁▃▂▄▂▃▄▁▃▁▂▃▄▄▄▁▄█▁▁▁</td></tr><tr><td>overall_accuracy</td><td>█▁▁▅▆▆▆▆▆▆▆▆▆▆▆▆▆▇▇▇▇</td></tr><tr><td>total no pit accuracy (exact match)</td><td>█▁▁██████████████████</td></tr><tr><td>total pit accuracy (3 laps either side)</td><td>▂▁▁▆▆▇▇▇▇▇▇▇▇▇▇▇▇████</td></tr><tr><td>total pit predictions</td><td>▁██▄▄▄▄▄▄▄▄▄▄▄▄▃▃▃▃▃▃</td></tr></table><br/></div><div class=\"wandb-col\"><h3>Run summary:</h3><br/><table class=\"wandb\"><tr><td>loss</td><td>17.88891</td></tr><tr><td>overall_accuracy</td><td>47.23053</td></tr><tr><td>total no pit accuracy (exact match)</td><td>99.32724</td></tr><tr><td>total pit accuracy (3 laps either side)</td><td>20.37613</td></tr><tr><td>total pit predictions</td><td>22492</td></tr></table><br/></div></div>"
            ]
          },
          "metadata": {}
        },
        {
          "output_type": "display_data",
          "data": {
            "text/plain": [
              "<IPython.core.display.HTML object>"
            ],
            "text/html": [
              " View run <strong style=\"color:#cdcd00\">prime-sweep-4</strong> at: <a href='https://wandb.ai/vm800-university-of-york/binary_classifier_emd_lstm/runs/55ll3ene' target=\"_blank\">https://wandb.ai/vm800-university-of-york/binary_classifier_emd_lstm/runs/55ll3ene</a><br> View project at: <a href='https://wandb.ai/vm800-university-of-york/binary_classifier_emd_lstm' target=\"_blank\">https://wandb.ai/vm800-university-of-york/binary_classifier_emd_lstm</a><br>Synced 5 W&B file(s), 0 media file(s), 0 artifact file(s) and 1 other file(s)"
            ]
          },
          "metadata": {}
        },
        {
          "output_type": "display_data",
          "data": {
            "text/plain": [
              "<IPython.core.display.HTML object>"
            ],
            "text/html": [
              "Find logs at: <code>./wandb/run-20241230_170031-55ll3ene/logs</code>"
            ]
          },
          "metadata": {}
        },
        {
          "output_type": "stream",
          "name": "stderr",
          "text": [
            "\u001b[34m\u001b[1mwandb\u001b[0m: Agent Starting Run: yz7j9xb0 with config:\n",
            "\u001b[34m\u001b[1mwandb\u001b[0m: \tdropout: 0.15129402646643714\n",
            "\u001b[34m\u001b[1mwandb\u001b[0m: \thidden_size: 48\n",
            "\u001b[34m\u001b[1mwandb\u001b[0m: \tlearning_rate: 0.00945223812298829\n",
            "\u001b[34m\u001b[1mwandb\u001b[0m: \toptimizer: sgd\n",
            "\u001b[34m\u001b[1mwandb\u001b[0m: \u001b[33mWARNING\u001b[0m Ignoring project 'binary_classifier_emd_lstm' when running a sweep.\n"
          ]
        },
        {
          "output_type": "display_data",
          "data": {
            "text/plain": [
              "<IPython.core.display.HTML object>"
            ],
            "text/html": [
              "Tracking run with wandb version 0.19.1"
            ]
          },
          "metadata": {}
        },
        {
          "output_type": "display_data",
          "data": {
            "text/plain": [
              "<IPython.core.display.HTML object>"
            ],
            "text/html": [
              "Run data is saved locally in <code>/content/wandb/run-20241230_170147-yz7j9xb0</code>"
            ]
          },
          "metadata": {}
        },
        {
          "output_type": "display_data",
          "data": {
            "text/plain": [
              "<IPython.core.display.HTML object>"
            ],
            "text/html": [
              "Syncing run <strong><a href='https://wandb.ai/vm800-university-of-york/binary_classifier_emd_lstm/runs/yz7j9xb0' target=\"_blank\">comfy-sweep-5</a></strong> to <a href='https://wandb.ai/vm800-university-of-york/binary_classifier_emd_lstm' target=\"_blank\">Weights & Biases</a> (<a href='https://wandb.me/developer-guide' target=\"_blank\">docs</a>)<br>Sweep page: <a href='https://wandb.ai/vm800-university-of-york/binary_classifier_emd_lstm/sweeps/v7ifde9r' target=\"_blank\">https://wandb.ai/vm800-university-of-york/binary_classifier_emd_lstm/sweeps/v7ifde9r</a>"
            ]
          },
          "metadata": {}
        },
        {
          "output_type": "display_data",
          "data": {
            "text/plain": [
              "<IPython.core.display.HTML object>"
            ],
            "text/html": [
              " View project at <a href='https://wandb.ai/vm800-university-of-york/binary_classifier_emd_lstm' target=\"_blank\">https://wandb.ai/vm800-university-of-york/binary_classifier_emd_lstm</a>"
            ]
          },
          "metadata": {}
        },
        {
          "output_type": "display_data",
          "data": {
            "text/plain": [
              "<IPython.core.display.HTML object>"
            ],
            "text/html": [
              " View sweep at <a href='https://wandb.ai/vm800-university-of-york/binary_classifier_emd_lstm/sweeps/v7ifde9r' target=\"_blank\">https://wandb.ai/vm800-university-of-york/binary_classifier_emd_lstm/sweeps/v7ifde9r</a>"
            ]
          },
          "metadata": {}
        },
        {
          "output_type": "display_data",
          "data": {
            "text/plain": [
              "<IPython.core.display.HTML object>"
            ],
            "text/html": [
              " View run at <a href='https://wandb.ai/vm800-university-of-york/binary_classifier_emd_lstm/runs/yz7j9xb0' target=\"_blank\">https://wandb.ai/vm800-university-of-york/binary_classifier_emd_lstm/runs/yz7j9xb0</a>"
            ]
          },
          "metadata": {}
        },
        {
          "output_type": "stream",
          "name": "stdout",
          "text": [
            "[Iteration 0] Loss: 16.90\n",
            "Overall Accuracy: 14.31%\n",
            "Total No Pit Accuracy: 0.0\n",
            "Total Pit Accuracy: 14.31%\n",
            "Total Pit Predictions: 34086\n",
            "[Iteration 500] Loss: 29.70\n",
            "Overall Accuracy: 14.31%\n",
            "Total No Pit Accuracy: 0.0\n",
            "Total Pit Accuracy: 14.31%\n",
            "Total Pit Predictions: 34086\n",
            "[Iteration 1000] Loss: 20.53\n",
            "Overall Accuracy: 32.98%\n",
            "Total No Pit Accuracy: 100.00%\n",
            "Total Pit Accuracy: 17.59%\n",
            "Total Pit Predictions: 27723\n",
            "[Iteration 1500] Loss: 8.55\n",
            "Overall Accuracy: 38.79%\n",
            "Total No Pit Accuracy: 100.00%\n",
            "Total Pit Accuracy: 18.95%\n",
            "Total Pit Predictions: 25741\n",
            "[Iteration 2000] Loss: 22.11\n",
            "Overall Accuracy: 39.79%\n",
            "Total No Pit Accuracy: 100.00%\n",
            "Total Pit Accuracy: 19.20%\n",
            "Total Pit Predictions: 25400\n",
            "[Iteration 2500] Loss: 12.29\n",
            "Overall Accuracy: 40.40%\n",
            "Total No Pit Accuracy: 100.00%\n",
            "Total Pit Accuracy: 19.36%\n",
            "Total Pit Predictions: 25191\n",
            "[Iteration 3000] Loss: 18.23\n",
            "Overall Accuracy: 40.74%\n",
            "Total No Pit Accuracy: 100.00%\n",
            "Total Pit Accuracy: 19.45%\n",
            "Total Pit Predictions: 25078\n",
            "[Iteration 3500] Loss: 9.65\n",
            "Overall Accuracy: 41.06%\n",
            "Total No Pit Accuracy: 99.98%\n",
            "Total Pit Accuracy: 19.53%\n",
            "Total Pit Predictions: 24964\n",
            "[Iteration 4000] Loss: 24.55\n",
            "Overall Accuracy: 41.68%\n",
            "Total No Pit Accuracy: 99.95%\n",
            "Total Pit Accuracy: 19.68%\n",
            "Total Pit Predictions: 24742\n",
            "[Iteration 4500] Loss: 44.34\n",
            "Overall Accuracy: 41.92%\n",
            "Total No Pit Accuracy: 99.95%\n",
            "Total Pit Accuracy: 19.74%\n",
            "Total Pit Predictions: 24659\n",
            "[Iteration 5000] Loss: 10.98\n",
            "Overall Accuracy: 42.05%\n",
            "Total No Pit Accuracy: 99.95%\n",
            "Total Pit Accuracy: 19.77%\n",
            "Total Pit Predictions: 24614\n",
            "[Iteration 5500] Loss: 38.09\n",
            "Overall Accuracy: 42.46%\n",
            "Total No Pit Accuracy: 99.74%\n",
            "Total Pit Accuracy: 19.74%\n",
            "Total Pit Predictions: 24406\n",
            "[Iteration 6000] Loss: 8.39\n",
            "Overall Accuracy: 44.31%\n",
            "Total No Pit Accuracy: 99.60%\n",
            "Total Pit Accuracy: 19.98%\n",
            "Total Pit Predictions: 23668\n",
            "[Iteration 6500] Loss: 9.10\n",
            "Overall Accuracy: 45.92%\n",
            "Total No Pit Accuracy: 99.51%\n",
            "Total Pit Accuracy: 20.28%\n",
            "Total Pit Predictions: 23054\n",
            "[Iteration 7000] Loss: 16.83\n",
            "Overall Accuracy: 46.97%\n",
            "Total No Pit Accuracy: 99.39%\n",
            "Total Pit Accuracy: 20.42%\n",
            "Total Pit Predictions: 22627\n",
            "[Iteration 7500] Loss: 16.09\n",
            "Overall Accuracy: 47.81%\n",
            "Total No Pit Accuracy: 99.32%\n",
            "Total Pit Accuracy: 20.54%\n",
            "Total Pit Predictions: 22288\n",
            "[Iteration 8000] Loss: 16.79\n",
            "Overall Accuracy: 48.87%\n",
            "Total No Pit Accuracy: 99.18%\n",
            "Total Pit Accuracy: 20.64%\n",
            "Total Pit Predictions: 21835\n",
            "[Iteration 8500] Loss: 8.45\n",
            "Overall Accuracy: 49.45%\n",
            "Total No Pit Accuracy: 99.10%\n",
            "Total Pit Accuracy: 20.65%\n",
            "Total Pit Predictions: 21574\n",
            "[Iteration 9000] Loss: 14.27\n",
            "Overall Accuracy: 50.10%\n",
            "Total No Pit Accuracy: 99.03%\n",
            "Total Pit Accuracy: 20.71%\n",
            "Total Pit Predictions: 21295\n",
            "[Iteration 9500] Loss: 8.69\n",
            "Overall Accuracy: 50.45%\n",
            "Total No Pit Accuracy: 98.94%\n",
            "Total Pit Accuracy: 20.67%\n",
            "Total Pit Predictions: 21116\n",
            "[Iteration 10000] Loss: 6.63\n",
            "Overall Accuracy: 51.20%\n",
            "Total No Pit Accuracy: 98.84%\n",
            "Total Pit Accuracy: 20.65%\n",
            "Total Pit Predictions: 20770\n"
          ]
        },
        {
          "output_type": "display_data",
          "data": {
            "text/plain": [
              "<IPython.core.display.HTML object>"
            ],
            "text/html": []
          },
          "metadata": {}
        },
        {
          "output_type": "display_data",
          "data": {
            "text/plain": [
              "<IPython.core.display.HTML object>"
            ],
            "text/html": [
              "<br>    <style><br>        .wandb-row {<br>            display: flex;<br>            flex-direction: row;<br>            flex-wrap: wrap;<br>            justify-content: flex-start;<br>            width: 100%;<br>        }<br>        .wandb-col {<br>            display: flex;<br>            flex-direction: column;<br>            flex-basis: 100%;<br>            flex: 1;<br>            padding: 10px;<br>        }<br>    </style><br><div class=\"wandb-row\"><div class=\"wandb-col\"><h3>Run history:</h3><br/><table class=\"wandb\"><tr><td>loss</td><td>▂▂▂▂▅▁▅▂▁▅▂▂▅▂▂▂▃▁▂▂▁▃▃▂▃▃▃▃▁▃▃▂▃▃▃▂▃█▂▃</td></tr><tr><td>overall_accuracy</td><td>▁▁▅▆▆▆▆▆▆▆▆▆▇▇▇▇█████</td></tr><tr><td>total no pit accuracy (exact match)</td><td>▁▁███████████████████</td></tr><tr><td>total pit accuracy (3 laps either side)</td><td>▁▁▅▆▆▇▇▇▇▇▇▇▇████████</td></tr><tr><td>total pit predictions</td><td>██▅▄▃▃▃▃▃▃▃▃▃▂▂▂▂▁▁▁▁</td></tr></table><br/></div><div class=\"wandb-col\"><h3>Run summary:</h3><br/><table class=\"wandb\"><tr><td>loss</td><td>6.63123</td></tr><tr><td>overall_accuracy</td><td>51.19697</td></tr><tr><td>total no pit accuracy (exact match)</td><td>98.8435</td></tr><tr><td>total pit accuracy (3 laps either side)</td><td>20.64998</td></tr><tr><td>total pit predictions</td><td>20770</td></tr></table><br/></div></div>"
            ]
          },
          "metadata": {}
        },
        {
          "output_type": "display_data",
          "data": {
            "text/plain": [
              "<IPython.core.display.HTML object>"
            ],
            "text/html": [
              " View run <strong style=\"color:#cdcd00\">comfy-sweep-5</strong> at: <a href='https://wandb.ai/vm800-university-of-york/binary_classifier_emd_lstm/runs/yz7j9xb0' target=\"_blank\">https://wandb.ai/vm800-university-of-york/binary_classifier_emd_lstm/runs/yz7j9xb0</a><br> View project at: <a href='https://wandb.ai/vm800-university-of-york/binary_classifier_emd_lstm' target=\"_blank\">https://wandb.ai/vm800-university-of-york/binary_classifier_emd_lstm</a><br>Synced 5 W&B file(s), 0 media file(s), 0 artifact file(s) and 1 other file(s)"
            ]
          },
          "metadata": {}
        },
        {
          "output_type": "display_data",
          "data": {
            "text/plain": [
              "<IPython.core.display.HTML object>"
            ],
            "text/html": [
              "Find logs at: <code>./wandb/run-20241230_170147-yz7j9xb0/logs</code>"
            ]
          },
          "metadata": {}
        },
        {
          "output_type": "stream",
          "name": "stderr",
          "text": [
            "\u001b[34m\u001b[1mwandb\u001b[0m: Agent Starting Run: dsuu06rs with config:\n",
            "\u001b[34m\u001b[1mwandb\u001b[0m: \tdropout: 0.10179364376167148\n",
            "\u001b[34m\u001b[1mwandb\u001b[0m: \thidden_size: 36\n",
            "\u001b[34m\u001b[1mwandb\u001b[0m: \tlearning_rate: 0.009581584046820652\n",
            "\u001b[34m\u001b[1mwandb\u001b[0m: \toptimizer: rmsprop\n",
            "\u001b[34m\u001b[1mwandb\u001b[0m: \u001b[33mWARNING\u001b[0m Ignoring project 'binary_classifier_emd_lstm' when running a sweep.\n"
          ]
        },
        {
          "output_type": "display_data",
          "data": {
            "text/plain": [
              "<IPython.core.display.HTML object>"
            ],
            "text/html": [
              "Tracking run with wandb version 0.19.1"
            ]
          },
          "metadata": {}
        },
        {
          "output_type": "display_data",
          "data": {
            "text/plain": [
              "<IPython.core.display.HTML object>"
            ],
            "text/html": [
              "Run data is saved locally in <code>/content/wandb/run-20241230_170258-dsuu06rs</code>"
            ]
          },
          "metadata": {}
        },
        {
          "output_type": "display_data",
          "data": {
            "text/plain": [
              "<IPython.core.display.HTML object>"
            ],
            "text/html": [
              "Syncing run <strong><a href='https://wandb.ai/vm800-university-of-york/binary_classifier_emd_lstm/runs/dsuu06rs' target=\"_blank\">robust-sweep-6</a></strong> to <a href='https://wandb.ai/vm800-university-of-york/binary_classifier_emd_lstm' target=\"_blank\">Weights & Biases</a> (<a href='https://wandb.me/developer-guide' target=\"_blank\">docs</a>)<br>Sweep page: <a href='https://wandb.ai/vm800-university-of-york/binary_classifier_emd_lstm/sweeps/v7ifde9r' target=\"_blank\">https://wandb.ai/vm800-university-of-york/binary_classifier_emd_lstm/sweeps/v7ifde9r</a>"
            ]
          },
          "metadata": {}
        },
        {
          "output_type": "display_data",
          "data": {
            "text/plain": [
              "<IPython.core.display.HTML object>"
            ],
            "text/html": [
              " View project at <a href='https://wandb.ai/vm800-university-of-york/binary_classifier_emd_lstm' target=\"_blank\">https://wandb.ai/vm800-university-of-york/binary_classifier_emd_lstm</a>"
            ]
          },
          "metadata": {}
        },
        {
          "output_type": "display_data",
          "data": {
            "text/plain": [
              "<IPython.core.display.HTML object>"
            ],
            "text/html": [
              " View sweep at <a href='https://wandb.ai/vm800-university-of-york/binary_classifier_emd_lstm/sweeps/v7ifde9r' target=\"_blank\">https://wandb.ai/vm800-university-of-york/binary_classifier_emd_lstm/sweeps/v7ifde9r</a>"
            ]
          },
          "metadata": {}
        },
        {
          "output_type": "display_data",
          "data": {
            "text/plain": [
              "<IPython.core.display.HTML object>"
            ],
            "text/html": [
              " View run at <a href='https://wandb.ai/vm800-university-of-york/binary_classifier_emd_lstm/runs/dsuu06rs' target=\"_blank\">https://wandb.ai/vm800-university-of-york/binary_classifier_emd_lstm/runs/dsuu06rs</a>"
            ]
          },
          "metadata": {}
        },
        {
          "output_type": "stream",
          "name": "stdout",
          "text": [
            "[Iteration 0] Loss: 21.64\n",
            "Overall Accuracy: 97.33%\n",
            "Total No Pit Accuracy: 97.33%\n",
            "Total Pit Accuracy: 0.0\n",
            "Total Pit Predictions: 0\n",
            "[Iteration 500] Loss: 16.47\n",
            "Overall Accuracy: 97.33%\n",
            "Total No Pit Accuracy: 97.33%\n",
            "Total Pit Accuracy: 0.0\n",
            "Total Pit Predictions: 0\n",
            "[Iteration 1000] Loss: 8.87\n",
            "Overall Accuracy: 97.33%\n",
            "Total No Pit Accuracy: 97.33%\n",
            "Total Pit Accuracy: 0.0\n",
            "Total Pit Predictions: 0\n",
            "[Iteration 1500] Loss: 18.04\n",
            "Overall Accuracy: 92.43%\n",
            "Total No Pit Accuracy: 97.29%\n",
            "Total Pit Accuracy: 8.91%\n",
            "Total Pit Predictions: 1875\n",
            "[Iteration 2000] Loss: 37.35\n",
            "Overall Accuracy: 89.00%\n",
            "Total No Pit Accuracy: 97.28%\n",
            "Total Pit Accuracy: 9.20%\n",
            "Total Pit Predictions: 3207\n",
            "[Iteration 2500] Loss: 20.57\n",
            "Overall Accuracy: 87.98%\n",
            "Total No Pit Accuracy: 97.29%\n",
            "Total Pit Accuracy: 10.14%\n",
            "Total Pit Predictions: 3640\n",
            "[Iteration 3000] Loss: 13.81\n",
            "Overall Accuracy: 85.94%\n",
            "Total No Pit Accuracy: 97.45%\n",
            "Total Pit Accuracy: 14.23%\n",
            "Total Pit Predictions: 4715\n",
            "[Iteration 3500] Loss: 26.34\n",
            "Overall Accuracy: 83.78%\n",
            "Total No Pit Accuracy: 97.53%\n",
            "Total Pit Accuracy: 15.82%\n",
            "Total Pit Predictions: 5738\n",
            "[Iteration 4000] Loss: 6.24\n",
            "Overall Accuracy: 82.25%\n",
            "Total No Pit Accuracy: 97.54%\n",
            "Total Pit Accuracy: 16.23%\n",
            "Total Pit Predictions: 6409\n",
            "[Iteration 4500] Loss: 14.64\n",
            "Overall Accuracy: 81.18%\n",
            "Total No Pit Accuracy: 97.57%\n",
            "Total Pit Accuracy: 16.34%\n",
            "Total Pit Predictions: 6879\n",
            "[Iteration 5000] Loss: 26.02\n",
            "Overall Accuracy: 80.07%\n",
            "Total No Pit Accuracy: 97.56%\n",
            "Total Pit Accuracy: 17.03%\n",
            "Total Pit Predictions: 7403\n",
            "[Iteration 5500] Loss: 13.13\n",
            "Overall Accuracy: 78.62%\n",
            "Total No Pit Accuracy: 97.53%\n",
            "Total Pit Accuracy: 17.19%\n",
            "Total Pit Predictions: 8022\n",
            "[Iteration 6000] Loss: 17.59\n",
            "Overall Accuracy: 77.63%\n",
            "Total No Pit Accuracy: 97.54%\n",
            "Total Pit Accuracy: 17.42%\n",
            "Total Pit Predictions: 8469\n",
            "[Iteration 6500] Loss: 7.21\n",
            "Overall Accuracy: 76.39%\n",
            "Total No Pit Accuracy: 97.53%\n",
            "Total Pit Accuracy: 17.38%\n",
            "Total Pit Predictions: 8991\n",
            "[Iteration 7000] Loss: 22.80\n",
            "Overall Accuracy: 75.38%\n",
            "Total No Pit Accuracy: 97.51%\n",
            "Total Pit Accuracy: 17.40%\n",
            "Total Pit Predictions: 9415\n",
            "[Iteration 7500] Loss: 11.91\n",
            "Overall Accuracy: 74.85%\n",
            "Total No Pit Accuracy: 97.49%\n",
            "Total Pit Accuracy: 17.60%\n",
            "Total Pit Predictions: 9661\n",
            "[Iteration 8000] Loss: 46.15\n",
            "Overall Accuracy: 74.90%\n",
            "Total No Pit Accuracy: 97.46%\n",
            "Total Pit Accuracy: 17.47%\n",
            "Total Pit Predictions: 9612\n",
            "[Iteration 8500] Loss: 9.80\n",
            "Overall Accuracy: 73.61%\n",
            "Total No Pit Accuracy: 97.50%\n",
            "Total Pit Accuracy: 18.01%\n",
            "Total Pit Predictions: 10242\n",
            "[Iteration 9000] Loss: 6.69\n",
            "Overall Accuracy: 72.70%\n",
            "Total No Pit Accuracy: 97.47%\n",
            "Total Pit Accuracy: 18.30%\n",
            "Total Pit Predictions: 10664\n",
            "[Iteration 9500] Loss: 19.03\n",
            "Overall Accuracy: 72.21%\n",
            "Total No Pit Accuracy: 97.46%\n",
            "Total Pit Accuracy: 18.41%\n",
            "Total Pit Predictions: 10888\n",
            "[Iteration 10000] Loss: 39.92\n",
            "Overall Accuracy: 71.93%\n",
            "Total No Pit Accuracy: 97.46%\n",
            "Total Pit Accuracy: 18.71%\n",
            "Total Pit Predictions: 11050\n"
          ]
        },
        {
          "output_type": "display_data",
          "data": {
            "text/plain": [
              "<IPython.core.display.HTML object>"
            ],
            "text/html": []
          },
          "metadata": {}
        },
        {
          "output_type": "display_data",
          "data": {
            "text/plain": [
              "<IPython.core.display.HTML object>"
            ],
            "text/html": [
              "<br>    <style><br>        .wandb-row {<br>            display: flex;<br>            flex-direction: row;<br>            flex-wrap: wrap;<br>            justify-content: flex-start;<br>            width: 100%;<br>        }<br>        .wandb-col {<br>            display: flex;<br>            flex-direction: column;<br>            flex-basis: 100%;<br>            flex: 1;<br>            padding: 10px;<br>        }<br>    </style><br><div class=\"wandb-row\"><div class=\"wandb-col\"><h3>Run history:</h3><br/><table class=\"wandb\"><tr><td>loss</td><td>▆▆▁▂▃▃▇▃▂▃▃▃▁▃▁▄▃▂▃▃▃█▃▃▂▁▂▁▁▄▃▄▁▁▂▃█▃▂▂</td></tr><tr><td>overall_accuracy</td><td>███▇▆▅▅▄▄▄▃▃▃▂▂▂▂▁▁▁▁</td></tr><tr><td>total no pit accuracy (exact match)</td><td>▂▂▂▁▁▁▅▇▇██▇▇▇▇▆▅▆▆▅▅</td></tr><tr><td>total pit accuracy (3 laps either side)</td><td>▁▁▁▄▄▅▆▇▇▇▇▇█████████</td></tr><tr><td>total pit predictions</td><td>▁▁▁▂▃▃▄▅▅▅▆▆▆▇▇▇▇▇███</td></tr></table><br/></div><div class=\"wandb-col\"><h3>Run summary:</h3><br/><table class=\"wandb\"><tr><td>loss</td><td>39.92434</td></tr><tr><td>overall_accuracy</td><td>71.92982</td></tr><tr><td>total no pit accuracy (exact match)</td><td>97.45616</td></tr><tr><td>total pit accuracy (3 laps either side)</td><td>18.71493</td></tr><tr><td>total pit predictions</td><td>11050</td></tr></table><br/></div></div>"
            ]
          },
          "metadata": {}
        },
        {
          "output_type": "display_data",
          "data": {
            "text/plain": [
              "<IPython.core.display.HTML object>"
            ],
            "text/html": [
              " View run <strong style=\"color:#cdcd00\">robust-sweep-6</strong> at: <a href='https://wandb.ai/vm800-university-of-york/binary_classifier_emd_lstm/runs/dsuu06rs' target=\"_blank\">https://wandb.ai/vm800-university-of-york/binary_classifier_emd_lstm/runs/dsuu06rs</a><br> View project at: <a href='https://wandb.ai/vm800-university-of-york/binary_classifier_emd_lstm' target=\"_blank\">https://wandb.ai/vm800-university-of-york/binary_classifier_emd_lstm</a><br>Synced 5 W&B file(s), 0 media file(s), 0 artifact file(s) and 1 other file(s)"
            ]
          },
          "metadata": {}
        },
        {
          "output_type": "display_data",
          "data": {
            "text/plain": [
              "<IPython.core.display.HTML object>"
            ],
            "text/html": [
              "Find logs at: <code>./wandb/run-20241230_170258-dsuu06rs/logs</code>"
            ]
          },
          "metadata": {}
        },
        {
          "output_type": "stream",
          "name": "stderr",
          "text": [
            "\u001b[34m\u001b[1mwandb\u001b[0m: Sweep Agent: Waiting for job.\n",
            "\u001b[34m\u001b[1mwandb\u001b[0m: Job received.\n",
            "\u001b[34m\u001b[1mwandb\u001b[0m: Agent Starting Run: e350welc with config:\n",
            "\u001b[34m\u001b[1mwandb\u001b[0m: \tdropout: 0.12486975130196454\n",
            "\u001b[34m\u001b[1mwandb\u001b[0m: \thidden_size: 47\n",
            "\u001b[34m\u001b[1mwandb\u001b[0m: \tlearning_rate: 0.00895236281139504\n",
            "\u001b[34m\u001b[1mwandb\u001b[0m: \toptimizer: sgd\n",
            "\u001b[34m\u001b[1mwandb\u001b[0m: \u001b[33mWARNING\u001b[0m Ignoring project 'binary_classifier_emd_lstm' when running a sweep.\n"
          ]
        },
        {
          "output_type": "display_data",
          "data": {
            "text/plain": [
              "<IPython.core.display.HTML object>"
            ],
            "text/html": [
              "Tracking run with wandb version 0.19.1"
            ]
          },
          "metadata": {}
        },
        {
          "output_type": "display_data",
          "data": {
            "text/plain": [
              "<IPython.core.display.HTML object>"
            ],
            "text/html": [
              "Run data is saved locally in <code>/content/wandb/run-20241230_170419-e350welc</code>"
            ]
          },
          "metadata": {}
        },
        {
          "output_type": "display_data",
          "data": {
            "text/plain": [
              "<IPython.core.display.HTML object>"
            ],
            "text/html": [
              "Syncing run <strong><a href='https://wandb.ai/vm800-university-of-york/binary_classifier_emd_lstm/runs/e350welc' target=\"_blank\">prime-sweep-7</a></strong> to <a href='https://wandb.ai/vm800-university-of-york/binary_classifier_emd_lstm' target=\"_blank\">Weights & Biases</a> (<a href='https://wandb.me/developer-guide' target=\"_blank\">docs</a>)<br>Sweep page: <a href='https://wandb.ai/vm800-university-of-york/binary_classifier_emd_lstm/sweeps/v7ifde9r' target=\"_blank\">https://wandb.ai/vm800-university-of-york/binary_classifier_emd_lstm/sweeps/v7ifde9r</a>"
            ]
          },
          "metadata": {}
        },
        {
          "output_type": "display_data",
          "data": {
            "text/plain": [
              "<IPython.core.display.HTML object>"
            ],
            "text/html": [
              " View project at <a href='https://wandb.ai/vm800-university-of-york/binary_classifier_emd_lstm' target=\"_blank\">https://wandb.ai/vm800-university-of-york/binary_classifier_emd_lstm</a>"
            ]
          },
          "metadata": {}
        },
        {
          "output_type": "display_data",
          "data": {
            "text/plain": [
              "<IPython.core.display.HTML object>"
            ],
            "text/html": [
              " View sweep at <a href='https://wandb.ai/vm800-university-of-york/binary_classifier_emd_lstm/sweeps/v7ifde9r' target=\"_blank\">https://wandb.ai/vm800-university-of-york/binary_classifier_emd_lstm/sweeps/v7ifde9r</a>"
            ]
          },
          "metadata": {}
        },
        {
          "output_type": "display_data",
          "data": {
            "text/plain": [
              "<IPython.core.display.HTML object>"
            ],
            "text/html": [
              " View run at <a href='https://wandb.ai/vm800-university-of-york/binary_classifier_emd_lstm/runs/e350welc' target=\"_blank\">https://wandb.ai/vm800-university-of-york/binary_classifier_emd_lstm/runs/e350welc</a>"
            ]
          },
          "metadata": {}
        },
        {
          "output_type": "stream",
          "name": "stdout",
          "text": [
            "[Iteration 0] Loss: 19.73\n",
            "Overall Accuracy: 18.48%\n",
            "Total No Pit Accuracy: 94.76%\n",
            "Total Pit Accuracy: 13.95%\n",
            "Total Pit Predictions: 32178\n",
            "[Iteration 500] Loss: 19.62\n",
            "Overall Accuracy: 14.31%\n",
            "Total No Pit Accuracy: 0.0\n",
            "Total Pit Accuracy: 14.31%\n",
            "Total Pit Predictions: 34086\n",
            "[Iteration 1000] Loss: 9.76\n",
            "Overall Accuracy: 14.31%\n",
            "Total No Pit Accuracy: 0.0\n",
            "Total Pit Accuracy: 14.31%\n",
            "Total Pit Predictions: 34086\n",
            "[Iteration 1500] Loss: 9.97\n",
            "Overall Accuracy: 14.31%\n",
            "Total No Pit Accuracy: 0.0\n",
            "Total Pit Accuracy: 14.31%\n",
            "Total Pit Predictions: 34086\n",
            "[Iteration 2000] Loss: 11.22\n",
            "Overall Accuracy: 14.31%\n",
            "Total No Pit Accuracy: 0.0\n",
            "Total Pit Accuracy: 14.31%\n",
            "Total Pit Predictions: 34086\n",
            "[Iteration 2500] Loss: 21.23\n",
            "Overall Accuracy: 14.31%\n",
            "Total No Pit Accuracy: 0.0\n",
            "Total Pit Accuracy: 14.31%\n",
            "Total Pit Predictions: 34086\n",
            "[Iteration 3000] Loss: 9.05\n",
            "Overall Accuracy: 14.31%\n",
            "Total No Pit Accuracy: 0.0\n",
            "Total Pit Accuracy: 14.31%\n",
            "Total Pit Predictions: 34086\n",
            "[Iteration 3500] Loss: 15.53\n",
            "Overall Accuracy: 14.31%\n",
            "Total No Pit Accuracy: 0.0\n",
            "Total Pit Accuracy: 14.31%\n",
            "Total Pit Predictions: 34086\n",
            "[Iteration 4000] Loss: 12.93\n",
            "Overall Accuracy: 32.52%\n",
            "Total No Pit Accuracy: 100.00%\n",
            "Total Pit Accuracy: 17.49%\n",
            "Total Pit Predictions: 27879\n",
            "[Iteration 4500] Loss: 14.61\n",
            "Overall Accuracy: 35.49%\n",
            "Total No Pit Accuracy: 100.00%\n",
            "Total Pit Accuracy: 18.15%\n",
            "Total Pit Predictions: 26867\n",
            "[Iteration 5000] Loss: 20.83\n",
            "Overall Accuracy: 36.59%\n",
            "Total No Pit Accuracy: 100.00%\n",
            "Total Pit Accuracy: 18.41%\n",
            "Total Pit Predictions: 26490\n",
            "[Iteration 5500] Loss: 13.37\n",
            "Overall Accuracy: 37.31%\n",
            "Total No Pit Accuracy: 100.00%\n",
            "Total Pit Accuracy: 18.58%\n",
            "Total Pit Predictions: 26246\n",
            "[Iteration 6000] Loss: 18.75\n",
            "Overall Accuracy: 37.78%\n",
            "Total No Pit Accuracy: 100.00%\n",
            "Total Pit Accuracy: 18.70%\n",
            "Total Pit Predictions: 26086\n",
            "[Iteration 6500] Loss: 9.79\n",
            "Overall Accuracy: 38.36%\n",
            "Total No Pit Accuracy: 99.98%\n",
            "Total Pit Accuracy: 18.83%\n",
            "Total Pit Predictions: 25883\n",
            "[Iteration 7000] Loss: 17.36\n",
            "Overall Accuracy: 38.80%\n",
            "Total No Pit Accuracy: 99.94%\n",
            "Total Pit Accuracy: 18.92%\n",
            "Total Pit Predictions: 25725\n",
            "[Iteration 7500] Loss: 10.76\n",
            "Overall Accuracy: 39.06%\n",
            "Total No Pit Accuracy: 99.94%\n",
            "Total Pit Accuracy: 18.98%\n",
            "Total Pit Predictions: 25633\n",
            "[Iteration 8000] Loss: 14.72\n",
            "Overall Accuracy: 39.33%\n",
            "Total No Pit Accuracy: 99.94%\n",
            "Total Pit Accuracy: 19.05%\n",
            "Total Pit Predictions: 25541\n",
            "[Iteration 8500] Loss: 16.22\n",
            "Overall Accuracy: 39.75%\n",
            "Total No Pit Accuracy: 99.87%\n",
            "Total Pit Accuracy: 19.10%\n",
            "Total Pit Predictions: 25372\n",
            "[Iteration 9000] Loss: 12.49\n",
            "Overall Accuracy: 41.49%\n",
            "Total No Pit Accuracy: 99.57%\n",
            "Total Pit Accuracy: 19.17%\n",
            "Total Pit Predictions: 24623\n",
            "[Iteration 9500] Loss: 22.33\n",
            "Overall Accuracy: 43.14%\n",
            "Total No Pit Accuracy: 99.41%\n",
            "Total Pit Accuracy: 19.40%\n",
            "Total Pit Predictions: 23970\n",
            "[Iteration 10000] Loss: 21.31\n",
            "Overall Accuracy: 44.71%\n",
            "Total No Pit Accuracy: 99.36%\n",
            "Total Pit Accuracy: 19.75%\n",
            "Total Pit Predictions: 23398\n"
          ]
        },
        {
          "output_type": "display_data",
          "data": {
            "text/plain": [
              "<IPython.core.display.HTML object>"
            ],
            "text/html": []
          },
          "metadata": {}
        },
        {
          "output_type": "display_data",
          "data": {
            "text/plain": [
              "<IPython.core.display.HTML object>"
            ],
            "text/html": [
              "<br>    <style><br>        .wandb-row {<br>            display: flex;<br>            flex-direction: row;<br>            flex-wrap: wrap;<br>            justify-content: flex-start;<br>            width: 100%;<br>        }<br>        .wandb-col {<br>            display: flex;<br>            flex-direction: column;<br>            flex-basis: 100%;<br>            flex: 1;<br>            padding: 10px;<br>        }<br>    </style><br><div class=\"wandb-row\"><div class=\"wandb-col\"><h3>Run history:</h3><br/><table class=\"wandb\"><tr><td>loss</td><td>▄▆▄▄▃▁▂▄▃▄▃▃█▄▄▄▂▄▄▂▅▂▂▅▄▃▄▁▁▄▄▄▃▄▃▃▃▄▅▅</td></tr><tr><td>overall_accuracy</td><td>▂▁▁▁▁▁▁▁▅▆▆▆▆▇▇▇▇▇▇██</td></tr><tr><td>total no pit accuracy (exact match)</td><td>█▁▁▁▁▁▁▁█████████████</td></tr><tr><td>total pit accuracy (3 laps either side)</td><td>▁▁▁▁▁▁▁▁▅▆▆▇▇▇▇▇▇▇▇██</td></tr><tr><td>total pit predictions</td><td>▇███████▄▃▃▃▃▃▃▂▂▂▂▁▁</td></tr></table><br/></div><div class=\"wandb-col\"><h3>Run summary:</h3><br/><table class=\"wandb\"><tr><td>loss</td><td>21.31304</td></tr><tr><td>overall_accuracy</td><td>44.71044</td></tr><tr><td>total no pit accuracy (exact match)</td><td>99.36377</td></tr><tr><td>total pit accuracy (3 laps either side)</td><td>19.74528</td></tr><tr><td>total pit predictions</td><td>23398</td></tr></table><br/></div></div>"
            ]
          },
          "metadata": {}
        },
        {
          "output_type": "display_data",
          "data": {
            "text/plain": [
              "<IPython.core.display.HTML object>"
            ],
            "text/html": [
              " View run <strong style=\"color:#cdcd00\">prime-sweep-7</strong> at: <a href='https://wandb.ai/vm800-university-of-york/binary_classifier_emd_lstm/runs/e350welc' target=\"_blank\">https://wandb.ai/vm800-university-of-york/binary_classifier_emd_lstm/runs/e350welc</a><br> View project at: <a href='https://wandb.ai/vm800-university-of-york/binary_classifier_emd_lstm' target=\"_blank\">https://wandb.ai/vm800-university-of-york/binary_classifier_emd_lstm</a><br>Synced 5 W&B file(s), 0 media file(s), 0 artifact file(s) and 1 other file(s)"
            ]
          },
          "metadata": {}
        },
        {
          "output_type": "display_data",
          "data": {
            "text/plain": [
              "<IPython.core.display.HTML object>"
            ],
            "text/html": [
              "Find logs at: <code>./wandb/run-20241230_170419-e350welc/logs</code>"
            ]
          },
          "metadata": {}
        },
        {
          "output_type": "stream",
          "name": "stderr",
          "text": [
            "\u001b[34m\u001b[1mwandb\u001b[0m: Sweep Agent: Waiting for job.\n",
            "\u001b[34m\u001b[1mwandb\u001b[0m: Job received.\n",
            "\u001b[34m\u001b[1mwandb\u001b[0m: Agent Starting Run: ctw99vw8 with config:\n",
            "\u001b[34m\u001b[1mwandb\u001b[0m: \tdropout: 0.13787762062878578\n",
            "\u001b[34m\u001b[1mwandb\u001b[0m: \thidden_size: 50\n",
            "\u001b[34m\u001b[1mwandb\u001b[0m: \tlearning_rate: 0.009197594666380432\n",
            "\u001b[34m\u001b[1mwandb\u001b[0m: \toptimizer: rmsprop\n",
            "\u001b[34m\u001b[1mwandb\u001b[0m: \u001b[33mWARNING\u001b[0m Ignoring project 'binary_classifier_emd_lstm' when running a sweep.\n"
          ]
        },
        {
          "output_type": "display_data",
          "data": {
            "text/plain": [
              "VBox(children=(Label(value='Waiting for wandb.init()...\\r'), FloatProgress(value=0.011112908400001389, max=1.0…"
            ],
            "application/vnd.jupyter.widget-view+json": {
              "version_major": 2,
              "version_minor": 0,
              "model_id": "29d07d63183645c3ad83bba53a73a034"
            }
          },
          "metadata": {}
        },
        {
          "output_type": "display_data",
          "data": {
            "text/plain": [
              "<IPython.core.display.HTML object>"
            ],
            "text/html": [
              "Tracking run with wandb version 0.19.1"
            ]
          },
          "metadata": {}
        },
        {
          "output_type": "display_data",
          "data": {
            "text/plain": [
              "<IPython.core.display.HTML object>"
            ],
            "text/html": [
              "Run data is saved locally in <code>/content/wandb/run-20241230_170540-ctw99vw8</code>"
            ]
          },
          "metadata": {}
        },
        {
          "output_type": "display_data",
          "data": {
            "text/plain": [
              "<IPython.core.display.HTML object>"
            ],
            "text/html": [
              "Syncing run <strong><a href='https://wandb.ai/vm800-university-of-york/binary_classifier_emd_lstm/runs/ctw99vw8' target=\"_blank\">fresh-sweep-8</a></strong> to <a href='https://wandb.ai/vm800-university-of-york/binary_classifier_emd_lstm' target=\"_blank\">Weights & Biases</a> (<a href='https://wandb.me/developer-guide' target=\"_blank\">docs</a>)<br>Sweep page: <a href='https://wandb.ai/vm800-university-of-york/binary_classifier_emd_lstm/sweeps/v7ifde9r' target=\"_blank\">https://wandb.ai/vm800-university-of-york/binary_classifier_emd_lstm/sweeps/v7ifde9r</a>"
            ]
          },
          "metadata": {}
        },
        {
          "output_type": "display_data",
          "data": {
            "text/plain": [
              "<IPython.core.display.HTML object>"
            ],
            "text/html": [
              " View project at <a href='https://wandb.ai/vm800-university-of-york/binary_classifier_emd_lstm' target=\"_blank\">https://wandb.ai/vm800-university-of-york/binary_classifier_emd_lstm</a>"
            ]
          },
          "metadata": {}
        },
        {
          "output_type": "display_data",
          "data": {
            "text/plain": [
              "<IPython.core.display.HTML object>"
            ],
            "text/html": [
              " View sweep at <a href='https://wandb.ai/vm800-university-of-york/binary_classifier_emd_lstm/sweeps/v7ifde9r' target=\"_blank\">https://wandb.ai/vm800-university-of-york/binary_classifier_emd_lstm/sweeps/v7ifde9r</a>"
            ]
          },
          "metadata": {}
        },
        {
          "output_type": "display_data",
          "data": {
            "text/plain": [
              "<IPython.core.display.HTML object>"
            ],
            "text/html": [
              " View run at <a href='https://wandb.ai/vm800-university-of-york/binary_classifier_emd_lstm/runs/ctw99vw8' target=\"_blank\">https://wandb.ai/vm800-university-of-york/binary_classifier_emd_lstm/runs/ctw99vw8</a>"
            ]
          },
          "metadata": {}
        },
        {
          "output_type": "stream",
          "name": "stdout",
          "text": [
            "[Iteration 0] Loss: 16.79\n",
            "Overall Accuracy: 14.31%\n",
            "Total No Pit Accuracy: 0.0\n",
            "Total Pit Accuracy: 14.31%\n",
            "Total Pit Predictions: 34086\n",
            "[Iteration 500] Loss: 17.20\n",
            "Overall Accuracy: 33.68%\n",
            "Total No Pit Accuracy: 100.00%\n",
            "Total Pit Accuracy: 17.75%\n",
            "Total Pit Predictions: 27483\n",
            "[Iteration 1000] Loss: 21.43\n",
            "Overall Accuracy: 36.21%\n",
            "Total No Pit Accuracy: 100.00%\n",
            "Total Pit Accuracy: 18.32%\n",
            "Total Pit Predictions: 26622\n",
            "[Iteration 1500] Loss: 6.89\n",
            "Overall Accuracy: 37.51%\n",
            "Total No Pit Accuracy: 100.00%\n",
            "Total Pit Accuracy: 18.63%\n",
            "Total Pit Predictions: 26176\n",
            "[Iteration 2000] Loss: 9.79\n",
            "Overall Accuracy: 38.24%\n",
            "Total No Pit Accuracy: 99.96%\n",
            "Total Pit Accuracy: 18.79%\n",
            "Total Pit Predictions: 25922\n",
            "[Iteration 2500] Loss: 24.51\n",
            "Overall Accuracy: 38.98%\n",
            "Total No Pit Accuracy: 99.96%\n",
            "Total Pit Accuracy: 18.98%\n",
            "Total Pit Predictions: 25667\n",
            "[Iteration 3000] Loss: 7.92\n",
            "Overall Accuracy: 39.38%\n",
            "Total No Pit Accuracy: 99.96%\n",
            "Total Pit Accuracy: 19.08%\n",
            "Total Pit Predictions: 25533\n",
            "[Iteration 3500] Loss: 25.57\n",
            "Overall Accuracy: 39.77%\n",
            "Total No Pit Accuracy: 99.97%\n",
            "Total Pit Accuracy: 19.18%\n",
            "Total Pit Predictions: 25398\n",
            "[Iteration 4000] Loss: 12.22\n",
            "Overall Accuracy: 40.09%\n",
            "Total No Pit Accuracy: 99.97%\n",
            "Total Pit Accuracy: 19.26%\n",
            "Total Pit Predictions: 25291\n",
            "[Iteration 4500] Loss: 9.49\n",
            "Overall Accuracy: 40.45%\n",
            "Total No Pit Accuracy: 99.97%\n",
            "Total Pit Accuracy: 19.36%\n",
            "Total Pit Predictions: 25167\n",
            "[Iteration 5000] Loss: 39.74\n",
            "Overall Accuracy: 40.89%\n",
            "Total No Pit Accuracy: 99.92%\n",
            "Total Pit Accuracy: 19.42%\n",
            "Total Pit Predictions: 24994\n",
            "[Iteration 5500] Loss: 16.90\n",
            "Overall Accuracy: 41.48%\n",
            "Total No Pit Accuracy: 99.77%\n",
            "Total Pit Accuracy: 19.36%\n",
            "Total Pit Predictions: 24711\n",
            "[Iteration 6000] Loss: 37.58\n",
            "Overall Accuracy: 42.68%\n",
            "Total No Pit Accuracy: 99.59%\n",
            "Total Pit Accuracy: 19.42%\n",
            "Total Pit Predictions: 24196\n",
            "[Iteration 6500] Loss: 24.56\n",
            "Overall Accuracy: 44.07%\n",
            "Total No Pit Accuracy: 99.49%\n",
            "Total Pit Accuracy: 19.64%\n",
            "Total Pit Predictions: 23658\n",
            "[Iteration 7000] Loss: 17.96\n",
            "Overall Accuracy: 45.51%\n",
            "Total No Pit Accuracy: 99.43%\n",
            "Total Pit Accuracy: 19.91%\n",
            "Total Pit Predictions: 23115\n",
            "[Iteration 7500] Loss: 9.71\n",
            "Overall Accuracy: 46.87%\n",
            "Total No Pit Accuracy: 99.36%\n",
            "Total Pit Accuracy: 20.18%\n",
            "Total Pit Predictions: 22596\n",
            "[Iteration 8000] Loss: 15.20\n",
            "Overall Accuracy: 47.93%\n",
            "Total No Pit Accuracy: 99.19%\n",
            "Total Pit Accuracy: 20.29%\n",
            "Total Pit Predictions: 22146\n",
            "[Iteration 8500] Loss: 9.45\n",
            "Overall Accuracy: 49.35%\n",
            "Total No Pit Accuracy: 99.05%\n",
            "Total Pit Accuracy: 20.39%\n",
            "Total Pit Predictions: 21537\n",
            "[Iteration 9000] Loss: 7.88\n",
            "Overall Accuracy: 50.14%\n",
            "Total No Pit Accuracy: 98.98%\n",
            "Total Pit Accuracy: 20.47%\n",
            "Total Pit Predictions: 21204\n",
            "[Iteration 9500] Loss: 18.90\n",
            "Overall Accuracy: 50.79%\n",
            "Total No Pit Accuracy: 98.97%\n",
            "Total Pit Accuracy: 20.56%\n",
            "Total Pit Predictions: 20945\n",
            "[Iteration 10000] Loss: 16.12\n",
            "Overall Accuracy: 51.39%\n",
            "Total No Pit Accuracy: 98.93%\n",
            "Total Pit Accuracy: 20.65%\n",
            "Total Pit Predictions: 20703\n"
          ]
        },
        {
          "output_type": "display_data",
          "data": {
            "text/plain": [
              "<IPython.core.display.HTML object>"
            ],
            "text/html": []
          },
          "metadata": {}
        },
        {
          "output_type": "display_data",
          "data": {
            "text/plain": [
              "<IPython.core.display.HTML object>"
            ],
            "text/html": [
              "<br>    <style><br>        .wandb-row {<br>            display: flex;<br>            flex-direction: row;<br>            flex-wrap: wrap;<br>            justify-content: flex-start;<br>            width: 100%;<br>        }<br>        .wandb-col {<br>            display: flex;<br>            flex-direction: column;<br>            flex-basis: 100%;<br>            flex: 1;<br>            padding: 10px;<br>        }<br>    </style><br><div class=\"wandb-row\"><div class=\"wandb-col\"><h3>Run history:</h3><br/><table class=\"wandb\"><tr><td>loss</td><td>▄▃▅▂▄▁▂▄▃▂▄▄▂▄▄▄▄▃▄█▃▂▃▄▃▂▂▂▃▂▄▂▃▂▁▃▂▃▄▂</td></tr><tr><td>overall_accuracy</td><td>▁▅▅▅▆▆▆▆▆▆▆▆▆▇▇▇▇████</td></tr><tr><td>total no pit accuracy (exact match)</td><td>▁████████████████████</td></tr><tr><td>total pit accuracy (3 laps either side)</td><td>▁▅▅▆▆▆▆▆▆▇▇▇▇▇▇▇█████</td></tr><tr><td>total pit predictions</td><td>█▅▄▄▄▄▄▃▃▃▃▃▃▃▂▂▂▁▁▁▁</td></tr></table><br/></div><div class=\"wandb-col\"><h3>Run summary:</h3><br/><table class=\"wandb\"><tr><td>loss</td><td>16.1189</td></tr><tr><td>overall_accuracy</td><td>51.38767</td></tr><tr><td>total no pit accuracy (exact match)</td><td>98.93148</td></tr><tr><td>total pit accuracy (3 laps either side)</td><td>20.65401</td></tr><tr><td>total pit predictions</td><td>20703</td></tr></table><br/></div></div>"
            ]
          },
          "metadata": {}
        },
        {
          "output_type": "display_data",
          "data": {
            "text/plain": [
              "<IPython.core.display.HTML object>"
            ],
            "text/html": [
              " View run <strong style=\"color:#cdcd00\">fresh-sweep-8</strong> at: <a href='https://wandb.ai/vm800-university-of-york/binary_classifier_emd_lstm/runs/ctw99vw8' target=\"_blank\">https://wandb.ai/vm800-university-of-york/binary_classifier_emd_lstm/runs/ctw99vw8</a><br> View project at: <a href='https://wandb.ai/vm800-university-of-york/binary_classifier_emd_lstm' target=\"_blank\">https://wandb.ai/vm800-university-of-york/binary_classifier_emd_lstm</a><br>Synced 5 W&B file(s), 0 media file(s), 0 artifact file(s) and 1 other file(s)"
            ]
          },
          "metadata": {}
        },
        {
          "output_type": "display_data",
          "data": {
            "text/plain": [
              "<IPython.core.display.HTML object>"
            ],
            "text/html": [
              "Find logs at: <code>./wandb/run-20241230_170540-ctw99vw8/logs</code>"
            ]
          },
          "metadata": {}
        },
        {
          "output_type": "stream",
          "name": "stderr",
          "text": [
            "\u001b[34m\u001b[1mwandb\u001b[0m: Agent Starting Run: mvglk9jb with config:\n",
            "\u001b[34m\u001b[1mwandb\u001b[0m: \tdropout: 0.16363414040309956\n",
            "\u001b[34m\u001b[1mwandb\u001b[0m: \thidden_size: 48\n",
            "\u001b[34m\u001b[1mwandb\u001b[0m: \tlearning_rate: 0.008529683144120913\n",
            "\u001b[34m\u001b[1mwandb\u001b[0m: \toptimizer: adagrad\n",
            "\u001b[34m\u001b[1mwandb\u001b[0m: \u001b[33mWARNING\u001b[0m Ignoring project 'binary_classifier_emd_lstm' when running a sweep.\n"
          ]
        },
        {
          "output_type": "display_data",
          "data": {
            "text/plain": [
              "<IPython.core.display.HTML object>"
            ],
            "text/html": [
              "Tracking run with wandb version 0.19.1"
            ]
          },
          "metadata": {}
        },
        {
          "output_type": "display_data",
          "data": {
            "text/plain": [
              "<IPython.core.display.HTML object>"
            ],
            "text/html": [
              "Run data is saved locally in <code>/content/wandb/run-20241230_170651-mvglk9jb</code>"
            ]
          },
          "metadata": {}
        },
        {
          "output_type": "display_data",
          "data": {
            "text/plain": [
              "<IPython.core.display.HTML object>"
            ],
            "text/html": [
              "Syncing run <strong><a href='https://wandb.ai/vm800-university-of-york/binary_classifier_emd_lstm/runs/mvglk9jb' target=\"_blank\">swift-sweep-9</a></strong> to <a href='https://wandb.ai/vm800-university-of-york/binary_classifier_emd_lstm' target=\"_blank\">Weights & Biases</a> (<a href='https://wandb.me/developer-guide' target=\"_blank\">docs</a>)<br>Sweep page: <a href='https://wandb.ai/vm800-university-of-york/binary_classifier_emd_lstm/sweeps/v7ifde9r' target=\"_blank\">https://wandb.ai/vm800-university-of-york/binary_classifier_emd_lstm/sweeps/v7ifde9r</a>"
            ]
          },
          "metadata": {}
        },
        {
          "output_type": "display_data",
          "data": {
            "text/plain": [
              "<IPython.core.display.HTML object>"
            ],
            "text/html": [
              " View project at <a href='https://wandb.ai/vm800-university-of-york/binary_classifier_emd_lstm' target=\"_blank\">https://wandb.ai/vm800-university-of-york/binary_classifier_emd_lstm</a>"
            ]
          },
          "metadata": {}
        },
        {
          "output_type": "display_data",
          "data": {
            "text/plain": [
              "<IPython.core.display.HTML object>"
            ],
            "text/html": [
              " View sweep at <a href='https://wandb.ai/vm800-university-of-york/binary_classifier_emd_lstm/sweeps/v7ifde9r' target=\"_blank\">https://wandb.ai/vm800-university-of-york/binary_classifier_emd_lstm/sweeps/v7ifde9r</a>"
            ]
          },
          "metadata": {}
        },
        {
          "output_type": "display_data",
          "data": {
            "text/plain": [
              "<IPython.core.display.HTML object>"
            ],
            "text/html": [
              " View run at <a href='https://wandb.ai/vm800-university-of-york/binary_classifier_emd_lstm/runs/mvglk9jb' target=\"_blank\">https://wandb.ai/vm800-university-of-york/binary_classifier_emd_lstm/runs/mvglk9jb</a>"
            ]
          },
          "metadata": {}
        },
        {
          "output_type": "stream",
          "name": "stdout",
          "text": [
            "[Iteration 0] Loss: 7.67\n",
            "Overall Accuracy: 14.47%\n",
            "Total No Pit Accuracy: 100.00%\n",
            "Total Pit Accuracy: 14.30%\n",
            "Total Pit Predictions: 34019\n",
            "[Iteration 500] Loss: 17.37\n",
            "Overall Accuracy: 38.19%\n",
            "Total No Pit Accuracy: 100.00%\n",
            "Total Pit Accuracy: 18.80%\n",
            "Total Pit Predictions: 25944\n",
            "[Iteration 1000] Loss: 15.78\n",
            "Overall Accuracy: 39.15%\n",
            "Total No Pit Accuracy: 99.96%\n",
            "Total Pit Accuracy: 19.02%\n",
            "Total Pit Predictions: 25611\n",
            "[Iteration 1500] Loss: 14.11\n",
            "Overall Accuracy: 39.59%\n",
            "Total No Pit Accuracy: 99.94%\n",
            "Total Pit Accuracy: 19.13%\n",
            "Total Pit Predictions: 25457\n",
            "[Iteration 2000] Loss: 11.44\n",
            "Overall Accuracy: 40.05%\n",
            "Total No Pit Accuracy: 99.92%\n",
            "Total Pit Accuracy: 19.21%\n",
            "Total Pit Predictions: 25285\n",
            "[Iteration 2500] Loss: 12.74\n",
            "Overall Accuracy: 40.83%\n",
            "Total No Pit Accuracy: 99.80%\n",
            "Total Pit Accuracy: 19.32%\n",
            "Total Pit Predictions: 24973\n",
            "[Iteration 3000] Loss: 38.89\n",
            "Overall Accuracy: 41.45%\n",
            "Total No Pit Accuracy: 99.81%\n",
            "Total Pit Accuracy: 19.47%\n",
            "Total Pit Predictions: 24762\n",
            "[Iteration 3500] Loss: 8.21\n",
            "Overall Accuracy: 41.88%\n",
            "Total No Pit Accuracy: 99.74%\n",
            "Total Pit Accuracy: 19.47%\n",
            "Total Pit Predictions: 24568\n",
            "[Iteration 4000] Loss: 19.86\n",
            "Overall Accuracy: 44.31%\n",
            "Total No Pit Accuracy: 99.36%\n",
            "Total Pit Accuracy: 19.72%\n",
            "Total Pit Predictions: 23562\n",
            "[Iteration 4500] Loss: 42.41\n",
            "Overall Accuracy: 46.08%\n",
            "Total No Pit Accuracy: 99.22%\n",
            "Total Pit Accuracy: 20.04%\n",
            "Total Pit Predictions: 22876\n",
            "[Iteration 5000] Loss: 16.64\n",
            "Overall Accuracy: 47.20%\n",
            "Total No Pit Accuracy: 99.11%\n",
            "Total Pit Accuracy: 20.21%\n",
            "Total Pit Predictions: 22426\n",
            "[Iteration 5500] Loss: 17.26\n",
            "Overall Accuracy: 48.28%\n",
            "Total No Pit Accuracy: 99.02%\n",
            "Total Pit Accuracy: 20.40%\n",
            "Total Pit Predictions: 21998\n",
            "[Iteration 6000] Loss: 19.22\n",
            "Overall Accuracy: 49.09%\n",
            "Total No Pit Accuracy: 98.93%\n",
            "Total Pit Accuracy: 20.49%\n",
            "Total Pit Predictions: 21659\n",
            "[Iteration 6500] Loss: 17.53\n",
            "Overall Accuracy: 49.93%\n",
            "Total No Pit Accuracy: 98.86%\n",
            "Total Pit Accuracy: 20.60%\n",
            "Total Pit Predictions: 21310\n",
            "[Iteration 7000] Loss: 27.19\n",
            "Overall Accuracy: 50.74%\n",
            "Total No Pit Accuracy: 98.79%\n",
            "Total Pit Accuracy: 20.71%\n",
            "Total Pit Predictions: 20978\n",
            "[Iteration 7500] Loss: 6.58\n",
            "Overall Accuracy: 52.07%\n",
            "Total No Pit Accuracy: 98.60%\n",
            "Total Pit Accuracy: 20.93%\n",
            "Total Pit Predictions: 20418\n",
            "[Iteration 8000] Loss: 9.92\n",
            "Overall Accuracy: 52.20%\n",
            "Total No Pit Accuracy: 98.58%\n",
            "Total Pit Accuracy: 20.93%\n",
            "Total Pit Predictions: 20359\n",
            "[Iteration 8500] Loss: 17.06\n",
            "Overall Accuracy: 53.01%\n",
            "Total No Pit Accuracy: 98.55%\n",
            "Total Pit Accuracy: 21.03%\n",
            "Total Pit Predictions: 20026\n",
            "[Iteration 9000] Loss: 8.17\n",
            "Overall Accuracy: 53.25%\n",
            "Total No Pit Accuracy: 98.54%\n",
            "Total Pit Accuracy: 21.07%\n",
            "Total Pit Predictions: 19929\n",
            "[Iteration 9500] Loss: 16.55\n",
            "Overall Accuracy: 53.95%\n",
            "Total No Pit Accuracy: 98.47%\n",
            "Total Pit Accuracy: 21.14%\n",
            "Total Pit Predictions: 19621\n",
            "[Iteration 10000] Loss: 8.56\n",
            "Overall Accuracy: 54.17%\n",
            "Total No Pit Accuracy: 98.43%\n",
            "Total Pit Accuracy: 21.12%\n",
            "Total Pit Predictions: 19516\n"
          ]
        },
        {
          "output_type": "display_data",
          "data": {
            "text/plain": [
              "<IPython.core.display.HTML object>"
            ],
            "text/html": []
          },
          "metadata": {}
        },
        {
          "output_type": "display_data",
          "data": {
            "text/plain": [
              "<IPython.core.display.HTML object>"
            ],
            "text/html": [
              "<br>    <style><br>        .wandb-row {<br>            display: flex;<br>            flex-direction: row;<br>            flex-wrap: wrap;<br>            justify-content: flex-start;<br>            width: 100%;<br>        }<br>        .wandb-col {<br>            display: flex;<br>            flex-direction: column;<br>            flex-basis: 100%;<br>            flex: 1;<br>            padding: 10px;<br>        }<br>    </style><br><div class=\"wandb-row\"><div class=\"wandb-col\"><h3>Run history:</h3><br/><table class=\"wandb\"><tr><td>loss</td><td>▆▂█▂▄█▇▄▅▃▂▂▂▂█▁▁▃▂▂▅▅▄▆▄▂▄▅▃▆▂▂▃▃▄▂▄▄▂▄</td></tr><tr><td>overall_accuracy</td><td>▁▅▅▅▆▆▆▆▆▇▇▇▇▇▇██████</td></tr><tr><td>total no pit accuracy (exact match)</td><td>█████▇▇▇▅▅▄▄▃▃▃▂▂▂▁▁▁</td></tr><tr><td>total pit accuracy (3 laps either side)</td><td>▁▆▆▆▆▆▆▆▇▇▇▇▇▇███████</td></tr><tr><td>total pit predictions</td><td>█▄▄▄▄▄▄▃▃▃▂▂▂▂▂▁▁▁▁▁▁</td></tr></table><br/></div><div class=\"wandb-col\"><h3>Run summary:</h3><br/><table class=\"wandb\"><tr><td>loss</td><td>8.5582</td></tr><tr><td>overall_accuracy</td><td>54.16593</td></tr><tr><td>total no pit accuracy (exact match)</td><td>98.42828</td></tr><tr><td>total pit accuracy (3 laps either side)</td><td>21.12113</td></tr><tr><td>total pit predictions</td><td>19516</td></tr></table><br/></div></div>"
            ]
          },
          "metadata": {}
        },
        {
          "output_type": "display_data",
          "data": {
            "text/plain": [
              "<IPython.core.display.HTML object>"
            ],
            "text/html": [
              " View run <strong style=\"color:#cdcd00\">swift-sweep-9</strong> at: <a href='https://wandb.ai/vm800-university-of-york/binary_classifier_emd_lstm/runs/mvglk9jb' target=\"_blank\">https://wandb.ai/vm800-university-of-york/binary_classifier_emd_lstm/runs/mvglk9jb</a><br> View project at: <a href='https://wandb.ai/vm800-university-of-york/binary_classifier_emd_lstm' target=\"_blank\">https://wandb.ai/vm800-university-of-york/binary_classifier_emd_lstm</a><br>Synced 5 W&B file(s), 0 media file(s), 0 artifact file(s) and 1 other file(s)"
            ]
          },
          "metadata": {}
        },
        {
          "output_type": "display_data",
          "data": {
            "text/plain": [
              "<IPython.core.display.HTML object>"
            ],
            "text/html": [
              "Find logs at: <code>./wandb/run-20241230_170651-mvglk9jb/logs</code>"
            ]
          },
          "metadata": {}
        },
        {
          "output_type": "stream",
          "name": "stderr",
          "text": [
            "\u001b[34m\u001b[1mwandb\u001b[0m: Agent Starting Run: cmk1ig6l with config:\n",
            "\u001b[34m\u001b[1mwandb\u001b[0m: \tdropout: 0.4238988791538242\n",
            "\u001b[34m\u001b[1mwandb\u001b[0m: \thidden_size: 13\n",
            "\u001b[34m\u001b[1mwandb\u001b[0m: \tlearning_rate: 0.0017505169497908145\n",
            "\u001b[34m\u001b[1mwandb\u001b[0m: \toptimizer: rmsprop\n",
            "\u001b[34m\u001b[1mwandb\u001b[0m: \u001b[33mWARNING\u001b[0m Ignoring project 'binary_classifier_emd_lstm' when running a sweep.\n"
          ]
        },
        {
          "output_type": "display_data",
          "data": {
            "text/plain": [
              "<IPython.core.display.HTML object>"
            ],
            "text/html": [
              "Tracking run with wandb version 0.19.1"
            ]
          },
          "metadata": {}
        },
        {
          "output_type": "display_data",
          "data": {
            "text/plain": [
              "<IPython.core.display.HTML object>"
            ],
            "text/html": [
              "Run data is saved locally in <code>/content/wandb/run-20241230_170802-cmk1ig6l</code>"
            ]
          },
          "metadata": {}
        },
        {
          "output_type": "display_data",
          "data": {
            "text/plain": [
              "<IPython.core.display.HTML object>"
            ],
            "text/html": [
              "Syncing run <strong><a href='https://wandb.ai/vm800-university-of-york/binary_classifier_emd_lstm/runs/cmk1ig6l' target=\"_blank\">graceful-sweep-10</a></strong> to <a href='https://wandb.ai/vm800-university-of-york/binary_classifier_emd_lstm' target=\"_blank\">Weights & Biases</a> (<a href='https://wandb.me/developer-guide' target=\"_blank\">docs</a>)<br>Sweep page: <a href='https://wandb.ai/vm800-university-of-york/binary_classifier_emd_lstm/sweeps/v7ifde9r' target=\"_blank\">https://wandb.ai/vm800-university-of-york/binary_classifier_emd_lstm/sweeps/v7ifde9r</a>"
            ]
          },
          "metadata": {}
        },
        {
          "output_type": "display_data",
          "data": {
            "text/plain": [
              "<IPython.core.display.HTML object>"
            ],
            "text/html": [
              " View project at <a href='https://wandb.ai/vm800-university-of-york/binary_classifier_emd_lstm' target=\"_blank\">https://wandb.ai/vm800-university-of-york/binary_classifier_emd_lstm</a>"
            ]
          },
          "metadata": {}
        },
        {
          "output_type": "display_data",
          "data": {
            "text/plain": [
              "<IPython.core.display.HTML object>"
            ],
            "text/html": [
              " View sweep at <a href='https://wandb.ai/vm800-university-of-york/binary_classifier_emd_lstm/sweeps/v7ifde9r' target=\"_blank\">https://wandb.ai/vm800-university-of-york/binary_classifier_emd_lstm/sweeps/v7ifde9r</a>"
            ]
          },
          "metadata": {}
        },
        {
          "output_type": "display_data",
          "data": {
            "text/plain": [
              "<IPython.core.display.HTML object>"
            ],
            "text/html": [
              " View run at <a href='https://wandb.ai/vm800-university-of-york/binary_classifier_emd_lstm/runs/cmk1ig6l' target=\"_blank\">https://wandb.ai/vm800-university-of-york/binary_classifier_emd_lstm/runs/cmk1ig6l</a>"
            ]
          },
          "metadata": {}
        },
        {
          "output_type": "stream",
          "name": "stdout",
          "text": [
            "[Iteration 0] Loss: 18.92\n",
            "Overall Accuracy: 64.93%\n",
            "Total No Pit Accuracy: 96.47%\n",
            "Total Pit Accuracy: 12.90%\n",
            "Total Pit Predictions: 12862\n",
            "[Iteration 500] Loss: 10.17\n",
            "Overall Accuracy: 51.83%\n",
            "Total No Pit Accuracy: 98.37%\n",
            "Total Pit Accuracy: 20.24%\n",
            "Total Pit Predictions: 20302\n",
            "[Iteration 1000] Loss: 7.85\n",
            "Overall Accuracy: 48.32%\n",
            "Total No Pit Accuracy: 98.82%\n",
            "Total Pit Accuracy: 20.15%\n",
            "Total Pit Predictions: 21879\n",
            "[Iteration 1500] Loss: 5.80\n",
            "Overall Accuracy: 47.30%\n",
            "Total No Pit Accuracy: 99.07%\n",
            "Total Pit Accuracy: 20.17%\n",
            "Total Pit Predictions: 22367\n",
            "[Iteration 2000] Loss: 17.50\n",
            "Overall Accuracy: 48.07%\n",
            "Total No Pit Accuracy: 99.10%\n",
            "Total Pit Accuracy: 20.40%\n",
            "Total Pit Predictions: 22101\n",
            "[Iteration 2500] Loss: 7.14\n",
            "Overall Accuracy: 48.68%\n",
            "Total No Pit Accuracy: 99.07%\n",
            "Total Pit Accuracy: 20.53%\n",
            "Total Pit Predictions: 21868\n",
            "[Iteration 3000] Loss: 10.37\n",
            "Overall Accuracy: 49.50%\n",
            "Total No Pit Accuracy: 98.97%\n",
            "Total Pit Accuracy: 20.65%\n",
            "Total Pit Predictions: 21529\n",
            "[Iteration 3500] Loss: 6.02\n",
            "Overall Accuracy: 50.53%\n",
            "Total No Pit Accuracy: 98.85%\n",
            "Total Pit Accuracy: 20.78%\n",
            "Total Pit Predictions: 21096\n",
            "[Iteration 4000] Loss: 19.56\n",
            "Overall Accuracy: 51.42%\n",
            "Total No Pit Accuracy: 98.74%\n",
            "Total Pit Accuracy: 20.84%\n",
            "Total Pit Predictions: 20705\n",
            "[Iteration 4500] Loss: 17.46\n",
            "Overall Accuracy: 52.59%\n",
            "Total No Pit Accuracy: 98.70%\n",
            "Total Pit Accuracy: 20.95%\n",
            "Total Pit Predictions: 20213\n",
            "[Iteration 5000] Loss: 9.46\n",
            "Overall Accuracy: 53.62%\n",
            "Total No Pit Accuracy: 98.66%\n",
            "Total Pit Accuracy: 21.12%\n",
            "Total Pit Predictions: 19801\n",
            "[Iteration 5500] Loss: 39.58\n",
            "Overall Accuracy: 54.73%\n",
            "Total No Pit Accuracy: 98.54%\n",
            "Total Pit Accuracy: 21.25%\n",
            "Total Pit Predictions: 19320\n",
            "[Iteration 6000] Loss: 9.45\n",
            "Overall Accuracy: 55.65%\n",
            "Total No Pit Accuracy: 98.50%\n",
            "Total Pit Accuracy: 21.36%\n",
            "Total Pit Predictions: 18934\n",
            "[Iteration 6500] Loss: 11.10\n",
            "Overall Accuracy: 56.84%\n",
            "Total No Pit Accuracy: 98.44%\n",
            "Total Pit Accuracy: 21.46%\n",
            "Total Pit Predictions: 18420\n",
            "[Iteration 7000] Loss: 14.21\n",
            "Overall Accuracy: 57.99%\n",
            "Total No Pit Accuracy: 98.30%\n",
            "Total Pit Accuracy: 21.50%\n",
            "Total Pit Predictions: 17890\n",
            "[Iteration 7500] Loss: 7.23\n",
            "Overall Accuracy: 58.58%\n",
            "Total No Pit Accuracy: 98.23%\n",
            "Total Pit Accuracy: 21.49%\n",
            "Total Pit Predictions: 17610\n",
            "[Iteration 8000] Loss: 16.31\n",
            "Overall Accuracy: 59.75%\n",
            "Total No Pit Accuracy: 98.23%\n",
            "Total Pit Accuracy: 21.64%\n",
            "Total Pit Predictions: 17128\n",
            "[Iteration 8500] Loss: 15.83\n",
            "Overall Accuracy: 60.24%\n",
            "Total No Pit Accuracy: 98.21%\n",
            "Total Pit Accuracy: 21.61%\n",
            "Total Pit Predictions: 16897\n",
            "[Iteration 9000] Loss: 10.87\n",
            "Overall Accuracy: 61.25%\n",
            "Total No Pit Accuracy: 98.21%\n",
            "Total Pit Accuracy: 21.74%\n",
            "Total Pit Predictions: 16475\n",
            "[Iteration 9500] Loss: 16.09\n",
            "Overall Accuracy: 61.58%\n",
            "Total No Pit Accuracy: 98.14%\n",
            "Total Pit Accuracy: 21.67%\n",
            "Total Pit Predictions: 16300\n",
            "[Iteration 10000] Loss: 15.15\n",
            "Overall Accuracy: 62.27%\n",
            "Total No Pit Accuracy: 98.11%\n",
            "Total Pit Accuracy: 21.74%\n",
            "Total Pit Predictions: 15997\n"
          ]
        },
        {
          "output_type": "display_data",
          "data": {
            "text/plain": [
              "<IPython.core.display.HTML object>"
            ],
            "text/html": []
          },
          "metadata": {}
        },
        {
          "output_type": "display_data",
          "data": {
            "text/plain": [
              "<IPython.core.display.HTML object>"
            ],
            "text/html": [
              "<br>    <style><br>        .wandb-row {<br>            display: flex;<br>            flex-direction: row;<br>            flex-wrap: wrap;<br>            justify-content: flex-start;<br>            width: 100%;<br>        }<br>        .wandb-col {<br>            display: flex;<br>            flex-direction: column;<br>            flex-basis: 100%;<br>            flex: 1;<br>            padding: 10px;<br>        }<br>    </style><br><div class=\"wandb-row\"><div class=\"wandb-col\"><h3>Run history:</h3><br/><table class=\"wandb\"><tr><td>loss</td><td>▃▄▂▃▁▁▄▂▁▂▂▇▂▂▁▇▂▂▂██▂▂▂▂▂▂▁▂▁▂▃▃▁▃▃▂▃▂▂</td></tr><tr><td>overall_accuracy</td><td>█▃▁▁▁▂▂▂▃▃▄▄▄▅▅▅▆▆▇▇▇</td></tr><tr><td>total no pit accuracy (exact match)</td><td>▁▆▇████▇▇▇▇▇▆▆▆▆▆▆▆▅▅</td></tr><tr><td>total pit accuracy (3 laps either side)</td><td>▁▇▇▇▇▇▇▇▇▇███████████</td></tr><tr><td>total pit predictions</td><td>▁▆████▇▇▇▆▆▆▅▅▅▄▄▄▄▄▃</td></tr></table><br/></div><div class=\"wandb-col\"><h3>Run summary:</h3><br/><table class=\"wandb\"><tr><td>loss</td><td>15.15219</td></tr><tr><td>overall_accuracy</td><td>62.26603</td></tr><tr><td>total no pit accuracy (exact match)</td><td>98.10935</td></tr><tr><td>total pit accuracy (3 laps either side)</td><td>21.73533</td></tr><tr><td>total pit predictions</td><td>15997</td></tr></table><br/></div></div>"
            ]
          },
          "metadata": {}
        },
        {
          "output_type": "display_data",
          "data": {
            "text/plain": [
              "<IPython.core.display.HTML object>"
            ],
            "text/html": [
              " View run <strong style=\"color:#cdcd00\">graceful-sweep-10</strong> at: <a href='https://wandb.ai/vm800-university-of-york/binary_classifier_emd_lstm/runs/cmk1ig6l' target=\"_blank\">https://wandb.ai/vm800-university-of-york/binary_classifier_emd_lstm/runs/cmk1ig6l</a><br> View project at: <a href='https://wandb.ai/vm800-university-of-york/binary_classifier_emd_lstm' target=\"_blank\">https://wandb.ai/vm800-university-of-york/binary_classifier_emd_lstm</a><br>Synced 5 W&B file(s), 0 media file(s), 0 artifact file(s) and 1 other file(s)"
            ]
          },
          "metadata": {}
        },
        {
          "output_type": "display_data",
          "data": {
            "text/plain": [
              "<IPython.core.display.HTML object>"
            ],
            "text/html": [
              "Find logs at: <code>./wandb/run-20241230_170802-cmk1ig6l/logs</code>"
            ]
          },
          "metadata": {}
        }
      ]
    },
    {
      "cell_type": "code",
      "source": [],
      "metadata": {
        "id": "Dz9LZjAef5tg"
      },
      "execution_count": null,
      "outputs": []
    }
  ]
}