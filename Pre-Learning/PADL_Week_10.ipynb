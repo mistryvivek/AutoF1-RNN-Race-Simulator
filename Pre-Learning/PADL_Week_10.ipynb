{
  "nbformat": 4,
  "nbformat_minor": 0,
  "metadata": {
    "colab": {
      "provenance": [],
      "gpuType": "T4",
      "include_colab_link": true
    },
    "kernelspec": {
      "name": "python3",
      "display_name": "Python 3"
    },
    "language_info": {
      "name": "python"
    },
    "accelerator": "GPU"
  },
  "cells": [
    {
      "cell_type": "markdown",
      "metadata": {
        "id": "view-in-github",
        "colab_type": "text"
      },
      "source": [
        "<a href=\"https://colab.research.google.com/github/mistryvivek/YRKCS-PRBX/blob/main/PADL_Week_10.ipynb\" target=\"_parent\"><img src=\"https://colab.research.google.com/assets/colab-badge.svg\" alt=\"Open In Colab\"/></a>"
      ]
    },
    {
      "cell_type": "markdown",
      "metadata": {
        "id": "9_DvC9pNqRLl"
      },
      "source": [
        "#PADL Practical Week 10: Deep generative models\n",
        "\n",
        "There's a lot in this week's practical. You don't necessarily need to do it all. Everyone should try exercise 2 as it is essential for the assessment. Masters students should also try exercise 4. Exercise 1 is useful for helping your understanding and the result is somewhat intriguing. Exercise 3 is fun as you get to create photorealistic images from prompts."
      ]
    },
    {
      "cell_type": "markdown",
      "source": [
        "##1. Adversarial perturbations\n",
        "\n",
        "You will start by creating an \"adversarial perturbation\" of an image in order to break a classifier. This means you will find a small offset that can be added to an image to change the class assigned to it by a classifier. We will do this using a pretrained LeNet for MNIST digit classification. You will need to look at the third video lecture for this week (or at least the slides). First, let's set up the network and load the pretrained weights. The code below will download the `LeNet_weights.pkl` file and then load it into the model."
      ],
      "metadata": {
        "id": "5W-_dD-MicgZ"
      }
    },
    {
      "cell_type": "code",
      "source": [
        "import torch\n",
        "import torch.nn as nn\n",
        "import torch.optim as optim\n",
        "from torchvision import datasets\n",
        "import torchvision.transforms as transforms\n",
        "import numpy as np\n",
        "import matplotlib.pyplot as plt\n",
        "\n",
        "device = torch.device(\"cuda\" if torch.cuda.is_available() else \"cpu\")"
      ],
      "metadata": {
        "id": "Ladhs7M7lzCT"
      },
      "execution_count": 1,
      "outputs": []
    },
    {
      "cell_type": "code",
      "source": [
        "!wget https://www-users.york.ac.uk/~waps101/PADL/LeNet_weights.pkl"
      ],
      "metadata": {
        "id": "kQU9M95yIuI3",
        "colab": {
          "base_uri": "https://localhost:8080/"
        },
        "outputId": "30933cba-d61e-4f5b-944e-8bc55ebf6a35"
      },
      "execution_count": 2,
      "outputs": [
        {
          "output_type": "stream",
          "name": "stdout",
          "text": [
            "--2024-11-07 09:33:02--  https://www-users.york.ac.uk/~waps101/PADL/LeNet_weights.pkl\n",
            "Resolving www-users.york.ac.uk (www-users.york.ac.uk)... 144.32.129.58, 2001:630:61:180::1:13a\n",
            "Connecting to www-users.york.ac.uk (www-users.york.ac.uk)|144.32.129.58|:443... connected.\n",
            "HTTP request sent, awaiting response... 200 OK\n",
            "Length: 250572 (245K)\n",
            "Saving to: ‘LeNet_weights.pkl’\n",
            "\n",
            "LeNet_weights.pkl   100%[===================>] 244.70K   262KB/s    in 0.9s    \n",
            "\n",
            "2024-11-07 09:33:04 (262 KB/s) - ‘LeNet_weights.pkl’ saved [250572/250572]\n",
            "\n"
          ]
        }
      ]
    },
    {
      "cell_type": "code",
      "source": [
        "class LeNet(nn.Module):\n",
        "    def __init__(self):\n",
        "        super(LeNet, self).__init__()\n",
        "        self.net = nn.Sequential(\n",
        "            nn.Conv2d(in_channels=1, out_channels=6, kernel_size=5, stride=1, padding=2),\n",
        "            nn.Tanh(),\n",
        "            nn.AvgPool2d(kernel_size=2, stride=2),\n",
        "            nn.Conv2d(in_channels=6, out_channels=16, kernel_size=5, stride=1, padding=0),\n",
        "            nn.Tanh(),\n",
        "            nn.AvgPool2d(kernel_size=2, stride=2),\n",
        "            nn.Flatten(),\n",
        "            nn.Linear(in_features=5*5*16,out_features=120),\n",
        "            nn.Tanh(),\n",
        "            nn.Linear(in_features=120,out_features=84),\n",
        "            nn.Tanh(),\n",
        "            nn.Linear(in_features=84,out_features=10)\n",
        "        )\n",
        "\n",
        "    def forward(self, x):\n",
        "        x = self.net(x)\n",
        "        return x\n",
        "\n",
        "model = LeNet()\n",
        "model.load_state_dict(torch.load('LeNet_weights.pkl',map_location=torch.device(device)))"
      ],
      "metadata": {
        "id": "XnGG-tcblF-U",
        "colab": {
          "base_uri": "https://localhost:8080/"
        },
        "outputId": "2c9d336d-860f-4201-edfb-333b3b1ac57c"
      },
      "execution_count": 3,
      "outputs": [
        {
          "output_type": "stream",
          "name": "stderr",
          "text": [
            "<ipython-input-3-d4dd1136e765>:24: FutureWarning: You are using `torch.load` with `weights_only=False` (the current default value), which uses the default pickle module implicitly. It is possible to construct malicious pickle data which will execute arbitrary code during unpickling (See https://github.com/pytorch/pytorch/blob/main/SECURITY.md#untrusted-models for more details). In a future release, the default value for `weights_only` will be flipped to `True`. This limits the functions that could be executed during unpickling. Arbitrary objects will no longer be allowed to be loaded via this mode unless they are explicitly allowlisted by the user via `torch.serialization.add_safe_globals`. We recommend you start setting `weights_only=True` for any use case where you don't have full control of the loaded file. Please open an issue on GitHub for any issues related to this experimental feature.\n",
            "  model.load_state_dict(torch.load('LeNet_weights.pkl',map_location=torch.device(device)))\n"
          ]
        },
        {
          "output_type": "execute_result",
          "data": {
            "text/plain": [
              "<All keys matched successfully>"
            ]
          },
          "metadata": {},
          "execution_count": 3
        }
      ]
    },
    {
      "cell_type": "markdown",
      "source": [
        "You now have a network that is good at classifying the MNIST digit dataset. Let's take the first test image, run it through the network and check its classification and how confident it is."
      ],
      "metadata": {
        "id": "qKaDK8OPvCt6"
      }
    },
    {
      "cell_type": "code",
      "source": [
        "test_data = datasets.MNIST(root = 'data', train = False, transform = transforms.ToTensor(), download=True)\n",
        "# Extract the first test image (correct class=7)\n",
        "image,label = test_data[0]\n",
        "# Make a batch of just this image\n",
        "images = image.unsqueeze(0)\n",
        "# Run image through pretrained network\n",
        "output = model(images)\n",
        "# Find highest probability class\n",
        "pred_y = torch.argmax(output, 1)\n",
        "# Convert logits to probabilities\n",
        "probs = nn.functional.softmax(output,dim=1)\n",
        "\n",
        "figure = plt.figure(figsize=(5,5))\n",
        "plt.title(\"Predicted class: {}, confidence: {:.4f}%\".format(pred_y[0],probs[0,pred_y[0]]*100))\n",
        "plt.axis(\"off\")\n",
        "plt.imshow(image[0,:], cmap=\"gray\")\n",
        "plt.show()"
      ],
      "metadata": {
        "id": "s3HeH0AdoE84",
        "colab": {
          "base_uri": "https://localhost:8080/",
          "height": 1000
        },
        "outputId": "256cc985-26de-4e78-e51e-d103afde782e"
      },
      "execution_count": 4,
      "outputs": [
        {
          "output_type": "stream",
          "name": "stdout",
          "text": [
            "Downloading http://yann.lecun.com/exdb/mnist/train-images-idx3-ubyte.gz\n",
            "Failed to download (trying next):\n",
            "<urlopen error [SSL: CERTIFICATE_VERIFY_FAILED] certificate verify failed: certificate has expired (_ssl.c:1007)>\n",
            "\n",
            "Downloading https://ossci-datasets.s3.amazonaws.com/mnist/train-images-idx3-ubyte.gz\n",
            "Downloading https://ossci-datasets.s3.amazonaws.com/mnist/train-images-idx3-ubyte.gz to data/MNIST/raw/train-images-idx3-ubyte.gz\n"
          ]
        },
        {
          "output_type": "stream",
          "name": "stderr",
          "text": [
            "100%|██████████| 9.91M/9.91M [00:00<00:00, 14.3MB/s]\n"
          ]
        },
        {
          "output_type": "stream",
          "name": "stdout",
          "text": [
            "Extracting data/MNIST/raw/train-images-idx3-ubyte.gz to data/MNIST/raw\n",
            "\n",
            "Downloading http://yann.lecun.com/exdb/mnist/train-labels-idx1-ubyte.gz\n",
            "Failed to download (trying next):\n",
            "<urlopen error [SSL: CERTIFICATE_VERIFY_FAILED] certificate verify failed: certificate has expired (_ssl.c:1007)>\n",
            "\n",
            "Downloading https://ossci-datasets.s3.amazonaws.com/mnist/train-labels-idx1-ubyte.gz\n",
            "Downloading https://ossci-datasets.s3.amazonaws.com/mnist/train-labels-idx1-ubyte.gz to data/MNIST/raw/train-labels-idx1-ubyte.gz\n"
          ]
        },
        {
          "output_type": "stream",
          "name": "stderr",
          "text": [
            "100%|██████████| 28.9k/28.9k [00:00<00:00, 484kB/s]\n"
          ]
        },
        {
          "output_type": "stream",
          "name": "stdout",
          "text": [
            "Extracting data/MNIST/raw/train-labels-idx1-ubyte.gz to data/MNIST/raw\n",
            "\n",
            "Downloading http://yann.lecun.com/exdb/mnist/t10k-images-idx3-ubyte.gz\n",
            "Failed to download (trying next):\n",
            "<urlopen error [SSL: CERTIFICATE_VERIFY_FAILED] certificate verify failed: certificate has expired (_ssl.c:1007)>\n",
            "\n",
            "Downloading https://ossci-datasets.s3.amazonaws.com/mnist/t10k-images-idx3-ubyte.gz\n",
            "Downloading https://ossci-datasets.s3.amazonaws.com/mnist/t10k-images-idx3-ubyte.gz to data/MNIST/raw/t10k-images-idx3-ubyte.gz\n"
          ]
        },
        {
          "output_type": "stream",
          "name": "stderr",
          "text": [
            "100%|██████████| 1.65M/1.65M [00:00<00:00, 4.38MB/s]\n"
          ]
        },
        {
          "output_type": "stream",
          "name": "stdout",
          "text": [
            "Extracting data/MNIST/raw/t10k-images-idx3-ubyte.gz to data/MNIST/raw\n",
            "\n",
            "Downloading http://yann.lecun.com/exdb/mnist/t10k-labels-idx1-ubyte.gz\n",
            "Failed to download (trying next):\n",
            "<urlopen error [SSL: CERTIFICATE_VERIFY_FAILED] certificate verify failed: certificate has expired (_ssl.c:1007)>\n",
            "\n",
            "Downloading https://ossci-datasets.s3.amazonaws.com/mnist/t10k-labels-idx1-ubyte.gz\n",
            "Downloading https://ossci-datasets.s3.amazonaws.com/mnist/t10k-labels-idx1-ubyte.gz to data/MNIST/raw/t10k-labels-idx1-ubyte.gz\n"
          ]
        },
        {
          "output_type": "stream",
          "name": "stderr",
          "text": [
            "100%|██████████| 4.54k/4.54k [00:00<00:00, 4.42MB/s]\n"
          ]
        },
        {
          "output_type": "stream",
          "name": "stdout",
          "text": [
            "Extracting data/MNIST/raw/t10k-labels-idx1-ubyte.gz to data/MNIST/raw\n",
            "\n"
          ]
        },
        {
          "output_type": "display_data",
          "data": {
            "text/plain": [
              "<Figure size 500x500 with 1 Axes>"
            ],
            "image/png": "[encoded data removed]"
          },
          "metadata": {}
        }
      ]
    },
    {
      "cell_type": "markdown",
      "source": [
        "It's very confident that this is a seven!\n",
        "\n",
        "**To do**: You now need to solve an optimisation problem to find the perturbation $\\mathbf{r}$ to the input image $\\mathbf{x}$ such that $\\mathbf{x}+\\mathbf{r}$ is classified as a zero instead of a seven. The loss that your optimisation will seek to minimise is a sum of two losses:\n",
        "\n",
        "1. Cross entropy loss with the incorrect label of `[0]`.\n",
        "2. A loss to keep the magnitude of the perturbation small (i.e. to change the image as little as possible). Using the sum of the squared value of all elements of $\\mathbf{r}$ works ok for this.\n",
        "\n",
        "The loss you will optimise should be the sum of these two losses with the second weighted by a parameter $c$. This parameter trades off how much it modifies the image against how much it can change the classification result. Start off with $c=1.0$.\n",
        "\n",
        "The only thing you are optimising is $\\mathbf{r}$. Look back at the week 1 practical if you can't remember how to use PyTorch to directly optimise a variable. Initialise $\\mathbf{r}$ as all zeros.\n",
        "\n",
        "During the optimisation, print out the value of the two losses. The magnitude of the perturbation will start off as zero so must increase in order to decrease the classification loss. You might need to play with the value of $c$ to get a desirable result. Also print out the current classification result so you can see when it switches its mind to class zero.\n",
        "\n",
        "Once you think you have a good result, visualise the perturbed image and also the perturbation on its own. You can also try different incorrect classes. Can you get it to change its mind with a less obvious perturbation for other classes?"
      ],
      "metadata": {
        "id": "yl_ouEa8vOTy"
      }
    },
    {
      "cell_type": "code",
      "source": [],
      "metadata": {
        "id": "Ym5Vyltm-mwV"
      },
      "execution_count": null,
      "outputs": []
    },
    {
      "cell_type": "markdown",
      "source": [
        "##2. GANs\n",
        "\n",
        "We're going to train a GAN using the same Fashion MNIST dataset as last week. We'll use the built-in dataloader this time. A few things to note:\n",
        "1. for a GAN, we only need a training set (a validation set doesn't really make any sense in the context of a GAN)\n",
        "2. the dataset is originally 28 x 28 images, I've padded this to 32 x 32 using the `transforms.CenterCrop` transform (it made it easier to reuse the DCGAN architecture later).\n",
        "3. the GAN trains better if you normalise your image data to be scaled between -1 and 1 (rather than 0 and 1). This is done with `transforms.Normalize`.\n",
        "\n",
        "Let's start by importing everything we need, setting up some parameters and setting up the data loader.\n",
        "\n",
        "Note: training the GAN is slow. You might want to choose Edit -> Notebook settings -> Hardware accelerator -> GPU now."
      ],
      "metadata": {
        "id": "dAotwPrSiZPh"
      }
    },
    {
      "cell_type": "code",
      "metadata": {
        "id": "phhcbAUupb0o",
        "colab": {
          "base_uri": "https://localhost:8080/"
        },
        "outputId": "222e64c6-7529-4eb0-be33-34e48dace915"
      },
      "source": [
        "import torch\n",
        "import torch.nn as nn\n",
        "import torch.optim as optim\n",
        "from torchvision import datasets\n",
        "import torchvision.transforms as transforms\n",
        "import numpy as np\n",
        "import matplotlib.pyplot as plt\n",
        "\n",
        "# Define some parameters\n",
        "batch_size = 100\n",
        "nz = 100 # Size of z latent vector (i.e. size of generator input)\n",
        "ngf = 64 # Size of feature maps in generator\n",
        "ndf = 64 # Size of feature maps in discriminator\n",
        "num_epochs = 5 # Number of training epochs\n",
        "lr = 0.0002 # Learning rate for optimizers\n",
        "beta1 = 0.5 # Beta1 hyperparam for Adam optimizers\n",
        "\n",
        "# Set up the dataset and dataloader\n",
        "transform = transforms.Compose([transforms.ToTensor(),transforms.CenterCrop(32),transforms.Normalize(0.5,0.5)])\n",
        "train_data = datasets.FashionMNIST(root = 'data', train = True, transform = transform, download = True)\n",
        "dataloader = torch.utils.data.DataLoader(train_data, batch_size=batch_size, shuffle=True, num_workers=1)\n",
        "device = torch.device(\"cuda\" if torch.cuda.is_available() else \"cpu\")\n"
      ],
      "execution_count": 5,
      "outputs": [
        {
          "output_type": "stream",
          "name": "stdout",
          "text": [
            "Downloading http://fashion-mnist.s3-website.eu-central-1.amazonaws.com/train-images-idx3-ubyte.gz\n",
            "Downloading http://fashion-mnist.s3-website.eu-central-1.amazonaws.com/train-images-idx3-ubyte.gz to data/FashionMNIST/raw/train-images-idx3-ubyte.gz\n"
          ]
        },
        {
          "output_type": "stream",
          "name": "stderr",
          "text": [
            "100%|██████████| 26.4M/26.4M [00:02<00:00, 9.87MB/s]\n"
          ]
        },
        {
          "output_type": "stream",
          "name": "stdout",
          "text": [
            "Extracting data/FashionMNIST/raw/train-images-idx3-ubyte.gz to data/FashionMNIST/raw\n",
            "\n",
            "Downloading http://fashion-mnist.s3-website.eu-central-1.amazonaws.com/train-labels-idx1-ubyte.gz\n",
            "Downloading http://fashion-mnist.s3-website.eu-central-1.amazonaws.com/train-labels-idx1-ubyte.gz to data/FashionMNIST/raw/train-labels-idx1-ubyte.gz\n"
          ]
        },
        {
          "output_type": "stream",
          "name": "stderr",
          "text": [
            "100%|██████████| 29.5k/29.5k [00:00<00:00, 209kB/s]\n"
          ]
        },
        {
          "output_type": "stream",
          "name": "stdout",
          "text": [
            "Extracting data/FashionMNIST/raw/train-labels-idx1-ubyte.gz to data/FashionMNIST/raw\n",
            "\n",
            "Downloading http://fashion-mnist.s3-website.eu-central-1.amazonaws.com/t10k-images-idx3-ubyte.gz\n",
            "Downloading http://fashion-mnist.s3-website.eu-central-1.amazonaws.com/t10k-images-idx3-ubyte.gz to data/FashionMNIST/raw/t10k-images-idx3-ubyte.gz\n"
          ]
        },
        {
          "output_type": "stream",
          "name": "stderr",
          "text": [
            "100%|██████████| 4.42M/4.42M [00:01<00:00, 3.87MB/s]\n"
          ]
        },
        {
          "output_type": "stream",
          "name": "stdout",
          "text": [
            "Extracting data/FashionMNIST/raw/t10k-images-idx3-ubyte.gz to data/FashionMNIST/raw\n",
            "\n",
            "Downloading http://fashion-mnist.s3-website.eu-central-1.amazonaws.com/t10k-labels-idx1-ubyte.gz\n",
            "Downloading http://fashion-mnist.s3-website.eu-central-1.amazonaws.com/t10k-labels-idx1-ubyte.gz to data/FashionMNIST/raw/t10k-labels-idx1-ubyte.gz\n"
          ]
        },
        {
          "output_type": "stream",
          "name": "stderr",
          "text": [
            "100%|██████████| 5.15k/5.15k [00:00<00:00, 4.25MB/s]"
          ]
        },
        {
          "output_type": "stream",
          "name": "stdout",
          "text": [
            "Extracting data/FashionMNIST/raw/t10k-labels-idx1-ubyte.gz to data/FashionMNIST/raw\n",
            "\n"
          ]
        },
        {
          "output_type": "stream",
          "name": "stderr",
          "text": [
            "\n"
          ]
        }
      ]
    },
    {
      "cell_type": "markdown",
      "metadata": {
        "id": "SL-pljea7034"
      },
      "source": [
        "As last week, let's grab a batch of images and visualise the first 25 images. I've negated the image brightness to put the images back to how they originally looked - this is a nicer way to visualise them. You can use this code as a starting point for the visualisation tasks below."
      ]
    },
    {
      "cell_type": "code",
      "metadata": {
        "id": "iRTkSrJbrDw5",
        "colab": {
          "base_uri": "https://localhost:8080/",
          "height": 653
        },
        "outputId": "317bf66c-c55d-4ca6-80b1-3943b770ff83"
      },
      "source": [
        "images, labels = next(iter(dataloader))\n",
        "\n",
        "figure = plt.figure(figsize=(10, 8))\n",
        "cols, rows = 5, 5\n",
        "for i in range(cols * rows):\n",
        "    figure.add_subplot(rows, cols, i+1)\n",
        "    plt.axis(\"off\")\n",
        "    plt.imshow(0.5-0.5*images[i,:].squeeze(), cmap=\"gray\")\n",
        "plt.show()"
      ],
      "execution_count": 6,
      "outputs": [
        {
          "output_type": "display_data",
          "data": {
            "text/plain": [
              "<Figure size 1000x800 with 25 Axes>"
            ],
            "image/png": "[encoded data removed]"
          },
          "metadata": {}
        }
      ]
    },
    {
      "cell_type": "markdown",
      "metadata": {
        "id": "2LZmBr9Z8HeB"
      },
      "source": [
        "###Generator architecture\n",
        "\n",
        "I have roughly followed the DCGAN architecture. The Generator takes as input a latent (`z`) vector which has `nz` dimensions. Via an expansive network with transposed convolutions, it converts this into a 32 x 32 image. To map the final output to the range -1..1 we use the Tanh activation function."
      ]
    },
    {
      "cell_type": "code",
      "metadata": {
        "id": "uuimGmSUsFlz"
      },
      "source": [
        "class Generator(nn.Module):\n",
        "    def __init__(self):\n",
        "        super(Generator, self).__init__()\n",
        "        self.main = nn.Sequential(\n",
        "            # input is Z of size B x nz x 1 x 1, we put this directly into a transposed convolution\n",
        "            nn.ConvTranspose2d( nz, ngf * 4, 4, 1, 0, bias=False),\n",
        "            nn.BatchNorm2d(ngf * 4),\n",
        "            nn.ReLU(True),\n",
        "            # Size: B x (ngf*4) x 4 x 4\n",
        "            nn.ConvTranspose2d(ngf * 4, ngf * 2, 4, 2, 1, bias=False),\n",
        "            nn.BatchNorm2d(ngf * 2),\n",
        "            nn.ReLU(True),\n",
        "            # Size: B x (ngf*2) x 8 x 8\n",
        "            nn.ConvTranspose2d( ngf * 2, ngf, 4, 2, 1, bias=False),\n",
        "            nn.BatchNorm2d(ngf),\n",
        "            nn.ReLU(True),\n",
        "            # Size: B x (ngf) x 16 x 16\n",
        "            nn.ConvTranspose2d( ngf, 1, 4, 2, 1, bias=False),\n",
        "            # Size: B x 1 x 32 x 32\n",
        "            nn.Tanh()\n",
        "        )\n",
        "\n",
        "    def forward(self, input):\n",
        "        return self.main(input)\n",
        "\n",
        "netG = Generator()\n",
        "netG = netG.to(device)"
      ],
      "execution_count": 7,
      "outputs": []
    },
    {
      "cell_type": "markdown",
      "metadata": {
        "id": "axgew88Y9XpV"
      },
      "source": [
        "###Discriminator architecture\n",
        "\n",
        "The discriminator is a conventional binary classification CNN: it takes an image as input and outputs the probability that the image is real. I've again followed the DCGAN architecture which uses something you haven't seen before: LeakyReLU. This is a variant on ReLU where negative values are allowed to \"leak\" through, albeit scaled down. Everything else you should have seen before."
      ]
    },
    {
      "cell_type": "code",
      "metadata": {
        "id": "R61sEPaAtzoZ"
      },
      "source": [
        "class Discriminator(nn.Module):\n",
        "    def __init__(self):\n",
        "        super(Discriminator, self).__init__()\n",
        "        self.main = nn.Sequential(\n",
        "            # state size. 1 x 32 x 32\n",
        "            nn.Conv2d(1, ndf, 4, 2, 1, bias=False),\n",
        "            nn.BatchNorm2d(ndf),\n",
        "            nn.LeakyReLU(0.2, inplace=True),\n",
        "            # state size. (ndf) x 16 x 16\n",
        "            nn.Conv2d(ndf, ndf * 2, 4, 2, 1, bias=False),\n",
        "            nn.BatchNorm2d(ndf * 2),\n",
        "            nn.LeakyReLU(0.2, inplace=True),\n",
        "            # state size. (ndf*2) x 8 x 8\n",
        "            nn.Conv2d(ndf * 2, ndf * 4, 4, 2, 1, bias=False),\n",
        "            nn.BatchNorm2d(ndf * 4),\n",
        "            nn.LeakyReLU(0.2, inplace=True),\n",
        "            # state size. (ndf*4) x 4 x 4\n",
        "            nn.Conv2d(ndf * 4, 1, 4, 1, 0, bias=False),\n",
        "            nn.Sigmoid()\n",
        "        )\n",
        "\n",
        "    def forward(self, input):\n",
        "        return self.main(input)\n",
        "\n",
        "netD = Discriminator()\n",
        "netD = netD.to(device)"
      ],
      "execution_count": 8,
      "outputs": []
    },
    {
      "cell_type": "markdown",
      "metadata": {
        "id": "GB3v9Hbe-Ake"
      },
      "source": [
        "###GAN training\n",
        "\n",
        "We're now ready to train our GAN. The training loop for a GAN is pretty complicated so look through the following code carefully and read the comments. You may want to refer to the fifth video lecture for this week to help understand it. You can try running it for a while to train your own GAN but it's slow and below I provide some pretrained weights. Note: even though the data loader is returning labels, we're not using them here. A GAN doesn't need labels."
      ]
    },
    {
      "cell_type": "code",
      "metadata": {
        "id": "kBTE3I2Xuu4b",
        "colab": {
          "base_uri": "https://localhost:8080/"
        },
        "outputId": "d456410d-325a-4d7a-f707-147ab566b8fc"
      },
      "source": [
        "# Initialize BCELoss function\n",
        "criterion = nn.BCELoss()\n",
        "\n",
        "# Establish convention for real and fake labels during training\n",
        "real_label = 1.\n",
        "fake_label = 0.\n",
        "\n",
        "# Setup Adam optimizers for both G and D\n",
        "optimizerD = optim.Adam(netD.parameters(), lr=lr, betas=(beta1, 0.999))\n",
        "optimizerG = optim.Adam(netG.parameters(), lr=lr, betas=(beta1, 0.999))\n",
        "\n",
        "# Training Loop\n",
        "\n",
        "print(\"Starting Training Loop...\")\n",
        "# For each epoch\n",
        "for epoch in range(num_epochs):\n",
        "    # For each batch in the dataloader\n",
        "    for i, (images,labels) in enumerate(dataloader, 0):\n",
        "\n",
        "        ############################\n",
        "        # (1) Update D network: maximize log(D(x)) + log(1 - D(G(z)))\n",
        "        ###########################\n",
        "        ## Train with all-real batch\n",
        "        netD.zero_grad()\n",
        "        # Format batch\n",
        "        real_images = images.to(device)\n",
        "        label = torch.full((batch_size,), real_label, dtype=torch.float, device=device)\n",
        "        # Forward pass real batch through D\n",
        "        output = netD(real_images).view(-1)\n",
        "        # Calculate loss on all-real batch\n",
        "        errD_real = criterion(output, label)\n",
        "        # Calculate gradients for D in backward pass\n",
        "        errD_real.backward()\n",
        "        D_x = output.mean().item()\n",
        "\n",
        "        ## Train with all-fake batch\n",
        "        # Generate batch of latent vectors\n",
        "        z = torch.randn(batch_size, nz, 1, 1, device=device)\n",
        "        # Generate fake image batch with G\n",
        "        fake = netG(z)\n",
        "        label.fill_(fake_label)\n",
        "        # Classify all fake batch with D\n",
        "        output = netD(fake.detach()).view(-1)\n",
        "        # Calculate D's loss on the all-fake batch\n",
        "        errD_fake = criterion(output, label)\n",
        "        # Calculate the gradients for this batch, accumulated (summed) with previous gradients\n",
        "        errD_fake.backward()\n",
        "        D_G_z1 = output.mean().item()\n",
        "        # Compute error of D as sum over the fake and the real batches\n",
        "        errD = errD_real + errD_fake\n",
        "        # Update D\n",
        "        optimizerD.step()\n",
        "\n",
        "        ############################\n",
        "        # (2) Update G network: maximize log(D(G(z)))\n",
        "        ###########################\n",
        "        netG.zero_grad()\n",
        "        label.fill_(real_label)  # fake labels are real for generator cost\n",
        "        # Since we just updated D, perform another forward pass of all-fake batch through D\n",
        "        output = netD(fake).view(-1)\n",
        "        # Calculate G's loss based on this output\n",
        "        errG = criterion(output, label)\n",
        "        # Calculate gradients for G\n",
        "        errG.backward()\n",
        "        D_G_z2 = output.mean().item()\n",
        "        # Update G\n",
        "        optimizerG.step()\n",
        "\n",
        "        # Output training stats\n",
        "        if i % 50 == 0:\n",
        "            print('[%d/%d][%d/%d]\\tLoss_D: %.4f\\tLoss_G: %.4f\\tD(x): %.4f\\tD(G(z)): %.4f / %.4f'\n",
        "                  % (epoch+1, num_epochs, i, len(dataloader),\n",
        "                     errD.item(), errG.item(), D_x, D_G_z1, D_G_z2))\n"
      ],
      "execution_count": 9,
      "outputs": [
        {
          "output_type": "stream",
          "name": "stdout",
          "text": [
            "Starting Training Loop...\n",
            "[1/5][0/600]\tLoss_D: 1.4427\tLoss_G: 1.2019\tD(x): 0.5215\tD(G(z)): 0.5359 / 0.3083\n",
            "[1/5][50/600]\tLoss_D: 0.0447\tLoss_G: 5.1955\tD(x): 0.9845\tD(G(z)): 0.0284 / 0.0064\n",
            "[1/5][100/600]\tLoss_D: 0.6630\tLoss_G: 4.0866\tD(x): 0.8920\tD(G(z)): 0.3959 / 0.0211\n",
            "[1/5][150/600]\tLoss_D: 0.4047\tLoss_G: 2.5274\tD(x): 0.7811\tD(G(z)): 0.1120 / 0.0967\n",
            "[1/5][200/600]\tLoss_D: 0.4399\tLoss_G: 2.2320\tD(x): 0.7438\tD(G(z)): 0.0948 / 0.1332\n",
            "[1/5][250/600]\tLoss_D: 0.8676\tLoss_G: 1.7910\tD(x): 0.5095\tD(G(z)): 0.0365 / 0.2069\n",
            "[1/5][300/600]\tLoss_D: 0.5261\tLoss_G: 2.1440\tD(x): 0.6922\tD(G(z)): 0.0982 / 0.1471\n",
            "[1/5][350/600]\tLoss_D: 0.3880\tLoss_G: 2.3078\tD(x): 0.8371\tD(G(z)): 0.1724 / 0.1238\n",
            "[1/5][400/600]\tLoss_D: 0.3932\tLoss_G: 2.6144\tD(x): 0.8058\tD(G(z)): 0.1368 / 0.0923\n",
            "[1/5][450/600]\tLoss_D: 0.5489\tLoss_G: 2.3248\tD(x): 0.8218\tD(G(z)): 0.2532 / 0.1227\n",
            "[1/5][500/600]\tLoss_D: 0.6029\tLoss_G: 3.1015\tD(x): 0.8777\tD(G(z)): 0.3494 / 0.0626\n",
            "[1/5][550/600]\tLoss_D: 0.5329\tLoss_G: 1.2714\tD(x): 0.6948\tD(G(z)): 0.1256 / 0.3148\n",
            "[2/5][0/600]\tLoss_D: 0.6947\tLoss_G: 3.4517\tD(x): 0.8982\tD(G(z)): 0.4064 / 0.0432\n",
            "[2/5][50/600]\tLoss_D: 0.5997\tLoss_G: 2.6708\tD(x): 0.8621\tD(G(z)): 0.3289 / 0.0931\n",
            "[2/5][100/600]\tLoss_D: 0.7041\tLoss_G: 1.1223\tD(x): 0.6374\tD(G(z)): 0.1659 / 0.3689\n",
            "[2/5][150/600]\tLoss_D: 0.7361\tLoss_G: 3.2054\tD(x): 0.9171\tD(G(z)): 0.4548 / 0.0505\n",
            "[2/5][200/600]\tLoss_D: 0.6034\tLoss_G: 1.4356\tD(x): 0.6716\tD(G(z)): 0.1458 / 0.2797\n",
            "[2/5][250/600]\tLoss_D: 0.6595\tLoss_G: 2.3007\tD(x): 0.8460\tD(G(z)): 0.3413 / 0.1287\n",
            "[2/5][300/600]\tLoss_D: 0.8835\tLoss_G: 3.4968\tD(x): 0.8841\tD(G(z)): 0.4871 / 0.0471\n",
            "[2/5][350/600]\tLoss_D: 0.5697\tLoss_G: 1.7193\tD(x): 0.7001\tD(G(z)): 0.1625 / 0.2096\n",
            "[2/5][400/600]\tLoss_D: 0.6132\tLoss_G: 1.6997\tD(x): 0.6935\tD(G(z)): 0.1671 / 0.2168\n",
            "[2/5][450/600]\tLoss_D: 0.7081\tLoss_G: 1.4856\tD(x): 0.7005\tD(G(z)): 0.2521 / 0.2810\n",
            "[2/5][500/600]\tLoss_D: 0.6994\tLoss_G: 2.7387\tD(x): 0.9205\tD(G(z)): 0.4310 / 0.0822\n",
            "[2/5][550/600]\tLoss_D: 1.2521\tLoss_G: 0.6725\tD(x): 0.3711\tD(G(z)): 0.0701 / 0.5533\n",
            "[3/5][0/600]\tLoss_D: 0.6555\tLoss_G: 2.1785\tD(x): 0.8080\tD(G(z)): 0.3327 / 0.1344\n",
            "[3/5][50/600]\tLoss_D: 0.6795\tLoss_G: 1.8457\tD(x): 0.7140\tD(G(z)): 0.2599 / 0.1824\n",
            "[3/5][100/600]\tLoss_D: 0.6310\tLoss_G: 1.6583\tD(x): 0.7255\tD(G(z)): 0.2330 / 0.2114\n",
            "[3/5][150/600]\tLoss_D: 0.7265\tLoss_G: 1.8549\tD(x): 0.7518\tD(G(z)): 0.3144 / 0.1847\n",
            "[3/5][200/600]\tLoss_D: 0.7975\tLoss_G: 2.5819\tD(x): 0.8507\tD(G(z)): 0.4152 / 0.0960\n",
            "[3/5][250/600]\tLoss_D: 0.6527\tLoss_G: 2.0297\tD(x): 0.7251\tD(G(z)): 0.2468 / 0.1573\n",
            "[3/5][300/600]\tLoss_D: 0.7017\tLoss_G: 1.6028\tD(x): 0.6657\tD(G(z)): 0.2160 / 0.2405\n",
            "[3/5][350/600]\tLoss_D: 0.7036\tLoss_G: 2.5604\tD(x): 0.8188\tD(G(z)): 0.3638 / 0.0989\n",
            "[3/5][400/600]\tLoss_D: 0.7594\tLoss_G: 1.6871\tD(x): 0.6834\tD(G(z)): 0.2759 / 0.2121\n",
            "[3/5][450/600]\tLoss_D: 0.6003\tLoss_G: 2.1085\tD(x): 0.8323\tD(G(z)): 0.3031 / 0.1519\n",
            "[3/5][500/600]\tLoss_D: 0.6392\tLoss_G: 1.5087\tD(x): 0.7309\tD(G(z)): 0.2385 / 0.2506\n",
            "[3/5][550/600]\tLoss_D: 0.6012\tLoss_G: 2.6321\tD(x): 0.8253\tD(G(z)): 0.3061 / 0.0943\n",
            "[4/5][0/600]\tLoss_D: 0.8407\tLoss_G: 2.1902\tD(x): 0.8250\tD(G(z)): 0.4223 / 0.1390\n",
            "[4/5][50/600]\tLoss_D: 0.9217\tLoss_G: 2.4258\tD(x): 0.9170\tD(G(z)): 0.5162 / 0.1112\n",
            "[4/5][100/600]\tLoss_D: 0.5594\tLoss_G: 1.7202\tD(x): 0.7634\tD(G(z)): 0.2182 / 0.2229\n",
            "[4/5][150/600]\tLoss_D: 0.6065\tLoss_G: 2.5112\tD(x): 0.8367\tD(G(z)): 0.3158 / 0.1022\n",
            "[4/5][200/600]\tLoss_D: 0.8069\tLoss_G: 1.5229\tD(x): 0.5226\tD(G(z)): 0.0669 / 0.2783\n",
            "[4/5][250/600]\tLoss_D: 0.6457\tLoss_G: 2.3258\tD(x): 0.8193\tD(G(z)): 0.3180 / 0.1275\n",
            "[4/5][300/600]\tLoss_D: 0.5390\tLoss_G: 1.8717\tD(x): 0.7998\tD(G(z)): 0.2371 / 0.1880\n",
            "[4/5][350/600]\tLoss_D: 0.7494\tLoss_G: 1.5395\tD(x): 0.5998\tD(G(z)): 0.1437 / 0.2535\n",
            "[4/5][400/600]\tLoss_D: 0.6179\tLoss_G: 1.8385\tD(x): 0.7227\tD(G(z)): 0.2194 / 0.2029\n",
            "[4/5][450/600]\tLoss_D: 0.7719\tLoss_G: 1.4674\tD(x): 0.6049\tD(G(z)): 0.1673 / 0.2919\n",
            "[4/5][500/600]\tLoss_D: 0.8623\tLoss_G: 1.7601\tD(x): 0.6512\tD(G(z)): 0.2966 / 0.2168\n",
            "[4/5][550/600]\tLoss_D: 0.7242\tLoss_G: 1.4159\tD(x): 0.6308\tD(G(z)): 0.1698 / 0.2776\n",
            "[5/5][0/600]\tLoss_D: 0.8397\tLoss_G: 2.0095\tD(x): 0.7338\tD(G(z)): 0.3514 / 0.1846\n",
            "[5/5][50/600]\tLoss_D: 0.5832\tLoss_G: 1.9702\tD(x): 0.7492\tD(G(z)): 0.2084 / 0.1759\n",
            "[5/5][100/600]\tLoss_D: 0.8491\tLoss_G: 1.3596\tD(x): 0.5022\tD(G(z)): 0.0664 / 0.3017\n",
            "[5/5][150/600]\tLoss_D: 0.6391\tLoss_G: 2.0328\tD(x): 0.7578\tD(G(z)): 0.2563 / 0.1772\n",
            "[5/5][200/600]\tLoss_D: 0.6759\tLoss_G: 1.5857\tD(x): 0.6593\tD(G(z)): 0.1725 / 0.2577\n",
            "[5/5][250/600]\tLoss_D: 0.5096\tLoss_G: 2.1535\tD(x): 0.7387\tD(G(z)): 0.1507 / 0.1540\n",
            "[5/5][300/600]\tLoss_D: 0.6323\tLoss_G: 1.8977\tD(x): 0.7368\tD(G(z)): 0.2247 / 0.1848\n",
            "[5/5][350/600]\tLoss_D: 0.6150\tLoss_G: 1.7590\tD(x): 0.7824\tD(G(z)): 0.2604 / 0.2055\n",
            "[5/5][400/600]\tLoss_D: 0.5441\tLoss_G: 1.9423\tD(x): 0.7270\tD(G(z)): 0.1701 / 0.1779\n",
            "[5/5][450/600]\tLoss_D: 0.6853\tLoss_G: 2.3456\tD(x): 0.7671\tD(G(z)): 0.2769 / 0.1341\n",
            "[5/5][500/600]\tLoss_D: 0.6829\tLoss_G: 1.6921\tD(x): 0.6176\tD(G(z)): 0.1126 / 0.2303\n",
            "[5/5][550/600]\tLoss_D: 0.5638\tLoss_G: 2.3363\tD(x): 0.7723\tD(G(z)): 0.2136 / 0.1307\n"
          ]
        }
      ]
    },
    {
      "cell_type": "markdown",
      "metadata": {
        "id": "JmhjThoF_PnR"
      },
      "source": [
        "###Visualise GAN output\n",
        "\n",
        "**To do**:\n",
        "\n",
        "Generate some random latent codes, pass them through the generator to get images and then visualise them like we visualised the random training images above."
      ]
    },
    {
      "cell_type": "code",
      "source": [
        "# Random sample over normal distro.\n",
        "# Tensor from random normal distribution.\n",
        "# (number of inputs, latent space, spatical dimensions)\n",
        "z = torch.randn(25,nz,1,1,device=device)\n",
        "# Put through generator.\n",
        "images = netG(z)\n",
        "\n",
        "figure = plt.figure(figsize=(10, 8))\n",
        "cols, rows = 5, 5\n",
        "for i in range(cols * rows):\n",
        "    figure.add_subplot(rows, cols, i+1)\n",
        "    plt.axis(\"off\")\n",
        "    plt.imshow(0.5-0.5*images[i,:].cpu().detach().squeeze(), cmap=\"gray\")\n",
        "plt.show()"
      ],
      "metadata": {
        "colab": {
          "base_uri": "https://localhost:8080/",
          "height": 653
        },
        "id": "jf6IHFmBCYHq",
        "outputId": "a8b490d4-57f2-4bef-9a2b-3b1a5cb930af"
      },
      "execution_count": 12,
      "outputs": [
        {
          "output_type": "display_data",
          "data": {
            "text/plain": [
              "<Figure size 1000x800 with 25 Axes>"
            ],
            "image/png": "[encoded data removed]"
          },
          "metadata": {}
        }
      ]
    },
    {
      "cell_type": "markdown",
      "metadata": {
        "id": "D7Y8sn8k-5DP"
      },
      "source": [
        "###Loading pretrained weights\n",
        "\n",
        "The above training loop is starting to take quite a lot of time, even using a GPU. 5 epochs is not enough for good results. So I've pretrained a network for you that I trained for 100 epochs. Download my pretrained weights and load them into your network, then try running your visualisation code again. Are the results noticably better?"
      ]
    },
    {
      "cell_type": "code",
      "metadata": {
        "id": "BvKWGelT5V3I",
        "colab": {
          "base_uri": "https://localhost:8080/"
        },
        "outputId": "deae7ea6-dd40-4e96-cf32-244b044f8678"
      },
      "source": [
        "!wget https://www-users.york.ac.uk/~waps101/PADL/netG.pkl\n",
        "netG.load_state_dict(torch.load('netG.pkl',map_location=torch.device(device)))\n",
        "netG.eval()"
      ],
      "execution_count": 11,
      "outputs": [
        {
          "output_type": "stream",
          "name": "stdout",
          "text": [
            "--2024-11-07 09:56:15--  https://www-users.york.ac.uk/~waps101/PADL/netG.pkl\n",
            "Resolving www-users.york.ac.uk (www-users.york.ac.uk)... 144.32.129.58, 2001:630:61:180::1:13a\n",
            "Connecting to www-users.york.ac.uk (www-users.york.ac.uk)|144.32.129.58|:443... connected.\n",
            "HTTP request sent, awaiting response... 200 OK\n",
            "Length: 4276652 (4.1M)\n",
            "Saving to: ‘netG.pkl’\n",
            "\n",
            "netG.pkl            100%[===================>]   4.08M   764KB/s    in 5.7s    \n",
            "\n",
            "2024-11-07 09:56:21 (736 KB/s) - ‘netG.pkl’ saved [4276652/4276652]\n",
            "\n"
          ]
        },
        {
          "output_type": "stream",
          "name": "stderr",
          "text": [
            "<ipython-input-11-4149632288ed>:2: FutureWarning: You are using `torch.load` with `weights_only=False` (the current default value), which uses the default pickle module implicitly. It is possible to construct malicious pickle data which will execute arbitrary code during unpickling (See https://github.com/pytorch/pytorch/blob/main/SECURITY.md#untrusted-models for more details). In a future release, the default value for `weights_only` will be flipped to `True`. This limits the functions that could be executed during unpickling. Arbitrary objects will no longer be allowed to be loaded via this mode unless they are explicitly allowlisted by the user via `torch.serialization.add_safe_globals`. We recommend you start setting `weights_only=True` for any use case where you don't have full control of the loaded file. Please open an issue on GitHub for any issues related to this experimental feature.\n",
            "  netG.load_state_dict(torch.load('netG.pkl',map_location=torch.device(device)))\n"
          ]
        },
        {
          "output_type": "execute_result",
          "data": {
            "text/plain": [
              "Generator(\n",
              "  (main): Sequential(\n",
              "    (0): ConvTranspose2d(100, 256, kernel_size=(4, 4), stride=(1, 1), bias=False)\n",
              "    (1): BatchNorm2d(256, eps=1e-05, momentum=0.1, affine=True, track_running_stats=True)\n",
              "    (2): ReLU(inplace=True)\n",
              "    (3): ConvTranspose2d(256, 128, kernel_size=(4, 4), stride=(2, 2), padding=(1, 1), bias=False)\n",
              "    (4): BatchNorm2d(128, eps=1e-05, momentum=0.1, affine=True, track_running_stats=True)\n",
              "    (5): ReLU(inplace=True)\n",
              "    (6): ConvTranspose2d(128, 64, kernel_size=(4, 4), stride=(2, 2), padding=(1, 1), bias=False)\n",
              "    (7): BatchNorm2d(64, eps=1e-05, momentum=0.1, affine=True, track_running_stats=True)\n",
              "    (8): ReLU(inplace=True)\n",
              "    (9): ConvTranspose2d(64, 1, kernel_size=(4, 4), stride=(2, 2), padding=(1, 1), bias=False)\n",
              "    (10): Tanh()\n",
              "  )\n",
              ")"
            ]
          },
          "metadata": {},
          "execution_count": 11
        }
      ]
    },
    {
      "cell_type": "markdown",
      "metadata": {
        "id": "nNFZovmchTqE"
      },
      "source": [
        "##Latent space interpolation\n",
        "\n",
        "One of the interesting things about GANs is that the latent space of the generator provides a set of parameters that can be manipulated to change the appearance of the image in a smooth way. Walking around in the latent space results in an image that gradually varies hopefully remaining plausible all the time. The easiest way try this out is by linearly interpolating between two samples.\n",
        "\n",
        "**To do**:\n",
        "\n",
        "Write some code that starts by generating two random latent codes, `z1` and `z2`. Now create a batch of 9 latent codes that linearly interpolates between them so that the first element in the batch is equal to `z1`, the ninth is equal to `z2` and the fifth (i.e. the middle element) is equal to `0.5*z1 + 0.5*z2`. Pass the batch of latent codes through your generator (remember to put the generator in eval mode first with `netG.eval()` so that the batchnorm layers use the learnt means/stds). Now display the resulting images (adapt the code we've used previously for visualing images from a batch). You should see a gradual transition from one image to the other and the intermediates should look reasonable (although it's hard to interpolate from a handbag to a pair of trousers!)"
      ]
    },
    {
      "cell_type": "code",
      "source": [
        "# Take 9 samples.\n",
        "nsamples = 9\n",
        "# Take a random set of values.\n",
        "z1 = torch.randn(1, nz, 1, 1, device=device)\n",
        "z2 = torch.randn(1, nz, 1, 1, device=device)\n",
        "# A tensors of zeroes in the same format as everything else.\n",
        "z = torch.zeros(nsamples,nz,1,1,device=device)\n",
        "# For all 9 samples.\n",
        "for i in range(nsamples):\n",
        "  w1 = i/(nsamples-1)\n",
        "  # Ensures that the weight is always 1\n",
        "  w2 = 1-w1\n",
        "  z[i,:,:,:] = w1*z1 + w2*z2\n",
        "images = netG(z)\n",
        "\n",
        "figure = plt.figure(figsize=(12, 4))\n",
        "for i in range(nsamples):\n",
        "    figure.add_subplot(1, nsamples, i+1)\n",
        "    plt.axis(\"off\")\n",
        "    plt.imshow(0.5-0.5*images[i,:].squeeze().cpu().detach(), cmap=\"gray\")\n",
        "plt.show()"
      ],
      "metadata": {
        "colab": {
          "base_uri": "https://localhost:8080/",
          "height": 124
        },
        "id": "pKdpgdzSDekw",
        "outputId": "b2f97f2e-5def-4d33-dea5-4908e706e47b"
      },
      "execution_count": 13,
      "outputs": [
        {
          "output_type": "display_data",
          "data": {
            "text/plain": [
              "<Figure size 1200x400 with 9 Axes>"
            ],
            "image/png": "[encoded data removed]"
          },
          "metadata": {}
        }
      ]
    },
    {
      "cell_type": "markdown",
      "source": [
        "##3. Play with a pretrained diffusion model\n",
        "\n",
        "First we need to install some dependencies and import. This takes a few minutes to run so take a break while it's running!"
      ],
      "metadata": {
        "id": "ILxrcz8JyFpu"
      }
    },
    {
      "cell_type": "code",
      "source": [
        "!pip install \"jax[cuda12_local]==0.4.23\" -f https://storage.googleapis.com/jax-releases/jax_cuda_releases.html\n",
        "!pip install diffusers==0.11.1\n",
        "!pip install transformers scipy ftfy accelerate"
      ],
      "metadata": {
        "id": "aCXcNWB1yTVl"
      },
      "execution_count": null,
      "outputs": []
    },
    {
      "cell_type": "code",
      "source": [
        "import torch\n",
        "from diffusers import StableDiffusionPipeline\n",
        "\n",
        "pipe = StableDiffusionPipeline.from_pretrained(\"CompVis/stable-diffusion-v1-4\", torch_dtype=torch.float16)\n",
        "device = torch.device(\"cuda\" if torch.cuda.is_available() else \"cpu\")\n",
        "pipe = pipe.to(device)"
      ],
      "metadata": {
        "id": "9NIJZo4P7yte"
      },
      "execution_count": null,
      "outputs": []
    },
    {
      "cell_type": "markdown",
      "source": [
        "Now it's time to play! This diffusion implementation comes with a nice end to end text-to-image pipeline. You simply need to provide a text prompt and it will generate an image. You will get a different result every time as the starting random noise will be different. Experiment with different prompts."
      ],
      "metadata": {
        "id": "FMmZ7gMU4-WQ"
      }
    },
    {
      "cell_type": "code",
      "source": [
        "prompt = \"a photograph of an astronaut riding a horse\"\n",
        "image = pipe(prompt).images[0]  # image here is in PIL format\n",
        "\n",
        "# directly display the generated image\n",
        "image"
      ],
      "metadata": {
        "id": "UzeSPH5NzAwp"
      },
      "execution_count": null,
      "outputs": []
    },
    {
      "cell_type": "markdown",
      "source": [
        "`pipe` can take various other option parameters. Try playing with `num_inference_steps` which controls how many diffusion steps are used (fewer is faster but lower quality), `height` and `width` which control the size of the output and `guidance_scale` which controls how much weight it gives to your text prompt."
      ],
      "metadata": {
        "id": "SSemcECCzt0f"
      }
    },
    {
      "cell_type": "markdown",
      "source": [
        "Let's now dig a little deeper and see a denoising loop in action. First, some setup:"
      ],
      "metadata": {
        "id": "H2qKAu26xxqE"
      }
    },
    {
      "cell_type": "code",
      "source": [
        "from transformers import CLIPTextModel, CLIPTokenizer\n",
        "from diffusers import AutoencoderKL, UNet2DConditionModel, PNDMScheduler\n",
        "from diffusers import LMSDiscreteScheduler\n",
        "\n",
        "# 1. Load the autoencoder model which will be used to decode the latents into image space.\n",
        "vae = AutoencoderKL.from_pretrained(\"CompVis/stable-diffusion-v1-4\", subfolder=\"vae\")\n",
        "\n",
        "# 2. Load the tokenizer and text encoder to tokenize and encode the text.\n",
        "tokenizer = CLIPTokenizer.from_pretrained(\"openai/clip-vit-large-patch14\")\n",
        "text_encoder = CLIPTextModel.from_pretrained(\"openai/clip-vit-large-patch14\")\n",
        "\n",
        "# 3. The UNet model for generating the latents.\n",
        "unet = UNet2DConditionModel.from_pretrained(\"CompVis/stable-diffusion-v1-4\", subfolder=\"unet\")\n",
        "\n",
        "scheduler = LMSDiscreteScheduler.from_pretrained(\"CompVis/stable-diffusion-v1-4\", subfolder=\"scheduler\")\n",
        "\n",
        "vae = vae.to(device)\n",
        "text_encoder = text_encoder.to(device)\n",
        "unet = unet.to(device)"
      ],
      "metadata": {
        "id": "MgMENJvWx6cs"
      },
      "execution_count": null,
      "outputs": []
    },
    {
      "cell_type": "markdown",
      "source": [
        "Prepare our inputs:"
      ],
      "metadata": {
        "id": "zrSs-OIUyHmr"
      }
    },
    {
      "cell_type": "code",
      "source": [
        "prompt = [\"a photograph of an astronaut riding a horse\"]\n",
        "\n",
        "height = 512                        # default height of Stable Diffusion\n",
        "width = 512                         # default width of Stable Diffusion\n",
        "\n",
        "num_inference_steps = 100            # Number of denoising steps\n",
        "\n",
        "guidance_scale = 7.5                # Scale for classifier-free guidance\n",
        "\n",
        "generator = torch.manual_seed(32)   # Seed generator to create the inital latent noise\n",
        "\n",
        "batch_size = 1\n",
        "\n",
        "text_input = tokenizer(prompt, padding=\"max_length\", max_length=tokenizer.model_max_length, truncation=True, return_tensors=\"pt\")\n",
        "\n",
        "with torch.no_grad():\n",
        "  text_embeddings = text_encoder(text_input.input_ids.to(device))[0]\n",
        "\n",
        "max_length = text_input.input_ids.shape[-1]\n",
        "uncond_input = tokenizer(\n",
        "    [\"\"] * batch_size, padding=\"max_length\", max_length=max_length, return_tensors=\"pt\"\n",
        ")\n",
        "with torch.no_grad():\n",
        "  uncond_embeddings = text_encoder(uncond_input.input_ids.to(device))[0]\n",
        "\n",
        "text_embeddings = torch.cat([uncond_embeddings, text_embeddings])\n",
        "\n",
        "# Random initial latents\n",
        "latents = torch.randn(\n",
        "  (batch_size, unet.in_channels, height // 8, width // 8),\n",
        "  generator=generator,\n",
        ")\n",
        "latents = latents.to(device)\n",
        "\n",
        "scheduler.set_timesteps(num_inference_steps)\n",
        "latents = latents * scheduler.init_noise_sigma"
      ],
      "metadata": {
        "id": "6WOMLHyTyJDJ"
      },
      "execution_count": null,
      "outputs": []
    },
    {
      "cell_type": "markdown",
      "source": [
        "Now we are ready to run the denoising loop:"
      ],
      "metadata": {
        "id": "k-IVgoqgygtg"
      }
    },
    {
      "cell_type": "code",
      "source": [
        "from tqdm.auto import tqdm\n",
        "from torch import autocast\n",
        "\n",
        "for t in tqdm(scheduler.timesteps):\n",
        "  # expand the latents if we are doing classifier-free guidance to avoid doing two forward passes.\n",
        "  latent_model_input = torch.cat([latents] * 2)\n",
        "\n",
        "  latent_model_input = scheduler.scale_model_input(latent_model_input, t)\n",
        "\n",
        "  # predict the noise residual\n",
        "  with torch.no_grad():\n",
        "    noise_pred = unet(latent_model_input, t, encoder_hidden_states=text_embeddings).sample\n",
        "\n",
        "  # perform guidance\n",
        "  noise_pred_uncond, noise_pred_text = noise_pred.chunk(2)\n",
        "  noise_pred = noise_pred_uncond + guidance_scale * (noise_pred_text - noise_pred_uncond)\n",
        "\n",
        "  # compute the previous noisy sample x_t -> x_t-1\n",
        "  latents = scheduler.step(noise_pred, t, latents).prev_sample"
      ],
      "metadata": {
        "id": "nSBWEXT3yjzW"
      },
      "execution_count": null,
      "outputs": []
    },
    {
      "cell_type": "markdown",
      "source": [
        "Visualise the result:"
      ],
      "metadata": {
        "id": "Oko7UL2Lyx1H"
      }
    },
    {
      "cell_type": "code",
      "source": [
        "from PIL import Image\n",
        "\n",
        "# scale and decode the image latents with vae\n",
        "latents = 1 / 0.18215 * latents\n",
        "\n",
        "with torch.no_grad():\n",
        "  image = vae.decode(latents).sample\n",
        "\n",
        "image = (image / 2 + 0.5).clamp(0, 1)\n",
        "image = image.detach().cpu().permute(0, 2, 3, 1).numpy()\n",
        "images = (image * 255).round().astype(\"uint8\")\n",
        "pil_images = [Image.fromarray(image) for image in images]\n",
        "pil_images[0]"
      ],
      "metadata": {
        "id": "6ltcfi1Wyopq"
      },
      "execution_count": null,
      "outputs": []
    },
    {
      "cell_type": "markdown",
      "source": [
        "**To do**: At any point in the loop, you could convert the noisy latents to an image using the VAE decoder. Try this out. You should be able to visualise the result gradually transitioning from noise to the final image."
      ],
      "metadata": {
        "id": "A_4tcmKUysh6"
      }
    },
    {
      "cell_type": "markdown",
      "metadata": {
        "id": "MU4kMgkMAklr"
      },
      "source": [
        "##4. Create a conditional GAN (highly recommended for MEng students)\n",
        "\n",
        "I would now like you to extend the GAN created above to make it into a conditional GAN. This means that the generator takes both a z latent vector and also a class label and generates an image of the appropriate class. The discriminator takes an image plus the class label and returns the probability that this is a real image of that class. There are many ways you could engineer the generator and discriminator architectures to take labels as input but here is my suggestion:\n",
        "- Use a `torch.nn.Embedding` layer to turn the class label into a feature vector. A dimensionality of 50 for this feature vector works well.\n",
        "- In the generator you can then just concatenate this embedding with the `z` vector and feed it into the same generator architecture as above.\n",
        "- In the discriminator, use another linear layer to transform the embedding up to size 32 x 32. You can then just concatenate this as an additional channel to the image that you pass into the same architecture as above (just with two input channels rather than 1).\n",
        "- The training loop is very similar to above but now you pass the real labels along with the real images to the discriminator. When you create a random batch of fake images, you need to generate some random labels. These should also be passed to the discriminator.\n",
        "\n",
        "Once you get it to train, try visualing random output for each class. For example, fix the label to zero then generate 8 images, then repeat for labels 1-9. You should see the right class but random variation within that class when you vary z."
      ]
    }
  ]
}