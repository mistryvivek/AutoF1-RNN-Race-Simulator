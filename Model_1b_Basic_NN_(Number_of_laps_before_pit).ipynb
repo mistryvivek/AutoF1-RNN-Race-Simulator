{
  "nbformat": 4,
  "nbformat_minor": 0,
  "metadata": {
    "colab": {
      "provenance": [],
      "mount_file_id": "1gjUba8vWbzRrKko96DYN_YHrHrrNIyZ_",
      "authorship_tag": "ABX9TyNs8hHlCzGKRMoF5JMgG2KN",
      "include_colab_link": true
    },
    "kernelspec": {
      "name": "python3",
      "display_name": "Python 3"
    },
    "language_info": {
      "name": "python"
    }
  },
  "cells": [
    {
      "cell_type": "markdown",
      "metadata": {
        "id": "view-in-github",
        "colab_type": "text"
      },
      "source": [
        "<a href=\"https://colab.research.google.com/github/mistryvivek/YRKCS-PRBX/blob/main/Model_1a_Basic_NN_(Number_of_laps_before_pit).ipynb\" target=\"_parent\"><img src=\"https://colab.research.google.com/assets/colab-badge.svg\" alt=\"Open In Colab\"/></a>"
      ]
    },
    {
      "cell_type": "code",
      "execution_count": 1,
      "metadata": {
        "id": "9BKFIobTm36L"
      },
      "outputs": [],
      "source": [
        "import torch\n",
        "import torch.nn as nn\n",
        "import numpy as np\n",
        "import random\n",
        "import pandas as pd\n",
        "from torch.nn.utils.rnn import pad_sequence\n",
        "from sklearn.preprocessing import OneHotEncoder"
      ]
    },
    {
      "cell_type": "code",
      "source": [
        "device = torch.device('cuda' if torch.cuda.is_available() else 'cpu')\n",
        "print(f'Using device: {device}')"
      ],
      "metadata": {
        "colab": {
          "base_uri": "https://localhost:8080/"
        },
        "id": "VOupk8NfiXR7",
        "outputId": "b310250e-2554-4d57-dd3f-76449d1c147a"
      },
      "execution_count": 2,
      "outputs": [
        {
          "output_type": "stream",
          "name": "stdout",
          "text": [
            "Using device: cpu\n"
          ]
        }
      ]
    },
    {
      "cell_type": "markdown",
      "source": [
        "# Setup Weights and Bias.\n",
        "\n",
        "* AI experimental tool."
      ],
      "metadata": {
        "id": "cnr6oqBffyAx"
      }
    },
    {
      "cell_type": "code",
      "source": [
        "!pip install wandb -qU"
      ],
      "metadata": {
        "id": "cA-o8vzff3Y3",
        "colab": {
          "base_uri": "https://localhost:8080/"
        },
        "outputId": "251ffb8c-837c-488b-f6e9-695e30c87983"
      },
      "execution_count": 3,
      "outputs": [
        {
          "output_type": "stream",
          "name": "stdout",
          "text": [
            "\u001b[2K   \u001b[90m━━━━━━━━━━━━━━━━━━━━━━━━━━━━━━━━━━━━━━━━\u001b[0m \u001b[32m20.1/20.1 MB\u001b[0m \u001b[31m26.6 MB/s\u001b[0m eta \u001b[36m0:00:00\u001b[0m\n",
            "\u001b[?25h"
          ]
        }
      ]
    },
    {
      "cell_type": "code",
      "source": [
        "# Log in to your W&B account\n",
        "import wandb\n",
        "import random\n",
        "import math"
      ],
      "metadata": {
        "id": "3F4388sHf7FM"
      },
      "execution_count": 4,
      "outputs": []
    },
    {
      "cell_type": "code",
      "source": [
        "wandb.login()"
      ],
      "metadata": {
        "id": "0KY69sdrgAqC",
        "colab": {
          "base_uri": "https://localhost:8080/",
          "height": 139
        },
        "outputId": "0a21dc04-d36f-426a-81d4-ae5e144f8b92"
      },
      "execution_count": 5,
      "outputs": [
        {
          "output_type": "stream",
          "name": "stderr",
          "text": [
            "\u001b[34m\u001b[1mwandb\u001b[0m: Using wandb-core as the SDK backend.  Please refer to https://wandb.me/wandb-core for more information.\n"
          ]
        },
        {
          "output_type": "display_data",
          "data": {
            "text/plain": [
              "<IPython.core.display.Javascript object>"
            ],
            "application/javascript": [
              "\n",
              "        window._wandbApiKey = new Promise((resolve, reject) => {\n",
              "            function loadScript(url) {\n",
              "            return new Promise(function(resolve, reject) {\n",
              "                let newScript = document.createElement(\"script\");\n",
              "                newScript.onerror = reject;\n",
              "                newScript.onload = resolve;\n",
              "                document.body.appendChild(newScript);\n",
              "                newScript.src = url;\n",
              "            });\n",
              "            }\n",
              "            loadScript(\"https://cdn.jsdelivr.net/npm/postmate/build/postmate.min.js\").then(() => {\n",
              "            const iframe = document.createElement('iframe')\n",
              "            iframe.style.cssText = \"width:0;height:0;border:none\"\n",
              "            document.body.appendChild(iframe)\n",
              "            const handshake = new Postmate({\n",
              "                container: iframe,\n",
              "                url: 'https://wandb.ai/authorize'\n",
              "            });\n",
              "            const timeout = setTimeout(() => reject(\"Couldn't auto authenticate\"), 5000)\n",
              "            handshake.then(function(child) {\n",
              "                child.on('authorize', data => {\n",
              "                    clearTimeout(timeout)\n",
              "                    resolve(data)\n",
              "                });\n",
              "            });\n",
              "            })\n",
              "        });\n",
              "    "
            ]
          },
          "metadata": {}
        },
        {
          "output_type": "stream",
          "name": "stderr",
          "text": [
            "\u001b[34m\u001b[1mwandb\u001b[0m: Logging into wandb.ai. (Learn how to deploy a W&B server locally: https://wandb.me/wandb-server)\n",
            "\u001b[34m\u001b[1mwandb\u001b[0m: You can find your API key in your browser here: https://wandb.ai/authorize\n",
            "wandb: Paste an API key from your profile and hit enter, or press ctrl+c to quit:"
          ]
        },
        {
          "name": "stdout",
          "output_type": "stream",
          "text": [
            " ··········\n"
          ]
        },
        {
          "output_type": "stream",
          "name": "stderr",
          "text": [
            "\u001b[34m\u001b[1mwandb\u001b[0m: Appending key for api.wandb.ai to your netrc file: /root/.netrc\n"
          ]
        },
        {
          "output_type": "execute_result",
          "data": {
            "text/plain": [
              "True"
            ]
          },
          "metadata": {},
          "execution_count": 5
        }
      ]
    },
    {
      "cell_type": "markdown",
      "source": [
        "## Modify code for sliding window approach (like wk11 code).\n",
        "\n",
        "* Look at the full race image instead.\n",
        "* What data types are in the wk11 practical.\n",
        "* No vocab size required because they apply to catogorical contexts."
      ],
      "metadata": {
        "id": "0vxpMwPmrCNG"
      }
    },
    {
      "cell_type": "code",
      "source": [
        "BASE_PATH = r\"/content/drive/MyDrive/prbx_data/v1/\"\n",
        "max_race_size = 0\n",
        "max_tyre_life = 0"
      ],
      "metadata": {
        "id": "VEYJqy9UAizz"
      },
      "execution_count": 17,
      "outputs": []
    },
    {
      "cell_type": "code",
      "source": [
        "# TRAINING\n",
        "training_inputs = []\n",
        "training_outputs = []\n",
        "\n",
        "RaceCalender22 = pd.read_csv(BASE_PATH + r\"2022/eventCalender2022.csv\")\n",
        "for _, row in RaceCalender22.iterrows():\n",
        "    if row['EventFormat'] != 'testing':\n",
        "        TempRaceLoad = pd.read_csv(\n",
        "            BASE_PATH + f\"2022/{row['RoundNumber']}_{row['OfficialEventName']}/{row['RoundNumber']}_{row['OfficialEventName']}_Race.csv\".replace(\" \", \"_\")\n",
        "        )\n",
        "        for driver in TempRaceLoad['Driver'].unique():\n",
        "            TempRaceLoadDriver = TempRaceLoad[TempRaceLoad['Driver'] == driver].sort_values(by='LapNumber', ascending=True)\n",
        "            tyre_life_array = TempRaceLoadDriver['TyreLife'].values\n",
        "            stint_array = TempRaceLoadDriver['Stint'].values\n",
        "\n",
        "            if max(TempRaceLoadDriver['LapNumber']) > max_race_size:\n",
        "                max_race_size = max(TempRaceLoadDriver['LapNumber'])\n",
        "\n",
        "            if max(TempRaceLoadDriver['TyreLife']) > max_tyre_life:\n",
        "                max_tyre_life = max(TempRaceLoadDriver['TyreLife'])\n",
        "\n",
        "            stint_change_array = [0 if stint_array[i] == stint_array[i + 1]else 1\n",
        "                                  for i in range(len(stint_array) - 1)] + [0]\n",
        "            stint_change_array = np.array(stint_change_array)\n",
        "\n",
        "            laps_until_pit = []\n",
        "            next_pit_lap = None\n",
        "            for i in range(len(stint_change_array) - 1, -1, -1):  # Start from the last lap\n",
        "                if stint_change_array[i] == 1:  # Pit stop occurred at this lap\n",
        "                    next_pit_lap = i\n",
        "                if next_pit_lap is not None:\n",
        "                    laps_until_pit.append(next_pit_lap - i)\n",
        "                else:\n",
        "                    laps_until_pit.append(0)  # No more pit stops after this lap\n",
        "\n",
        "            laps_until_pit.reverse()\n",
        "\n",
        "            training_inputs.append(tyre_life_array)\n",
        "            training_outputs.append(laps_until_pit)"
      ],
      "metadata": {
        "id": "muIWawoGrFrn"
      },
      "execution_count": 74,
      "outputs": []
    },
    {
      "cell_type": "code",
      "source": [
        "# TESTING\n",
        "testing_inputs = []\n",
        "testing_outputs = []\n",
        "\n",
        "RaceCalender23 = pd.read_csv(BASE_PATH + r\"2023/eventCalender2023.csv\")\n",
        "for _, row in RaceCalender23.iterrows():\n",
        "    if row['EventFormat'] != 'testing':\n",
        "        TempRaceLoad = pd.read_csv(\n",
        "            BASE_PATH + f\"2023/{row['RoundNumber']}_{row['OfficialEventName']}/{row['RoundNumber']}_{row['OfficialEventName']}_Race.csv\".replace(\" \", \"_\")\n",
        "        )\n",
        "        for driver in TempRaceLoad['Driver'].unique():\n",
        "            TempRaceLoadDriver = TempRaceLoad[TempRaceLoad['Driver'] == driver].sort_values(by='LapNumber', ascending=True)\n",
        "            tyre_life_array = TempRaceLoadDriver['TyreLife'].values\n",
        "            stint_array = TempRaceLoadDriver['Stint'].values\n",
        "\n",
        "            if max(TempRaceLoadDriver['LapNumber']) > max_race_size:\n",
        "                max_race_size = max(TempRaceLoadDriver['LapNumber'])\n",
        "\n",
        "            if max(TempRaceLoadDriver['TyreLife']) > max_tyre_life:\n",
        "                max_tyre_life = max(TempRaceLoadDriver['TyreLife'])\n",
        "\n",
        "            stint_change_array = [0 if stint_array[i] == stint_array[i + 1] else 1\n",
        "                                  for i in range(len(stint_array) - 1)] + [0]\n",
        "            stint_change_array = np.array(stint_change_array)\n",
        "\n",
        "            laps_until_pit = []\n",
        "            next_pit_lap = None\n",
        "            for i in range(len(stint_change_array) - 1, -1, -1):  # Start from the last lap\n",
        "                if stint_change_array[i] == 1:  # Pit stop occurs at this lap\n",
        "                    next_pit_lap = i\n",
        "                if next_pit_lap is not None:\n",
        "                    laps_until_pit.append(next_pit_lap - i)\n",
        "                else:\n",
        "                    laps_until_pit.append(0)  # No more pit stops after this lap\n",
        "\n",
        "            laps_until_pit.reverse()  # Reverse to match the original order of laps\n",
        "\n",
        "            testing_inputs.append(tyre_life_array)\n",
        "            testing_outputs.append(laps_until_pit)"
      ],
      "metadata": {
        "id": "fEz0-Y5DrrEr"
      },
      "execution_count": 77,
      "outputs": []
    },
    {
      "cell_type": "code",
      "source": [
        "class RNNv1b(nn.Module):\n",
        "    def __init__(self,input_size,hidden_size): #vocab_size\n",
        "        super(RNNv1b, self).__init__()\n",
        "        #self.embedding =  nn.Embedding(vocab_size, hidden_size)\n",
        "        self.linear_x = nn.Linear(input_size, hidden_size)\n",
        "        self.linear_h = nn.Linear(hidden_size,hidden_size)\n",
        "        self.linear_y = nn.Linear(hidden_size,1)\n",
        "        self.tanh = nn.Tanh()\n",
        "\n",
        "    def forward(self,x,hprev):\n",
        "        \"\"\"\n",
        "        h = self.tanh(self.embedding(x) + self.linear_h(hprev))\n",
        "        y = self.linear_y(h)\n",
        "        \"\"\"\n",
        "        h = self.tanh(self.linear_x(x) + self.linear_h(hprev))\n",
        "        y = self.linear_y(h)\n",
        "        return h,y"
      ],
      "metadata": {
        "id": "SbssajRW_yHx"
      },
      "execution_count": 78,
      "outputs": []
    },
    {
      "cell_type": "code",
      "source": [
        "def calculate_loss(model,inputs,targets,hprev,vocab_size):\n",
        "  loss_func = nn.MSELoss()\n",
        "  seq_length = len(inputs)\n",
        "  outputs = []\n",
        "  for t in range(seq_length):\n",
        "    # For each character in the input sequence, pass through RNN with previous hidden state\n",
        "    hprev,y = model(torch.tensor([inputs[t]], device=device),hprev)\n",
        "    # Gradually build up matrix of output logits of size seq_length * vocab_size - we want it at every time step do not want this.\n",
        "    # Compute cross entropy loss for seq_length actual targets against estimated distributions\n",
        "    # RuntimeError: result type Float can't be cast to the desired output type Long\n",
        "    outputs.append(y)\n",
        "\n",
        "  outputs = torch.stack(outputs).squeeze(1)\n",
        "  loss = loss_func(outputs ,targets)\n",
        "\n",
        "  # For truncated backprop, the next subsequence will use the final hidden state\n",
        "  # but will not backprop through it so we need to detach\n",
        "  hprev = hprev.detach()\n",
        "\n",
        "  return loss, hprev"
      ],
      "metadata": {
        "id": "Kblub6lCs1q9"
      },
      "execution_count": 79,
      "outputs": []
    },
    {
      "cell_type": "code",
      "source": [
        "# Model parameters to be logged by w and b.\n",
        "hidden_size = 10\n",
        "lr = 0.001\n",
        "iterations = 5000\n",
        "input_parameters = ['TyreLife']\n",
        "dataset = 'v1'\n",
        "#vocab_size = int(max_tyre_life) + 1 # Possiblity for each tyre_life\n",
        "input_size = 1"
      ],
      "metadata": {
        "id": "ZEPgYoM5tVB7"
      },
      "execution_count": 80,
      "outputs": []
    },
    {
      "cell_type": "code",
      "source": [
        "# PADDING\n",
        "def add_padding(max_race_size, sequence):\n",
        "    if len(sequence) >= max_race_size:\n",
        "        return sequence[:max_race_size]\n",
        "    else:\n",
        "        padding = [0] * (max_race_size - len(sequence))\n",
        "        return np.concatenate([sequence,padding])"
      ],
      "metadata": {
        "id": "kZnrmrWCZewQ"
      },
      "execution_count": 81,
      "outputs": []
    },
    {
      "cell_type": "code",
      "source": [
        "def check_accuracy():\n",
        "  total, matches = 0, 0\n",
        "  no_pit_prediction_total, correct_no_pit_prediction = 0,0\n",
        "  pit_prediction_total, correct_pit_prediction = 0,0\n",
        "\n",
        "  for t in range(len(testing_inputs) - 1):\n",
        "      inputs = add_padding(int(max_race_size),testing_inputs[t])\n",
        "      outputs = add_padding(int(max_race_size),testing_outputs[t])\n",
        "      hprev = torch.zeros(hidden_size, device=device)\n",
        "\n",
        "      for x in range(len(inputs) - 1):\n",
        "        hprev, y = model(torch.tensor([inputs[x]], device=device, dtype=torch.float32), hprev)\n",
        "        y = y.squeeze(0)"
      ],
      "metadata": {
        "id": "TmkbKIyMSOeA"
      },
      "execution_count": 82,
      "outputs": []
    },
    {
      "cell_type": "code",
      "source": [
        "model = RNNv1b(input_size,hidden_size)#vocab_size\n",
        "model.to(device)\n",
        "\n",
        "optim = torch.optim.Adam(model.parameters(), lr = lr)\n",
        "\n",
        "n, p = 0, 0\n",
        "while n<=iterations:\n",
        "  hprev = torch.zeros(hidden_size, device=device) # reset RNN memory\n",
        "\n",
        "  # Why apply padding here\n",
        "  inputs = add_padding(int(max_race_size),training_inputs[p])\n",
        "  outputs = add_padding(int(max_race_size),training_outputs[p])\n",
        "\n",
        "  # Extract next subsequence of characters\n",
        "  inputs = torch.tensor(training_inputs[p],dtype=torch.float32, device=device)\n",
        "  targets = torch.tensor(training_outputs[p],dtype=torch.float32, device=device)\n",
        "\n",
        "  # Compute loss for current subsequence\n",
        "  loss, hprev = calculate_loss(model,inputs,targets,hprev,input_size)\n",
        "  optim.zero_grad()\n",
        "  loss.backward()\n",
        "  optim.step()\n",
        "\n",
        "  if n % 500 == 0:\n",
        "    print('[{:}] Loss: {:.2f}'.format(n,loss.item()))\n",
        "    check_accuracy()\n",
        "\n",
        "  p += 1 # move data pointer\n",
        "  n += 1 # iteration counter\n",
        "\n",
        "  if p == int(max_race_size) - 1:\n",
        "    p = 0"
      ],
      "metadata": {
        "id": "NjMwOzL7uykr",
        "colab": {
          "base_uri": "https://localhost:8080/"
        },
        "outputId": "a9dd9671-efb7-48a5-fc9b-4dbee1b270f4"
      },
      "execution_count": 83,
      "outputs": [
        {
          "output_type": "stream",
          "name": "stdout",
          "text": [
            "[0] Loss: 54.72\n",
            "[500] Loss: 31.07\n",
            "[1000] Loss: 22.38\n",
            "[1500] Loss: 29.95\n",
            "[2000] Loss: 15.30\n",
            "[2500] Loss: 17.11\n",
            "[3000] Loss: 141.75\n",
            "[3500] Loss: 36.79\n",
            "[4000] Loss: 18.03\n",
            "[4500] Loss: 17.15\n",
            "[5000] Loss: 17.79\n"
          ]
        }
      ]
    },
    {
      "cell_type": "code",
      "source": [
        "inputs = add_padding(int(max_race_size),testing_inputs[0])\n",
        "outputs = add_padding(int(max_race_size),testing_outputs[0])\n",
        "hprev = torch.zeros(hidden_size, device=device)\n",
        "\n",
        "for x in range(len(inputs) - 1):\n",
        "  hprev, y = model(torch.tensor([inputs[x]], device=device, dtype=torch.float32), hprev)\n",
        "  print(y.squeeze(0))"
      ],
      "metadata": {
        "colab": {
          "base_uri": "https://localhost:8080/"
        },
        "id": "T-yyQiWylph4",
        "outputId": "19c5f656-c391-4237-c0ea-5f9199991de7"
      },
      "execution_count": 84,
      "outputs": [
        {
          "output_type": "stream",
          "name": "stdout",
          "text": [
            "tensor(5.8693, grad_fn=<SqueezeBackward1>)\n",
            "tensor(7.7821, grad_fn=<SqueezeBackward1>)\n",
            "tensor(7.5610, grad_fn=<SqueezeBackward1>)\n",
            "tensor(7.0855, grad_fn=<SqueezeBackward1>)\n",
            "tensor(6.4517, grad_fn=<SqueezeBackward1>)\n",
            "tensor(5.8202, grad_fn=<SqueezeBackward1>)\n",
            "tensor(5.2801, grad_fn=<SqueezeBackward1>)\n",
            "tensor(4.8011, grad_fn=<SqueezeBackward1>)\n",
            "tensor(4.3520, grad_fn=<SqueezeBackward1>)\n",
            "tensor(3.9351, grad_fn=<SqueezeBackward1>)\n",
            "tensor(3.5637, grad_fn=<SqueezeBackward1>)\n",
            "tensor(3.2450, grad_fn=<SqueezeBackward1>)\n",
            "tensor(2.9796, grad_fn=<SqueezeBackward1>)\n",
            "tensor(2.7650, grad_fn=<SqueezeBackward1>)\n",
            "tensor(7.5646, grad_fn=<SqueezeBackward1>)\n",
            "tensor(8.0862, grad_fn=<SqueezeBackward1>)\n",
            "tensor(8.0710, grad_fn=<SqueezeBackward1>)\n",
            "tensor(7.9925, grad_fn=<SqueezeBackward1>)\n",
            "tensor(7.8417, grad_fn=<SqueezeBackward1>)\n",
            "tensor(7.5596, grad_fn=<SqueezeBackward1>)\n",
            "tensor(7.0854, grad_fn=<SqueezeBackward1>)\n",
            "tensor(6.4517, grad_fn=<SqueezeBackward1>)\n",
            "tensor(5.8202, grad_fn=<SqueezeBackward1>)\n",
            "tensor(5.2801, grad_fn=<SqueezeBackward1>)\n",
            "tensor(4.8011, grad_fn=<SqueezeBackward1>)\n",
            "tensor(4.3520, grad_fn=<SqueezeBackward1>)\n",
            "tensor(3.9351, grad_fn=<SqueezeBackward1>)\n",
            "tensor(3.5637, grad_fn=<SqueezeBackward1>)\n",
            "tensor(3.2450, grad_fn=<SqueezeBackward1>)\n",
            "tensor(2.9796, grad_fn=<SqueezeBackward1>)\n",
            "tensor(2.7650, grad_fn=<SqueezeBackward1>)\n",
            "tensor(2.5967, grad_fn=<SqueezeBackward1>)\n",
            "tensor(2.4693, grad_fn=<SqueezeBackward1>)\n",
            "tensor(2.3763, grad_fn=<SqueezeBackward1>)\n",
            "tensor(2.3109, grad_fn=<SqueezeBackward1>)\n",
            "tensor(2.2663, grad_fn=<SqueezeBackward1>)\n",
            "tensor(7.3999, grad_fn=<SqueezeBackward1>)\n",
            "tensor(8.0757, grad_fn=<SqueezeBackward1>)\n",
            "tensor(8.0711, grad_fn=<SqueezeBackward1>)\n",
            "tensor(7.9925, grad_fn=<SqueezeBackward1>)\n",
            "tensor(7.8417, grad_fn=<SqueezeBackward1>)\n",
            "tensor(7.5596, grad_fn=<SqueezeBackward1>)\n",
            "tensor(7.0854, grad_fn=<SqueezeBackward1>)\n",
            "tensor(6.4517, grad_fn=<SqueezeBackward1>)\n",
            "tensor(5.8202, grad_fn=<SqueezeBackward1>)\n",
            "tensor(5.2801, grad_fn=<SqueezeBackward1>)\n",
            "tensor(4.8011, grad_fn=<SqueezeBackward1>)\n",
            "tensor(4.3520, grad_fn=<SqueezeBackward1>)\n",
            "tensor(3.9351, grad_fn=<SqueezeBackward1>)\n",
            "tensor(3.5637, grad_fn=<SqueezeBackward1>)\n",
            "tensor(3.2450, grad_fn=<SqueezeBackward1>)\n",
            "tensor(2.9796, grad_fn=<SqueezeBackward1>)\n",
            "tensor(2.7650, grad_fn=<SqueezeBackward1>)\n",
            "tensor(2.5967, grad_fn=<SqueezeBackward1>)\n",
            "tensor(2.4693, grad_fn=<SqueezeBackward1>)\n",
            "tensor(2.3763, grad_fn=<SqueezeBackward1>)\n",
            "tensor(2.3109, grad_fn=<SqueezeBackward1>)\n",
            "tensor(7.0130, grad_fn=<SqueezeBackward1>)\n",
            "tensor(8.0094, grad_fn=<SqueezeBackward1>)\n",
            "tensor(8.0838, grad_fn=<SqueezeBackward1>)\n",
            "tensor(8.0852, grad_fn=<SqueezeBackward1>)\n",
            "tensor(8.0852, grad_fn=<SqueezeBackward1>)\n",
            "tensor(8.0852, grad_fn=<SqueezeBackward1>)\n",
            "tensor(8.0852, grad_fn=<SqueezeBackward1>)\n",
            "tensor(8.0852, grad_fn=<SqueezeBackward1>)\n",
            "tensor(8.0852, grad_fn=<SqueezeBackward1>)\n",
            "tensor(8.0852, grad_fn=<SqueezeBackward1>)\n",
            "tensor(8.0852, grad_fn=<SqueezeBackward1>)\n",
            "tensor(8.0852, grad_fn=<SqueezeBackward1>)\n",
            "tensor(8.0852, grad_fn=<SqueezeBackward1>)\n",
            "tensor(8.0852, grad_fn=<SqueezeBackward1>)\n",
            "tensor(8.0852, grad_fn=<SqueezeBackward1>)\n",
            "tensor(8.0852, grad_fn=<SqueezeBackward1>)\n",
            "tensor(8.0852, grad_fn=<SqueezeBackward1>)\n",
            "tensor(8.0852, grad_fn=<SqueezeBackward1>)\n",
            "tensor(8.0852, grad_fn=<SqueezeBackward1>)\n",
            "tensor(8.0852, grad_fn=<SqueezeBackward1>)\n"
          ]
        }
      ]
    }
  ]
}
