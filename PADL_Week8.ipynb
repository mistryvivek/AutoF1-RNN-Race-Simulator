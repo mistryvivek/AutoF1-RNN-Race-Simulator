{
  "nbformat": 4,
  "nbformat_minor": 0,
  "metadata": {
    "colab": {
      "provenance": [],
      "include_colab_link": true
    },
    "kernelspec": {
      "name": "python3",
      "display_name": "Python 3"
    },
    "language_info": {
      "name": "python"
    }
  },
  "cells": [
    {
      "cell_type": "markdown",
      "metadata": {
        "id": "view-in-github",
        "colab_type": "text"
      },
      "source": [
        "<a href=\"https://colab.research.google.com/github/mistryvivek/YRKCS-PRBX/blob/main/PADL_Week8.ipynb\" target=\"_parent\"><img src=\"https://colab.research.google.com/assets/colab-badge.svg\" alt=\"Open In Colab\"/></a>"
      ]
    },
    {
      "cell_type": "markdown",
      "metadata": {
        "id": "FlhrcUccelfa"
      },
      "source": [
        "#Practical week 8: data loaders and a first CNN"
      ]
    },
    {
      "cell_type": "markdown",
      "metadata": {
        "id": "_TSPSdp1eq5W"
      },
      "source": [
        "##Set up and dataset\n",
        "\n",
        "We'll start by loading the MNIST dataset. This comes in the form of the `Dataset` class which can subsequently be passed to the `Dataloader` class to make reading random mini-batches easy.\n",
        "\n"
      ]
    },
    {
      "cell_type": "markdown",
      "metadata": {
        "id": "hrNYQNRbMKZT"
      },
      "source": [
        "We're using a few more imports here: torchvision contains many useful operations related specifically to images. It also contains some standard datasets in a prepackaged form. Matplotlib is for displaying images."
      ]
    },
    {
      "cell_type": "code",
      "metadata": {
        "id": "fNoM5-oNJs2Y"
      },
      "source": [
        "import torch\n",
        "import torch.nn as nn\n",
        "from torchvision import datasets\n",
        "from torchvision.transforms import ToTensor\n",
        "import matplotlib.pyplot as plt"
      ],
      "execution_count": 1,
      "outputs": []
    },
    {
      "cell_type": "markdown",
      "metadata": {
        "id": "4q-IzuEyMemV"
      },
      "source": [
        "Let's set up the datasets - this will download the dataset to the local (colab) file system."
      ]
    },
    {
      "cell_type": "code",
      "metadata": {
        "id": "xSRfDAY5Map5",
        "colab": {
          "base_uri": "https://localhost:8080/"
        },
        "outputId": "8231c363-0ea2-4d05-c2c8-3def4fcf4f40"
      },
      "source": [
        "train_data = datasets.MNIST(root = 'data', train = True, transform = ToTensor(), download = True)\n",
        "test_data = datasets.MNIST(root = 'data', train = False, transform = ToTensor())"
      ],
      "execution_count": 2,
      "outputs": [
        {
          "output_type": "stream",
          "name": "stdout",
          "text": [
            "Downloading http://yann.lecun.com/exdb/mnist/train-images-idx3-ubyte.gz\n",
            "Failed to download (trying next):\n",
            "<urlopen error [SSL: CERTIFICATE_VERIFY_FAILED] certificate verify failed: certificate has expired (_ssl.c:1007)>\n",
            "\n",
            "Downloading https://ossci-datasets.s3.amazonaws.com/mnist/train-images-idx3-ubyte.gz\n",
            "Downloading https://ossci-datasets.s3.amazonaws.com/mnist/train-images-idx3-ubyte.gz to data/MNIST/raw/train-images-idx3-ubyte.gz\n"
          ]
        },
        {
          "output_type": "stream",
          "name": "stderr",
          "text": [
            "100%|██████████| 9.91M/9.91M [00:00<00:00, 42.9MB/s]\n"
          ]
        },
        {
          "output_type": "stream",
          "name": "stdout",
          "text": [
            "Extracting data/MNIST/raw/train-images-idx3-ubyte.gz to data/MNIST/raw\n",
            "\n",
            "Downloading http://yann.lecun.com/exdb/mnist/train-labels-idx1-ubyte.gz\n",
            "Failed to download (trying next):\n",
            "<urlopen error [SSL: CERTIFICATE_VERIFY_FAILED] certificate verify failed: certificate has expired (_ssl.c:1007)>\n",
            "\n",
            "Downloading https://ossci-datasets.s3.amazonaws.com/mnist/train-labels-idx1-ubyte.gz\n",
            "Downloading https://ossci-datasets.s3.amazonaws.com/mnist/train-labels-idx1-ubyte.gz to data/MNIST/raw/train-labels-idx1-ubyte.gz\n"
          ]
        },
        {
          "output_type": "stream",
          "name": "stderr",
          "text": [
            "100%|██████████| 28.9k/28.9k [00:00<00:00, 1.52MB/s]\n"
          ]
        },
        {
          "output_type": "stream",
          "name": "stdout",
          "text": [
            "Extracting data/MNIST/raw/train-labels-idx1-ubyte.gz to data/MNIST/raw\n",
            "\n",
            "Downloading http://yann.lecun.com/exdb/mnist/t10k-images-idx3-ubyte.gz\n",
            "Failed to download (trying next):\n",
            "<urlopen error [SSL: CERTIFICATE_VERIFY_FAILED] certificate verify failed: certificate has expired (_ssl.c:1007)>\n",
            "\n",
            "Downloading https://ossci-datasets.s3.amazonaws.com/mnist/t10k-images-idx3-ubyte.gz\n",
            "Downloading https://ossci-datasets.s3.amazonaws.com/mnist/t10k-images-idx3-ubyte.gz to data/MNIST/raw/t10k-images-idx3-ubyte.gz\n"
          ]
        },
        {
          "output_type": "stream",
          "name": "stderr",
          "text": [
            "100%|██████████| 1.65M/1.65M [00:00<00:00, 13.2MB/s]\n"
          ]
        },
        {
          "output_type": "stream",
          "name": "stdout",
          "text": [
            "Extracting data/MNIST/raw/t10k-images-idx3-ubyte.gz to data/MNIST/raw\n",
            "\n",
            "Downloading http://yann.lecun.com/exdb/mnist/t10k-labels-idx1-ubyte.gz\n",
            "Failed to download (trying next):\n",
            "<urlopen error [SSL: CERTIFICATE_VERIFY_FAILED] certificate verify failed: certificate has expired (_ssl.c:1007)>\n",
            "\n",
            "Downloading https://ossci-datasets.s3.amazonaws.com/mnist/t10k-labels-idx1-ubyte.gz\n",
            "Downloading https://ossci-datasets.s3.amazonaws.com/mnist/t10k-labels-idx1-ubyte.gz to data/MNIST/raw/t10k-labels-idx1-ubyte.gz\n"
          ]
        },
        {
          "output_type": "stream",
          "name": "stderr",
          "text": [
            "100%|██████████| 4.54k/4.54k [00:00<00:00, 3.96MB/s]"
          ]
        },
        {
          "output_type": "stream",
          "name": "stdout",
          "text": [
            "Extracting data/MNIST/raw/t10k-labels-idx1-ubyte.gz to data/MNIST/raw\n",
            "\n"
          ]
        },
        {
          "output_type": "stream",
          "name": "stderr",
          "text": [
            "\n"
          ]
        }
      ]
    },
    {
      "cell_type": "markdown",
      "metadata": {
        "id": "kRMuIaR5mw9i"
      },
      "source": [
        "These are `Dataset` objects. They provide two crucial methods. One returns a length so that `len(train_data)` returns the number of elements in the dataset. Second is `__getitem__` which takes the index of data item as input and returns the item (for example, it might return an image and the corresponding label). Later, we will write our own custom dataset."
      ]
    },
    {
      "cell_type": "code",
      "metadata": {
        "id": "Ttl8HNNfN0L6",
        "colab": {
          "base_uri": "https://localhost:8080/"
        },
        "outputId": "b3ceb15f-b958-4f04-a8e6-4dd672086946"
      },
      "source": [
        "image, label = train_data.__getitem__(0)\n",
        "# Or equivalently: image, label = train_data[0]\n",
        "print(image.shape)\n",
        "print(label)"
      ],
      "execution_count": 33,
      "outputs": [
        {
          "output_type": "stream",
          "name": "stdout",
          "text": [
            "torch.Size([1, 28, 28])\n",
            "5\n"
          ]
        }
      ]
    },
    {
      "cell_type": "markdown",
      "metadata": {
        "id": "oRlt0mliO7e_"
      },
      "source": [
        "Datasets can be used with a `Dataloader` as a convenient way to manage requesting random mini-batches and iterating over datasets. The data loader itself is an iterable object that, in this case, returns pairs of input images and corresponding labels of the requested batch size."
      ]
    },
    {
      "cell_type": "code",
      "metadata": {
        "id": "sSu423JmNZaE"
      },
      "source": [
        "train_loader = torch.utils.data.DataLoader(train_data, batch_size=100, shuffle=True, num_workers=1)\n",
        "test_loader = torch.utils.data.DataLoader(test_data, batch_size=100, shuffle=True, num_workers=1)"
      ],
      "execution_count": 6,
      "outputs": []
    },
    {
      "cell_type": "markdown",
      "metadata": {
        "id": "FjYPbWeonXOC"
      },
      "source": [
        "Now that we have a dataset and dataloader, let's take a look at some of the data in our dataset. We'll load a random mini-batch and then display the first 25 images along with their labels."
      ]
    },
    {
      "cell_type": "code",
      "metadata": {
        "id": "CcmPnvCLK6Jn",
        "colab": {
          "base_uri": "https://localhost:8080/",
          "height": 675
        },
        "outputId": "f7cc7425-7e6a-4551-dfac-1c14c03c3592"
      },
      "source": [
        "images, labels = next(iter(train_loader))\n",
        "\n",
        "figure = plt.figure(figsize=(10, 8))\n",
        "cols, rows = 5, 5\n",
        "for i in range(cols * rows):\n",
        "    figure.add_subplot(rows, cols, i+1)\n",
        "    plt.title(labels[i].item())\n",
        "    plt.axis(\"off\")\n",
        "    plt.imshow(images[i,:].squeeze(), cmap=\"gray\")\n",
        "plt.show()"
      ],
      "execution_count": 7,
      "outputs": [
        {
          "output_type": "display_data",
          "data": {
            "text/plain": [
              "<Figure size 1000x800 with 25 Axes>"
            ],
            "image/png": "[encoded data removed]"
          },
          "metadata": {}
        }
      ]
    },
    {
      "cell_type": "markdown",
      "metadata": {
        "id": "FSNrmnxfec4y"
      },
      "source": [
        "##Defining the network"
      ]
    },
    {
      "cell_type": "code",
      "metadata": {
        "id": "h9p4m2r5NnhB"
      },
      "source": [
        "class LeNet(nn.Module):\n",
        "    def __init__(self):\n",
        "        super(LeNet, self).__init__()\n",
        "        self.conv1 = nn.Conv2d(in_channels=1, out_channels=6, kernel_size=5, stride=1, padding=2)\n",
        "        self.sigmoid = nn.Tanh() # LeCun actually uses hyperbolic tangent, though the paper talks about \"sigmoidal function\"\n",
        "        self.meanpool = nn.AvgPool2d(kernel_size=2, stride=2)\n",
        "        self.conv2 = nn.Conv2d(in_channels=6, out_channels=16, kernel_size=5, stride=1, padding=0)\n",
        "        self.fc1 = nn.Linear(in_features=5*5*16,out_features=120)\n",
        "        self.fc2 = nn.Linear(in_features=120,out_features=84)\n",
        "        self.fc3 = nn.Linear(in_features=84,out_features=10)\n",
        "\n",
        "    def forward(self, x):\n",
        "        # Input x has dimensions B x 1 x 28 x 28, B is batch size\n",
        "        # Comments show tensor size output from previous line\n",
        "        x = self.conv1(x)\n",
        "        # B x 6 x 28 x 28\n",
        "        x = self.sigmoid(x)\n",
        "        x = self.meanpool(x)\n",
        "        # B x 6 x 14 x 14\n",
        "        x = self.conv2(x)\n",
        "        # B x 16 x 10 x 10\n",
        "        x = self.sigmoid(x)\n",
        "        x = self.meanpool(x)\n",
        "        # B x 16 x 5 x 5\n",
        "        x = x.view(x.size(0), -1)\n",
        "        # Flattened to B x 400\n",
        "        x = self.fc1(x)\n",
        "        # B x 120\n",
        "        x = self.sigmoid(x)\n",
        "        x = self.fc2(x)\n",
        "        # B x 84\n",
        "        x = self.sigmoid(x)\n",
        "        x = self.fc3(x)\n",
        "        # B x 10\n",
        "        return x\n",
        "\n",
        "# Instantiate the model - this initialises all weights and biases\n",
        "model = LeNet()"
      ],
      "execution_count": 8,
      "outputs": []
    },
    {
      "cell_type": "markdown",
      "metadata": {
        "id": "2TXIe8HMehEr"
      },
      "source": [
        "##Training\n",
        "\n",
        "Different to previous practicals, we are using random mini-batches here. This means we have two loops, an outer one over \"epochs\" (an epoch means every training element has been seen once) and an inner one over random mini-batches as provided by the data loader. This will take a few minutes to run."
      ]
    },
    {
      "cell_type": "code",
      "metadata": {
        "id": "jZO7v2C4SEWN",
        "colab": {
          "base_uri": "https://localhost:8080/"
        },
        "outputId": "213b2abf-7ab8-4998-bcb8-4eeb70bffec0"
      },
      "source": [
        "num_epochs = 15\n",
        "\n",
        "optim = torch.optim.SGD(model.parameters(), lr = 0.1)\n",
        "iterations_per_epoch = len(train_loader)\n",
        "\n",
        "# Set up the loss function for multiclass classification\n",
        "loss_func = nn.CrossEntropyLoss()\n",
        "\n",
        "for epoch in range(num_epochs):\n",
        "  total_loss = 0\n",
        "  for i, (images, labels) in enumerate(train_loader):\n",
        "    output = model(images)\n",
        "    loss = loss_func(output,labels)\n",
        "    optim.zero_grad()\n",
        "    loss.backward()\n",
        "    optim.step()\n",
        "    if (i+1) % 100 == 0:\n",
        "       print('Epoch [{}/{}], Iteration [{}/{}], Loss: {:.4f}'.format(epoch + 1, num_epochs, i + 1, iterations_per_epoch, loss.item()))\n",
        "    total_loss += loss\n",
        "  print('Total loss over epoch {}: {:.2f}'.format(epoch+1,total_loss))"
      ],
      "execution_count": 11,
      "outputs": [
        {
          "output_type": "stream",
          "name": "stdout",
          "text": [
            "Epoch [1/15], Iteration [100/600], Loss: 0.0399\n",
            "Epoch [1/15], Iteration [200/600], Loss: 0.0051\n",
            "Epoch [1/15], Iteration [300/600], Loss: 0.0160\n",
            "Epoch [1/15], Iteration [400/600], Loss: 0.0110\n",
            "Epoch [1/15], Iteration [500/600], Loss: 0.0073\n",
            "Epoch [1/15], Iteration [600/600], Loss: 0.0344\n",
            "Total loss over epoch 1: 18.26\n",
            "Epoch [2/15], Iteration [100/600], Loss: 0.0748\n",
            "Epoch [2/15], Iteration [200/600], Loss: 0.0178\n",
            "Epoch [2/15], Iteration [300/600], Loss: 0.0325\n",
            "Epoch [2/15], Iteration [400/600], Loss: 0.0285\n",
            "Epoch [2/15], Iteration [500/600], Loss: 0.0467\n",
            "Epoch [2/15], Iteration [600/600], Loss: 0.0361\n",
            "Total loss over epoch 2: 16.38\n",
            "Epoch [3/15], Iteration [100/600], Loss: 0.0155\n",
            "Epoch [3/15], Iteration [200/600], Loss: 0.0096\n",
            "Epoch [3/15], Iteration [300/600], Loss: 0.0137\n",
            "Epoch [3/15], Iteration [400/600], Loss: 0.0443\n",
            "Epoch [3/15], Iteration [500/600], Loss: 0.0106\n",
            "Epoch [3/15], Iteration [600/600], Loss: 0.0364\n",
            "Total loss over epoch 3: 15.59\n",
            "Epoch [4/15], Iteration [100/600], Loss: 0.0042\n",
            "Epoch [4/15], Iteration [200/600], Loss: 0.0057\n",
            "Epoch [4/15], Iteration [300/600], Loss: 0.0078\n",
            "Epoch [4/15], Iteration [400/600], Loss: 0.0053\n",
            "Epoch [4/15], Iteration [500/600], Loss: 0.0172\n",
            "Epoch [4/15], Iteration [600/600], Loss: 0.0471\n",
            "Total loss over epoch 4: 14.19\n",
            "Epoch [5/15], Iteration [100/600], Loss: 0.0098\n",
            "Epoch [5/15], Iteration [200/600], Loss: 0.0132\n",
            "Epoch [5/15], Iteration [300/600], Loss: 0.0158\n",
            "Epoch [5/15], Iteration [400/600], Loss: 0.0146\n",
            "Epoch [5/15], Iteration [500/600], Loss: 0.0335\n",
            "Epoch [5/15], Iteration [600/600], Loss: 0.0060\n",
            "Total loss over epoch 5: 12.64\n",
            "Epoch [6/15], Iteration [100/600], Loss: 0.0447\n",
            "Epoch [6/15], Iteration [200/600], Loss: 0.0133\n",
            "Epoch [6/15], Iteration [300/600], Loss: 0.0258\n",
            "Epoch [6/15], Iteration [400/600], Loss: 0.0063\n",
            "Epoch [6/15], Iteration [500/600], Loss: 0.0464\n",
            "Epoch [6/15], Iteration [600/600], Loss: 0.0036\n",
            "Total loss over epoch 6: 11.81\n",
            "Epoch [7/15], Iteration [100/600], Loss: 0.0053\n",
            "Epoch [7/15], Iteration [200/600], Loss: 0.0045\n",
            "Epoch [7/15], Iteration [300/600], Loss: 0.0216\n",
            "Epoch [7/15], Iteration [400/600], Loss: 0.0148\n",
            "Epoch [7/15], Iteration [500/600], Loss: 0.0129\n",
            "Epoch [7/15], Iteration [600/600], Loss: 0.0056\n",
            "Total loss over epoch 7: 11.07\n",
            "Epoch [8/15], Iteration [100/600], Loss: 0.0133\n",
            "Epoch [8/15], Iteration [200/600], Loss: 0.0302\n",
            "Epoch [8/15], Iteration [300/600], Loss: 0.0243\n",
            "Epoch [8/15], Iteration [400/600], Loss: 0.0383\n",
            "Epoch [8/15], Iteration [500/600], Loss: 0.0194\n",
            "Epoch [8/15], Iteration [600/600], Loss: 0.0090\n",
            "Total loss over epoch 8: 10.24\n",
            "Epoch [9/15], Iteration [100/600], Loss: 0.0122\n",
            "Epoch [9/15], Iteration [200/600], Loss: 0.0063\n",
            "Epoch [9/15], Iteration [300/600], Loss: 0.0031\n",
            "Epoch [9/15], Iteration [400/600], Loss: 0.0034\n",
            "Epoch [9/15], Iteration [500/600], Loss: 0.0104\n",
            "Epoch [9/15], Iteration [600/600], Loss: 0.0124\n",
            "Total loss over epoch 9: 9.42\n",
            "Epoch [10/15], Iteration [100/600], Loss: 0.0066\n",
            "Epoch [10/15], Iteration [200/600], Loss: 0.0048\n",
            "Epoch [10/15], Iteration [300/600], Loss: 0.0034\n",
            "Epoch [10/15], Iteration [400/600], Loss: 0.0089\n",
            "Epoch [10/15], Iteration [500/600], Loss: 0.0228\n",
            "Epoch [10/15], Iteration [600/600], Loss: 0.0072\n",
            "Total loss over epoch 10: 8.79\n",
            "Epoch [11/15], Iteration [100/600], Loss: 0.0029\n",
            "Epoch [11/15], Iteration [200/600], Loss: 0.0019\n",
            "Epoch [11/15], Iteration [300/600], Loss: 0.0045\n",
            "Epoch [11/15], Iteration [400/600], Loss: 0.0013\n",
            "Epoch [11/15], Iteration [500/600], Loss: 0.0527\n",
            "Epoch [11/15], Iteration [600/600], Loss: 0.0610\n",
            "Total loss over epoch 11: 7.74\n",
            "Epoch [12/15], Iteration [100/600], Loss: 0.0175\n",
            "Epoch [12/15], Iteration [200/600], Loss: 0.0029\n",
            "Epoch [12/15], Iteration [300/600], Loss: 0.0017\n",
            "Epoch [12/15], Iteration [400/600], Loss: 0.0048\n",
            "Epoch [12/15], Iteration [500/600], Loss: 0.0271\n",
            "Epoch [12/15], Iteration [600/600], Loss: 0.0072\n",
            "Total loss over epoch 12: 7.29\n",
            "Epoch [13/15], Iteration [100/600], Loss: 0.0114\n",
            "Epoch [13/15], Iteration [200/600], Loss: 0.0083\n",
            "Epoch [13/15], Iteration [300/600], Loss: 0.0018\n",
            "Epoch [13/15], Iteration [400/600], Loss: 0.0030\n",
            "Epoch [13/15], Iteration [500/600], Loss: 0.0175\n",
            "Epoch [13/15], Iteration [600/600], Loss: 0.0091\n",
            "Total loss over epoch 13: 7.24\n",
            "Epoch [14/15], Iteration [100/600], Loss: 0.0239\n",
            "Epoch [14/15], Iteration [200/600], Loss: 0.0048\n",
            "Epoch [14/15], Iteration [300/600], Loss: 0.0054\n",
            "Epoch [14/15], Iteration [400/600], Loss: 0.0063\n",
            "Epoch [14/15], Iteration [500/600], Loss: 0.0014\n",
            "Epoch [14/15], Iteration [600/600], Loss: 0.0153\n",
            "Total loss over epoch 14: 6.61\n",
            "Epoch [15/15], Iteration [100/600], Loss: 0.0120\n",
            "Epoch [15/15], Iteration [200/600], Loss: 0.0042\n",
            "Epoch [15/15], Iteration [300/600], Loss: 0.0080\n",
            "Epoch [15/15], Iteration [400/600], Loss: 0.0264\n",
            "Epoch [15/15], Iteration [500/600], Loss: 0.0098\n",
            "Epoch [15/15], Iteration [600/600], Loss: 0.0054\n",
            "Total loss over epoch 15: 5.99\n"
          ]
        }
      ]
    },
    {
      "cell_type": "markdown",
      "metadata": {
        "id": "RAmZIltF_ctR"
      },
      "source": [
        "Do you think this has converged after 10 epochs? If not, don't run any more for now. See how it performs below then come back and run more if you think performance is still improving.\n",
        "\n",
        "* Loss is still going down around here - values going up and down which suggests it has not converged.\n",
        "* Need to check that it is not overfitting.\n",
        "* 15 epochs - we don't see much of a difference"
      ]
    },
    {
      "cell_type": "markdown",
      "metadata": {
        "id": "SGjw0e1EejER"
      },
      "source": [
        "##Evaluation\n",
        "\n",
        "Let's see how well it performs on the test set."
      ]
    },
    {
      "cell_type": "code",
      "metadata": {
        "id": "9a3WBjBuZZWk",
        "colab": {
          "base_uri": "https://localhost:8080/"
        },
        "outputId": "177d514a-20ab-490a-c928-6f2c5666dc15"
      },
      "source": [
        "correct = 0\n",
        "total = 0\n",
        "for images, labels in test_loader:\n",
        "    output = model(images)\n",
        "    pred_y = torch.argmax(output, 1)\n",
        "    correct += (pred_y == labels).sum()\n",
        "    total += float(labels.size(0))\n",
        "accuracy = correct/total\n",
        "print('Test Accuracy of the model on the 10000 test images: %.2f' % accuracy)"
      ],
      "execution_count": 12,
      "outputs": [
        {
          "output_type": "stream",
          "name": "stdout",
          "text": [
            "Test Accuracy of the model on the 10000 test images: 0.99\n"
          ]
        }
      ]
    },
    {
      "cell_type": "markdown",
      "metadata": {
        "id": "BZEes4q9sGEx"
      },
      "source": [
        "Pretty amazing huh?! A pretty simple convolutional neural network, a couple of minutes training in your web browser and you can classify 10,000 hand written digits in a few seconds with nearly 100% accuracy! Yann LeCun got to 99.05% test set accuracy with this architecture. You could also get there if you tuned hyperparameters a bit (number of epochs, learning rate, batch size, what optimiser you use).\n",
        "\n",
        "But before you try to improve it, let's see some examples that it is classifying. This code will display 25 images from the test set, the true label and the classification predicted by your trained network. Each time you run the following code block you'll get results from a new batch. So run it a few times. You should see a few impressive results where it does well on hard examples but also look out for mistakes. Can you guess why it failed on that input?\n",
        "\n",
        "![image.png](data:image/png;base64,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)\n",
        "\n",
        "* Look at the corner and the two lines connecting it."
      ]
    },
    {
      "cell_type": "code",
      "metadata": {
        "id": "dM0er6oTe8Af",
        "colab": {
          "base_uri": "https://localhost:8080/",
          "height": 675
        },
        "outputId": "d20990bb-232e-4b4e-a348-ac5c0f3708e8"
      },
      "source": [
        "# Run a test batch through the network\n",
        "images, labels = next(iter(test_loader))\n",
        "output = model(images)\n",
        "pred_y = torch.argmax(output, 1)\n",
        "\n",
        "# Display first 25 images with predicted labels\n",
        "figure = plt.figure(figsize=(10, 8))\n",
        "for i in range(25):\n",
        "    figure.add_subplot(5, 5, i+1)\n",
        "    plt.title(\"True: {}/Pred: {}\".format(labels[i].item(),pred_y[i].item()))\n",
        "    plt.axis(\"off\")\n",
        "    plt.imshow(images[i,:].squeeze(), cmap=\"gray\")\n",
        "plt.show()"
      ],
      "execution_count": 23,
      "outputs": [
        {
          "output_type": "display_data",
          "data": {
            "text/plain": [
              "<Figure size 1000x800 with 25 Axes>"
            ],
            "image/png": "[encoded data removed]"
          },
          "metadata": {}
        }
      ]
    },
    {
      "cell_type": "markdown",
      "metadata": {
        "id": "COe-VQTR5wYS"
      },
      "source": [
        "##Visualising the learnt filters\n",
        "\n",
        "The first convolution layer in the model learns six single channel $5\\times 5$ filters. Let's visualise them to see what they've learnt.\n",
        "\n",
        "**To do**:\n",
        "\n",
        "Extract the learnt filters from the conv1 layer of model. Display them as grayscale images."
      ]
    },
    {
      "cell_type": "code",
      "execution_count": 31,
      "metadata": {
        "id": "_ziloGIpGF9L",
        "colab": {
          "base_uri": "https://localhost:8080/",
          "height": 125
        },
        "outputId": "a52f4304-a425-4f5e-98b2-ca554e61e1f9"
      },
      "outputs": [
        {
          "output_type": "display_data",
          "data": {
            "text/plain": [
              "<Figure size 600x100 with 6 Axes>"
            ],
            "image/png": "[encoded data removed]"
          },
          "metadata": {}
        }
      ],
      "source": [
        "figure = plt.figure(figsize=(6, 1))\n",
        "for i in range(6):\n",
        "    figure.add_subplot(1, 6, i+1)\n",
        "    plt.title(i)\n",
        "    plt.axis(\"off\")\n",
        "    plt.imshow(model.conv1.weight[i,:].squeeze().detach(), cmap=\"gray\")\n",
        "plt.show()"
      ]
    },
    {
      "cell_type": "markdown",
      "source": [
        "##Visualising the feature maps\n",
        "\n",
        "As data is passed through a CNN, the tensor after each convolutional layer is referred to as a \"feature map\" as it still has spatial dimensions (i.e. the tensor will have shape $B\\times C\\times H\\times W$, where $B$ is batch size, $C$ is the number of channels output by that layer and $H$ and $W$ are the height and width of the output tensor).\n",
        "\n",
        "**To do**:\n",
        "\n",
        "Write some code to visualise the feature maps as gray scale images. i.e. you should be able to specify a layer and channel and then display this as an image. Display a test input image and then explore the feature maps at different layers. Can you get an impression of what features it is learning?\n",
        "\n",
        "* There is two solutions here:\n",
        "  * Pass it through the network then visualise step by step\n",
        "  * Use something called \"forward hooks\" https://pytorch.org/docs/stable/generated/torch.nn.modules.module.register_module_forward_hook.html"
      ],
      "metadata": {
        "id": "2NU9GnBe7hIw"
      }
    },
    {
      "cell_type": "code",
      "source": [],
      "metadata": {
        "id": "y9UCzwFRBo4d"
      },
      "execution_count": 34,
      "outputs": []
    },
    {
      "cell_type": "markdown",
      "source": [
        "##Digit recognition as a regression problem\n",
        "\n",
        "The standard way to solve the MNIST digit recognition task is as a classification task, i.e. for an input image, choose one from 10 discrete classes. We will now try to solve the task as a *regression problem*.\n",
        "\n",
        "**To do**:\n",
        "\n",
        "The goal is to modify the above model and training code such that the model outputs a single scalar value which should be close to the value of the actual digit. For example, if the input digit has label 4, if the model outputs 4.2, this would be a pretty good answer (and could be rounded to 4). You will need to:\n",
        "\n",
        "1. Modify the model to have only a single output.\n",
        "2. Think about the activation/post-processing you will apply to the final output. You know that your digits lie in the range 0 to 9. Can you think of a way to force the network output into this range? (Hint: remember what `torch.nn.sigmoid` does).\n",
        "3. Modify the loss function. The labels are classes per input image. Your network will now output a continuous scalar value. You want to penalise larger errors more (e.g. predicting 0.4 when the label is 9 is really bad but predicting 4.2 when the label is 5 is not so bad).\n",
        "4. You may need to tweak hyperparameters like learning rate now that you have a very different loss and network output.\n",
        "5. Check that training loss reduces during training. Can you compute an accuracy percentage like we did for classification? (Hint: round the output). How does it compare to the classification solution?\n",
        "6. Modify the code for visualising input images and predicted labels to show the continuous label."
      ],
      "metadata": {
        "id": "A7XQitGF5Zju"
      }
    },
    {
      "cell_type": "markdown",
      "metadata": {
        "id": "7L61tP5xCynP"
      },
      "source": [
        "## Improving the model (highly recommended for Masters-level students)\n",
        "\n",
        "**To do**:\n",
        "\n",
        "Now it's time to implement your own alternative model to LeNet (the classification version). I would like you to implement a mini version of the VGG network described in the video lecture. Specifically, aim for more depth (in terms of more convolutional layers) but use $3\\times 3$ filters instead of $5\\times 5$. Also, use ReLU instead of sigmoid activation and max pooling instead of mean pooling. You can decide how many feature channels to have at each layer. Can you match or improve on the LeNet model performance? Be careful not to add too many parameters overall so that you start overfitting to the training data and making test performance worse."
      ]
    }
  ]
}