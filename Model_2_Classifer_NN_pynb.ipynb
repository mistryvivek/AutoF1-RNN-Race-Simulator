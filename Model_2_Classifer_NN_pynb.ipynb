{
  "nbformat": 4,
  "nbformat_minor": 0,
  "metadata": {
    "colab": {
      "provenance": [],
      "mount_file_id": "1inTk-v8H-YV0f-RB43C0Z6yEVWKAG7Sl",
      "authorship_tag": "ABX9TyN++KMF9Z2RCcawj9G9G1q0",
      "include_colab_link": true
    },
    "kernelspec": {
      "name": "python3",
      "display_name": "Python 3"
    },
    "language_info": {
      "name": "python"
    }
  },
  "cells": [
    {
      "cell_type": "markdown",
      "metadata": {
        "id": "view-in-github",
        "colab_type": "text"
      },
      "source": [
        "<a href=\"https://colab.research.google.com/github/mistryvivek/YRKCS-PRBX/blob/main/Model_2_Classifer_NN_pynb.ipynb\" target=\"_parent\"><img src=\"https://colab.research.google.com/assets/colab-badge.svg\" alt=\"Open In Colab\"/></a>"
      ]
    },
    {
      "cell_type": "code",
      "source": [
        "import torch\n",
        "import torch.nn as nn\n",
        "import numpy as np\n",
        "import random\n",
        "import pandas as pd\n",
        "from torch.nn.utils.rnn import pad_sequence\n",
        "from sklearn.preprocessing import OneHotEncoder"
      ],
      "metadata": {
        "id": "OPEp33YxUEHK"
      },
      "execution_count": null,
      "outputs": []
    },
    {
      "cell_type": "code",
      "source": [
        "device = torch.device('cuda' if torch.cuda.is_available() else 'cpu')\n",
        "print(f'Using device: {device}')\n",
        "BASE_PATH = r\"/content/drive/MyDrive/prbx_data/v1/\"\n",
        "max_race_size = 0"
      ],
      "metadata": {
        "colab": {
          "base_uri": "https://localhost:8080/"
        },
        "id": "71yTDkeVUERu",
        "outputId": "0a5b7192-8df5-45a8-e256-e567bdf590eb"
      },
      "execution_count": null,
      "outputs": [
        {
          "output_type": "stream",
          "name": "stdout",
          "text": [
            "Using device: cpu\n"
          ]
        }
      ]
    },
    {
      "cell_type": "markdown",
      "source": [
        "## Change Model One to a multi-class classifier\n",
        "\n",
        "* No pit or a tire type.\n",
        "* 0: NO PIT, 1: SOFT, 2: MEDIUM, 3: HARD, 4: INTERS, 5: WETS"
      ],
      "metadata": {
        "id": "VEnSVchiUGQc"
      }
    },
    {
      "cell_type": "code",
      "source": [
        "# TRAINING\n",
        "training_inputs = []\n",
        "training_outputs = []\n",
        "\n",
        "# Encoding tires type\n",
        "tires = {\"SOFT\": 1, \"MEDIUM\": 2, \"HARD\": 3, \"INTERMEDIATE\": 4, \"WET\": 5}\n",
        "\n",
        "\n",
        "RaceCalender22 = pd.read_csv(BASE_PATH + r\"2022/eventCalender2022.csv\")\n",
        "for _, row in RaceCalender22.iterrows():\n",
        "    if row['EventFormat'] != 'testing':\n",
        "        TempRaceLoad = pd.read_csv(\n",
        "            BASE_PATH + f\"2022/{row['RoundNumber']}_{row['OfficialEventName']}/{row['RoundNumber']}_{row['OfficialEventName']}_Race.csv\".replace(\" \", \"_\")\n",
        "        )\n",
        "        for driver in TempRaceLoad['Driver'].unique():\n",
        "            tires_used = []\n",
        "            TempRaceLoadDriver = TempRaceLoad[TempRaceLoad['Driver'] == driver].sort_values(by='LapNumber', ascending=True)\n",
        "            tyre_life_array = TempRaceLoadDriver['TyreLife'].values\n",
        "            stint_array = TempRaceLoadDriver['Stint'].values\n",
        "            compound_array = TempRaceLoadDriver['Compound'].values\n",
        "\n",
        "            if max(TempRaceLoadDriver['LapNumber']) > max_race_size:\n",
        "                max_race_size = max(TempRaceLoadDriver['LapNumber'])\n",
        "\n",
        "            stint_change_array = [0 if stint_array[i] == stint_array[i + 1] else tires[compound_array[i+1]]\n",
        "                                  for i in range(len(stint_array) - 1)] + [0]\n",
        "            stint_change_array = np.array(stint_change_array)\n",
        "\n",
        "            mandatory_change_made = [1 if stint_array[i] == 1 else 0\n",
        "                                     for i in range(len(stint_array))]\n",
        "            mandatory_change_made = np.array(mandatory_change_made)\n",
        "\n",
        "            combined_array = np.stack([stint_change_array, mandatory_change_made], axis=1)\n",
        "\n",
        "            training_inputs.append(combined_array)\n",
        "            training_outputs.append(stint_change_array)"
      ],
      "metadata": {
        "id": "FzAK3i7pUJOm"
      },
      "execution_count": 24,
      "outputs": []
    },
    {
      "cell_type": "code",
      "source": [
        "# TESTING\n",
        "testing_inputs = []\n",
        "testing_outputs = []\n",
        "\n",
        "# Encoding tires type\n",
        "tires = {\"SOFT\": 1, \"MEDIUM\": 2, \"HARD\": 3, \"INTERMEDIATE\": 4, \"WET\": 5}\n",
        "\n",
        "RaceCalender23 = pd.read_csv(BASE_PATH + r\"2023/eventCalender2023.csv\")\n",
        "for _, row in RaceCalender23.iterrows():\n",
        "    if row['EventFormat'] != 'testing':\n",
        "        TempRaceLoad = pd.read_csv(\n",
        "            BASE_PATH + f\"2023/{row['RoundNumber']}_{row['OfficialEventName']}/{row['RoundNumber']}_{row['OfficialEventName']}_Race.csv\".replace(\" \", \"_\")\n",
        "        )\n",
        "        for driver in TempRaceLoad['Driver'].unique():\n",
        "            TempRaceLoadDriver = TempRaceLoad[TempRaceLoad['Driver'] == driver].sort_values(by='LapNumber', ascending=True)\n",
        "            tyre_life_array = TempRaceLoadDriver['TyreLife'].values\n",
        "            stint_array = TempRaceLoadDriver['Stint'].values\n",
        "            compound_array = TempRaceLoadDriver['Compound'].values\n",
        "\n",
        "            if max(TempRaceLoadDriver['LapNumber']) > max_race_size:\n",
        "                max_race_size = max(TempRaceLoadDriver['LapNumber'])\n",
        "\n",
        "            stint_change_array = [0 if stint_array[i] == stint_array[i + 1] else tires[compound_array[i+1]]\n",
        "                                  for i in range(len(stint_array) - 1)] + [0]\n",
        "            stint_change_array = np.array(stint_change_array)\n",
        "            mandatory_change_made = [1 if stint_array[i] == 1 else 0\n",
        "                                     for i in range(len(stint_array))]\n",
        "            mandatory_change_made = np.array(mandatory_change_made)\n",
        "\n",
        "            combined_array = np.stack([stint_change_array, mandatory_change_made], axis=1)\n",
        "\n",
        "            testing_inputs.append(combined_array)\n",
        "            testing_outputs.append(stint_change_array)"
      ],
      "metadata": {
        "id": "J5-GG1q8UOaq"
      },
      "execution_count": 25,
      "outputs": []
    },
    {
      "cell_type": "code",
      "source": [
        "class RNNv1b(nn.Module):\n",
        "    def __init__(self,input_size,hidden_size): #vocab_size\n",
        "        super(RNNv1b, self).__init__()\n",
        "        #self.embedding =  nn.Embedding(vocab_size, hidden_size)\n",
        "        self.linear_x = nn.Linear(input_size, hidden_size)\n",
        "        self.linear_h = nn.Linear(hidden_size,hidden_size)\n",
        "        self.linear_y = nn.Linear(hidden_size,1)\n",
        "        self.tanh = nn.Tanh()\n",
        "\n",
        "    def forward(self,x,hprev):\n",
        "        \"\"\"\n",
        "        h = self.tanh(self.embedding(x) + self.linear_h(hprev))\n",
        "        y = self.linear_y(h)\n",
        "        \"\"\"\n",
        "        h = self.tanh(self.linear_x(x) + self.linear_h(hprev))\n",
        "        y = self.linear_y(h)\n",
        "        return h,y"
      ],
      "metadata": {
        "id": "5S8M5a4BUnR0"
      },
      "execution_count": 29,
      "outputs": []
    },
    {
      "cell_type": "code",
      "source": [
        "# Model parameters to be logged by w and b.\n",
        "hidden_size = 10\n",
        "lr = 0.001\n",
        "iterations = 5000\n",
        "input_parameters = ['TyreLife', 'PitMade']\n",
        "dataset = 'v1'\n",
        "#vocab_size = int(max_tyre_life) + 1 # Possiblity for each tyre_life\n",
        "input_size = 2"
      ],
      "metadata": {
        "id": "pHAn96Lqb-a-"
      },
      "execution_count": 30,
      "outputs": []
    },
    {
      "cell_type": "code",
      "source": [
        "def calculate_loss(model,inputs,targets,hprev,vocab_size):\n",
        "  loss_func = nn.CrossEntropyLoss()\n",
        "  seq_length = len(inputs)\n",
        "  outputs = []\n",
        "  for t in range(seq_length):\n",
        "    # For each character in the input sequence, pass through RNN with previous hidden state\n",
        "    hprev,y = model(torch.tensor(inputs[t], device=device),hprev)\n",
        "    # Gradually build up matrix of output logits of size seq_length * vocab_size - we want it at every time step do not want this.\n",
        "    # Compute cross entropy loss for seq_length actual targets against estimated distributions\n",
        "    # RuntimeError: result type Float can't be cast to the desired output type Long\n",
        "    outputs.append(y)\n",
        "\n",
        "  outputs = torch.stack(outputs).squeeze(1)\n",
        "  loss = loss_func(outputs ,targets)\n",
        "\n",
        "  # For truncated backprop, the next subsequence will use the final hidden state\n",
        "  # but will not backprop through it so we need to detach\n",
        "  hprev = hprev.detach()\n",
        "\n",
        "  return loss, hprev"
      ],
      "metadata": {
        "id": "wv0grFKXcG_9"
      },
      "execution_count": 35,
      "outputs": []
    },
    {
      "cell_type": "code",
      "source": [
        "# PADDING\n",
        "def add_padding(max_race_size, sequence):\n",
        "    if len(sequence) >= max_race_size:\n",
        "        return sequence[:max_race_size]\n",
        "    else:\n",
        "        padding_shape = (max_race_size - sequence.shape[0],) + sequence.shape[1:]\n",
        "        padding = np.zeros(padding_shape)\n",
        "        return np.concatenate([sequence,padding])"
      ],
      "metadata": {
        "id": "0uxVmPEkcM3-"
      },
      "execution_count": 36,
      "outputs": []
    },
    {
      "cell_type": "code",
      "source": [
        "model = RNNv1b(input_size,hidden_size)\n",
        "model.to(device)\n",
        "\n",
        "optim = torch.optim.Adam(model.parameters(), lr = lr)\n",
        "\n",
        "n, p = 0, 0\n",
        "while n<=iterations:\n",
        "  hprev = torch.zeros(hidden_size, device=device) # reset RNN memory\n",
        "\n",
        "  # Why apply padding here\n",
        "  inputs = add_padding(int(max_race_size),training_inputs[p])\n",
        "  outputs = add_padding(int(max_race_size),training_outputs[p])\n",
        "\n",
        "  # Extract next subsequence of characters\n",
        "  inputs = torch.tensor(training_inputs[p],dtype=torch.float32, device=device)\n",
        "  targets = torch.tensor(training_outputs[p],dtype=torch.float32, device=device)\n",
        "\n",
        "  # Compute loss for current subsequence\n",
        "  loss, hprev = calculate_loss(model,inputs,targets,hprev,input_size)\n",
        "  optim.zero_grad()\n",
        "  loss.backward()\n",
        "  optim.step()\n",
        "\n",
        "  if n % 500 == 0:\n",
        "    print('[{:}] Loss: {:.2f}'.format(n,loss.item()))\n",
        "\n",
        "  p += 1 # move data pointer\n",
        "  n += 1 # iteration counter\n",
        "\n",
        "  if p == int(max_race_size) - 1:\n",
        "    p = 0"
      ],
      "metadata": {
        "colab": {
          "base_uri": "https://localhost:8080/"
        },
        "id": "8sxiBq1Jb1eF",
        "outputId": "819b0706-72b8-4afe-daa3-4e9d8c3440c4"
      },
      "execution_count": 37,
      "outputs": [
        {
          "output_type": "stream",
          "name": "stderr",
          "text": [
            "<ipython-input-35-b1052415c1d0>:7: UserWarning: To copy construct from a tensor, it is recommended to use sourceTensor.clone().detach() or sourceTensor.clone().detach().requires_grad_(True), rather than torch.tensor(sourceTensor).\n",
            "  hprev,y = model(torch.tensor(inputs[t], device=device),hprev)\n"
          ]
        },
        {
          "output_type": "stream",
          "name": "stdout",
          "text": [
            "[0] Loss: 16.63\n",
            "[500] Loss: 0.69\n",
            "[1000] Loss: -0.00\n",
            "[1500] Loss: 3.47\n",
            "[2000] Loss: 9.78\n",
            "[2500] Loss: 0.07\n",
            "[3000] Loss: 2.03\n",
            "[3500] Loss: -0.00\n",
            "[4000] Loss: 0.02\n",
            "[4500] Loss: 0.02\n",
            "[5000] Loss: 0.01\n"
          ]
        }
      ]
    }
  ]
}